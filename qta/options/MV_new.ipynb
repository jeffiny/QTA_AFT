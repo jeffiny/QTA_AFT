{
 "cells": [
  {
   "cell_type": "code",
   "metadata": {
    "ExecuteTime": {
     "end_time": "2024-10-25T11:35:35.894626Z",
     "start_time": "2024-10-25T11:35:35.886227Z"
    }
   },
   "source": [
    "import pandas as pd\n",
    "import numpy as np\n",
    "import matplotlib.pyplot as plt\n",
    "from sklearn.linear_model import LinearRegression"
   ],
   "outputs": [],
   "execution_count": 2
  },
  {
   "cell_type": "markdown",
   "metadata": {},
   "source": [
    "# 读数据"
   ]
  },
  {
   "cell_type": "code",
   "metadata": {
    "ExecuteTime": {
     "end_time": "2024-10-25T11:36:04.713773Z",
     "start_time": "2024-10-25T11:35:47.969220Z"
    }
   },
   "source": [
    "option_data = pd.read_csv(\"option_data.csv\")\n",
    "S_data = pd.read_csv(\"price_data.csv\")"
   ],
   "outputs": [
    {
     "name": "stderr",
     "output_type": "stream",
     "text": [
      "C:\\Users\\yigaa\\AppData\\Local\\Temp\\ipykernel_17240\\1663855361.py:1: DtypeWarning: Columns (23,24,25) have mixed types. Specify dtype option on import or set low_memory=False.\n",
      "  option_data = pd.read_csv(\"option_data.csv\")\n"
     ]
    }
   ],
   "execution_count": 4
  },
  {
   "cell_type": "markdown",
   "metadata": {},
   "source": [
    "# 处理"
   ]
  },
  {
   "cell_type": "code",
   "metadata": {
    "ExecuteTime": {
     "end_time": "2024-10-25T11:36:33.511616Z",
     "start_time": "2024-10-25T11:36:32.183987Z"
    }
   },
   "source": [
    "option_data = option_data.query(\"(cp_flag=='C' & 0.95>delta>0.05)|(cp_flag=='P' & -0.05>delta>-0.95)\")"
   ],
   "outputs": [],
   "execution_count": 5
  },
  {
   "cell_type": "code",
   "metadata": {
    "ExecuteTime": {
     "end_time": "2024-10-25T11:36:39.320815Z",
     "start_time": "2024-10-25T11:36:38.500354Z"
    }
   },
   "source": [
    "cols_to_check = ['best_bid', 'best_offer', 'impl_volatility', 'delta', 'gamma', 'vega', 'theta']\n",
    "# 找到在指定列中有空值的行\n",
    "rows_with_nan = option_data[option_data[cols_to_check].isnull().any(axis=1)]\n",
    "\n",
    "# 提取这些行对应的唯一 symbol 列表\n",
    "symbols_with_nan = rows_with_nan['symbol'].unique()\n",
    "symbols_with_nan\n",
    "\n",
    "option_data = option_data[~option_data['symbol'].isin(symbols_with_nan)]"
   ],
   "outputs": [],
   "execution_count": 6
  },
  {
   "cell_type": "code",
   "metadata": {
    "ExecuteTime": {
     "end_time": "2024-10-25T11:36:48.712776Z",
     "start_time": "2024-10-25T11:36:43.019457Z"
    }
   },
   "source": [
    "option_data[\"f_t\"] = option_data.eval(\"(best_bid+best_offer)/2\")\n",
    "option_data = option_data.merge(pd.pivot(option_data,columns=\"symbol\",index=\"date\",values=\"f_t\").shift(1).stack().reset_index(),on=[\"date\",\"symbol\"],how=\"left\")\n",
    "l = list(option_data.columns.copy())\n",
    "l[-1] = \"f_t_minus_1\"\n",
    "option_data.columns = l"
   ],
   "outputs": [],
   "execution_count": 7
  },
  {
   "cell_type": "code",
   "metadata": {
    "ExecuteTime": {
     "end_time": "2024-10-25T11:36:52.392072Z",
     "start_time": "2024-10-25T11:36:52.366880Z"
    }
   },
   "source": [
    "S_data['S_t'] = S_data[\"close\"]#.pct_change()+1\n",
    "S_data['S_t_minus_1'] = S_data.shift(1)['close']"
   ],
   "outputs": [],
   "execution_count": 9
  },
  {
   "cell_type": "code",
   "metadata": {
    "ExecuteTime": {
     "end_time": "2024-10-25T11:37:01.214981Z",
     "start_time": "2024-10-25T11:36:59.112382Z"
    }
   },
   "source": [
    "data = option_data.merge(S_data[[\"date\",\"S_t\",'S_t_minus_1']],on=[\"date\"],how=\"left\")[[\"date\",\"symbol\",\"exdate\",\"cp_flag\",\"exercise_style\",\"S_t\",'S_t_minus_1',\"f_t_minus_1\",\"f_t\",\"delta\",\"gamma\",\"vega\",\"theta\",\"strike_price\"]]"
   ],
   "outputs": [],
   "execution_count": 10
  },
  {
   "cell_type": "code",
   "metadata": {
    "ExecuteTime": {
     "end_time": "2024-10-25T11:37:02.582574Z",
     "start_time": "2024-10-25T11:37:01.366900Z"
    }
   },
   "source": [
    "data.dropna(inplace=True)"
   ],
   "outputs": [],
   "execution_count": 11
  },
  {
   "cell_type": "code",
   "metadata": {
    "ExecuteTime": {
     "end_time": "2024-10-25T11:37:37.537207Z",
     "start_time": "2024-10-25T11:37:04.202608Z"
    }
   },
   "source": [
    "data.date = pd.to_datetime(data.date)\n",
    "data.exdate = pd.to_datetime(data.exdate)\n",
    "data['maturity'] = (data.exdate - data.date).dt.days/365\n",
    "\n",
    "maturity_bucket = np.array([30,60,91,122,182,365])/365\n",
    "\n",
    "data['maturity_group'] = data['maturity'].apply(lambda x: np.sum(x > maturity_bucket))\n",
    "data['delta_group'] = round(data['delta']*10)/10#0.05四舍五入\n",
    "data['month'] = data['date'].dt.month\n",
    "data['ym'] = data.date.astype(str).str[0:7]"
   ],
   "outputs": [],
   "execution_count": 12
  },
  {
   "cell_type": "markdown",
   "metadata": {},
   "source": [
    "# 计算abc"
   ]
  },
  {
   "cell_type": "code",
   "metadata": {
    "ExecuteTime": {
     "end_time": "2024-10-25T11:37:44.816016Z",
     "start_time": "2024-10-25T11:37:44.744695Z"
    }
   },
   "source": [
    "def f_regression(x,df,window):\n",
    "    #window = 1#单位：月\n",
    "    #计算上36个月开始日期和结束日期\n",
    "    start_date = (x.date.iloc[0] - pd.DateOffset(months=window)).replace(day=1)#36个月前第一天\n",
    "    end_date = (x.date.iloc[0]).replace(day=1)- pd.DateOffset(days=1)#上个月最后一天\n",
    "\n",
    "    loc_df = df[(df.date>=start_date) & (df.date<=end_date) & (df.cp == x.cp.iloc[0])]\n",
    "    #创建特征123+target\n",
    "    X = loc_df[\"coeffi\"].to_frame()\n",
    "    X[\"coeffi2\"] = X[\"coeffi\"]*(loc_df[\"delta\"])\n",
    "    X[\"coeffi3\"] = X[\"coeffi2\"]*(loc_df[\"delta\"])\n",
    "    #X[\"target\"] = loc_df[\"f_t\"] / loc_df[\"f_t_minus_1\"] -1 - loc_df[\"delta\"]*(loc_df[\"S_t\"]/loc_df[\"S_t_minus_1\"]-1)#normalized?不然截距项可能不太是0？\n",
    "    X[\"target\"] = loc_df[\"f_t\"] - loc_df[\"f_t_minus_1\"] - loc_df[\"delta\"]*(loc_df[\"S_t\"]-loc_df[\"S_t_minus_1\"])\n",
    "    X.dropna(inplace=True)\n",
    "    y = X['target']\n",
    "    X.drop('target',inplace=True,axis=1)\n",
    "    if len(X)>0:#判断是否有数据可以计算\n",
    "        model = LinearRegression(fit_intercept=False)#去掉截距项？\n",
    "        model.fit(X, y)\n",
    "        #print(x)\n",
    "        temp_index = df[df['0'].isin(x['0'].values)].index.copy()\n",
    "        #print(temp_index,x['0'].values)\n",
    "        df.loc[temp_index,[\"a\",\"b\",\"c\"]] = model.coef_     \n",
    "        return model.coef_\n",
    "    else:\n",
    "        return np.nan\n",
    "    \n",
    "def f_abc(df):\n",
    "    window = 36#单位：月\n",
    "    df[\"coeffi\"] = (df[\"vega\"]/ ((df[\"maturity\"])**0.5*df[\"S_t\"]))*(df[\"S_t\"]-df[\"S_t_minus_1\"])#normalized S_t_minus_1 = 1?\n",
    "    #df[\"coeffi\"] = (df[\"vega\"]/ ((df[\"maturity\"])**0.5*df[\"S_t\"]/df[\"S_t_minus_1\"]))*(df[\"S_t\"]/df[\"S_t_minus_1\"]-1)\n",
    "    #df['ym'] = df.date.astype(str).str[0:7]\n",
    "    df[[\"a\",\"b\",\"c\"]] = np.nan\n",
    "    df[\"cp\"] = df[\"cp_flag\"]\n",
    "    return df.groupby([\"ym\",\"cp_flag\"]).apply(f_regression,df,window)#reset_pivot_df.groupby(\"ym\").apply(lambda x:pivot_df[((x.date.iloc[0] - pd.DateOffset(months=window)).replace(day=1)):((x.date.iloc[0]).replace(day=1)- pd.DateOffset(days=1))].mean().mean())\n"
   ],
   "outputs": [],
   "execution_count": 14
  },
  {
   "cell_type": "code",
   "metadata": {
    "ExecuteTime": {
     "end_time": "2024-10-25T11:37:54.234046Z",
     "start_time": "2024-10-25T11:37:53.350627Z"
    }
   },
   "source": [
    "data = data.reset_index()\n",
    "l = list(data.columns)\n",
    "l[0] = \"0\"\n",
    "data.columns = l"
   ],
   "outputs": [],
   "execution_count": 15
  },
  {
   "cell_type": "code",
   "metadata": {
    "ExecuteTime": {
     "end_time": "2024-10-25T11:39:26.149961Z",
     "start_time": "2024-10-25T11:37:57.017252Z"
    }
   },
   "source": [
    "result = f_abc(data)#data)"
   ],
   "outputs": [
    {
     "name": "stderr",
     "output_type": "stream",
     "text": [
      "C:\\Users\\yigaa\\AppData\\Local\\Temp\\ipykernel_17240\\350842475.py:35: DeprecationWarning: DataFrameGroupBy.apply operated on the grouping columns. This behavior is deprecated, and in a future version of pandas the grouping columns will be excluded from the operation. Either pass `include_groups=False` to exclude the groupings or explicitly select the grouping columns after groupby to silence this warning.\n",
      "  return df.groupby([\"ym\",\"cp_flag\"]).apply(f_regression,df,window)#reset_pivot_df.groupby(\"ym\").apply(lambda x:pivot_df[((x.date.iloc[0] - pd.DateOffset(months=window)).replace(day=1)):((x.date.iloc[0]).replace(day=1)- pd.DateOffset(days=1))].mean().mean())\n"
     ]
    }
   ],
   "execution_count": 16
  },
  {
   "cell_type": "code",
   "metadata": {
    "ExecuteTime": {
     "end_time": "2024-10-25T11:39:31.989858Z",
     "start_time": "2024-10-25T11:39:30.901290Z"
    }
   },
   "source": [
    "data.query(\"cp_flag=='C' & date>'2004'\")[[\"date\",\"a\",\"b\",\"c\"]].drop_duplicates(\"date\").set_index(\"date\").plot()"
   ],
   "outputs": [
    {
     "data": {
      "text/plain": [
       "<Axes: xlabel='date'>"
      ]
     },
     "execution_count": 17,
     "metadata": {},
     "output_type": "execute_result"
    },
    {
     "data": {
      "text/plain": [
       "<Figure size 640x480 with 1 Axes>"
      ],
      "image/png": "[encoded data removed]"
     },
     "metadata": {},
     "output_type": "display_data"
    }
   ],
   "execution_count": 17
  },
  {
   "metadata": {
    "ExecuteTime": {
     "end_time": "2024-10-25T12:00:27.631465Z",
     "start_time": "2024-10-25T12:00:27.433629Z"
    }
   },
   "cell_type": "code",
   "source": "data.query(\"symbol=='SXB.RJ'&cp_flag=='P'\").sort_values('date')",
   "outputs": [
    {
     "data": {
      "text/plain": [
       "             0       date  symbol     exdate cp_flag exercise_style      S_t  \\\n",
       "183        510 2004-01-05  SXB.RJ 2004-06-19       P              E  1122.22   \n",
       "448        777 2004-01-06  SXB.RJ 2004-06-19       P              E  1123.67   \n",
       "707       1040 2004-01-07  SXB.RJ 2004-06-19       P              E  1126.33   \n",
       "967       1303 2004-01-08  SXB.RJ 2004-06-19       P              E  1131.92   \n",
       "1228      1571 2004-01-09  SXB.RJ 2004-06-19       P              E  1121.86   \n",
       "...        ...        ...     ...        ...     ...            ...      ...   \n",
       "804415  835930 2010-02-05  SXB.RJ 2010-06-19       P              E  1066.19   \n",
       "805234  836764 2010-02-08  SXB.RJ 2010-06-19       P              E  1056.74   \n",
       "806040  837575 2010-02-09  SXB.RJ 2010-06-19       P              E  1070.52   \n",
       "806842  838399 2010-02-10  SXB.RJ 2010-06-19       P              E  1068.13   \n",
       "807638  839212 2010-02-11  SXB.RJ 2010-06-19       P              E  1078.47   \n",
       "\n",
       "        S_t_minus_1  f_t_minus_1    f_t  ...  maturity  maturity_group  \\\n",
       "183         1108.48        11.30   9.60  ...  0.454795               4   \n",
       "448         1122.22         9.60   8.10  ...  0.452055               4   \n",
       "707         1123.67         8.10   7.30  ...  0.449315               4   \n",
       "967         1126.33         7.30   6.30  ...  0.446575               4   \n",
       "1228        1131.92         6.30   7.80  ...  0.443836               4   \n",
       "...             ...          ...    ...  ...       ...             ...   \n",
       "804415      1063.11        26.70  26.55  ...  0.367123               4   \n",
       "805234      1066.19        26.55  28.50  ...  0.358904               4   \n",
       "806040      1056.74        28.50  24.95  ...  0.356164               4   \n",
       "806842      1070.52        24.95  24.95  ...  0.353425               4   \n",
       "807638      1068.13        24.95  21.70  ...  0.350685               4   \n",
       "\n",
       "        delta_group  month       ym    coeffi         a         b         c cp  \n",
       "183            -0.1      1  2004-01  2.630043       NaN       NaN       NaN  P  \n",
       "448            -0.1      1  2004-01  0.258049       NaN       NaN       NaN  P  \n",
       "707            -0.1      1  2004-01  0.448761       NaN       NaN       NaN  P  \n",
       "967            -0.1      1  2004-01  0.873135       NaN       NaN       NaN  P  \n",
       "1228           -0.1      1  2004-01 -1.771719       NaN       NaN       NaN  P  \n",
       "...             ...    ...      ...       ...       ...       ...       ... ..  \n",
       "804415         -0.2      2  2010-02  0.934398 -0.257738 -0.506107 -0.390162  P  \n",
       "805234         -0.2      2  2010-02 -2.960782 -0.257738 -0.506107 -0.390162  P  \n",
       "806040         -0.2      2  2010-02  4.084816 -0.257738 -0.506107 -0.390162  P  \n",
       "806842         -0.2      2  2010-02 -0.710829 -0.257738 -0.506107 -0.390162  P  \n",
       "807638         -0.2      2  2010-02  2.907015 -0.257738 -0.506107 -0.390162  P  \n",
       "\n",
       "[664 rows x 25 columns]"
      ],
      "text/html": [
       "<div>\n",
       "<style scoped>\n",
       "    .dataframe tbody tr th:only-of-type {\n",
       "        vertical-align: middle;\n",
       "    }\n",
       "\n",
       "    .dataframe tbody tr th {\n",
       "        vertical-align: top;\n",
       "    }\n",
       "\n",
       "    .dataframe thead th {\n",
       "        text-align: right;\n",
       "    }\n",
       "</style>\n",
       "<table border=\"1\" class=\"dataframe\">\n",
       "  <thead>\n",
       "    <tr style=\"text-align: right;\">\n",
       "      <th></th>\n",
       "      <th>0</th>\n",
       "      <th>date</th>\n",
       "      <th>symbol</th>\n",
       "      <th>exdate</th>\n",
       "      <th>cp_flag</th>\n",
       "      <th>exercise_style</th>\n",
       "      <th>S_t</th>\n",
       "      <th>S_t_minus_1</th>\n",
       "      <th>f_t_minus_1</th>\n",
       "      <th>f_t</th>\n",
       "      <th>...</th>\n",
       "      <th>maturity</th>\n",
       "      <th>maturity_group</th>\n",
       "      <th>delta_group</th>\n",
       "      <th>month</th>\n",
       "      <th>ym</th>\n",
       "      <th>coeffi</th>\n",
       "      <th>a</th>\n",
       "      <th>b</th>\n",
       "      <th>c</th>\n",
       "      <th>cp</th>\n",
       "    </tr>\n",
       "  </thead>\n",
       "  <tbody>\n",
       "    <tr>\n",
       "      <th>183</th>\n",
       "      <td>510</td>\n",
       "      <td>2004-01-05</td>\n",
       "      <td>SXB.RJ</td>\n",
       "      <td>2004-06-19</td>\n",
       "      <td>P</td>\n",
       "      <td>E</td>\n",
       "      <td>1122.22</td>\n",
       "      <td>1108.48</td>\n",
       "      <td>11.30</td>\n",
       "      <td>9.60</td>\n",
       "      <td>...</td>\n",
       "      <td>0.454795</td>\n",
       "      <td>4</td>\n",
       "      <td>-0.1</td>\n",
       "      <td>1</td>\n",
       "      <td>2004-01</td>\n",
       "      <td>2.630043</td>\n",
       "      <td>NaN</td>\n",
       "      <td>NaN</td>\n",
       "      <td>NaN</td>\n",
       "      <td>P</td>\n",
       "    </tr>\n",
       "    <tr>\n",
       "      <th>448</th>\n",
       "      <td>777</td>\n",
       "      <td>2004-01-06</td>\n",
       "      <td>SXB.RJ</td>\n",
       "      <td>2004-06-19</td>\n",
       "      <td>P</td>\n",
       "      <td>E</td>\n",
       "      <td>1123.67</td>\n",
       "      <td>1122.22</td>\n",
       "      <td>9.60</td>\n",
       "      <td>8.10</td>\n",
       "      <td>...</td>\n",
       "      <td>0.452055</td>\n",
       "      <td>4</td>\n",
       "      <td>-0.1</td>\n",
       "      <td>1</td>\n",
       "      <td>2004-01</td>\n",
       "      <td>0.258049</td>\n",
       "      <td>NaN</td>\n",
       "      <td>NaN</td>\n",
       "      <td>NaN</td>\n",
       "      <td>P</td>\n",
       "    </tr>\n",
       "    <tr>\n",
       "      <th>707</th>\n",
       "      <td>1040</td>\n",
       "      <td>2004-01-07</td>\n",
       "      <td>SXB.RJ</td>\n",
       "      <td>2004-06-19</td>\n",
       "      <td>P</td>\n",
       "      <td>E</td>\n",
       "      <td>1126.33</td>\n",
       "      <td>1123.67</td>\n",
       "      <td>8.10</td>\n",
       "      <td>7.30</td>\n",
       "      <td>...</td>\n",
       "      <td>0.449315</td>\n",
       "      <td>4</td>\n",
       "      <td>-0.1</td>\n",
       "      <td>1</td>\n",
       "      <td>2004-01</td>\n",
       "      <td>0.448761</td>\n",
       "      <td>NaN</td>\n",
       "      <td>NaN</td>\n",
       "      <td>NaN</td>\n",
       "      <td>P</td>\n",
       "    </tr>\n",
       "    <tr>\n",
       "      <th>967</th>\n",
       "      <td>1303</td>\n",
       "      <td>2004-01-08</td>\n",
       "      <td>SXB.RJ</td>\n",
       "      <td>2004-06-19</td>\n",
       "      <td>P</td>\n",
       "      <td>E</td>\n",
       "      <td>1131.92</td>\n",
       "      <td>1126.33</td>\n",
       "      <td>7.30</td>\n",
       "      <td>6.30</td>\n",
       "      <td>...</td>\n",
       "      <td>0.446575</td>\n",
       "      <td>4</td>\n",
       "      <td>-0.1</td>\n",
       "      <td>1</td>\n",
       "      <td>2004-01</td>\n",
       "      <td>0.873135</td>\n",
       "      <td>NaN</td>\n",
       "      <td>NaN</td>\n",
       "      <td>NaN</td>\n",
       "      <td>P</td>\n",
       "    </tr>\n",
       "    <tr>\n",
       "      <th>1228</th>\n",
       "      <td>1571</td>\n",
       "      <td>2004-01-09</td>\n",
       "      <td>SXB.RJ</td>\n",
       "      <td>2004-06-19</td>\n",
       "      <td>P</td>\n",
       "      <td>E</td>\n",
       "      <td>1121.86</td>\n",
       "      <td>1131.92</td>\n",
       "      <td>6.30</td>\n",
       "      <td>7.80</td>\n",
       "      <td>...</td>\n",
       "      <td>0.443836</td>\n",
       "      <td>4</td>\n",
       "      <td>-0.1</td>\n",
       "      <td>1</td>\n",
       "      <td>2004-01</td>\n",
       "      <td>-1.771719</td>\n",
       "      <td>NaN</td>\n",
       "      <td>NaN</td>\n",
       "      <td>NaN</td>\n",
       "      <td>P</td>\n",
       "    </tr>\n",
       "    <tr>\n",
       "      <th>...</th>\n",
       "      <td>...</td>\n",
       "      <td>...</td>\n",
       "      <td>...</td>\n",
       "      <td>...</td>\n",
       "      <td>...</td>\n",
       "      <td>...</td>\n",
       "      <td>...</td>\n",
       "      <td>...</td>\n",
       "      <td>...</td>\n",
       "      <td>...</td>\n",
       "      <td>...</td>\n",
       "      <td>...</td>\n",
       "      <td>...</td>\n",
       "      <td>...</td>\n",
       "      <td>...</td>\n",
       "      <td>...</td>\n",
       "      <td>...</td>\n",
       "      <td>...</td>\n",
       "      <td>...</td>\n",
       "      <td>...</td>\n",
       "      <td>...</td>\n",
       "    </tr>\n",
       "    <tr>\n",
       "      <th>804415</th>\n",
       "      <td>835930</td>\n",
       "      <td>2010-02-05</td>\n",
       "      <td>SXB.RJ</td>\n",
       "      <td>2010-06-19</td>\n",
       "      <td>P</td>\n",
       "      <td>E</td>\n",
       "      <td>1066.19</td>\n",
       "      <td>1063.11</td>\n",
       "      <td>26.70</td>\n",
       "      <td>26.55</td>\n",
       "      <td>...</td>\n",
       "      <td>0.367123</td>\n",
       "      <td>4</td>\n",
       "      <td>-0.2</td>\n",
       "      <td>2</td>\n",
       "      <td>2010-02</td>\n",
       "      <td>0.934398</td>\n",
       "      <td>-0.257738</td>\n",
       "      <td>-0.506107</td>\n",
       "      <td>-0.390162</td>\n",
       "      <td>P</td>\n",
       "    </tr>\n",
       "    <tr>\n",
       "      <th>805234</th>\n",
       "      <td>836764</td>\n",
       "      <td>2010-02-08</td>\n",
       "      <td>SXB.RJ</td>\n",
       "      <td>2010-06-19</td>\n",
       "      <td>P</td>\n",
       "      <td>E</td>\n",
       "      <td>1056.74</td>\n",
       "      <td>1066.19</td>\n",
       "      <td>26.55</td>\n",
       "      <td>28.50</td>\n",
       "      <td>...</td>\n",
       "      <td>0.358904</td>\n",
       "      <td>4</td>\n",
       "      <td>-0.2</td>\n",
       "      <td>2</td>\n",
       "      <td>2010-02</td>\n",
       "      <td>-2.960782</td>\n",
       "      <td>-0.257738</td>\n",
       "      <td>-0.506107</td>\n",
       "      <td>-0.390162</td>\n",
       "      <td>P</td>\n",
       "    </tr>\n",
       "    <tr>\n",
       "      <th>806040</th>\n",
       "      <td>837575</td>\n",
       "      <td>2010-02-09</td>\n",
       "      <td>SXB.RJ</td>\n",
       "      <td>2010-06-19</td>\n",
       "      <td>P</td>\n",
       "      <td>E</td>\n",
       "      <td>1070.52</td>\n",
       "      <td>1056.74</td>\n",
       "      <td>28.50</td>\n",
       "      <td>24.95</td>\n",
       "      <td>...</td>\n",
       "      <td>0.356164</td>\n",
       "      <td>4</td>\n",
       "      <td>-0.2</td>\n",
       "      <td>2</td>\n",
       "      <td>2010-02</td>\n",
       "      <td>4.084816</td>\n",
       "      <td>-0.257738</td>\n",
       "      <td>-0.506107</td>\n",
       "      <td>-0.390162</td>\n",
       "      <td>P</td>\n",
       "    </tr>\n",
       "    <tr>\n",
       "      <th>806842</th>\n",
       "      <td>838399</td>\n",
       "      <td>2010-02-10</td>\n",
       "      <td>SXB.RJ</td>\n",
       "      <td>2010-06-19</td>\n",
       "      <td>P</td>\n",
       "      <td>E</td>\n",
       "      <td>1068.13</td>\n",
       "      <td>1070.52</td>\n",
       "      <td>24.95</td>\n",
       "      <td>24.95</td>\n",
       "      <td>...</td>\n",
       "      <td>0.353425</td>\n",
       "      <td>4</td>\n",
       "      <td>-0.2</td>\n",
       "      <td>2</td>\n",
       "      <td>2010-02</td>\n",
       "      <td>-0.710829</td>\n",
       "      <td>-0.257738</td>\n",
       "      <td>-0.506107</td>\n",
       "      <td>-0.390162</td>\n",
       "      <td>P</td>\n",
       "    </tr>\n",
       "    <tr>\n",
       "      <th>807638</th>\n",
       "      <td>839212</td>\n",
       "      <td>2010-02-11</td>\n",
       "      <td>SXB.RJ</td>\n",
       "      <td>2010-06-19</td>\n",
       "      <td>P</td>\n",
       "      <td>E</td>\n",
       "      <td>1078.47</td>\n",
       "      <td>1068.13</td>\n",
       "      <td>24.95</td>\n",
       "      <td>21.70</td>\n",
       "      <td>...</td>\n",
       "      <td>0.350685</td>\n",
       "      <td>4</td>\n",
       "      <td>-0.2</td>\n",
       "      <td>2</td>\n",
       "      <td>2010-02</td>\n",
       "      <td>2.907015</td>\n",
       "      <td>-0.257738</td>\n",
       "      <td>-0.506107</td>\n",
       "      <td>-0.390162</td>\n",
       "      <td>P</td>\n",
       "    </tr>\n",
       "  </tbody>\n",
       "</table>\n",
       "<p>664 rows × 25 columns</p>\n",
       "</div>"
      ]
     },
     "execution_count": 19,
     "metadata": {},
     "output_type": "execute_result"
    }
   ],
   "execution_count": 19
  },
  {
   "cell_type": "code",
   "metadata": {
    "ExecuteTime": {
     "end_time": "2024-10-25T12:20:12.703884Z",
     "start_time": "2024-10-25T12:20:11.821617Z"
    }
   },
   "source": [
    "data.query(\"cp_flag=='P' & '2004-12-06'<date<'2015-12-14'\")[[\"date\",\"a\",\"b\",\"c\"]].drop_duplicates(\"date\").set_index(\"date\").plot()"
   ],
   "outputs": [
    {
     "data": {
      "text/plain": [
       "<Axes: xlabel='date'>"
      ]
     },
     "execution_count": 20,
     "metadata": {},
     "output_type": "execute_result"
    },
    {
     "data": {
      "text/plain": [
       "<Figure size 640x480 with 1 Axes>"
      ],
      "image/png": "[encoded data removed]"
     },
     "metadata": {},
     "output_type": "display_data"
    }
   ],
   "execution_count": 20
  },
  {
   "cell_type": "markdown",
   "metadata": {},
   "source": [
    "# 计算MV"
   ]
  },
  {
   "cell_type": "code",
   "metadata": {
    "ExecuteTime": {
     "end_time": "2024-10-25T12:20:15.743943Z",
     "start_time": "2024-10-25T12:20:15.587462Z"
    }
   },
   "source": [
    "def f_MV_delta(data):\n",
    "    return data[\"delta\"] + (data[\"vega\"]/ ((data[\"maturity\"])**0.5*data[\"S_t\"]))*(data[\"a\"]+data[\"b\"]*data[\"delta\"]+data[\"c\"]*data[\"delta\"]*data[\"delta\"])\n",
    "data[\"MV_delta\"] = f_MV_delta(data)"
   ],
   "outputs": [],
   "execution_count": 21
  },
  {
   "cell_type": "markdown",
   "metadata": {},
   "source": [
    "# 计算gain"
   ]
  },
  {
   "cell_type": "code",
   "metadata": {
    "ExecuteTime": {
     "end_time": "2024-10-25T12:20:20.830704Z",
     "start_time": "2024-10-25T12:20:17.273032Z"
    }
   },
   "source": [
    "SSE_MV = data.groupby([\"delta_group\",\"exercise_style\",\"cp_flag\"]).apply(lambda x:((x[\"f_t\"]-x[\"f_t_minus_1\"] - x[\"MV_delta\"]*(x[\"S_t\"]-x[\"S_t_minus_1\"]))**2).sum()).reset_index()\n",
    "SSE_BS = data.groupby([\"delta_group\",\"exercise_style\",\"cp_flag\"]).apply(lambda x:((x[\"f_t\"]-x[\"f_t_minus_1\"] - x[\"delta\"]*(x[\"S_t\"]-x[\"S_t_minus_1\"]))**2).sum()).reset_index()\n",
    "SSE = SSE_MV.merge(SSE_BS,on=['delta_group', 'exercise_style', 'cp_flag'])\n",
    "SSE.columns = ['delta_group', 'exercise_style', 'cp_flag']+[\"SSE_MV\",\"SSE_BS\"]\n",
    "SSE[\"GAIN\"] = 1 - SSE[\"SSE_MV\"]/SSE[\"SSE_BS\"]"
   ],
   "outputs": [
    {
     "name": "stderr",
     "output_type": "stream",
     "text": [
      "C:\\Users\\yigaa\\AppData\\Local\\Temp\\ipykernel_17240\\2680075421.py:1: DeprecationWarning: DataFrameGroupBy.apply operated on the grouping columns. This behavior is deprecated, and in a future version of pandas the grouping columns will be excluded from the operation. Either pass `include_groups=False` to exclude the groupings or explicitly select the grouping columns after groupby to silence this warning.\n",
      "  SSE_MV = data.groupby([\"delta_group\",\"exercise_style\",\"cp_flag\"]).apply(lambda x:((x[\"f_t\"]-x[\"f_t_minus_1\"] - x[\"MV_delta\"]*(x[\"S_t\"]-x[\"S_t_minus_1\"]))**2).sum()).reset_index()\n",
      "C:\\Users\\yigaa\\AppData\\Local\\Temp\\ipykernel_17240\\2680075421.py:2: DeprecationWarning: DataFrameGroupBy.apply operated on the grouping columns. This behavior is deprecated, and in a future version of pandas the grouping columns will be excluded from the operation. Either pass `include_groups=False` to exclude the groupings or explicitly select the grouping columns after groupby to silence this warning.\n",
      "  SSE_BS = data.groupby([\"delta_group\",\"exercise_style\",\"cp_flag\"]).apply(lambda x:((x[\"f_t\"]-x[\"f_t_minus_1\"] - x[\"delta\"]*(x[\"S_t\"]-x[\"S_t_minus_1\"]))**2).sum()).reset_index()\n"
     ]
    }
   ],
   "execution_count": 22
  },
  {
   "cell_type": "code",
   "metadata": {
    "ExecuteTime": {
     "end_time": "2024-10-25T12:20:44.724283Z",
     "start_time": "2024-10-25T12:20:44.703989Z"
    }
   },
   "source": [
    "mm = ((round(SSE.groupby([\"cp_flag\",\"delta_group\"])[\"GAIN\"].mean()*100,1)).astype(str)+\"%\").unstack(0)"
   ],
   "outputs": [],
   "execution_count": 23
  },
  {
   "cell_type": "code",
   "metadata": {
    "ExecuteTime": {
     "end_time": "2024-10-25T12:20:48.451179Z",
     "start_time": "2024-10-25T12:20:48.421807Z"
    }
   },
   "source": [
    "mm"
   ],
   "outputs": [
    {
     "data": {
      "text/plain": [
       "cp_flag          C      P\n",
       "delta_group              \n",
       "-0.9           NaN   1.8%\n",
       "-0.8           NaN   4.2%\n",
       "-0.7           NaN   6.5%\n",
       "-0.6           NaN   8.7%\n",
       "-0.5           NaN  12.3%\n",
       "-0.4           NaN  16.7%\n",
       "-0.3           NaN  21.4%\n",
       "-0.2           NaN  25.8%\n",
       "-0.1           NaN  28.8%\n",
       " 0.1         28.5%    NaN\n",
       " 0.2         24.7%    NaN\n",
       " 0.3         21.7%    NaN\n",
       " 0.4         20.1%    NaN\n",
       " 0.5         20.4%    NaN\n",
       " 0.6         20.2%    NaN\n",
       " 0.7         20.6%    NaN\n",
       " 0.8         19.2%    NaN\n",
       " 0.9         12.1%    NaN"
      ],
      "text/html": [
       "<div>\n",
       "<style scoped>\n",
       "    .dataframe tbody tr th:only-of-type {\n",
       "        vertical-align: middle;\n",
       "    }\n",
       "\n",
       "    .dataframe tbody tr th {\n",
       "        vertical-align: top;\n",
       "    }\n",
       "\n",
       "    .dataframe thead th {\n",
       "        text-align: right;\n",
       "    }\n",
       "</style>\n",
       "<table border=\"1\" class=\"dataframe\">\n",
       "  <thead>\n",
       "    <tr style=\"text-align: right;\">\n",
       "      <th>cp_flag</th>\n",
       "      <th>C</th>\n",
       "      <th>P</th>\n",
       "    </tr>\n",
       "    <tr>\n",
       "      <th>delta_group</th>\n",
       "      <th></th>\n",
       "      <th></th>\n",
       "    </tr>\n",
       "  </thead>\n",
       "  <tbody>\n",
       "    <tr>\n",
       "      <th>-0.9</th>\n",
       "      <td>NaN</td>\n",
       "      <td>1.8%</td>\n",
       "    </tr>\n",
       "    <tr>\n",
       "      <th>-0.8</th>\n",
       "      <td>NaN</td>\n",
       "      <td>4.2%</td>\n",
       "    </tr>\n",
       "    <tr>\n",
       "      <th>-0.7</th>\n",
       "      <td>NaN</td>\n",
       "      <td>6.5%</td>\n",
       "    </tr>\n",
       "    <tr>\n",
       "      <th>-0.6</th>\n",
       "      <td>NaN</td>\n",
       "      <td>8.7%</td>\n",
       "    </tr>\n",
       "    <tr>\n",
       "      <th>-0.5</th>\n",
       "      <td>NaN</td>\n",
       "      <td>12.3%</td>\n",
       "    </tr>\n",
       "    <tr>\n",
       "      <th>-0.4</th>\n",
       "      <td>NaN</td>\n",
       "      <td>16.7%</td>\n",
       "    </tr>\n",
       "    <tr>\n",
       "      <th>-0.3</th>\n",
       "      <td>NaN</td>\n",
       "      <td>21.4%</td>\n",
       "    </tr>\n",
       "    <tr>\n",
       "      <th>-0.2</th>\n",
       "      <td>NaN</td>\n",
       "      <td>25.8%</td>\n",
       "    </tr>\n",
       "    <tr>\n",
       "      <th>-0.1</th>\n",
       "      <td>NaN</td>\n",
       "      <td>28.8%</td>\n",
       "    </tr>\n",
       "    <tr>\n",
       "      <th>0.1</th>\n",
       "      <td>28.5%</td>\n",
       "      <td>NaN</td>\n",
       "    </tr>\n",
       "    <tr>\n",
       "      <th>0.2</th>\n",
       "      <td>24.7%</td>\n",
       "      <td>NaN</td>\n",
       "    </tr>\n",
       "    <tr>\n",
       "      <th>0.3</th>\n",
       "      <td>21.7%</td>\n",
       "      <td>NaN</td>\n",
       "    </tr>\n",
       "    <tr>\n",
       "      <th>0.4</th>\n",
       "      <td>20.1%</td>\n",
       "      <td>NaN</td>\n",
       "    </tr>\n",
       "    <tr>\n",
       "      <th>0.5</th>\n",
       "      <td>20.4%</td>\n",
       "      <td>NaN</td>\n",
       "    </tr>\n",
       "    <tr>\n",
       "      <th>0.6</th>\n",
       "      <td>20.2%</td>\n",
       "      <td>NaN</td>\n",
       "    </tr>\n",
       "    <tr>\n",
       "      <th>0.7</th>\n",
       "      <td>20.6%</td>\n",
       "      <td>NaN</td>\n",
       "    </tr>\n",
       "    <tr>\n",
       "      <th>0.8</th>\n",
       "      <td>19.2%</td>\n",
       "      <td>NaN</td>\n",
       "    </tr>\n",
       "    <tr>\n",
       "      <th>0.9</th>\n",
       "      <td>12.1%</td>\n",
       "      <td>NaN</td>\n",
       "    </tr>\n",
       "  </tbody>\n",
       "</table>\n",
       "</div>"
      ]
     },
     "execution_count": 24,
     "metadata": {},
     "output_type": "execute_result"
    }
   ],
   "execution_count": 24
  }
 ],
 "metadata": {
  "kernelspec": {
   "display_name": "Python 3",
   "language": "python",
   "name": "python3"
  },
  "language_info": {
   "codemirror_mode": {
    "name": "ipython",
    "version": 3
   },
   "file_extension": ".py",
   "mimetype": "text/x-python",
   "name": "python",
   "nbconvert_exporter": "python",
   "pygments_lexer": "ipython3",
   "version": "3.7.1"
  }
 },
 "nbformat": 4,
 "nbformat_minor": 2
}
