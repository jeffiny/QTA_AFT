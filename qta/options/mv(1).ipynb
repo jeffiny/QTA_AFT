{
 "cells": [
  {
   "cell_type": "code",
   "metadata": {
    "ExecuteTime": {
     "end_time": "2024-10-25T03:10:31.398551Z",
     "start_time": "2024-10-25T03:10:31.390392Z"
    }
   },
   "source": [
    "import pandas as pd\n",
    "import numpy as np\n",
    "import matplotlib.pyplot as plt"
   ],
   "outputs": [],
   "execution_count": 45
  },
  {
   "cell_type": "code",
   "metadata": {
    "ExecuteTime": {
     "end_time": "2024-10-25T03:10:52.512996Z",
     "start_time": "2024-10-25T03:10:31.502476Z"
    }
   },
   "source": [
    "option_data = pd.read_csv(\"option_data.csv\")\n",
    "S_data = pd.read_csv(\"price_data.csv\")"
   ],
   "outputs": [
    {
     "name": "stderr",
     "output_type": "stream",
     "text": [
      "C:\\Users\\yigaa\\AppData\\Local\\Temp\\ipykernel_7364\\1663855361.py:1: DtypeWarning: Columns (23,24,25) have mixed types. Specify dtype option on import or set low_memory=False.\n",
      "  option_data = pd.read_csv(\"option_data.csv\")\n"
     ]
    }
   ],
   "execution_count": 46
  },
  {
   "cell_type": "code",
   "metadata": {
    "ExecuteTime": {
     "end_time": "2024-10-25T03:10:52.533794Z",
     "start_time": "2024-10-25T03:10:52.523316Z"
    }
   },
   "source": "#option_data = pd.read_csv(\"option_price_SP500.csv\")",
   "outputs": [],
   "execution_count": 47
  },
  {
   "cell_type": "code",
   "metadata": {
    "ExecuteTime": {
     "end_time": "2024-10-25T03:10:52.588286Z",
     "start_time": "2024-10-25T03:10:52.577224Z"
    }
   },
   "source": "#S_data = pd.read_csv(\"underlying_asset_SP500.csv\")",
   "outputs": [],
   "execution_count": 48
  },
  {
   "cell_type": "code",
   "metadata": {
    "ExecuteTime": {
     "end_time": "2024-10-25T03:10:52.658216Z",
     "start_time": "2024-10-25T03:10:52.640302Z"
    }
   },
   "source": [
    "option_data.columns"
   ],
   "outputs": [
    {
     "data": {
      "text/plain": [
       "Index(['secid', 'date', 'symbol', 'symbol_flag', 'exdate', 'last_date',\n",
       "       'cp_flag', 'strike_price', 'best_bid', 'best_offer', 'volume',\n",
       "       'open_interest', 'impl_volatility', 'delta', 'gamma', 'vega', 'theta',\n",
       "       'optionid', 'cfadj', 'am_settlement', 'contract_size', 'ss_flag',\n",
       "       'forward_price', 'expiry_indicator', 'root', 'suffix', 'cusip',\n",
       "       'ticker', 'sic', 'index_flag', 'exchange_d', 'class', 'issue_type',\n",
       "       'industry_group', 'issuer', 'div_convention', 'exercise_style',\n",
       "       'am_set_flag'],\n",
       "      dtype='object')"
      ]
     },
     "execution_count": 49,
     "metadata": {},
     "output_type": "execute_result"
    }
   ],
   "execution_count": 49
  },
  {
   "cell_type": "code",
   "metadata": {
    "ExecuteTime": {
     "end_time": "2024-10-25T03:10:52.718495Z",
     "start_time": "2024-10-25T03:10:52.712614Z"
    }
   },
   "source": [
    "# option_data = option_data.iloc[:100000]\n",
    "# S_data = S_data.iloc[:100000]"
   ],
   "outputs": [],
   "execution_count": 50
  },
  {
   "cell_type": "markdown",
   "metadata": {},
   "source": [
    "secid: 证券唯一标识符。108105代表S&P500\n",
    "**date**: 数据记录的日期。  \n",
    "symbol: 期权或相关资产的标识符。\n",
    "symbol_flag: 标识符的标记，指示其特定状态。\n",
    "**exdate**: 期权的到期日期。  \n",
    "last_date: 最后交易日期。\n",
    "**cp_flag**: 表示期权类型（看涨或看跌）。\"C\" \"P\"  \n",
    "**strike_price**: 行权价格。\n",
    "\n",
    "**best_bid**: 期权的最佳买入报价。  \n",
    "**best_offer**: 期权的最佳卖出报价。  \n",
    "算期权价格？  \n",
    "\n",
    "volume: 交易量。\n",
    "open_interest: 未平仓合约数。  \n",
    "希腊值\n",
    "**impl_volatility**: 隐含波动率，反映市场对期权价格波动的预期。\n",
    "**delta**: 衡量期权价格对基础资产价格变动的敏感度。\n",
    "**gamma**: 衡量delta的变化率。\n",
    "**vega**: 衡量期权价格对隐含波动率变化的敏感度。\n",
    "**theta**: 衡量期权价格随时间流逝的变化。  \n",
    "optionid: 期权的唯一标识符。\n",
    "cfadj: 现金流调整标识。\n",
    "am_settlement: 是否为自动行权结算。\n",
    "contract_size: 合约规模。\n",
    "ss_flag: 标识某些特定的属性。\n",
    "forward_price: 远期价格。\n",
    "expiry_indicator: 是否接近到期的标识。\n",
    "root: 期权根符号。\n",
    "suffix: 额外的标识后缀。\n",
    "cusip: 证券统一标识代码。\n",
    "ticker: 交易所代码。\n",
    "sic: 行业分类代码。\n",
    "index_flag: 指示是否为指数期权。\n",
    "exchange_d: 交易所信息。\n",
    "class: 期权类别。 \n",
    "issue_type: 发行类型。\n",
    "industry_group: 行业组别。\n",
    "issuer: 发行方。\n",
    "div_convention: 分红惯例。\n",
    "**exercise_style**: 行权方式（美式或欧式）。American Europe \n",
    "am_set_flag: 自动行权标识。"
   ]
  },
  {
   "cell_type": "code",
   "metadata": {
    "ExecuteTime": {
     "end_time": "2024-10-25T03:10:53.585683Z",
     "start_time": "2024-10-25T03:10:52.760388Z"
    }
   },
   "source": [
    "option_data = option_data[[\"date\",\"symbol\",\"exdate\",\"cp_flag\",\"best_bid\",\"best_offer\",\"strike_price\",\"impl_volatility\",\"delta\",\"gamma\",\"vega\",\"theta\",\"exercise_style\"]]"
   ],
   "outputs": [],
   "execution_count": 51
  },
  {
   "cell_type": "markdown",
   "metadata": {},
   "source": [
    "# data\n",
    "price of underlying asset and type of option: S\n",
    "- S&P 500: E 收盘价？ normalized?多一天？  \n",
    "- S&P 100: E+A\n",
    "- DJIA/DJX: E\n",
    "- the individual stocks underlying the DJIA: A\n",
    "- ETF(gold (GLD), silver (SLV) and oil (USO), Barclays U.S. 20+ year Treasury Bond Index (TLT), e Barclays U.S. 7–10 year Treasury Bond Index (IEF)): A\n",
    "\n",
    "time period\n",
    "January 2, 2004–August 31, 2015, except for the commodity ETFs\n",
    "where data was first available in 2008\n",
    "\n",
    "select\n",
    "- Options with remaining lives less than 14 days were removed from the data set(deal when getting data)\n",
    "- Call options for which the practitioner Black-Scholes delta was less than 0.05 or greater than 0.95, and put options for which the practitioner Black-Scholes delta was less than –0.95 or greater than –0.05 were\n",
    "removed from the data set.   \n",
    "\n",
    "bid price, offer price, implied, volatility, delta, gamma, vega, and theta(practitioner Black–Scholes model)\n",
    "\n",
    "moneyness：$\\delta_{BS}$: rouning to nearest 10  \n",
    "time to maturity: exdate, date: seven different option maturity buckets (14–30 days, 31–\n",
    "60 days, 61–91 days, 92–122 days, 123–182 days, 183–365 days,\n",
    "and more than 365 days  \n",
    "price of option: best_bid? best_ask? mid ask?\n",
    "\n"
   ]
  },
  {
   "cell_type": "markdown",
   "metadata": {},
   "source": [
    "# group\n",
    "for $\\delta_{MV}$  \n",
    "$\\delta_{BS}$, maturity bucket, put call  "
   ]
  },
  {
   "cell_type": "markdown",
   "metadata": {},
   "source": [
    "# window\n",
    "36-month"
   ]
  },
  {
   "cell_type": "markdown",
   "metadata": {},
   "source": [
    "# 数据预处理"
   ]
  },
  {
   "cell_type": "markdown",
   "metadata": {},
   "source": [
    "bid price, offer price, implied, volatility, delta, gamma, vega, and theta不缺失"
   ]
  },
  {
   "cell_type": "code",
   "metadata": {
    "ExecuteTime": {
     "end_time": "2024-10-25T03:10:54.420116Z",
     "start_time": "2024-10-25T03:10:53.620606Z"
    }
   },
   "source": [
    "option_data = option_data.dropna(subset=[\"best_bid\", \"best_offer\", \"impl_volatility\", \"delta\", \"gamma\", \"vega\",\"theta\"])"
   ],
   "outputs": [],
   "execution_count": 52
  },
  {
   "cell_type": "markdown",
   "metadata": {},
   "source": [
    "Call options for which the practitioner Black-Scholes delta was less than 0.05 or greater than 0.95, and put options for which the practitioner Black-Scholes delta was less than –0.95 or greater than –0.05 were removed from the data set."
   ]
  },
  {
   "cell_type": "code",
   "metadata": {
    "ExecuteTime": {
     "end_time": "2024-10-25T03:10:55.038158Z",
     "start_time": "2024-10-25T03:10:54.469323Z"
    }
   },
   "source": [
    "option_data = option_data.query(\"(cp_flag=='C' & 0.95>delta>0.05)|(cp_flag=='P' & -0.05>delta>-0.95)\")"
   ],
   "outputs": [],
   "execution_count": 53
  },
  {
   "cell_type": "markdown",
   "metadata": {},
   "source": [
    "f取best_bid,best_ask的平均？S normalized?\n",
    "1 DAY CHANGE?"
   ]
  },
  {
   "cell_type": "code",
   "metadata": {
    "ExecuteTime": {
     "end_time": "2024-10-25T03:10:55.129114Z",
     "start_time": "2024-10-25T03:10:55.077786Z"
    }
   },
   "source": [
    "option_data[\"f_t\"] = option_data.eval(\"(best_bid+best_offer)/2\")"
   ],
   "outputs": [],
   "execution_count": 54
  },
  {
   "cell_type": "code",
   "metadata": {
    "ExecuteTime": {
     "end_time": "2024-10-25T03:11:00.757908Z",
     "start_time": "2024-10-25T03:10:55.162431Z"
    }
   },
   "source": [
    "option_data = option_data.merge(pd.pivot(option_data,columns=\"symbol\",index=\"date\",values=\"f_t\").shift(1).stack().reset_index(),on=[\"date\",\"symbol\"],how=\"left\")"
   ],
   "outputs": [],
   "execution_count": 55
  },
  {
   "cell_type": "code",
   "metadata": {
    "ExecuteTime": {
     "end_time": "2024-10-25T03:11:00.810633Z",
     "start_time": "2024-10-25T03:11:00.802070Z"
    }
   },
   "source": [
    "l = list(option_data.columns.copy())\n",
    "l[-1] = \"f_t_minus_1\""
   ],
   "outputs": [],
   "execution_count": 56
  },
  {
   "cell_type": "code",
   "metadata": {
    "ExecuteTime": {
     "end_time": "2024-10-25T03:11:00.850328Z",
     "start_time": "2024-10-25T03:11:00.841935Z"
    }
   },
   "source": [
    "option_data.columns = l"
   ],
   "outputs": [],
   "execution_count": 57
  },
  {
   "cell_type": "code",
   "metadata": {
    "ExecuteTime": {
     "end_time": "2024-10-25T03:11:00.891309Z",
     "start_time": "2024-10-25T03:11:00.880013Z"
    }
   },
   "source": [
    "S_data['S_t'] = S_data[\"close\"]#.pct_change()+1\n",
    "S_data['S_t_minus_1'] = S_data.shift(1)['close']"
   ],
   "outputs": [],
   "execution_count": 58
  },
  {
   "cell_type": "markdown",
   "metadata": {},
   "source": [
    "给option配上原生资产价格"
   ]
  },
  {
   "cell_type": "code",
   "metadata": {
    "ExecuteTime": {
     "end_time": "2024-10-25T03:11:02.155985Z",
     "start_time": "2024-10-25T03:11:00.925340Z"
    }
   },
   "source": [
    "data = option_data.merge(S_data[[\"date\",\"S_t\",'S_t_minus_1']],on=[\"date\"],how=\"left\")[[\"date\",\"symbol\",\"exdate\",\"cp_flag\",\"exercise_style\",\"S_t\",'S_t_minus_1',\"f_t_minus_1\",\"f_t\",\"delta\",\"gamma\",\"vega\",\"theta\",\"strike_price\"]]"
   ],
   "outputs": [],
   "execution_count": 59
  },
  {
   "cell_type": "markdown",
   "metadata": {},
   "source": [
    "# 计算"
   ]
  },
  {
   "cell_type": "code",
   "metadata": {
    "ExecuteTime": {
     "end_time": "2024-10-25T03:11:03.078766Z",
     "start_time": "2024-10-25T03:11:02.190320Z"
    }
   },
   "source": [
    "data.dropna(inplace=True)"
   ],
   "outputs": [],
   "execution_count": 60
  },
  {
   "cell_type": "markdown",
   "metadata": {},
   "source": [
    "time to maturity"
   ]
  },
  {
   "cell_type": "code",
   "metadata": {
    "ExecuteTime": {
     "end_time": "2024-10-25T03:11:03.946365Z",
     "start_time": "2024-10-25T03:11:03.115147Z"
    }
   },
   "source": [
    "data.date = pd.to_datetime(data.date)\n",
    "data.exdate = pd.to_datetime(data.exdate)\n",
    "data['maturity'] = (data.exdate - data.date).dt.days/365"
   ],
   "outputs": [],
   "execution_count": 61
  },
  {
   "cell_type": "markdown",
   "metadata": {},
   "source": [
    "\\delta_BS四舍五入"
   ]
  },
  {
   "cell_type": "code",
   "metadata": {
    "ExecuteTime": {
     "end_time": "2024-10-25T03:11:03.989652Z",
     "start_time": "2024-10-25T03:11:03.980343Z"
    }
   },
   "source": [
    "maturity_bucket = np.array([30,60,91,122,182,365])/365"
   ],
   "outputs": [],
   "execution_count": 62
  },
  {
   "cell_type": "code",
   "metadata": {
    "ExecuteTime": {
     "end_time": "2024-10-25T03:11:38.172824Z",
     "start_time": "2024-10-25T03:11:04.018167Z"
    }
   },
   "source": [
    "data['maturity_group'] = data['maturity'].apply(lambda x: np.sum(x > maturity_bucket))\n",
    "data['delta_group'] = round(data['delta']*10)/10#0.05四舍五入\n",
    "data['month'] = data['date'].dt.month\n",
    "data['ym'] = data.date.astype(str).str[0:7]"
   ],
   "outputs": [],
   "execution_count": 63
  },
  {
   "cell_type": "markdown",
   "metadata": {},
   "source": [
    "计算historical delta（也许不需要）"
   ]
  },
  {
   "cell_type": "code",
   "metadata": {
    "ExecuteTime": {
     "end_time": "2024-10-25T03:11:38.230784Z",
     "start_time": "2024-10-25T03:11:38.222651Z"
    }
   },
   "source": [
    "# def f_delta(df):\n",
    "#     window = 36#M\n",
    "#     pivot_df = pd.pivot(df,values=\"delta\",index=\"date\",columns=\"symbol\")\n",
    "#     reset_pivot_df = pivot_df.reset_index()\n",
    "#     reset_pivot_df['ym'] = reset_pivot_df.date.astype(str).str[0:7]\n",
    "#     return reset_pivot_df.groupby(\"ym\").apply(lambda x:pivot_df[((x.date.iloc[0] - pd.DateOffset(months=window)).replace(day=1)):((x.date.iloc[0]).replace(day=1)- pd.DateOffset(days=1))].mean().mean())\n",
    "#     \n",
    "# result = data.groupby([\"maturity_group\",\"delta_group\",\"exercise_style\",\"cp_flag\"]).apply(f_delta)"
   ],
   "outputs": [],
   "execution_count": 64
  },
  {
   "cell_type": "code",
   "metadata": {
    "ExecuteTime": {
     "end_time": "2024-10-25T03:11:38.277854Z",
     "start_time": "2024-10-25T03:11:38.268548Z"
    }
   },
   "source": "# result.reset_index()",
   "outputs": [],
   "execution_count": 65
  },
  {
   "cell_type": "code",
   "metadata": {
    "ExecuteTime": {
     "end_time": "2024-10-25T03:11:38.362784Z",
     "start_time": "2024-10-25T03:11:38.353518Z"
    }
   },
   "source": [
    " #data['ym'] = data.date.astype(str).str[0:7]\n",
    "# data[\"delta\"] = data.merge(result.reset_index(),on=[\"maturity_group\",\"delta_group\",\"exercise_style\",\"cp_flag\",\"ym\"])[0]"
   ],
   "outputs": [],
   "execution_count": 66
  },
  {
   "cell_type": "markdown",
   "metadata": {},
   "source": [
    "计算historical vega（也许不需要）"
   ]
  },
  {
   "cell_type": "code",
   "metadata": {
    "ExecuteTime": {
     "end_time": "2024-10-25T03:11:38.404889Z",
     "start_time": "2024-10-25T03:11:38.392981Z"
    }
   },
   "source": [
    "# def f_vega(df):\n",
    "#     window = 36#M\n",
    "#     pivot_df = pd.pivot(df,values=\"vega\",index=\"date\",columns=\"symbol\")\n",
    "#     reset_pivot_df = pivot_df.reset_index()\n",
    "#     reset_pivot_df['ym'] = reset_pivot_df.date.astype(str).str[0:7]\n",
    "#     return reset_pivot_df.groupby(\"ym\").apply(lambda x:pivot_df[((x.date.iloc[0] - pd.DateOffset(months=window)).replace(day=1)):((x.date.iloc[0]).replace(day=1)- pd.DateOffset(days=1))].mean().mean())\n",
    "#     \n",
    "# result2 = data.groupby([\"maturity_group\",\"delta_group\",\"exercise_style\",\"cp_flag\"]).apply(f_vega)"
   ],
   "outputs": [],
   "execution_count": 67
  },
  {
   "cell_type": "code",
   "metadata": {
    "ExecuteTime": {
     "end_time": "2024-10-25T03:11:38.470061Z",
     "start_time": "2024-10-25T03:11:38.462288Z"
    }
   },
   "source": "# data[\"historical_vega\"] = data.merge(result.reset_index(),on=[\"maturity_group\",\"delta_group\",\"exercise_style\",\"cp_flag\",\"ym\"])[0]",
   "outputs": [],
   "execution_count": 68
  },
  {
   "cell_type": "markdown",
   "metadata": {},
   "source": [
    "# 计算abc"
   ]
  },
  {
   "cell_type": "markdown",
   "metadata": {},
   "source": [
    "linear_regression\n",
    "不设截距项"
   ]
  },
  {
   "cell_type": "code",
   "metadata": {
    "ExecuteTime": {
     "end_time": "2024-10-25T03:11:38.623181Z",
     "start_time": "2024-10-25T03:11:38.522862Z"
    }
   },
   "source": [
    "(data[\"vega\"]/ ((data[\"maturity\"])**0.5*data[\"S_t\"]/data[\"S_t_minus_1\"]))*(data[\"S_t\"]/data[\"S_t_minus_1\"]-1)"
   ],
   "outputs": [
    {
     "data": {
      "text/plain": [
       "327        1.131908\n",
       "328        3.405424\n",
       "329        2.518509\n",
       "330        1.526468\n",
       "331        1.968666\n",
       "             ...   \n",
       "2974931   -4.870188\n",
       "2974932   -4.023551\n",
       "2974933   -3.129895\n",
       "2974934   -2.360082\n",
       "2974935   -1.554957\n",
       "Length: 2852937, dtype: float64"
      ]
     },
     "execution_count": 69,
     "metadata": {},
     "output_type": "execute_result"
    }
   ],
   "execution_count": 69
  },
  {
   "cell_type": "code",
   "metadata": {
    "ExecuteTime": {
     "end_time": "2024-10-25T03:11:38.736496Z",
     "start_time": "2024-10-25T03:11:38.720522Z"
    }
   },
   "source": [],
   "outputs": [],
   "execution_count": null
  },
  {
   "cell_type": "code",
   "metadata": {
    "ExecuteTime": {
     "end_time": "2024-10-25T03:13:52.027785Z",
     "start_time": "2024-10-25T03:11:38.981655Z"
    }
   },
   "source": [
    "from sklearn.linear_model import LinearRegression\n",
    "def f_regression(x,df,window):\n",
    "    #window = 1#单位：月\n",
    "    #计算上36个月开始日期和结束日期\n",
    "    start_date = (x.date.iloc[0] - pd.DateOffset(months=window)).replace(day=1)#36个月前第一天\n",
    "    end_date = (x.date.iloc[0]).replace(day=1)- pd.DateOffset(days=1)#上个月最后一天\n",
    "\n",
    "    loc_df = df[(df.date>=start_date) & (df.date<=end_date) & (df.cp == x.cp.iloc[0])]\n",
    "    #创建特征123+target\n",
    "    X = loc_df[\"coeffi\"].to_frame()\n",
    "    X[\"coeffi2\"] = X[\"coeffi\"]*(loc_df[\"delta\"])\n",
    "    X[\"coeffi3\"] = X[\"coeffi2\"]*(loc_df[\"delta\"])\n",
    "    X[\"target\"] = loc_df[\"f_t\"] / loc_df[\"f_t_minus_1\"] -1 - loc_df[\"delta\"]*(loc_df[\"S_t\"]/loc_df[\"S_t_minus_1\"]-1)\n",
    "    df[\"coeffi2\"] = df[\"coeffi\"]*(df[\"delta\"])\n",
    "    df[\"coeffi3\"] = df[\"coeffi2\"]*(df[\"delta\"])\n",
    "    df[\"target\"] = df[\"f_t\"] / df[\"f_t_minus_1\"] -1 - df[\"delta\"]*(df[\"S_t\"]/df[\"S_t_minus_1\"]-1)\n",
    "    #normalized?不然截距项可能不太是0？\n",
    "    #X[\"target\"] = loc_df[\"f_t\"] - loc_df[\"f_t_minus_1\"] - loc_df[\"delta\"]*(loc_df[\"S_t\"]-loc_df[\"S_t_minus_1\"])\n",
    "    X.dropna(inplace=True)\n",
    "    y = X['target']\n",
    "    X.drop('target',inplace=True,axis=1)\n",
    "    if len(X)>0:#判断是否有数据可以计算\n",
    "        model = LinearRegression(fit_intercept=False)#去掉截距项？\n",
    "        model.fit(X, y)\n",
    "        df.loc[x.index,[\"a\",\"b\",\"c\"]] = model.coef_     \n",
    "        return model.coef_\n",
    "    else:\n",
    "        return np.nan\n",
    "    \n",
    "def f_abc(df):\n",
    "    window = 36#单位：月\n",
    "    df[\"coeffi\"] = (df[\"vega\"]/ ((df[\"maturity\"])**0.5*df[\"S_t\"]/df[\"S_t_minus_1\"]))*(df[\"S_t\"]/df[\"S_t_minus_1\"]-1)#normalized S_t_minus_1 = 1?\n",
    "    #df[\"coeffi\"] = (df[\"vega\"]/ ((df[\"maturity\"])**0.5*df[\"S_t\"]))*(df[\"S_t\"]-df[\"S_t_minus_1\"])\n",
    "    #df['ym'] = df.date.astype(str).str[0:7]\n",
    "    df[[\"a\",\"b\",\"c\"]] = np.nan\n",
    "    df[\"cp\"] = df[\"cp_flag\"]\n",
    "    return df.groupby([\"ym\",\"cp_flag\"]).apply(f_regression,df,window)#reset_pivot_df.groupby(\"ym\").apply(lambda x:pivot_df[((x.date.iloc[0] - pd.DateOffset(months=window)).replace(day=1)):((x.date.iloc[0]).replace(day=1)- pd.DateOffset(days=1))].mean().mean())\n",
    "f_abc(data)"
   ],
   "outputs": [
    {
     "name": "stderr",
     "output_type": "stream",
     "text": [
      "C:\\Users\\yigaa\\AppData\\Local\\Temp\\ipykernel_7364\\1258757262.py:37: DeprecationWarning: DataFrameGroupBy.apply operated on the grouping columns. This behavior is deprecated, and in a future version of pandas the grouping columns will be excluded from the operation. Either pass `include_groups=False` to exclude the groupings or explicitly select the grouping columns after groupby to silence this warning.\n",
      "  return df.groupby([\"ym\",\"cp_flag\"]).apply(f_regression,df,window)#reset_pivot_df.groupby(\"ym\").apply(lambda x:pivot_df[((x.date.iloc[0] - pd.DateOffset(months=window)).replace(day=1)):((x.date.iloc[0]).replace(day=1)- pd.DateOffset(days=1))].mean().mean())\n"
     ]
    },
    {
     "data": {
      "text/plain": [
       "ym       cp_flag\n",
       "2004-01  C                                                        NaN\n",
       "         P                                                        NaN\n",
       "2004-02  C          [0.08247147889664996, -0.18251442504536994, 0....\n",
       "         P          [-0.0968954272371367, -0.24841567622074737, -0...\n",
       "2004-03  C          [0.08236337952527414, -0.1816502345663808, 0.1...\n",
       "                                          ...                        \n",
       "2015-06  P          [-0.0881818844017201, -0.2374935572283707, -0....\n",
       "2015-07  C          [0.08756522653621514, -0.20807940455516355, 0....\n",
       "         P          [-0.08915480737511217, -0.23942288354758445, -...\n",
       "2015-08  C          [0.085756715882616, -0.20342958761436958, 0.14...\n",
       "         P          [-0.08991154745206299, -0.24191024051882176, -...\n",
       "Length: 280, dtype: object"
      ]
     },
     "execution_count": 70,
     "metadata": {},
     "output_type": "execute_result"
    }
   ],
   "execution_count": 70
  },
  {
   "metadata": {
    "ExecuteTime": {
     "end_time": "2024-10-25T03:13:53.122517Z",
     "start_time": "2024-10-25T03:13:52.823155Z"
    }
   },
   "cell_type": "code",
   "source": "data.query(\"cp_flag=='P'&symbol=='SXB.RJ'\").sort_values(\"date\")",
   "outputs": [
    {
     "data": {
      "text/plain": [
       "             date  symbol     exdate cp_flag exercise_style      S_t  \\\n",
       "510    2004-01-05  SXB.RJ 2004-06-19       P              E  1122.22   \n",
       "777    2004-01-06  SXB.RJ 2004-06-19       P              E  1123.67   \n",
       "1040   2004-01-07  SXB.RJ 2004-06-19       P              E  1126.33   \n",
       "1303   2004-01-08  SXB.RJ 2004-06-19       P              E  1131.92   \n",
       "1571   2004-01-09  SXB.RJ 2004-06-19       P              E  1121.86   \n",
       "...           ...     ...        ...     ...            ...      ...   \n",
       "835930 2010-02-05  SXB.RJ 2010-06-19       P              E  1066.19   \n",
       "836764 2010-02-08  SXB.RJ 2010-06-19       P              E  1056.74   \n",
       "837575 2010-02-09  SXB.RJ 2010-06-19       P              E  1070.52   \n",
       "838399 2010-02-10  SXB.RJ 2010-06-19       P              E  1068.13   \n",
       "839212 2010-02-11  SXB.RJ 2010-06-19       P              E  1078.47   \n",
       "\n",
       "        S_t_minus_1  f_t_minus_1    f_t     delta  ...  month       ym  \\\n",
       "510         1108.48        11.30   9.60 -0.113632  ...      1  2004-01   \n",
       "777         1122.22         9.60   8.10 -0.102666  ...      1  2004-01   \n",
       "1040        1123.67         8.10   7.30 -0.095394  ...      1  2004-01   \n",
       "1303        1126.33         7.30   6.30 -0.086026  ...      1  2004-01   \n",
       "1571        1131.92         6.30   7.80 -0.101193  ...      1  2004-01   \n",
       "...             ...          ...    ...       ...  ...    ...      ...   \n",
       "835930      1063.11        26.70  26.55 -0.232949  ...      2  2010-02   \n",
       "836764      1066.19        26.55  28.50 -0.246854  ...      2  2010-02   \n",
       "837575      1056.74        28.50  24.95 -0.223499  ...      2  2010-02   \n",
       "838399      1070.52        24.95  24.95 -0.224562  ...      2  2010-02   \n",
       "839212      1068.13        24.95  21.70 -0.203795  ...      2  2010-02   \n",
       "\n",
       "          coeffi         a         b         c  cp   coeffi2   coeffi3  \\\n",
       "510     2.630043       NaN       NaN       NaN   P -0.298857  0.033960   \n",
       "777     0.258049       NaN       NaN       NaN   P -0.026493  0.002720   \n",
       "1040    0.448761       NaN       NaN       NaN   P -0.042809  0.004084   \n",
       "1303    0.873135       NaN       NaN       NaN   P -0.075112  0.006462   \n",
       "1571   -1.771719       NaN       NaN       NaN   P  0.179286 -0.018142   \n",
       "...          ...       ...       ...       ...  ..       ...       ...   \n",
       "835930  0.934398 -0.070429 -0.183261 -0.148537   P -0.217667  0.050705   \n",
       "836764 -2.960782 -0.070429 -0.183261 -0.148537   P  0.730881 -0.180421   \n",
       "837575  4.084816 -0.070429 -0.183261 -0.148537   P -0.912952  0.204044   \n",
       "838399 -0.710829 -0.070429 -0.183261 -0.148537   P  0.159625 -0.035846   \n",
       "839212  2.907015 -0.070429 -0.183261 -0.148537   P -0.592435  0.120735   \n",
       "\n",
       "          target  \n",
       "510    -0.149034  \n",
       "777    -0.156117  \n",
       "1040   -0.098540  \n",
       "1303   -0.136559  \n",
       "1571    0.237196  \n",
       "...          ...  \n",
       "835930 -0.004943  \n",
       "836764  0.071258  \n",
       "837575 -0.121647  \n",
       "838399 -0.000501  \n",
       "839212 -0.128288  \n",
       "\n",
       "[664 rows x 27 columns]"
      ],
      "text/html": [
       "<div>\n",
       "<style scoped>\n",
       "    .dataframe tbody tr th:only-of-type {\n",
       "        vertical-align: middle;\n",
       "    }\n",
       "\n",
       "    .dataframe tbody tr th {\n",
       "        vertical-align: top;\n",
       "    }\n",
       "\n",
       "    .dataframe thead th {\n",
       "        text-align: right;\n",
       "    }\n",
       "</style>\n",
       "<table border=\"1\" class=\"dataframe\">\n",
       "  <thead>\n",
       "    <tr style=\"text-align: right;\">\n",
       "      <th></th>\n",
       "      <th>date</th>\n",
       "      <th>symbol</th>\n",
       "      <th>exdate</th>\n",
       "      <th>cp_flag</th>\n",
       "      <th>exercise_style</th>\n",
       "      <th>S_t</th>\n",
       "      <th>S_t_minus_1</th>\n",
       "      <th>f_t_minus_1</th>\n",
       "      <th>f_t</th>\n",
       "      <th>delta</th>\n",
       "      <th>...</th>\n",
       "      <th>month</th>\n",
       "      <th>ym</th>\n",
       "      <th>coeffi</th>\n",
       "      <th>a</th>\n",
       "      <th>b</th>\n",
       "      <th>c</th>\n",
       "      <th>cp</th>\n",
       "      <th>coeffi2</th>\n",
       "      <th>coeffi3</th>\n",
       "      <th>target</th>\n",
       "    </tr>\n",
       "  </thead>\n",
       "  <tbody>\n",
       "    <tr>\n",
       "      <th>510</th>\n",
       "      <td>2004-01-05</td>\n",
       "      <td>SXB.RJ</td>\n",
       "      <td>2004-06-19</td>\n",
       "      <td>P</td>\n",
       "      <td>E</td>\n",
       "      <td>1122.22</td>\n",
       "      <td>1108.48</td>\n",
       "      <td>11.30</td>\n",
       "      <td>9.60</td>\n",
       "      <td>-0.113632</td>\n",
       "      <td>...</td>\n",
       "      <td>1</td>\n",
       "      <td>2004-01</td>\n",
       "      <td>2.630043</td>\n",
       "      <td>NaN</td>\n",
       "      <td>NaN</td>\n",
       "      <td>NaN</td>\n",
       "      <td>P</td>\n",
       "      <td>-0.298857</td>\n",
       "      <td>0.033960</td>\n",
       "      <td>-0.149034</td>\n",
       "    </tr>\n",
       "    <tr>\n",
       "      <th>777</th>\n",
       "      <td>2004-01-06</td>\n",
       "      <td>SXB.RJ</td>\n",
       "      <td>2004-06-19</td>\n",
       "      <td>P</td>\n",
       "      <td>E</td>\n",
       "      <td>1123.67</td>\n",
       "      <td>1122.22</td>\n",
       "      <td>9.60</td>\n",
       "      <td>8.10</td>\n",
       "      <td>-0.102666</td>\n",
       "      <td>...</td>\n",
       "      <td>1</td>\n",
       "      <td>2004-01</td>\n",
       "      <td>0.258049</td>\n",
       "      <td>NaN</td>\n",
       "      <td>NaN</td>\n",
       "      <td>NaN</td>\n",
       "      <td>P</td>\n",
       "      <td>-0.026493</td>\n",
       "      <td>0.002720</td>\n",
       "      <td>-0.156117</td>\n",
       "    </tr>\n",
       "    <tr>\n",
       "      <th>1040</th>\n",
       "      <td>2004-01-07</td>\n",
       "      <td>SXB.RJ</td>\n",
       "      <td>2004-06-19</td>\n",
       "      <td>P</td>\n",
       "      <td>E</td>\n",
       "      <td>1126.33</td>\n",
       "      <td>1123.67</td>\n",
       "      <td>8.10</td>\n",
       "      <td>7.30</td>\n",
       "      <td>-0.095394</td>\n",
       "      <td>...</td>\n",
       "      <td>1</td>\n",
       "      <td>2004-01</td>\n",
       "      <td>0.448761</td>\n",
       "      <td>NaN</td>\n",
       "      <td>NaN</td>\n",
       "      <td>NaN</td>\n",
       "      <td>P</td>\n",
       "      <td>-0.042809</td>\n",
       "      <td>0.004084</td>\n",
       "      <td>-0.098540</td>\n",
       "    </tr>\n",
       "    <tr>\n",
       "      <th>1303</th>\n",
       "      <td>2004-01-08</td>\n",
       "      <td>SXB.RJ</td>\n",
       "      <td>2004-06-19</td>\n",
       "      <td>P</td>\n",
       "      <td>E</td>\n",
       "      <td>1131.92</td>\n",
       "      <td>1126.33</td>\n",
       "      <td>7.30</td>\n",
       "      <td>6.30</td>\n",
       "      <td>-0.086026</td>\n",
       "      <td>...</td>\n",
       "      <td>1</td>\n",
       "      <td>2004-01</td>\n",
       "      <td>0.873135</td>\n",
       "      <td>NaN</td>\n",
       "      <td>NaN</td>\n",
       "      <td>NaN</td>\n",
       "      <td>P</td>\n",
       "      <td>-0.075112</td>\n",
       "      <td>0.006462</td>\n",
       "      <td>-0.136559</td>\n",
       "    </tr>\n",
       "    <tr>\n",
       "      <th>1571</th>\n",
       "      <td>2004-01-09</td>\n",
       "      <td>SXB.RJ</td>\n",
       "      <td>2004-06-19</td>\n",
       "      <td>P</td>\n",
       "      <td>E</td>\n",
       "      <td>1121.86</td>\n",
       "      <td>1131.92</td>\n",
       "      <td>6.30</td>\n",
       "      <td>7.80</td>\n",
       "      <td>-0.101193</td>\n",
       "      <td>...</td>\n",
       "      <td>1</td>\n",
       "      <td>2004-01</td>\n",
       "      <td>-1.771719</td>\n",
       "      <td>NaN</td>\n",
       "      <td>NaN</td>\n",
       "      <td>NaN</td>\n",
       "      <td>P</td>\n",
       "      <td>0.179286</td>\n",
       "      <td>-0.018142</td>\n",
       "      <td>0.237196</td>\n",
       "    </tr>\n",
       "    <tr>\n",
       "      <th>...</th>\n",
       "      <td>...</td>\n",
       "      <td>...</td>\n",
       "      <td>...</td>\n",
       "      <td>...</td>\n",
       "      <td>...</td>\n",
       "      <td>...</td>\n",
       "      <td>...</td>\n",
       "      <td>...</td>\n",
       "      <td>...</td>\n",
       "      <td>...</td>\n",
       "      <td>...</td>\n",
       "      <td>...</td>\n",
       "      <td>...</td>\n",
       "      <td>...</td>\n",
       "      <td>...</td>\n",
       "      <td>...</td>\n",
       "      <td>...</td>\n",
       "      <td>...</td>\n",
       "      <td>...</td>\n",
       "      <td>...</td>\n",
       "      <td>...</td>\n",
       "    </tr>\n",
       "    <tr>\n",
       "      <th>835930</th>\n",
       "      <td>2010-02-05</td>\n",
       "      <td>SXB.RJ</td>\n",
       "      <td>2010-06-19</td>\n",
       "      <td>P</td>\n",
       "      <td>E</td>\n",
       "      <td>1066.19</td>\n",
       "      <td>1063.11</td>\n",
       "      <td>26.70</td>\n",
       "      <td>26.55</td>\n",
       "      <td>-0.232949</td>\n",
       "      <td>...</td>\n",
       "      <td>2</td>\n",
       "      <td>2010-02</td>\n",
       "      <td>0.934398</td>\n",
       "      <td>-0.070429</td>\n",
       "      <td>-0.183261</td>\n",
       "      <td>-0.148537</td>\n",
       "      <td>P</td>\n",
       "      <td>-0.217667</td>\n",
       "      <td>0.050705</td>\n",
       "      <td>-0.004943</td>\n",
       "    </tr>\n",
       "    <tr>\n",
       "      <th>836764</th>\n",
       "      <td>2010-02-08</td>\n",
       "      <td>SXB.RJ</td>\n",
       "      <td>2010-06-19</td>\n",
       "      <td>P</td>\n",
       "      <td>E</td>\n",
       "      <td>1056.74</td>\n",
       "      <td>1066.19</td>\n",
       "      <td>26.55</td>\n",
       "      <td>28.50</td>\n",
       "      <td>-0.246854</td>\n",
       "      <td>...</td>\n",
       "      <td>2</td>\n",
       "      <td>2010-02</td>\n",
       "      <td>-2.960782</td>\n",
       "      <td>-0.070429</td>\n",
       "      <td>-0.183261</td>\n",
       "      <td>-0.148537</td>\n",
       "      <td>P</td>\n",
       "      <td>0.730881</td>\n",
       "      <td>-0.180421</td>\n",
       "      <td>0.071258</td>\n",
       "    </tr>\n",
       "    <tr>\n",
       "      <th>837575</th>\n",
       "      <td>2010-02-09</td>\n",
       "      <td>SXB.RJ</td>\n",
       "      <td>2010-06-19</td>\n",
       "      <td>P</td>\n",
       "      <td>E</td>\n",
       "      <td>1070.52</td>\n",
       "      <td>1056.74</td>\n",
       "      <td>28.50</td>\n",
       "      <td>24.95</td>\n",
       "      <td>-0.223499</td>\n",
       "      <td>...</td>\n",
       "      <td>2</td>\n",
       "      <td>2010-02</td>\n",
       "      <td>4.084816</td>\n",
       "      <td>-0.070429</td>\n",
       "      <td>-0.183261</td>\n",
       "      <td>-0.148537</td>\n",
       "      <td>P</td>\n",
       "      <td>-0.912952</td>\n",
       "      <td>0.204044</td>\n",
       "      <td>-0.121647</td>\n",
       "    </tr>\n",
       "    <tr>\n",
       "      <th>838399</th>\n",
       "      <td>2010-02-10</td>\n",
       "      <td>SXB.RJ</td>\n",
       "      <td>2010-06-19</td>\n",
       "      <td>P</td>\n",
       "      <td>E</td>\n",
       "      <td>1068.13</td>\n",
       "      <td>1070.52</td>\n",
       "      <td>24.95</td>\n",
       "      <td>24.95</td>\n",
       "      <td>-0.224562</td>\n",
       "      <td>...</td>\n",
       "      <td>2</td>\n",
       "      <td>2010-02</td>\n",
       "      <td>-0.710829</td>\n",
       "      <td>-0.070429</td>\n",
       "      <td>-0.183261</td>\n",
       "      <td>-0.148537</td>\n",
       "      <td>P</td>\n",
       "      <td>0.159625</td>\n",
       "      <td>-0.035846</td>\n",
       "      <td>-0.000501</td>\n",
       "    </tr>\n",
       "    <tr>\n",
       "      <th>839212</th>\n",
       "      <td>2010-02-11</td>\n",
       "      <td>SXB.RJ</td>\n",
       "      <td>2010-06-19</td>\n",
       "      <td>P</td>\n",
       "      <td>E</td>\n",
       "      <td>1078.47</td>\n",
       "      <td>1068.13</td>\n",
       "      <td>24.95</td>\n",
       "      <td>21.70</td>\n",
       "      <td>-0.203795</td>\n",
       "      <td>...</td>\n",
       "      <td>2</td>\n",
       "      <td>2010-02</td>\n",
       "      <td>2.907015</td>\n",
       "      <td>-0.070429</td>\n",
       "      <td>-0.183261</td>\n",
       "      <td>-0.148537</td>\n",
       "      <td>P</td>\n",
       "      <td>-0.592435</td>\n",
       "      <td>0.120735</td>\n",
       "      <td>-0.128288</td>\n",
       "    </tr>\n",
       "  </tbody>\n",
       "</table>\n",
       "<p>664 rows × 27 columns</p>\n",
       "</div>"
      ]
     },
     "execution_count": 71,
     "metadata": {},
     "output_type": "execute_result"
    }
   ],
   "execution_count": 71
  },
  {
   "cell_type": "code",
   "metadata": {
    "ExecuteTime": {
     "end_time": "2024-10-25T03:13:55.261753Z",
     "start_time": "2024-10-25T03:13:53.402195Z"
    }
   },
   "source": [
    "data.query(\"cp_flag=='C'\")[[\"date\",\"a\",\"b\",\"c\"]].drop_duplicates(\"date\").set_index(\"date\").plot()"
   ],
   "outputs": [
    {
     "data": {
      "text/plain": [
       "<Axes: xlabel='date'>"
      ]
     },
     "execution_count": 72,
     "metadata": {},
     "output_type": "execute_result"
    },
    {
     "data": {
      "text/plain": [
       "<Figure size 640x480 with 1 Axes>"
      ],
      "image/png": "[encoded data removed]"
     },
     "metadata": {},
     "output_type": "display_data"
    }
   ],
   "execution_count": 72
  },
  {
   "cell_type": "code",
   "metadata": {
    "ExecuteTime": {
     "end_time": "2024-10-25T03:13:56.921159Z",
     "start_time": "2024-10-25T03:13:55.367153Z"
    }
   },
   "source": [
    "data.query(\"cp_flag=='P' & '2004-12-06'<date<'2015-12-14'\")[[\"date\",\"a\",\"b\",\"c\"]].drop_duplicates(\"date\").set_index(\"date\").plot()"
   ],
   "outputs": [
    {
     "data": {
      "text/plain": [
       "<Axes: xlabel='date'>"
      ]
     },
     "execution_count": 73,
     "metadata": {},
     "output_type": "execute_result"
    },
    {
     "data": {
      "text/plain": [
       "<Figure size 640x480 with 1 Axes>"
      ],
      "image/png": "[encoded data removed]"
     },
     "metadata": {},
     "output_type": "display_data"
    }
   ],
   "execution_count": 73
  },
  {
   "cell_type": "markdown",
   "metadata": {},
   "source": [
    "$$\\delta_{MV} = \\delta_{BS} + \\frac{\\nu_{BS}}{S\\sqrt{T}}(a+b\\delta_{BS}+c\\delta_{BS}^2)$$"
   ]
  },
  {
   "cell_type": "markdown",
   "metadata": {},
   "source": [
    "# 对冲"
   ]
  },
  {
   "cell_type": "code",
   "metadata": {
    "ExecuteTime": {
     "end_time": "2024-10-25T03:13:57.243899Z",
     "start_time": "2024-10-25T03:13:57.012705Z"
    }
   },
   "source": [
    "def f_MV_delta(data):\n",
    "    return data[\"delta\"] + (data[\"vega\"]/ ((data[\"maturity\"])**0.5*data[\"S_t\"]/data[\"S_t_minus_1\"]))*(data[\"a\"]+data[\"b\"]*data[\"delta\"]+data[\"c\"]*data[\"delta\"]*data[\"delta\"])\n",
    "data[\"MV_delta\"] = f_MV_delta(data)"
   ],
   "outputs": [],
   "execution_count": 74
  },
  {
   "cell_type": "code",
   "metadata": {
    "ExecuteTime": {
     "end_time": "2024-10-25T03:13:57.350666Z",
     "start_time": "2024-10-25T03:13:57.302413Z"
    }
   },
   "source": [
    "(data[\"MV_delta\"]-data[\"delta\"]).max()"
   ],
   "outputs": [
    {
     "data": {
      "text/plain": [
       "31.687391208844833"
      ]
     },
     "execution_count": 75,
     "metadata": {},
     "output_type": "execute_result"
    }
   ],
   "execution_count": 75
  },
  {
   "cell_type": "markdown",
   "metadata": {},
   "source": [
    "# 误差"
   ]
  },
  {
   "cell_type": "markdown",
   "metadata": {},
   "source": [
    "$$ \n",
    "\\epsilon_{MV} = \\Delta f - \\delta_{MV}\\Delta S\n",
    "$$"
   ]
  },
  {
   "cell_type": "markdown",
   "metadata": {},
   "source": [
    "$$\\epsilon_{BS} = \\Delta f - \\delta_{BS}\\Delta S$$ "
   ]
  },
  {
   "cell_type": "code",
   "metadata": {
    "ExecuteTime": {
     "end_time": "2024-10-25T03:13:57.536646Z",
     "start_time": "2024-10-25T03:13:57.472749Z"
    }
   },
   "source": [
    "(data[\"MV_delta\"]-data[\"delta\"]).sum()"
   ],
   "outputs": [
    {
     "data": {
      "text/plain": [
       "-6628493.551601449"
      ]
     },
     "execution_count": 76,
     "metadata": {},
     "output_type": "execute_result"
    }
   ],
   "execution_count": 76
  },
  {
   "cell_type": "code",
   "metadata": {
    "ExecuteTime": {
     "end_time": "2024-10-25T03:14:18.683519Z",
     "start_time": "2024-10-25T03:13:57.658129Z"
    }
   },
   "source": [
    "SSE_MV = data.groupby([\"maturity_group\",\"delta_group\",\"exercise_style\",\"cp_flag\",\"ym\"]).apply(lambda x:((x[\"f_t\"]-x[\"f_t_minus_1\"] - x[\"MV_delta\"]*(x[\"S_t\"]-x[\"S_t_minus_1\"]))**2).sum()).reset_index()"
   ],
   "outputs": [
    {
     "name": "stderr",
     "output_type": "stream",
     "text": [
      "C:\\Users\\yigaa\\AppData\\Local\\Temp\\ipykernel_7364\\1312441515.py:1: DeprecationWarning: DataFrameGroupBy.apply operated on the grouping columns. This behavior is deprecated, and in a future version of pandas the grouping columns will be excluded from the operation. Either pass `include_groups=False` to exclude the groupings or explicitly select the grouping columns after groupby to silence this warning.\n",
      "  SSE_MV = data.groupby([\"maturity_group\",\"delta_group\",\"exercise_style\",\"cp_flag\",\"ym\"]).apply(lambda x:((x[\"f_t\"]-x[\"f_t_minus_1\"] - x[\"MV_delta\"]*(x[\"S_t\"]-x[\"S_t_minus_1\"]))**2).sum()).reset_index()\n"
     ]
    }
   ],
   "execution_count": 77
  },
  {
   "cell_type": "code",
   "metadata": {
    "ExecuteTime": {
     "end_time": "2024-10-25T03:14:31.191735Z",
     "start_time": "2024-10-25T03:14:18.723699Z"
    }
   },
   "source": [
    "SSE_BS = data.groupby([\"maturity_group\",\"delta_group\",\"exercise_style\",\"cp_flag\",\"ym\"]).apply(lambda x:((x[\"f_t\"]-x[\"f_t_minus_1\"] - x[\"delta\"]*(x[\"S_t\"]-x[\"S_t_minus_1\"]))**2).sum()).reset_index()"
   ],
   "outputs": [
    {
     "name": "stderr",
     "output_type": "stream",
     "text": [
      "C:\\Users\\yigaa\\AppData\\Local\\Temp\\ipykernel_7364\\4125830344.py:1: DeprecationWarning: DataFrameGroupBy.apply operated on the grouping columns. This behavior is deprecated, and in a future version of pandas the grouping columns will be excluded from the operation. Either pass `include_groups=False` to exclude the groupings or explicitly select the grouping columns after groupby to silence this warning.\n",
      "  SSE_BS = data.groupby([\"maturity_group\",\"delta_group\",\"exercise_style\",\"cp_flag\",\"ym\"]).apply(lambda x:((x[\"f_t\"]-x[\"f_t_minus_1\"] - x[\"delta\"]*(x[\"S_t\"]-x[\"S_t_minus_1\"]))**2).sum()).reset_index()\n"
     ]
    }
   ],
   "execution_count": 78
  },
  {
   "cell_type": "markdown",
   "metadata": {},
   "source": [
    "$$GAIN = \\frac{\\epsilon_{BS}-\\epsilon_{MV}}{\\epsilon_{BS}} =  1-\\frac{\\epsilon_{MV}}{\\epsilon_{BS}}$$"
   ]
  },
  {
   "cell_type": "code",
   "metadata": {
    "ExecuteTime": {
     "end_time": "2024-10-25T03:14:31.253003Z",
     "start_time": "2024-10-25T03:14:31.230732Z"
    }
   },
   "source": [
    "SSE = SSE_MV.merge(SSE_BS,on=['maturity_group', 'delta_group', 'exercise_style', 'cp_flag', 'ym'])\n",
    "SSE.columns = ['maturity_group', 'delta_group', 'exercise_style', 'cp_flag', 'ym']+[\"SSE_MV\",\"SSE_BS\"]"
   ],
   "outputs": [],
   "execution_count": 79
  },
  {
   "cell_type": "code",
   "metadata": {
    "ExecuteTime": {
     "end_time": "2024-10-25T03:14:31.297792Z",
     "start_time": "2024-10-25T03:14:31.283054Z"
    }
   },
   "source": [
    "SSE[\"GAIN\"] = 1 - SSE[\"SSE_MV\"]/SSE[\"SSE_BS\"]"
   ],
   "outputs": [],
   "execution_count": 80
  },
  {
   "cell_type": "code",
   "metadata": {
    "ExecuteTime": {
     "end_time": "2024-10-25T03:14:31.370516Z",
     "start_time": "2024-10-25T03:14:31.358948Z"
    }
   },
   "source": [
    "SSE[\"SSE_MV\"]"
   ],
   "outputs": [
    {
     "data": {
      "text/plain": [
       "0        0.000000e+00\n",
       "1        2.722293e+05\n",
       "2        3.009401e+05\n",
       "3        2.306800e+05\n",
       "4        2.486744e+05\n",
       "             ...     \n",
       "17397    4.906940e+06\n",
       "17398    7.971357e+06\n",
       "17399    8.917954e+06\n",
       "17400    9.113319e+06\n",
       "17401    4.673306e+07\n",
       "Name: SSE_MV, Length: 17402, dtype: float64"
      ]
     },
     "execution_count": 81,
     "metadata": {},
     "output_type": "execute_result"
    }
   ],
   "execution_count": 81
  },
  {
   "cell_type": "code",
   "metadata": {
    "ExecuteTime": {
     "end_time": "2024-10-25T03:14:31.453080Z",
     "start_time": "2024-10-25T03:14:31.441627Z"
    }
   },
   "source": [
    "SSE[\"SSE_BS\"]"
   ],
   "outputs": [
    {
     "data": {
      "text/plain": [
       "0          112.897673\n",
       "1           70.749419\n",
       "2          148.408334\n",
       "3           71.082628\n",
       "4          298.786672\n",
       "             ...     \n",
       "17397     5908.043659\n",
       "17398     3167.481810\n",
       "17399     3761.060447\n",
       "17400     3308.638147\n",
       "17401    14666.224864\n",
       "Name: SSE_BS, Length: 17402, dtype: float64"
      ]
     },
     "execution_count": 82,
     "metadata": {},
     "output_type": "execute_result"
    }
   ],
   "execution_count": 82
  },
  {
   "cell_type": "code",
   "metadata": {
    "ExecuteTime": {
     "end_time": "2024-10-25T03:14:31.617787Z",
     "start_time": "2024-10-25T03:14:31.601681Z"
    }
   },
   "source": [
    "SSE"
   ],
   "outputs": [
    {
     "data": {
      "text/plain": [
       "       maturity_group  delta_group exercise_style cp_flag       ym  \\\n",
       "0                   0         -0.9              E       P  2004-01   \n",
       "1                   0         -0.9              E       P  2004-02   \n",
       "2                   0         -0.9              E       P  2004-03   \n",
       "3                   0         -0.9              E       P  2004-04   \n",
       "4                   0         -0.9              E       P  2004-05   \n",
       "...               ...          ...            ...     ...      ...   \n",
       "17397               6          0.9              E       C  2015-04   \n",
       "17398               6          0.9              E       C  2015-05   \n",
       "17399               6          0.9              E       C  2015-06   \n",
       "17400               6          0.9              E       C  2015-07   \n",
       "17401               6          0.9              E       C  2015-08   \n",
       "\n",
       "             SSE_MV        SSE_BS         GAIN  \n",
       "0      0.000000e+00    112.897673     1.000000  \n",
       "1      2.722293e+05     70.749419 -3846.795362  \n",
       "2      3.009401e+05    148.408334 -2026.784573  \n",
       "3      2.306800e+05     71.082628 -3244.236790  \n",
       "4      2.486744e+05    298.786672  -831.280616  \n",
       "...             ...           ...          ...  \n",
       "17397  4.906940e+06   5908.043659  -829.552490  \n",
       "17398  7.971357e+06   3167.481810 -2515.622899  \n",
       "17399  8.917954e+06   3761.060447 -2370.127592  \n",
       "17400  9.113319e+06   3308.638147 -2753.401818  \n",
       "17401  4.673306e+07  14666.224864 -3185.440884  \n",
       "\n",
       "[17402 rows x 8 columns]"
      ],
      "text/html": [
       "<div>\n",
       "<style scoped>\n",
       "    .dataframe tbody tr th:only-of-type {\n",
       "        vertical-align: middle;\n",
       "    }\n",
       "\n",
       "    .dataframe tbody tr th {\n",
       "        vertical-align: top;\n",
       "    }\n",
       "\n",
       "    .dataframe thead th {\n",
       "        text-align: right;\n",
       "    }\n",
       "</style>\n",
       "<table border=\"1\" class=\"dataframe\">\n",
       "  <thead>\n",
       "    <tr style=\"text-align: right;\">\n",
       "      <th></th>\n",
       "      <th>maturity_group</th>\n",
       "      <th>delta_group</th>\n",
       "      <th>exercise_style</th>\n",
       "      <th>cp_flag</th>\n",
       "      <th>ym</th>\n",
       "      <th>SSE_MV</th>\n",
       "      <th>SSE_BS</th>\n",
       "      <th>GAIN</th>\n",
       "    </tr>\n",
       "  </thead>\n",
       "  <tbody>\n",
       "    <tr>\n",
       "      <th>0</th>\n",
       "      <td>0</td>\n",
       "      <td>-0.9</td>\n",
       "      <td>E</td>\n",
       "      <td>P</td>\n",
       "      <td>2004-01</td>\n",
       "      <td>0.000000e+00</td>\n",
       "      <td>112.897673</td>\n",
       "      <td>1.000000</td>\n",
       "    </tr>\n",
       "    <tr>\n",
       "      <th>1</th>\n",
       "      <td>0</td>\n",
       "      <td>-0.9</td>\n",
       "      <td>E</td>\n",
       "      <td>P</td>\n",
       "      <td>2004-02</td>\n",
       "      <td>2.722293e+05</td>\n",
       "      <td>70.749419</td>\n",
       "      <td>-3846.795362</td>\n",
       "    </tr>\n",
       "    <tr>\n",
       "      <th>2</th>\n",
       "      <td>0</td>\n",
       "      <td>-0.9</td>\n",
       "      <td>E</td>\n",
       "      <td>P</td>\n",
       "      <td>2004-03</td>\n",
       "      <td>3.009401e+05</td>\n",
       "      <td>148.408334</td>\n",
       "      <td>-2026.784573</td>\n",
       "    </tr>\n",
       "    <tr>\n",
       "      <th>3</th>\n",
       "      <td>0</td>\n",
       "      <td>-0.9</td>\n",
       "      <td>E</td>\n",
       "      <td>P</td>\n",
       "      <td>2004-04</td>\n",
       "      <td>2.306800e+05</td>\n",
       "      <td>71.082628</td>\n",
       "      <td>-3244.236790</td>\n",
       "    </tr>\n",
       "    <tr>\n",
       "      <th>4</th>\n",
       "      <td>0</td>\n",
       "      <td>-0.9</td>\n",
       "      <td>E</td>\n",
       "      <td>P</td>\n",
       "      <td>2004-05</td>\n",
       "      <td>2.486744e+05</td>\n",
       "      <td>298.786672</td>\n",
       "      <td>-831.280616</td>\n",
       "    </tr>\n",
       "    <tr>\n",
       "      <th>...</th>\n",
       "      <td>...</td>\n",
       "      <td>...</td>\n",
       "      <td>...</td>\n",
       "      <td>...</td>\n",
       "      <td>...</td>\n",
       "      <td>...</td>\n",
       "      <td>...</td>\n",
       "      <td>...</td>\n",
       "    </tr>\n",
       "    <tr>\n",
       "      <th>17397</th>\n",
       "      <td>6</td>\n",
       "      <td>0.9</td>\n",
       "      <td>E</td>\n",
       "      <td>C</td>\n",
       "      <td>2015-04</td>\n",
       "      <td>4.906940e+06</td>\n",
       "      <td>5908.043659</td>\n",
       "      <td>-829.552490</td>\n",
       "    </tr>\n",
       "    <tr>\n",
       "      <th>17398</th>\n",
       "      <td>6</td>\n",
       "      <td>0.9</td>\n",
       "      <td>E</td>\n",
       "      <td>C</td>\n",
       "      <td>2015-05</td>\n",
       "      <td>7.971357e+06</td>\n",
       "      <td>3167.481810</td>\n",
       "      <td>-2515.622899</td>\n",
       "    </tr>\n",
       "    <tr>\n",
       "      <th>17399</th>\n",
       "      <td>6</td>\n",
       "      <td>0.9</td>\n",
       "      <td>E</td>\n",
       "      <td>C</td>\n",
       "      <td>2015-06</td>\n",
       "      <td>8.917954e+06</td>\n",
       "      <td>3761.060447</td>\n",
       "      <td>-2370.127592</td>\n",
       "    </tr>\n",
       "    <tr>\n",
       "      <th>17400</th>\n",
       "      <td>6</td>\n",
       "      <td>0.9</td>\n",
       "      <td>E</td>\n",
       "      <td>C</td>\n",
       "      <td>2015-07</td>\n",
       "      <td>9.113319e+06</td>\n",
       "      <td>3308.638147</td>\n",
       "      <td>-2753.401818</td>\n",
       "    </tr>\n",
       "    <tr>\n",
       "      <th>17401</th>\n",
       "      <td>6</td>\n",
       "      <td>0.9</td>\n",
       "      <td>E</td>\n",
       "      <td>C</td>\n",
       "      <td>2015-08</td>\n",
       "      <td>4.673306e+07</td>\n",
       "      <td>14666.224864</td>\n",
       "      <td>-3185.440884</td>\n",
       "    </tr>\n",
       "  </tbody>\n",
       "</table>\n",
       "<p>17402 rows × 8 columns</p>\n",
       "</div>"
      ]
     },
     "execution_count": 83,
     "metadata": {},
     "output_type": "execute_result"
    }
   ],
   "execution_count": 83
  },
  {
   "cell_type": "code",
   "metadata": {
    "ExecuteTime": {
     "end_time": "2024-10-25T03:14:31.881798Z",
     "start_time": "2024-10-25T03:14:31.860201Z"
    }
   },
   "source": [
    "SSE[SSE.ym.str[0:4].astype(int)>=2007].groupby([\"cp_flag\",\"delta_group\"])[\"GAIN\"].mean()"
   ],
   "outputs": [
    {
     "data": {
      "text/plain": [
       "cp_flag  delta_group\n",
       "C         0.1          -96093.868827\n",
       "          0.2          -61908.461066\n",
       "          0.3          -33845.171002\n",
       "          0.4          -17919.765559\n",
       "          0.5           -9336.121686\n",
       "          0.6           -5578.832906\n",
       "          0.7           -4188.751264\n",
       "          0.8           -3765.143422\n",
       "          0.9           -2402.680369\n",
       "P        -0.9           -8196.676788\n",
       "         -0.8          -10712.007463\n",
       "         -0.7           -9346.393562\n",
       "         -0.6           -8766.892980\n",
       "         -0.5          -11232.424023\n",
       "         -0.4          -18491.093979\n",
       "         -0.3          -33857.613567\n",
       "         -0.2          -59553.742841\n",
       "         -0.1          -86968.832140\n",
       "Name: GAIN, dtype: float64"
      ]
     },
     "execution_count": 84,
     "metadata": {},
     "output_type": "execute_result"
    }
   ],
   "execution_count": 84
  },
  {
   "cell_type": "code",
   "metadata": {
    "ExecuteTime": {
     "end_time": "2024-10-25T03:14:32.203496Z",
     "start_time": "2024-10-25T03:14:32.189244Z"
    }
   },
   "source": [
    "SSE.groupby([\"cp_flag\"])[\"GAIN\"].mean()"
   ],
   "outputs": [
    {
     "data": {
      "text/plain": [
       "cp_flag\n",
       "C   -26564.841850\n",
       "P   -27738.853725\n",
       "Name: GAIN, dtype: float64"
      ]
     },
     "execution_count": 85,
     "metadata": {},
     "output_type": "execute_result"
    }
   ],
   "execution_count": 85
  },
  {
   "cell_type": "code",
   "metadata": {
    "ExecuteTime": {
     "end_time": "2024-10-25T03:14:32.745084Z",
     "start_time": "2024-10-25T03:14:32.708984Z"
    }
   },
   "source": [
    "SSE.groupby([\"cp_flag\",\"delta_group\"])[\"GAIN\"].mean()"
   ],
   "outputs": [
    {
     "data": {
      "text/plain": [
       "cp_flag  delta_group\n",
       "C         0.1          -99843.740658\n",
       "          0.2          -63285.907802\n",
       "          0.3          -34299.309924\n",
       "          0.4          -17889.418443\n",
       "          0.5           -9184.741324\n",
       "          0.6           -5338.487023\n",
       "          0.7           -3880.886605\n",
       "          0.8           -3341.593582\n",
       "          0.9           -2048.494026\n",
       "P        -0.9           -6959.588335\n",
       "         -0.8           -9464.214176\n",
       "         -0.7           -8685.515366\n",
       "         -0.6           -8453.594975\n",
       "         -0.5          -10972.233274\n",
       "         -0.4          -18294.472991\n",
       "         -0.3          -33727.509332\n",
       "         -0.2          -60897.825215\n",
       "         -0.1          -92155.888191\n",
       "Name: GAIN, dtype: float64"
      ]
     },
     "execution_count": 86,
     "metadata": {},
     "output_type": "execute_result"
    }
   ],
   "execution_count": 86
  },
  {
   "cell_type": "code",
   "metadata": {
    "ExecuteTime": {
     "end_time": "2024-10-25T03:14:33.034645Z",
     "start_time": "2024-10-25T03:14:33.021270Z"
    }
   },
   "source": [
    "SSE[\"GAIN\"].mean()"
   ],
   "outputs": [
    {
     "data": {
      "text/plain": [
       "-27151.847787975003"
      ]
     },
     "execution_count": 87,
     "metadata": {},
     "output_type": "execute_result"
    }
   ],
   "execution_count": 87
  },
  {
   "cell_type": "code",
   "metadata": {
    "ExecuteTime": {
     "end_time": "2024-10-25T03:14:33.745487Z",
     "start_time": "2024-10-25T03:14:33.518553Z"
    }
   },
   "source": [
    "SSE.mean()"
   ],
   "outputs": [
    {
     "ename": "TypeError",
     "evalue": "Could not convert ['EEEEEEEEEEEEEEEEEEEEEEEEEEEEEEEEEEEEEEEEEEEEEEEEEEEEEEEEEEEEEEEEEEEEEEEEEEEEEEEEEEEEEEEEEEEEEEEEEEEEEEEEEEEEEEEEEEEEEEEEEEEEEEEEEEEEEEEEEEEEEEEEEEEEEEEEEEEEEEEEEEEEEEEEEEEEEEEEEEEEEEEEEEEEEEEEEEEEEEEEEEEEEEEEEEEEEEEEEEEEEEEEEEEEEEEEEEEEEEEEEEEEEEEEEEEEEEEEEEEEEEEEEEEEEEEEEEEEEEEEEEEEEEEEEEEEEEEEEEEEEEEEEEEEEEEEEEEEEEEEEEEEEEEEEEEEEEEEEEEEEEEEEEEEEEEEEEEEEEEEEEEEEEEEEEEEEEEEEEEEEEEEEEEEEEEEEEEEEEEEEEEEEEEEEEEEEEEEEEEEEEEEEEEEEEEEEEEEEEEEEEEEEEEEEEEEEEEEEEEEEEEEEEEEEEEEEEEEEEEEEEEEEEEEEEEEEEEEEEEEEEEEEEEEEEEEEEEEEEEEEEEEEEEEEEEEEEEEEEEEEEEEEEEEEEEEEEEEEEEEEEEEEEEEEEEEEEEEEEEEEEEEEEEEEEEEEEEEEEEEEEEEEEEEEEEEEEEEEEEEEEEEEEEEEEEEEEEEEEEEEEEEEEEEEEEEEEEEEEEEEEEEEEEEEEEEEEEEEEEEEEEEEEEEEEEEEEEEEEEEEEEEEEEEEEEEEEEEEEEEEEEEEEEEEEEEEEEEEEEEEEEEEEEEEEEEEEEEEEEEEEEEEEEEEEEEEEEEEEEEEEEEEEEEEEEEEEEEEEEEEEEEEEEEEEEEEEEEEEEEEEEEEEEEEEEEEEEEEEEEEEEEEEEEEEEEEEEEEEEEEEEEEEEEEEEEEEEEEEEEEEEEEEEEEEEEEEEEEEEEEEEEEEEEEEEEEEEEEEEEEEEEEEEEEEEEEEEEEEEEEEEEEEEEEEEEEEEEEEEEEEEEEEEEEEEEEEEEEEEEEEEEEEEEEEEEEEEEEEEEEEEEEEEEEEEEEEEEEEEEEEEEEEEEEEEEEEEEEEEEEEEEEEEEEEEEEEEEEEEEEEEEEEEEEEEEEEEEEEEEEEEEEEEEEEEEEEEEEEEEEEEEEEEEEEEEEEEEEEEEEEEEEEEEEEEEEEEEEEEEEEEEEEEEEEEEEEEEEEEEEEEEEEEEEEEEEEEEEEEEEEEEEEEEEEEEEEEEEEEEEEEEEEEEEEEEEEEEEEEEEEEEEEEEEEEEEEEEEEEEEEEEEEEEEEEEEEEEEEEEEEEEEEEEEEEEEEEEEEEEEEEEEEEEEEEEEEEEEEEEEEEEEEEEEEEEEEEEEEEEEEEEEEEEEEEEEEEEEEEEEEEEEEEEEEEEEEEEEEEEEEEEEEEEEEEEEEEEEEEEEEEEEEEEEEEEEEEEEEEEEEEEEEEEEEEEEEEEEEEEEEEEEEEEEEEEEEEEEEEEEEEEEEEEEEEEEEEEEEEEEEEEEEEEEEEEEEEEEEEEEEEEEEEEEEEEEEEEEEEEEEEEEEEEEEEEEEEEEEEEEEEEEEEEEEEEEEEEEEEEEEEEEEEEEEEEEEEEEEEEEEEEEEEEEEEEEEEEEEEEEEEEEEEEEEEEEEEEEEEEEEEEEEEEEEEEEEEEEEEEEEEEEEEEEEEEEEEEEEEEEEEEEEEEEEEEEEEEEEEEEEEEEEEEEEEEEEEEEEEEEEEEEEEEEEEEEEEEEEEEEEEEEEEEEEEEEEEEEEEEEEEEEEEEEEEEEEEEEEEEEEEEEEEEEEEEEEEEEEEEEEEEEEEEEEEEEEEEEEEEEEEEEEEEEEEEEEEEEEEEEEEEEEEEEEEEEEEEEEEEEEEEEEEEEEEEEEEEEEEEEEEEEEEEEEEEEEEEEEEEEEEEEEEEEEEEEEEEEEEEEEEEEEEEEEEEEEEEEEEEEEEEEEEEEEEEEEEEEEEEEEEEEEEEEEEEEEEEEEEEEEEEEEEEEEEEEEEEEEEEEEEEEEEEEEEEEEEEEEEEEEEEEEEEEEEEEEEEEEEEEEEEEEEEEEEEEEEEEEEEEEEEEEEEEEEEEEEEEEEEEEEEEEEEEEEEEEEEEEEEEEEEEEEEEEEEEEEEEEEEEEEEEEEEEEEEEEEEEEEEEEEEEEEEEEEEEEEEEEEEEEEEEEEEEEEEEEEEEEEEEEEEEEEEEEEEEEEEEEEEEEEEEEEEEEEEEEEEEEEEEEEEEEEEEEEEEEEEEEEEEEEEEEEEEEEEEEEEEEEEEEEEEEEEEEEEEEEEEEEEEEEEEEEEEEEEEEEEEEEEEEEEEEEEEEEEEEEEEEEEEEEEEEEEEEEEEEEEEEEEEEEEEEEEEEEEEEEEEEEEEEEEEEEEEEEEEEEEEEEEEEEEEEEEEEEEEEEEEEEEEEEEEEEEEEEEEEEEEEEEEEEEEEEEEEEEEEEEEEEEEEEEEEEEEEEEEEEEEEEEEEEEEEEEEEEEEEEEEEEEEEEEEEEEEEEEEEEEEEEEEEEEEEEEEEEEEEEEEEEEEEEEEEEEEEEEEEEEEEEEEEEEEEEEEEEEEEEEEEEEEEEEEEEEEEEEEEEEEEEEEEEEEEEEEEEEEEEEEEEEEEEEEEEEEEEEEEEEEEEEEEEEEEEEEEEEEEEEEEEEEEEEEEEEEEEEEEEEEEEEEEEEEEEEEEEEEEEEEEEEEEEEEEEEEEEEEEEEEEEEEEEEEEEEEEEEEEEEEEEEEEEEEEEEEEEEEEEEEEEEEEEEEEEEEEEEEEEEEEEEEEEEEEEEEEEEEEEEEEEEEEEEEEEEEEEEEEEEEEEEEEEEEEEEEEEEEEEEEEEEEEEEEEEEEEEEEEEEEEEEEEEEEEEEEEEEEEEEEEEEEEEEEEEEEEEEEEEEEEEEEEEEEEEEEEEEEEEEEEEEEEEEEEEEEEEEEEEEEEEEEEEEEEEEEEEEEEEEEEEEEEEEEEEEEEEEEEEEEEEEEEEEEEEEEEEEEEEEEEEEEEEEEEEEEEEEEEEEEEEEEEEEEEEEEEEEEEEEEEEEEEEEEEEEEEEEEEEEEEEEEEEEEEEEEEEEEEEEEEEEEEEEEEEEEEEEEEEEEEEEEEEEEEEEEEEEEEEEEEEEEEEEEEEEEEEEEEEEEEEEEEEEEEEEEEEEEEEEEEEEEEEEEEEEEEEEEEEEEEEEEEEEEEEEEEEEEEEEEEEEEEEEEEEEEEEEEEEEEEEEEEEEEEEEEEEEEEEEEEEEEEEEEEEEEEEEEEEEEEEEEEEEEEEEEEEEEEEEEEEEEEEEEEEEEEEEEEEEEEEEEEEEEEEEEEEEEEEEEEEEEEEEEEEEEEEEEEEEEEEEEEEEEEEEEEEEEEEEEEEEEEEEEEEEEEEEEEEEEEEEEEEEEEEEEEEEEEEEEEEEEEEEEEEEEEEEEEEEEEEEEEEEEEEEEEEEEEEEEEEEEEEEEEEEEEEEEEEEEEEEEEEEEEEEEEEEEEEEEEEEEEEEEEEEEEEEEEEEEEEEEEEEEEEEEEEEEEEEEEEEEEEEEEEEEEEEEEEEEEEEEEEEEEEEEEEEEEEEEEEEEEEEEEEEEEEEEEEEEEEEEEEEEEEEEEEEEEEEEEEEEEEEEEEEEEEEEEEEEEEEEEEEEEEEEEEEEEEEEEEEEEEEEEEEEEEEEEEEEEEEEEEEEEEEEEEEEEEEEEEEEEEEEEEEEEEEEEEEEEEEEEEEEEEEEEEEEEEEEEEEEEEEEEEEEEEEEEEEEEEEEEEEEEEEEEEEEEEEEEEEEEEEEEEEEEEEEEEEEEEEEEEEEEEEEEEEEEEEEEEEEEEEEEEEEEEEEEEEEEEEEEEEEEEEEEEEEEEEEEEEEEEEEEEEEEEEEEEEEEEEEEEEEEEEEEEEEEEEEEEEEEEEEEEEEEEEEEEEEEEEEEEEEEEEEEEEEEEEEEEEEEEEEEEEEEEEEEEEEEEEEEEEEEEEEEEEEEEEEEEEEEEEEEEEEEEEEEEEEEEEEEEEEEEEEEEEEEEEEEEEEEEEEEEEEEEEEEEEEEEEEEEEEEEEEEEEEEEEEEEEEEEEEEEEEEEEEEEEEEEEEEEEEEEEEEEEEEEEEEEEEEEEEEEEEEEEEEEEEEEEEEEEEEEEEEEEEEEEEEEEEEEEEEEEEEEEEEEEEEEEEEEEEEEEEEEEEEEEEEEEEEEEEEEEEEEEEEEEEEEEEEEEEEEEEEEEEEEEEEEEEEEEEEEEEEEEEEEEEEEEEEEEEEEEEEEEEEEEEEEEEEEEEEEEEEEEEEEEEEEEEEEEEEEEEEEEEEEEEEEEEEEEEEEEEEEEEEEEEEEEEEEEEEEEEEEEEEEEEEEEEEEEEEEEEEEEEEEEEEEEEEEEEEEEEEEEEEEEEEEEEEEEEEEEEEEEEEEEEEEEEEEEEEEEEEEEEEEEEEEEEEEEEEEEEEEEEEEEEEEEEEEEEEEEEEEEEEEEEEEEEEEEEEEEEEEEEEEEEEEEEEEEEEEEEEEEEEEEEEEEEEEEEEEEEEEEEEEEEEEEEEEEEEEEEEEEEEEEEEEEEEEEEEEEEEEEEEEEEEEEEEEEEEEEEEEEEEEEEEEEEEEEEEEEEEEEEEEEEEEEEEEEEEEEEEEEEEEEEEEEEEEEEEEEEEEEEEEEEEEEEEEEEEEEEEEEEEEEEEEEEEEEEEEEEEEEEEEEEEEEEEEEEEEEEEEEEEEEEEEEEEEEEEEEEEEEEEEEEEEEEEEEEEEEEEEEEEEEEEEEEEEEEEEEEEEEEEEEEEEEEEEEEEEEEEEEEEEEEEEEEEEEEEEEEEEEEEEEEEEEEEEEEEEEEEEEEEEEEEEEEEEEEEEEEEEEEEEEEEEEEEEEEEEEEEEEEEEEEEEEEEEEEEEEEEEEEEEEEEEEEEEEEEEEEEEEEEEEEEEEEEEEEEEEEEEEEEEEEEEEEEEEEEEEEEEEEEEEEEEEEEEEEEEEEEEEEEEEEEEEEEEEEEEEEEEEEEEEEEEEEEEEEEEEEEEEEEEEEEEEEEEEEEEEEEEEEEEEEEEEEEEEEEEEEEEEEEEEEEEEEEEEEEEEEEEEEEEEEEEEEEEEEEEEEEEEEEEEEEEEEEEEEEEEEEEEEEEEEEEEEEEEEEEEEEEEEEEEEEEEEEEEEEEEEEEEEEEEEEEEEEEEEEEEEEEEEEEEEEEEEEEEEEEEEEEEEEEEEEEEEEEEEEEEEEEEEEEEEEEEEEEEEEEEEEEEEEEEEEEEEEEEEEEEEEEEEEEEEEEEEEEEEEEEEEEEEEEEEEEEEEEEEEEEEEEEEEEEEEEEEEEEEEEEEEEEEEEEEEEEEEEEEEEEEEEEEEEEEEEEEEEEEEEEEEEEEEEEEEEEEEEEEEEEEEEEEEEEEEEEEEEEEEEEEEEEEEEEEEEEEEEEEEEEEEEEEEEEEEEEEEEEEEEEEEEEEEEEEEEEEEEEEEEEEEEEEEEEEEEEEEEEEEEEEEEEEEEEEEEEEEEEEEEEEEEEEEEEEEEEEEEEEEEEEEEEEEEEEEEEEEEEEEEEEEEEEEEEEEEEEEEEEEEEEEEEEEEEEEEEEEEEEEEEEEEEEEEEEEEEEEEEEEEEEEEEEEEEEEEEEEEEEEEEEEEEEEEEEEEEEEEEEEEEEEEEEEEEEEEEEEEEEEEEEEEEEEEEEEEEEEEEEEEEEEEEEEEEEEEEEEEEEEEEEEEEEEEEEEEEEEEEEEEEEEEEEEEEEEEEEEEEEEEEEEEEEEEEEEEEEEEEEEEEEEEEEEEEEEEEEEEEEEEEEEEEEEEEEEEEEEEEEEEEEEEEEEEEEEEEEEEEEEEEEEEEEEEEEEEEEEEEEEEEEEEEEEEEEEEEEEEEEEEEEEEEEEEEEEEEEEEEEEEEEEEEEEEEEEEEEEEEEEEEEEEEEEEEEEEEEEEEEEEEEEEEEEEEEEEEEEEEEEEEEEEEEEEEEEEEEEEEEEEEEEEEEEEEEEEEEEEEEEEEEEEEEEEEEEEEEEEEEEEEEEEEEEEEEEEEEEEEEEEEEEEEEEEEEEEEEEEEEEEEEEEEEEEEEEEEEEEEEEEEEEEEEEEEEEEEEEEEEEEEEEEEEEEEEEEEEEEEEEEEEEEEEEEEEEEEEEEEEEEEEEEEEEEEEEEEEEEEEEEEEEEEEEEEEEEEEEEEEEEEEEEEEEEEEEEEEEEEEEEEEEEEEEEEEEEEEEEEEEEEEEEEEEEEEEEEEEEEEEEEEEEEEEEEEEEEEEEEEEEEEEEEEEEEEEEEEEEEEEEEEEEEEEEEEEEEEEEEEEEEEEEEEEEEEEEEEEEEEEEEEEEEEEEEEEEEEEEEEEEEEEEEEEEEEEEEEEEEEEEEEEEEEEEEEEEEEEEEEEEEEEEEEEEEEEEEEEEEEEEEEEEEEEEEEEEEEEEEEEEEEEEEEEEEEEEEEEEEEEEEEEEEEEEEEEEEEEEEEEEEEEEEEEEEEEEEEEEEEEEEEEEEEEEEEEEEEEEEEEEEEEEEEEEEEEEEEEEEEEEEEEEEEEEEEEEEEEEEEEEEEEEEEEEEEEEEEEEEEEEEEEEEEEEEEEEEEEEEEEEEEEEEEEEEEEEEEEEEEEEEEEEEEEEEEEEEEEEEEEEEEEEEEEEEEEEEEEEEEEEEEEEEEEEEEEEEEEEEEEEEEEEEEEEEEEEEEEEEEEEEEEEEEEEEEEEEEEEEEEEEEEEEEEEEEEEEEEEEEEEEEEEEEEEEEEEEEEEEEEEEEEEEEEEEEEEEEEEEEEEEEEEEEEEEEEEEEEEEEEEEEEEEEEEEEEEEEEEEEEEEEEEEEEEEEEEEEEEEEEEEEEEEEEEEEEEEEEEEEEEEEEEEEEEEEEEEEEEEEEEEEEEEEEEEEEEEEEEEEEEEEEEEEEEEEEEEEEEEEEEEEEEEEEEEEEEEEEEEEEEEEEEEEEEEEEEEEEEEEEEEEEEEEEEEEEEEEEEEEEEEEEEEEEEEEEEEEEEEEEEEEEEEEEEEEEEEEEEEEEEEEEEEEEEEEEEEEEEEEEEEEEEEEEEEEEEEEEEEEEEEEEEEEEEEEEEEEEEEEEEEEEEEEEEEEEEEEEEEEEEEEEEEEEEEEEEEEEEEEEEEEEEEEEEEEEEEEEEEEEEEEEEEEEEEEEEEEEEEEEEEEEEEEEEEEEEEEEEEEEEEEEEEEEEEEEEEEEEEEEEEEEEEEEEEEEEEEEEEEEEEEEEEEEEEEEEEEEEEEEEEEEEEEEEEEEEEEEEEEEEEEEEEEEEEEEEEEEEEEEEEEEEEEEEEEEEEEEEEEEEEEEEEEEEEEEEEEEEEEEEEEEEEEEEEEEEEEEEEEEEEEEEEEEEEEEEEEEEEEEEEEEEEEEEEEEEEEEEEEEEEEEEEEEEEEEEEEEEEEEEEEEEEEEEEEEEEEEEEEEEEEEEEEEEEEEEEEEEEEEEEEEEEEEEEEEEEEEEEEEEEEEEEEEEEEEEEEEEEEEEEEEEEEEEEEEEEEEEEEEEEEEEEEEEEEEEEEEEEEEEEEEEEEEEEEEEEEEEEEEEEEEEEEEEEEEEEEEEEEEEEEEEEEEEEEEEEEEEEEEEEEEEEEEEEEEEEEEEEEEEEEEEEEEEEEEEEEEEEEEEEEEEEEEEEEEEEEEEEEEEEEEEEEEEEEEEEEEEEEEEEEEEEEEEEEEEEEEEEEEEEEEEEEEEEEEEEEEEEEEEEEEEEEEEEEEEEEEEEEEEEEEEEEEEEEEEEEEEEEEEEEEEEEEEEEEEEEEEEEEEEEEEEEEEEEEEEEEEEEEEEEEEEEEEEEEEEEEEEEEEEEEEEEEEEEEEEEEEEEEEEEEEEEEEEEEEEEEEEEEEEEEEEEEEEEEEEEEEEEEEEEEEEEEEEEEEEEEEEEEEEEEEEEEEEEEEEEEEEEEEEEEEEEEEEEEEEEEEEEEEEEEEEEEEEEEEEEEEEEEEEEEEEEEEEEEEEEEEEEEEEEEEEEEEEEEEEEEEEEEEEEEEEEEEEEEEEEEEEEEEEEEEEEEEEEEEEEEEEEEEEEEEEEEEEEEEEEEEEEEEEEEEEEEEEEEEEEEEEEEEEEEEEEEEEEEEEEEEEEEEEEEEEEEEEEEEEEEEEEEEEEEEEEEEEEEEEEEEEEEEEEEEEEEEEEEEEEEEEEEEEEEEEEEEEEEEEEEEEEEEEEEEEEEEEEEEEEEEEEEEEEEEEEEEEEEEEEEEEEEEEEEEEEEEEEEEEEEEEEEEEEEEEEEEEEEEEEEEEEEEEEEEEEEEEEEEEEEEEEEEEEEEEEEEEEEEEEEEEEEEEEEEEEEEEEEEEEEEEEEEEEEEEEEEEEEEEEEEEEEEEEEEEEEEEEEEEEEEEEEEEEEEEEEEEEEEEEEEEEEEEEEEEEEEEEEEEEEEEEEEEEEEEEEEEEEEEEEEEEEEEEEEEEEEEEEEEEEEEEEEEEEEEEEEEEEEEEEEEEEEEEEEEEEEEEEEEEEEEEEEEEEEEEEEEEEEEEEEEEEEEEEEEEEEEEEEEEEEEEEEEEEEEEEEEEEEEEEEEEEEEEEEEEEEEEEEEEEEEEEEEEEEEEEEEEEEEEEEEEEEEEEEEEEEEEEEEEEEEEEEEEEEEEEEEEEEEEEEEEEEEEEEEEEEEEEEEEEEEEEEEEEEEEEEEEEEEEEEEEEEEEEEEEEEEEEEEEEEEEEEEEEEEEEEEEEEEEEEEEEEEEEEEEEEEEEEEEEEEEEEEEEEEEEEEEEEEEEEEEEEEEEEEEEEEEEEEEEEEEEEEEEEEEEEEEEEEEEEEEEEEEEEEEEEEEEEEEEEEEEEEEEEEEEEEEEEEEEEEEEEEEEEEEEEEEEEEEEEEEEEEEEEEEEEEEEEEEEEEEEEEEEEEEEEEEEEEEEEEEEEEEEEEEEEEEEEEEEEEEEEEEEEEEEEEEEEEEEEEEEEEEEEEEEEEEEEEEEEEEEEEEEEEEEEEEEEEEEEEEEEEEEEEEEEEEEEEEEEEEEEEEEEEEEEEEEEEEEEEEEEEEEEEEEEEEEEEEEEEEEEEEEEEEEEEEEEEEEEEEEEEEEEEEEEEEEEEEEEEEEEEEEEEEEEEEEEEEEEEEEEEEEEEEEEEEEEEEEEEEEEEEEEEEEEEEEEEEEEEEEEEEEEEEEEEEEEEEEEEEEEEEEEEEEEEEEEEEEEEEEEEEEEEEEEEEEEEEEEEEEEEEEEEEEEEEEEEEEEEEEEEEEEEEEEEEEEEEEEEEEEEEEEEEEEEEEEEEEEEEEEEEEEEEEEEEEEEEEEEEEEEEEEEEEEEEEEEEEEEEEEEEEEEEEEEEEEEEEEEEEEEEEEEEEEEEEEEEEEEEEEEEEEEEEEEEEEEEEEEEEEEEEEEEEEEEEEEEEEEEEEEEEEEEEEEEEEEEEEEEEEEEEEEEEEEEEEEEEEEEEEEEEEEEEEEEEEEEEEEEEEEEEEEEEEEEEEEEEEEEEEEEEEEEEEEEEEEEEEEEEEEEEEEEEEEEEEEEEEEEEEEEEEEEEEEEEEEEEEEEEEEEEEEEEEEEEEEEEEEEEEEEEEEEEEEEEEEEEEEEEEEEEEEEEEEEEEEEEEEEEEEEEEEEEEEEEEEEEEEEEEEEEEEEEEEEEEEEEEEEEEEEEEEEEEEEEEEEEEEEEEEEEEEEEEEEEEEEEEEEEEEEEEEEEEEEEEEEEEEEEEEEEEEEEEEEEEEEEEEEEEEEEEEEEEEEEEEEEEEEEEEEEEEEEEEEEEEEEEEEEEEEEEEEEEEEEEEEEEEEEEEEEEEEEEEEEEEEEEEEEEEEEEEEEEEEEEEEEEEEEEEEEEEEEEEEEEEEEEEEEEEEEEEEEEEEEEEEEEEEEEEEEEEEEEEEEEEEEEEEEEEEEEEEEEEEEEEEEEEEEEEEEEEEEEEEEEEEEEEEEEEEEEEEEEEEEEEEEEEEEEEEEEEEEEEEEEEEEEEEEEEEEEEEEEEEEEEEEEEEEEEEEEEEEEEEEEEEEEEEEEEEEEEEEEEEEEEEEEEEEEEEEEEEEEEEEEEEEEEEEEEEEEEEEEEEEEEEEEEEEEEEEEEEEEEEEEEEEEEEEEEEEEEEEEEEEEEEEEEEEEEEEEEEEEEEEEEEEEEEEEEEEEEEEEEEEEEEEEEEEEEEEEEEEEEEEEEEEEEEEEEEEEEEEEEEEEEEEEEEEEEEEEEEEEEEEEEEEEEEEEEEEEEEEEEEEEEEEEEEEEEEEEEEEEEEEEEEEEEEEEEEEEEEEEEEEEEEEEEEEEEEEEEEEEEEEEEEEEEEEEEEEEEEEEEEEEEEEEEEEEEEEEEEEEEEEEEEEEEEEEEEEEEEEEEEEEEEEEEEEEEEEEEEEEEEEEEEEEEEEEEEEEEEEEEEEEEEEEEEEEEEEEEEEEEEEEEEEEEEEEEEEEEEEEEEEEEEEEEEEEEEEEEEEEEEEEEEEEEEEEEEEEEEEEEEEEEEEEEEEEEEEEEEEEEEEEEEEEEEEEEEEEEEEEEEEEEEEEEEEEEEEEEEEEEEEEEEEEEEEEEEEEEEEEEEEEEEEEEEEEEEEEEEEEEEEEEEEEEEEEEEEEEEEEEEEEEEEEEEEEEEEEEEEEEEEEEEEEEEEEEEEEEEEEEEEEEEEEEEEEEEEEEEEEEEEEEEEEEEEEEEEEEEEEEEEEEEEEEEEEEEEEEEEEEEEEEEEEEEEEEEEEEEEEEEEEEEEEEEEEEEEEEEEEEEEEEEEEEEEEEEEEEEEEEEEEEEEEEEEEEEEEEEEEEEEEEEEEEEEEEEEEEEEEEEEEEEEEEEEEEEEEEEEEEEEEEEEEEEEEEEEEEEEEEEEEEEEEEEEEEEEEEEEEEEEEEEEEEEEEEEEEEEEEEEEEEEEEEEEEEEEEEEEEEEEEEEEEEEEEEEEEEEEEEEEEEEEEEEEEEEEEEEEEEEEEEEEEEEEEEEEEEEEEEEEEEEEEEEEEEEEEEEEEEEEEEEEEEEEEEEEEEEEEEEEEEEEEEEEEEEEEEEEEEEEEEEEEEEEEEEEEEEEEEEEEEEEEEEEEEEEEEEEEEEEEEEEEEEEEEEEEEEEEEEEEEEEEEEEEEEEEEEEEEEEEEEEEEEEEEEEEEEEEEEEEEEEEEEEEEEEEEEEEEEEEEEEEEEEEEEEEEEEEEEEEEEEEEEEEEEEEEEEEEEEEEEEEEEEEEEEEEEEEEEEEEEEEEEEEEEEEEEEEEEEEEEEEEEEEEEEEEEEEEEEEEEEEEEEEEEEEEEEEEEEEEEEEEEEEEEEEEEEEEEEEEEEEEEEEEEEEEEEEEEEEEEEEEEEEEEEEEEEEEEEEEEEEEEEEEEEEEEEEEEEEEEEEEEEEEEEEEEEEEEEEEEEEEEEEEEEEEEEEEEEEEEEEEEEEEEEEEEEEEEEEEEEEEEEEEEEEEEEEEEEEEEEEEEEEEEEEEEEEEEEEEEEEEEEEEEEEEEEEEEEEEEEEEEEEEEEEEEEEEEEEEEEEEEEEEEEEEEEEEEEEEEEEEEEEEEEEEEEEEEEEEEEEEEEEEEEEEEEEEEEEEEEEEEEEEEEEEEEEEEEEEEEEEEEEEEEEEEEEEEEEEEEEEEEEEEEEEEEEEEEEEEEEEEEEEEEEEEEEEEEEEEEEEEEEEEEEEEEEEEEEEEEEEEEEEEEEEEEEEEEEEEEEEEEEEEEEEEEEEEEEEEEEEEEEEEEEEEEEEEEEEEEEEEEEEEEEEEEEEEEEEEEEEEEEEEEEEEEEEEEEEEEEEEEEEEEEEEEEEEEEEEEEEEEEEEEEEEEEEEEEEEEEEEEEEEEEEEEEEEEEEEEEEEEEEEEEEEEEEEEEEEEEEEEEEEEEEEEEEEEEEEEEEEEEEEEEEEEEEEEEEEEEEEEEEEEEEEEEEEEEEEEEEEEEEEEEEEEEEEEEEEEEEEEEEEEEEEEEEEEEEEEEEEEEEEEEEEEEEEEEEEEEEEEEEEEEEEEEEEEEEEEEEEEEEEEEEEEEEEEEEEEEEEEEEEEEEEEEEEEEEEEEEEEEEEEEEEEEEEEEEEEEEEEEEEEEEEEEEEEEEEEEEEEEEEEEEEEEEEEEEEEEEEEEEEEEEEEEEEEEEEEEEEEEEEEEEEEEEEEEEEEEEEEEEEEEEEEEEEEEEEEEEEEEEEEEEEEEEEEEEEEEEEEEEEEEEEEEEEEEEEEEEEEEEEEEEEEEEEEEEEEEEEEEEEEEEEEEEEEEEEEEEEEEEEEEEEEEEEEEEEEEEEEEEEEEEEEEEEEEEEEEEEEEEEEEEEEEEEEEEEEEEEEEEEEEEEEEEEEEEEEEEEEEEEEEEEEEEEEEEEEEEEEEEEEEEEEEEEEEEEEEEEEEEEEEEEEEEEEEEEEEEEEEEEEEEEEEEEEEEEEEEEEEEEEEEEEEEEEEEEEEEEEEEEEEEEEEEEEEEEEEEEEEEEEEEEEEEEEEEEEEEEEEEEEEEEEEEEEEEEEEEEEEEEEEEEEEEEEEEEEEEEEEEEEEEEEEEEEEEEEEEEEEEEEEEEEEEEEEEEEEEEEEEEEEEEEEEEEEEEEEEEEEEEEEEEEEEEEEEEEEEEEEEEEEEEEEEEEEEEEEEEEEEEEEEEEEEEEEEEEEEEEEEEEEEEEEEEEEEEEEEEEEEEEEEEEEEEEEEEEEEEEEEEEEEEEEEEEEEEEEEEEEEEEEEEEEEEEEEEEEEEEEEEEEEEEEEEEEEEEEEEEEEEEEEEEEEEEEEEEEEEEEEEEEEEEEEEEEEEEEEEEEEEEEEEEEEEEEEEEEEEEEEEEEEEEEEEEEEEEEEEEEEEEEEEEEEEEEEEEEEEEEEEEEEEEEEEEEEEEEEEEEEEEEEEEEEEEEEEEEEEEEEEEEEEEEEEEEEEEEEEEEEEEEEEEEEEEEEEEEEEEEEEEEEEEEEEEEEEEEEEEEEEEEEEEEEEEEEEEEEEEEEEEEEEEEEEEEEEEEEEEEEEEEEEEEEEEEEEEEEEEEEEEEEEEEEEEEEEEEEEEEEEEEEEEEEEEEEEEEEEEEEEEEEEEEEEEEEEEEEEEEEEEEEEEEEEEEEEEEEEEEEEEEEEEEEEEEEEEEEEEEEEEEEEEEEEEEEEEEEEEEEEEEEEEEEEEEEEEEEEEEEEEEEEEEEEEEEEEEEEEEEEEEEEEEEEEEEEEEEEEEEEEEEEEEEEEEEEEEEEEEEEEEEEEEEEEEEEEEEEEEEEEEEEEEEEEEEEEEEEEEEEEEEEEEEEEEEEEEEEEEEEEEEEEEEEEEEEEEEEEEEEEEEEEEEEEEEEEEEEEEEEEEEEEEEEEEEEEEEEEEEEEEEEEEEEEEEEEEEEEEEEEEEEEEEEEEEEEEEEEEEEEEEEEEEEEEEEEEEEEEEEEEEEEEEEEEEEEEEEEEEEEEEEEEEEEEEEEEEEEEEEEEEEEEEEEEEEEEEEEEEEEEEEEEEEEEEEEEEEEEEEEEEEEEEEEEEEEEEEEEEEEEEEEEEEEEEEEEEEEEEEEEEEEEEEEEEEEEEEEEEEEEEEEEEEEEEEEEEEEEEEEEEEEEEEEEEEEEEEEEEEEEEEEEEEEEEEEEEEEEEEEEEEEEEEEEEEEEEEEEEEEEEEEEEEEEEEEEEEEEEEEEEEEEEEEEEEEEEEEEEEEEEEEEEEEEEEEEEEEEEEEEEEEEEEEEEEEEEEEEEEEEEEEEEEEEEEEEEEEEEEEEEEEEEEEEEEEEEEEEEEEEEEEEEEEEEEEEEEEEEEEEEEEEEEEEEEEEEEEEEEEEEEEEEEEEEEEEEEEEEEEEEEEEEEEEEEEEEEEEEEEEEEEEEEEEEEEEEEEEEEEEEEEEEEEEEEEEEEEEEEEEEEEEEEEEEEEEEEEEEEEEEEEEEEEEEEEEEEEEEEEEEEEEEEEEEEEEEEEEEEEEEEEEEEEEEEEEEEEEEEEEEEEEEEEEEEEEEEEEEEEEEEEEEEEEEEEEEEEEEEEEEEEEEEEEEEEEEEEEEEEEEEEEEEEEEEEEEEEEEEEEEEEEEEEEEEEEEEEEEEEEEEEEEEEEEEEEEEEEEEEEEEEEEEEEEEEEEEEEEEEEEEEEEEEEEEEEEEEEEEEEEEEEEEEEEEEEEEEEEEEEEEEEEEEEEEEEEEEEEEEEEEEEEEEEEEEEEEEEEEEEEEEEEEEEEEEEEEEEEEEEEEEEEEEEEEEEEEEEEEEEEEEEEEEEEEEEEEEEEEEEEEEEEEEEEEEEEEEEEEEEEEEEEEEEEEEEEEEEEEEEEEEEEEEEEEEEEEEEEEEEEEEEEEEEEEEEEEEEEEEEEEEEEEEEEEEEEEEEEEEEEEEEEEEEEEEEEEEEEEEEEEEEEEEEEEEEEEEEEEEEEEEEEEEEEEEEEEEEEEEEEEEEEEEEEEEEEEEEEEEEEEEEEEEEEEEEEEEEEEEEEEEEEEEEEEEEEEEEEEEEEEEEEEEEEEEEEEEEEEEEEEEEEEEEEEEEEEEEEEEEEEEEEEEEEEEEEEEEEEEEEEEEEEEEEEEEEEEEEEEEEEEEEEEEEEEEEEEEEEEEEEEEEEEEEEEEEEEEEEEEEEEEEEEEEEEEEEEEEEEEEEEEEEEEEEEEEEEEEEEEEEEEEEEEEEEEEEEEEEEEEEEEEEEEEEEEEEEEEEEEEEEEEEEEEEEEEEEEEEEEEEEEEEEEEEEEEEEEEEEEEEEEEEEEEEEEEEEEEEEEEEEEEEEEEEEEEEEEEEEEEEEEEEEEEEEEEEEEEEEEEEEEEEEEEEEEEEEEEEEEEEEEEEEEEEEEEEEEEEEEEEEEEEEEEEEEEEEEEEEEEEEEEEEEEEEEEEEEEEEEEEEEEEEEEEEEEEEEEEEEEEEEEEEEEEEEEEEEEEEEEEEEEEEEEEEEEEEEEEEEEEEEEEEEEEEEEEEEEEEEEEEEEEEEEEEEEEEEEEEEEEEEEEEEEEEEEEEEEEEEEEEEEEEEEEEEEEEEEEEEEEEEEEEEEEEEEEEEEEEEEEEEEEEEEEEEEEEEEEEEEEEEEEEEEEEEEEEEEEEEEEEEEEEEEEEEEEEEEEEEEEEEEEEEEEEEEEEEEEEEEEEEEEEEEEEEEEEEEEEEEEEEEEEEEEEEEEEEEEEEEEEEEEEEEEEEEEEEEEEEEEEEEEEEEEEEEEEEEEEEEEEEEEEEEEEEEEEEEEEEEEEEEEEEEEEEEEEEEEEEEEEEEEEEEEEEEEEEEEEEEEEEEEEEEEEEEEEEEEEEEEEEEEEEEEEEEEEEEEEEEEEEEEEEEEEEEEEEEEEEEEEEEEEEEEEEEEEEEEEEEEEEEEEEEEEEEEEEEEEEEEEEEEEEEEEEEEEEEEEEEEEEEEEEEEEEEEEEEEEEEEEEEEEEEEEEEEEEEEEEEEEEEEEEEEEEEEEEEEEEEEEEEEEEEEEEEEEEEEEEEEEEEEEEEEEEEEEEEEEEEEEEEEEEEEEEEEEEEEEEEEEEEEEEEEEEEEEEEEEEEEEEEEEEEEEEEEEEEEEEEEEEEEEEEEEEEEEEEEEEEEEEEEEEEEEEEEEEEEEEEEEEEEEEEEEEEEEEEEEEEEEEEEEEEEEEEEEEEEEEEEEEEEEEEEEEEEEEEEEEEEEEEEEEEEEEEEEEEEEEEEEEEEEEEEEEEEEEEEEEEEEEEEEEEEEEEEEEEEEEEEEEEEEEEEEEEEEEEEEEEEEEEEEEEEEEEEEEEEEEEEEEEEEEEEEEEEEEEEEEEEEEEEEEEEEEEEEEEEEEEEEEEEEEEEEEEEEEEEEEEEEEEEEEEEEEEEEEEEEEEEEEEEEEEEEEEEEEEEEEEEEEEEEEEEEEEEEEEEEEEEEEEEEEEEEEEEEEEEEEEEEEEEEEEEEEEEEEEEEEEEEEEEEEEEEEEEEEEEEEEEEEEEEEEEEEEEEEEEEEEEEEEEEEEEEEEEEEEEEEEEEEEEEEEEEEEEEEEEEEEEEEEEEEEEEEEEEEEEEEEEEEEEEEEEEEEEEEEEEEEEEEEEEEEEEEEEEEEEEEEEEEEEEEEEEEEEEEEEEEEEEEEEEEEEEEEEEEEEEEEEEEEEEEEEEEEEEEEEEEEEEEEEEEEEEEEEEEEEEEEEEEEEEEEEEEEEEEEEEEEEEEEEEEEEEEEEEEEEEEEEEEEEEEEEEEEEEEEEEEEEEEEEEEEEEEEEEEEEEEEEEEEEEEEEEEEEEEEEEEEEEEEEEEEEEEEEEEEEEEEEEEEEEEEEEEEEEEEEEEEEEEEEEEEEEEEEEEEEEEEEEEEEEEEEEEEEEEEEEEEEEEEEEEEEEEEEEEEEEEEEEEEEEEEEEEEEEEEEEEEEEEEEEEEEEEEEEEEEEEEEEEEEEEEEEEEEEEEEEEEEEEEEEEEEEEEEEEEEEEEEEEEEEEEEEEEEEEEEEEEEEEEEEEEEEEEEEEEEEEEEEEEEEEEEEEEEEEEEEEEEEEEEEEEEEEEEEEEEEEEEEEEEEEEEEEEEEEEEEEEEEEEEEEEEEEEEEEEEEEEEEEEEEEEEEEEEEEEEEEEEEEEEEEEEEEEEEEEEEEEEEEEEEEEEEEEEEEEEEEEEEEEEEEEEEEEEEEEEEEEEEEEEEEEEEEEEEEEEEEEEEEEEEEEEEEEEEEEEEEEEEEEEEEEEEEEEEEEEEEEEEEEEEEEEEEEEEEEEEEEEEEEEEEEEEEEEEEEEEEEEEEEEEEEEEEEEEEEEEEEEEEEEEEEEEEEEEEEEEEEEEEEEEEEEEEEEEEEEEEEEEEEEEEEEEEEEEEEEEEEEEEEEEEEEEEEEEEEEEEEEEEEEEEEEEEEEEEEEEEEEEEEEEEEEEEEEEEEEEEEEEEEEEEEEEEEEEEEEEEEEEEEEEEEEEEEEEEEEEEEEEEEEEEEEEEEEEEEEEEEEEEEEEEEEEEEEEEEEEEEEEEEEEEEEEEEEEEEEEEEEEEEEEEEEEEEEEEEEEEEEEEEEEEEEEEEEEEEEEEEEEEEEEEEEEEEEEEEEEEEEEEEEEEEEEEEEEEEEEEEEEEEEEEEEEEEEEEEEEEEEEEEEEEEEEEEEEEEEEEEEEEEEEEEEEEEEEEEEEEEEEEEEEEEEEEEEEEEEEEEEEEEEEEEEEEEEEEEEEEEEEEEEEEEEEEEEEEEEEEEEEEEEEEEEEEEEEEEEEEEEEEEEEEEEEEEEEEEEEEEEEEEEEEEEEEEEEEEEEEEEEEEEEEEEEEEEEEEEEEEEEEEEEEEEEEEEEEEEEEEEEEEEEEEEEEEEEEEEEEEEEEEEEEEEEEEEEEEEEEEEEEEEEEEEEEEEEEEEEEEEEEEEEEEEEEEEEEEEEEEEEEEEEEEEEEEEEEEEEEEEEEEEEEEEEEEEEEEEEEEEEEEEEEEEEEEEEEEEEEEEEEEEEEEEEEEEEEEEEEEEEEEEEEEEEEEEEEEEEEEEEEEEEEEEEEEEEEEEEEEEEEEEEEEEEEEEEEEEEEEEEEEEEEEEEEEEEEEEEEEEEEEEEEEEEEEEEEEEEEEEEEEEEEEEEEEEEEEEEEEEEEEEEEEEEEEEEEEEEEEEEEEEEEEEEEEEEEEEEEEEEEEEEEEEEEEEEEEEEEEEEEEEEEEEEEEEEEEEEEEEEEEEEEEEEEEEEEEEEEEEEEEEEEEEEEEEEEEEEEEEEEEEEEEEEEEEEEEEEEEEEEEEEEEEEEEEEEEEEEEEEEEEEEEEEEEEEEEEEEEEEEEEEEEEEEEEEEEEEEEEEEEEEEEEEEEEEEEEEEEEEEEEEEEEEEEEEEEEEEEEEEEEEEEEE'\n 'PPPPPPPPPPPPPPPPPPPPPPPPPPPPPPPPPPPPPPPPPPPPPPPPPPPPPPPPPPPPPPPPPPPPPPPPPPPPPPPPPPPPPPPPPPPPPPPPPPPPPPPPPPPPPPPPPPPPPPPPPPPPPPPPPPPPPPPPPPPPPPPPPPPPPPPPPPPPPPPPPPPPPPPPPPPPPPPPPPPPPPPPPPPPPPPPPPPPPPPPPPPPPPPPPPPPPPPPPPPPPPPPPPPPPPPPPPPPPPPPPPPPPPPPPPPPPPPPPPPPPPPPPPPPPPPPPPPPPPPPPPPPPPPPPPPPPPPPPPPPPPPPPPPPPPPPPPPPPPPPPPPPPPPPPPPPPPPPPPPPPPPPPPPPPPPPPPPPPPPPPPPPPPPPPPPPPPPPPPPPPPPPPPPPPPPPPPPPPPPPPPPPPPPPPPPPPPPPPPPPPPPPPPPPPPPPPPPPPPPPPPPPPPPPPPPPPPPPPPPPPPPPPPPPPPPPPPPPPPPPPPPPPPPPPPPPPPPPPPPPPPPPPPPPPPPPPPPPPPPPPPPPPPPPPPPPPPPPPPPPPPPPPPPPPPPPPPPPPPPPPPPPPPPPPPPPPPPPPPPPPPPPPPPPPPPPPPPPPPPPPPPPPPPPPPPPPPPPPPPPPPPPPPPPPPPPPPPPPPPPPPPPPPPPPPPPPPPPPPPPPPPPPPPPPPPPPPPPPPPPPPPPPPPPPPPPPPPPPPPPPPPPPPPPPPPPPPPPPPPPPPPPPPPPPPPPPPPPPPPPPPPPPPPPPPPPPPPPPPPPPPPPPPPPPPPPPPPPPPPPPPPPPPPPPPPPPPPPPPPPPPPPPPPPPPPPPPPPPPPPPPPPPPPPPPPPPPPPPPPPPPPPPPPPPPPPPPPPPPPPPPPPPPPPPPPPPPPPPPPPPPPPPPPPPPPPPPPPPPPPPPPPPPPPPPPPPPPPPPPPPPPPPPPPPPPPPPPPPPPPPPPPPPPPPPPPPPPPPPPPPPPPPPPPPPPPPPPPPPPPPPPPPPPPPPPPPPPPPPPPPPPPPPPPPPPPPPPPPPPPPPPPPPPPPPPPPPPPPPPPPPPPPPPPPPPPPPPPPPPPPPPPPPPPPPPPPPPPPPPPPPPPPPPPPPPPPPPPPPPPPPPPPPPPPPPPPPPPPPPPPPPPPPPPPPPPPPPPPPPPPPPPPPPPPPPPPPPPPPPPPPPPPPPPPPPPPPPPPPPPPPPPPPPPPPPPPPPPPPPPPPPPPPPPPPPPPPPPPPPPPPPPPPPPPPPPPPPPPPPPPPPPPPPPPPPPPPPPPPPPCCCCCCCCCCCCCCCCCCCCCCCCCCCCCCCCCCCCCCCCCCCCCCCCCCCCCCCCCCCCCCCCCCCCCCCCCCCCCCCCCCCCCCCCCCCCCCCCCCCCCCCCCCCCCCCCCCCCCCCCCCCCCCCCCCCCCCCCCCCCCCCCCCCCCCCCCCCCCCCCCCCCCCCCCCCCCCCCCCCCCCCCCCCCCCCCCCCCCCCCCCCCCCCCCCCCCCCCCCCCCCCCCCCCCCCCCCCCCCCCCCCCCCCCCCCCCCCCCCCCCCCCCCCCCCCCCCCCCCCCCCCCCCCCCCCCCCCCCCCCCCCCCCCCCCCCCCCCCCCCCCCCCCCCCCCCCCCCCCCCCCCCCCCCCCCCCCCCCCCCCCCCCCCCCCCCCCCCCCCCCCCCCCCCCCCCCCCCCCCCCCCCCCCCCCCCCCCCCCCCCCCCCCCCCCCCCCCCCCCCCCCCCCCCCCCCCCCCCCCCCCCCCCCCCCCCCCCCCCCCCCCCCCCCCCCCCCCCCCCCCCCCCCCCCCCCCCCCCCCCCCCCCCCCCCCCCCCCCCCCCCCCCCCCCCCCCCCCCCCCCCCCCCCCCCCCCCCCCCCCCCCCCCCCCCCCCCCCCCCCCCCCCCCCCCCCCCCCCCCCCCCCCCCCCCCCCCCCCCCCCCCCCCCCCCCCCCCCCCCCCCCCCCCCCCCCCCCCCCCCCCCCCCCCCCCCCCCCCCCCCCCCCCCCCCCCCCCCCCCCCCCCCCCCCCCCCCCCCCCCCCCCCCCCCCCCCCCCCCCCCCCCCCCCCCCCCCCCCCCCCCCCCCCCCCCCCCCCCCCCCCCCCCCCCCCCCCCCCCCCCCCCCCCCCCCCCCCCCCCCCCCCCCCCCCCCCCCCCCCCCCCCCCCCCCCCCCCCCCCCCCCCCCCCCCCCCCCCCCCCCCCCCCCCCCCCCCCCCCCCCCCCCCCCCCCCCCCCCCCCCCCCCCCCCCCCCCCCCCCCCCCCCCCCCCCCCCCCCCCCCCCCCCCCCCCCCCCCCCCCCCCCCCCCCCCCCCCCCCCCCCCCCCCCCCCCCCCCCCCCCCCCCCCCCCCCCCCCCCCCCCCCCCCCCCCCCCCCCCCCCCCCCCCCCCCCCCCCCCCCCCCCCCCCCCCCCCCCCCCCCCCCCCCCCCCCCCCCCCCCCCCCCCCCCCCCCCCCCCCCCCCCCCCCCCCCCCCCCCCCCCCCCCCCCCCCCCCCCCCCCCCCCCCCCCCCCCCCCCCCCCCCCCCCCCCCCCCCCCCCCCCCCCCCCCCCCCCCCCCCPPPPPPPPPPPPPPPPPPPPPPPPPPPPPPPPPPPPPPPPPPPPPPPPPPPPPPPPPPPPPPPPPPPPPPPPPPPPPPPPPPPPPPPPPPPPPPPPPPPPPPPPPPPPPPPPPPPPPPPPPPPPPPPPPPPPPPPPPPPPPPPPPPPPPPPPPPPPPPPPPPPPPPPPPPPPPPPPPPPPPPPPPPPPPPPPPPPPPPPPPPPPPPPPPPPPPPPPPPPPPPPPPPPPPPPPPPPPPPPPPPPPPPPPPPPPPPPPPPPPPPPPPPPPPPPPPPPPPPPPPPPPPPPPPPPPPPPPPPPPPPPPPPPPPPPPPPPPPPPPPPPPPPPPPPPPPPPPPPPPPPPPPPPPPPPPPPPPPPPPPPPPPPPPPPPPPPPPPPPPPPPPPPPPPPPPPPPPPPPPPPPPPPPPPPPPPPPPPPPPPPPPPPPPPPPPPPPPPPPPPPPPPPPPPPPPPPPPPPPPPPPPPPPPPPPPPPPPPPPPPPPPPPPPPPPPPPPPPPPPPPPPPPPPPPPPPPPPPPPPPPPPPPPPPPPPPPPPPPPPPPPPPPPPPPPPPPPPPPPPPPPPPPPPPPPPPPPPPPPPPPPPPPPPPPPPPPPPPPPPPPPPPPPPPPPPPPPPPPPPPPPPPPPPPPPPPPPPPPPPPPPPPPPPPPPPPPPPPPPPPPPPPPPPPPPPPPPPPPPPPPPPPPPPPPPPPPPPPPPPPPPPPPPPPPPPPPPPPPPPPPPPPPPPPPPPPPPPPPPPPPPPPPPPPPPPPPPPPPPPPPPPPPPPPPPPPPPPPPPPPPPPPPPPPPPPPPPPPPPPPPPPPPPPPPPPPPPPPPPPPPPPPPPPPPPPPPPPPPPPPPPPPPPPPPPPPPPPPPPPPPPPPPPPPPPPPPPPPPPPPPPPPPPPPPPPPPPPPPPPPPPPPPPPPPPPPPPPPPPPPPPPPPPPPPPPPPPPPPPPPPPPPPPPPPPPPPPPPPPPPPPPPPPPPPPPPPPPPPPPPPPPPPPPPPPPPPPPPPPPPPPPPPPPPPPPPPPPPPPPPPPPPPPPPPPPPPPPPPPPPPPPPPPPPPPPPPPPPPPPPPPPPPPPPPPPPPPPPPPPPPPPPPPPPPPPPPPPPPPPPPPPPPPPPPPPPPPPPPPPPPPPPPPPPPPPPPPPPPPPPPPPPPPPPPPPPPPPPPPPPPPPPPPPPPPPPPPPPPPPPPPPPPPPPPPPPPPPPPPPPPPPPPPPPPPPPPPPPPPPPPPPPPPPPPPPPPPPPPPPPPPPPPPPPPPPPPPPPPPPCCCCCCCCCCCCCCCCCCCCCCCCCCCCCCCCCCCCCCCCCCCCCCCCCCCCCCCCCCCCCCCCCCCCCCCCCCCCCCCCCCCCCCCCCCCCCCCCCCCCCCCCCCCCCCCCCCCCCCCCCCCCCCCCCCCCCCCCCCCCCCCCCCCCCCCCCCCCCCCCCCCCCCCCCCCCCCCCCCCCCCCCCCCCCCCCCCCCCCCCCCCCCCCCCCCCCCCCCCCCCCCCCCCCCCCCCCCCCCCCCCCCCCCCCCCCCCCCCCCCCCCCCCCCCCCCCCCCCCCCCCCCCCCCCCCCCCCCCCCCCCCCCCCCCCCCCCCCCCCCCCCCCCCCCCCCCCCCCCCCCCCCCCCCCCCCCCCCCCCCCCCCCCCCCCCCCCCCCCCCCCCCCCCCCCCCCCCCCCCCCCCCCCCCCCCCCCCCCCCCCCCCCCCCCCCCCCCCCCCCCCCCCCCCCCCCCCCCCCCCCCCCCCCCCCCCCCCCCCCCCCCCCCCCCCCCCCCCCCCCCCCCCCCCCCCCCCCCCCCCCCCCCCCCCCCCCCCCCCCCCCCCCCCCCCCCCCCCCCCCCCCCCCCCCCCCCCCCCCCCCCCCCCCCCCCCCCCCCCCCCCCCCCCCCCCCCCCCCCCCCCCCCCCCCCCCCCCCCCCCCCCCCCCCCCCCCCCCCCCCCCCCCCCCCCCCCCCCCCCCCCCCCCCCCCCCCCCCCCCCCCCCCCCCCCCCCCCCCCCCCCCCCCCCCCCCCCCCCCCCCCCCCCCCCCCCCCCCCCCCCCCCCCCCCCCCCCCCCCCCCCCCCCCCCCCCCCCCCCCCCCCCCCCCCCCCCCCCCCCCCCCCCCCCCCCCCCCCCCCCCCCCCCCCCCCCCCCCCCCCCCCCCCCCCCCCCCCCCCCCCCCCCCCCCCCCCCCCCCCCCCCCCCCCCCCCCCCCCCCCCCCCCCCCCCCCCCCCCCCCCCCCCCCCCCCCCCCCCCCCCCCCCCCCCCCCCCCCCCCCCCCCCCCCCCCCCCCCCCCCCCCCCCCCCCCCCCCCCCCCCCCCCCCCCCCCCCCCCCCCCCCCCCCCCCCCCCCCCCCCCCCCCCCCCCCCCCCCCCCCCCCCCCCCCCCCCCCCCCCCCCCCCCCCCCCCCCCCCCCCCCCCCCCCCCCCCCCCCCCCCCCCCCCCCCCCCCCCCCCCCCCCCCCCCCCCCCCCCCCCCCCCCCCCCCCCCCCCCCCCCCCCCCCCCCCCCCCCCCCCCCCCCCCCCCCCCCCCCCCCCCCCCCCCCCCCCCCCCCCCPPPPPPPPPPPPPPPPPPPPPPPPPPPPPPPPPPPPPPPPPPPPPPPPPPPPPPPPPPPPPPPPPPPPPPPPPPPPPPPPPPPPPPPPPPPPPPPPPPPPPPPPPPPPPPPPPPPPPPPPPPPPPPPPPPPPPPPPPPPPPPPPPPPPPPPPPPPPPPPPPPPPPPPPPPPPPPPPPPPPPPPPPPPPPPPPPPPPPPPPPPPPPPPPPPPPPPPPPPPPPPPPPPPPPPPPPPPPPPPPPPPPPPPPPPPPPPPPPPPPPPPPPPPPPPPPPPPPPPPPPPPPPPPPPPPPPPPPPPPPPPPPPPPPPPPPPPPPPPPPPPPPPPPPPPPPPPPPPPPPPPPPPPPPPPPPPPPPPPPPPPPPPPPPPPPPPPPPPPPPPPPPPPPPPPPPPPPPPPPPPPPPPPPPPPPPPPPPPPPPPPPPPPPPPPPPPPPPPPPPPPPPPPPPPPPPPPPPPPPPPPPPPPPPPPPPPPPPPPPPPPPPPPPPPPPPPPPPPPPPPPPPPPPPPPPPPPPPPPPPPPPPPPPPPPPPPPPPPPPPPPPPPPPPPPPPPPPPPPPPPPPPPPPPPPPPPPPPPPPPPPPPPPPPPPPPPPPPPPPPPPPPPPPPPPPPPPPPPPPPPPPPPPPPPPPPPPPPPPPPPPPPPPPPPPPPPPPPPPPPPPPPPPPPPPPPPPPPPPPPPPPPPPPPPPPPPPPPPPPPPPPPPPPPPPPPPPPPPPPPPPPPPPPPPPPPPPPPPPPPPPPPPPPPPPPPPPPPPPPPPPPPPPPPPPPPPPPPPPPPPPPPPPPPPPPPPPPPPPPPPPPPPPPPPPPPPPPPPPPPPPPPPPPPPPPPPPPPPPPPPPPPPPPPPPPPPPPPPPPPPPPPPPPPPPPPPPPPPPPPPPPPPPPPPPPPPPPPPPPPPPPPPPPPPPPPPPPPPPPPPPPPPPPPPPPPPPPPPPPPPPPPPPPPPPPPPPPPPPPPPPPPPPPPPPPPPPPPPPPPPPPPPPPPPPPPPPPPPPPPPPPPPPPPPPPPPPPPPPPPPPPPPPPPPPPPPPPPPPPPPPPPPPPPPPPPPPPPPPPPPPPPPPPPPPPPPPPPPPPPPPPPPPPPPPPPPPPPPPPPPPPPPPPPPPPPPPPPPPPPPPPPPPPPPPPPPPPPPPPPPPPPPPPPPPPPPPPPPPPPPPPPPPPPPPPPPPPPPPPPPPPPPPPPPPPPPPPPPPPPPPPPPPPPPPPPPPPPPPPPPPPPPPPPPPPPPPPPPPPPPPPPPPPPPPPPPPPPPPPPCCCCCCCCCCCCCCCCCCCCCCCCCCCCCCCCCCCCCCCCCCCCCCCCCCCCCCCCCCCCCCCCCCCCCCCCCCCCCCCCCCCCCCCCCCCCCCCCCCCCCCCCCCCCCCCCCCCCCCCCCCCCCCCCCCCCCCCCCCCCCCCCCCCCCCCCCCCCCCCCCCCCCCCCCCCCCCCCCCCCCCCCCCCCCCCCCCCCCCCCCCCCCCCCCCCCCCCCCCCCCCCCCCCCCCCCCCCCCCCCCCCCCCCCCCCCCCCCCCCCCCCCCCCCCCCCCCCCCCCCCCCCCCCCCCCCCCCCCCCCCCCCCCCCCCCCCCCCCCCCCCCCCCCCCCCCCCCCCCCCCCCCCCCCCCCCCCCCCCCCCCCCCCCCCCCCCCCCCCCCCCCCCCCCCCCCCCCCCCCCCCCCCCCCCCCCCCCCCCCCCCCCCCCCCCCCCCCCCCCCCCCCCCCCCCCCCCCCCCCCCCCCCCCCCCCCCCCCCCCCCCCCCCCCCCCCCCCCCCCCCCCCCCCCCCCCCCCCCCCCCCCCCCCCCCCCCCCCCCCCCCCCCCCCCCCCCCCCCCCCCCCCCCCCCCCCCCCCCCCCCCCCCCCCCCCCCCCCCCCCCCCCCCCCCCCCCCCCCCCCCCCCCCCCCCCCCCCCCCCCCCCCCCCCCCCCCCCCCCCCCCCCCCCCCCCCCCCCCCCCCCCCCCCCCCCCCCCCCCCCCCCCCCCCCCCCCCCCCCCCCCCCCCCCCCCCCCCCCCCCCCCCCCCCCCCCCCCCCCCCCCCCCCCCCCCCCCCCCCCCCCCCCCCCCCCCCCCCCCCCCCCCCCCCCCCCCCCCCCCCCCCCCCCCCCCCCCCCCCCCCCCCCCCCCCCCCCCCCCCCCCCCCCCCCCCCCCCCCCCCCCCCCCCCCCCCCCCCCCCCCCCCCCCCCCCCCCCCCCCCCCCCCCCCCCCCCCCCCCCCCCCCCCCCCCCCCCCCCCCCCCCCCCCCCCCCCCCCCCCCCCCCCCCCCCCCCCCCCCCCCCCCCCCCCCCCCCCCCCCCCCCCCCCCCCCCCCCCCCCCCCCCCCCCCCCCCCCCCCCCCCCCCCCCCCCCCCCCCCCCCCCCCCCCCCCCCCCCCCCCCCCCCCCCCCCCCCCCCCCCCCCCCCCCCCCCCCCCCCCCCCCCCCCCCCCCCCCCCCCCCCCCCCCCCCCCCCCCCCCCCCCCCCCCCCCCCCCCCCCCCCCCCCCCCCCCCCCCCCCCCCCCCCCCCCCCCCCCCCCCCCCCCCCCCCCCCCCCCCCCPPPPPPPPPPPPPPPPPPPPPPPPPPPPPPPPPPPPPPPPPPPPPPPPPPPPPPPPPPPPPPPPPPPPPPPPPPPPPPPPPPPPPPPPPPPPPPPPPPPPPPPPPPPPPPPPPPPPPPPPPPPPPPPPPPPPPPPPPPPPPPPPPPPPPPPPPPPPPPPPPPPPPPPPPPPPPPPPPPPPPPPPPPPPPPPPPPPPPPPPPPPPPPPPPPPPPPPPPPPPPPPPPPPPPPPPPPPPPPPPPPPPPPPPPPPPPPPPPPPPPPPPPPPPPPPPPPPPPPPPPPPPPPPPPPPPPPPPPPPPPPPPPPPPPPPPPPPPPPPPPPPPPPPPPPPPPPPPPPPPPPPPPPPPPPPPPPPPPPPPPPPPPPPPPPPPPPPPPPPPPPPPPPPPPPPPPPPPPPPPPPPPPPPPPPPPPPPPPPPPPPPPPPPPPPPPPPPPPPPPPPPPPPPPPPPPPPPPPPPPPPPPPPPPPPPPPPPPPPPPPPPPPPPPPPPPPPPPPPPPPPPPPPPPPPPPPPPPPPPPPPPPPPPPPPPPPPPPPPPPPPPPPPPPPPPPPPPPPPPPPPPPPPPPPPPPPPPPPPPPPPPPPPPPPPPPPPPPPPPPPPPPPPPPPPPPPPPPPPPPPPPPPPPPPPPPPPPPPPPPPPPPPPPPPPPPPPPPPPPPPPPPPPPPPPPPPPPPPPPPPPPPPPPPPPPPPPPPPPPPPPPPPPPPPPPPPPPPPPPPPPPPPPPPPPPPPPPPPPPPPPPPPPPPPPPPPPPPPPPPPPPPPPPPPPPPPPPPPPPPPPPPPPPPPPPPPPPPPPPPPPPPPPPPPPPPPPPPPPPPPPPPPPPPPPPPPPPPPPPPPPPPPPPPPPPPPPPPPPPPPPPPPPPPPPPPPPPPPPPPPPPPPPPPPPPPPPPPPPPPPPPPPPPPPPPPPPPPPPPPPPPPPPPPPPPPPPPPPPPPPPPPPPPPPPPPPPPPPPPPPPPPPPPPPPPPPPPPPPPPPPPPPPPPPPPPPPPPPPPPPPPPPPPPPPPPPPPPPPPPPPPPPPPPPPPPPPPPPPPPPPPPPPPPPPPPPPPPPPPPPPPPPPPPPPPPPPPPPPPPPPPPPPPPPPPPPPPPPPPPPPPPPPPPPPPPPPPPPPPPPPPPPPPPPPPPPPPPPPPPPCCCCCCCCCCCCCCCCCCCCCCCCCCCCCCCCCCCCCCCCCCCCCCCCCCCCCCCCCCCCCCCCCCCCCCCCCCCCCCCCCCCCCCCCCCCCCCCCCCCCCCCCCCCCCCCCCCCCCCCCCCCCCCCCCCCCCCCCCCCCCCCCCCCCCCCCCCCCCCCCCCCCCCCCCCCCCCCCCCCCCCCCCCCCCCCCCCCCCCCCCCCCCCCCCCCCCCCCCCCCCCCCCCCCCCCCCCCCCCCCCCCCCCCCCCCCCCCCCCCCCCCCCCCCCCCCCCCCCCCCCCCCCCCCCCCCCCCCCCCCCCCCCCCCCCCCCCCCCCCCCCCCCCCCCCCCCCCCCCCCCCCCCCCCCCCCCCCCCCCCCCCCCCCCCCCCCCCCCCCCCCCCCCCCCCCCCCCCCCCCCCCCCCCCCCCCCCCCCCCCCCCCCCCCCCCCCCCCCCCCCCCCCCCCCCCCCCCCCCCCCCCCCCCCCCCCCCCCCCCCCCCCCCCCCCCCCCCCCCCCCCCCCCCCCCCCCCCCCCCCCCCCCCCCCCCCCCCCCCCCCCCCCCCCCCCCCCCCCCCCCCCCCCCCCCCCCCCCCCCCCCCCCCCCCCCCCCCCCCCCCCCCCCCCCCCCCCCCCCCCCCCCCCCCCCCCCCCCCCCCCCCCCCCCCCCCCCCCCCCCCCCCCCCCCCCCCCCCCCCCCCCCCCCCCCCCCCCCCCCCCCCCCCCCCCCCCCCCCCCCCCCCCCCCCCCCCCCCCCCCCCCCCCCCCCCCCCCCCCCCCCCCCCCCCCCCCCCCCCCCCCCCCCCCCCCCCCCCCCCCCCCCCCCCCCCCCCCCCCCCCCCCCCCCCCCCCCCCCCCCCCCCCCCCCCCCCCCCCCCCCCCCCCCCCCCCCCCCCCCCCCCCCCCCCCCCCCCCCCCCCCCCCCCCCCCCCCCCCCCCCCCCCCCCCCCCCCCCCCCCCCCCCCCCCCCCCCCCCCCCCCCCCCCCCCCCCCCCCCCCCCCCCCCCCCCCCCCCCCCCCCCCCCCCCCCCCCCCCCCCCCCCCCCCCCCCCCCCCCCCCCCCCCCCCCCCCCCCCCCCCCCCCCCCCCCCCCCCCCCCCCCCCCCCCCCCCCCCCCCCCCCCCCCCCCCCCCCCCCCCCCCCCCCCCCCCCCCCCCCCCPPPPPPPPPPPPPPPPPPPPPPPPPPPPPPPPPPPPPPPPPPPPPPPPPPPPPPPPPPPPPPPPPPPPPPPPPPPPPPPPPPPPPPPPPPPPPPPPPPPPPPPPPPPPPPPPPPPPPPPPPPPPPPPPPPPPPPPPPPPPPPPPPPPPPPPPPPPPPPPPPPPPPPPPPPPPPPPPPPPPPPPPPPPPPPPPPPPPPPPPPPPPPPPPPPPPPPPPPPPPPPPPPPPPPPPPPPPPPPPPPPPPPPPPPPPPPPPPPPPPPPPPPPPPPPPPPPPPPPPPPPPPPPPPPPPPPPPPPPPPPPPPPPPPPPPPPPPPPPPPPPPPPPPPPPPPPPPPPPPPPPPPPPPPPPPPPPPPPPPPPPPPPPPPPPPPPPPPPPPPPPPPPPPPPPPPPPPPPPPPPPPPPPPPPPPPPPPPPPPPPPPPPPPPPPPPPPPPPPPPPPPPPPPPPPPPPPPPPPPPPPPPPPPPPPPPPPPPPPPPPPPPPPPPPPPPPPPPPPPPPPPPPPPPPPPPPPPPPPPPPPPPPPPPPPPPPPPPPPPPPPPPPPPPPPPPPPPPPPPPPPPPPPPPPPPPPPPPPPPPPPPPPPPPPPPPPPPPPPPPPPPPPPPPPPPPPPPPPPPPPPPPPPPPPPPPPPPPPPPPPPPPPPPPPPPPPPPPPPPPPPPPPPPPPPPPPPPPPPPPPPPPPPPPPPPPPPPPPPPPPPPPPPPPPPPPPPPPPPPPPPPPPPPPPPPPPPPPPPPPPPPPPPPPPPPPPPPPPPPPPPPPPPPPPPPPPPPPPPPPPPPPPPPPPPPPPPPPPPPPPPPPPPPPPPPPPPPPPPPPPPPPPPPPPPPPPPPPPPPPPPPPPPPPPPPPPPPPPPPPPPPPPPPPPPPPPPPPPPPPPPPPPPPPPPPPPPPPPPPPPPPPPPPPPPPPPPPPPPPPPPPPPPPPPPPPPPPPPPPPPPPPPPPPPPPPPPPPPPPPPPPPPPPPPPPPPPPPPPPPPPPPPPPPPPPPPPPPPPPPPPPPPPPPPPPPPPPPPPPPPPPPPPPPPPPPPPPPPPPPPPPPPPPPPPPPPPPPPPPPPPPPPPPPPPPPPPPPPPPPPPPPPPPPPPPPPPPPPPPPPPPPPPPPPPPPPPPPPPPPPPPPPPPPPPPPPPPPPPPPPPPPPPPPPPPPPPPPPPPPPPPPPPPPPPPPPPPPPPPPPPPPPPPPPPPPPPPPPPPPPPPPPPPPPPPPPPPPPPPPPPPPPPPPPPPPPPPPPPPPPPPPPPPPPPPPPPPPPPPPCCCCCCCCCCCCCCCCCCCCCCCCCCCCCCCCCCCCCCCCCCCCCCCCCCCCCCCCCCCCCCCCCCCCCCCCCCCCCCCCCCCCCCCCCCCCCCCCCCCCCCCCCCCCCCCCCCCCCCCCCCCCCCCCCCCCCCCCCCCCCCCCCCCCCCCCCCCCCCCCCCCCCCCCCCCCCCCCCCCCCCCCCCCCCCCCCCCCCCCCCCCCCCCCCCCCCCCCCCCCCCCCCCCCCCCCCCCCCCCCCCCCCCCCCCCCCCCCCCCCCCCCCCCCCCCCCCCCCCCCCCCCCCCCCCCCCCCCCCCCCCCCCCCCCCCCCCCCCCCCCCCCCCCCCCCCCCCCCCCCCCCCCCCCCCCCCCCCCCCCCCCCCCCCCCCCCCCCCCCCCCCCCCCCCCCCCCCCCCCCCCCCCCCCCCCCCCCCCCCCCCCCCCCCCCCCCCCCCCCCCCCCCCCCCCCCCCCCCCCCCCCCCCCCCCCCCCCCCCCCCCCCCCCCCCCCCCCCCCCCCCCCCCCCCCCCCCCCCCCCCCCCCCCCCCCCCCCCCCCCCCCCCCCCCCCCCCCCCCCCCCCCCCCCCCCCCCCCCCCCCCCCCCCCCCCCCCCCCCCCCCCCCCCCCCCCCCCCCCCCCCCCCCCCCCCCCCCCCCCCCCCCCCCCCCCCCCCCCCCCCCCCCCCCCCCCCCCCCCCCCCCCCCCCCCCCCCCCCCCCCCCCCCCCCCCCCCCCCCCCCCCCCCCCCCCCCCCCCCCCCCCCCCCCCCCCCCCCCCCCCCCCCCCCCCCCCCCCCCCCCCCCCCCCCCCCCCCCCCCCCCCCCCCCCCCCCCCCCCCCCCCCCCCCCCCCCCCCCCCCCCCCCCCCCCCCCCCCCCCCCCCCCCCCCCCCCCCCCCCCCCCCCCCCCCCCCCCCCCCCCCCCCCCCCCCCCCCCCCCCCCCCCCCCCCCCCCCCCCCCCCCCCCCCCCCCCCCCCCCCCCCCCCCCCCCCCCCCCCCCCCCCCCCCCCCCCCCCCCCCCCCCCCCCCCCCCCCCCCCCCCCCCCCCCCCCCCCCCCCCCCCCCCCCCCCCCCCCCCCCCCCCCCCCCCCCCCCCCCCCCCCCCCCCCCCCCCCCCCCCCCCCCCCCCCCCCCCCCCCCCCCCCCCCCCCCCCCCCCCCCCCCCCCCCCCCCCCCCCCCCCCCCCCCCCCCCCCCCCCCCCCCCCCCCCCCCCCCCCCCCCCCCCCCCCCCCCCCCCCCCCCCCCCCCCCCCCCCCCCCCCCCCCCCCCCCCCCCCCCCPPPPPPPPPPPPPPPPPPPPPPPPPPPPPPPPPPPPPPPPPPPPPPPPPPPPPPPPPPPPPPPPPPPPPPPPPPPPPPPPPPPPPPPPPPPPPPPPPPPPPPPPPPPPPPPPPPPPPPPPPPPPPPPPPPPPPPPPPPPPPPPPPPPPPPPPPPPPPPPPPPPPPPPPPPPPPPPPPPPPPPPPPPPPPPPPPPPPPPPPPPPPPPPPPPPPPPPPPPPPPPPPPPPPPPPPPPPPPPPPPPPPPPPPPPPPPPPPPPPPPPPPPPPPPPPPPPPPPPPPPPPPPPPPPPPPPPPPPPPPPPPPPPPPPPPPPPPPPPPPPPPPPPPPPPPPPPPPPPPPPPPPPPPPPPPPPPPPPPPPPPPPPPPPPPPPPPPPPPPPPPPPPPPPPPPPPPPPPPPPPPPPPPPPPPPPPPPPPPPPPPPPPPPPPPPPPPPPPPPPPPPPPPPPPPPPPPPPPPPPPPPPPPPPPPPPPPPPPPPPPPPPPPPPPPPPPPPPPPPPPPPPPPPPPPPPPPPPPPPPPPPPPPPPPPPPPPPPPPPPPPPPPPPPPPPPPPPPPPPPPPPPPPPPPPPPPPPPPPPPPPPPPPPPPPPPPPPPPPPPPPPPPPPPPPPPPPPPPPPPPPPPPPPPPPPPPPPPPPPPPPPPPPPPPPPPPPPPPPPPPPPPPPPPPPPPPPPPPPPPPPPPPPPPPPPPPPPPPPPPPPPPPPPPPPPPPPPPPPPPPPPPPPPPPPPPPPPPPPPPPPPPPPPPPPPPPPPPPPPPPPPPPPPPPPPPPPPPPPPPPPPPPPPPPPPPPPPPPPPPPPPPPPPPPPPPPPPPPPPPPPPPPPPPPPPPPPPPPPPPPPPPPPPPPPPPPPPPPPPPPPPPPPPPPPPPPPPPPPPPPPPPPPPPPPPPPPPPPPPPPPPPPPPPPPPPPPPPPPPPPPPPPPPPPPPPPPPPPPPPPPPPPPPPPPPPPPPPPPPPPPPPPPPPPPPPPPPPPPPPPPPPPPPPPPPPPPPPPPPPPPPPPPPPPPPPPPPPPPPPPPPPPPPPPPPPPPPPPPPPPPPPPPPPPPPPPPPPPPPPPPPPPPPPPPPPPPPPPPPPPPPPPPPPPPPPPPPPPPPPPPPPPPPPPPPPPPPPPPPPPPPPPPPPPPPPPPPPPPPPPPPPPPPPPPPPPPPPPPPPPPPPPPPPPPPPPPPPPPPPPPPPPPPPPPPPPPPPPPPPPPPPPPPPPPPPPPPPPPPPPPPPPPPPPPPPPPPPPPPPPPPPPPPPPPPPPPPPPPPPCCCCCCCCCCCCCCCCCCCCCCCCCCCCCCCCCCCCCCCCCCCCCCCCCCCCCCCCCCCCCCCCCCCCCCCCCCCCCCCCCCCCCCCCCCCCCCCCCCCCCCCCCCCCCCCCCCCCCCCCCCCCCCCCCCCCCCCCCCCCCCCCCCCCCCCCCCCCCCCCCCCCCCCCCCCCCCCCCCCCCCCCCCCCCCCCCCCCCCCCCCCCCCCCCCCCCCCCCCCCCCCCCCCCCCCCCCCCCCCCCCCCCCCCCCCCCCCCCCCCCCCCCCCCCCCCCCCCCCCCCCCCCCCCCCCCCCCCCCCCCCCCCCCCCCCCCCCCCCCCCCCCCCCCCCCCCCCCCCCCCCCCCCCCCCCCCCCCCCCCCCCCCCCCCCCCCCCCCCCCCCCCCCCCCCCCCCCCCCCCCCCCCCCCCCCCCCCCCCCCCCCCCCCCCCCCCCCCCCCCCCCCCCCCCCCCCCCCCCCCCCCCCCCCCCCCCCCCCCCCCCCCCCCCCCCCCCCCCCCCCCCCCCCCCCCCCCCCCCCCCCCCCCCCCCCCCCCCCCCCCCCCCCCCCCCCCCCCCCCCCCCCCCCCCCCCCCCCCCCCCCCCCCCCCCCCCCCCCCCCCCCCCCCCCCCCCCCCCCCCCCCCCCCCCCCCCCCCCCCCCCCCCCCCCCCCCCCCCCCCCCCCCCCCCCCCCCCCCCCCCCCCCCCCCCCCCCCCCCCCCCCCCCCCCCCCCCCCCCCCCCCCCCCCCCCCCCCCCCCCCCCCCCCCCCCCCCCCCCCCCCCCCCCCCCCCCCCCCCCCCCCCCCCCCCCCCCCCCCCCCCCCCCCCCCCCCCCCCCCCCCCCCCCCCCCCCCCCCCCCCCCCCCCCCCCCCCCCCCCCCCCCCCCCCCCCCCCCCCCCCCCCCCCCCCCCCCCCCCCCCCCCCCCCCCCCCCCCCCCCCCCCCCCCCCCCCCCCCCCCCCCCCCCCCCCCCCCCCCCCCCCCCCCCCCCCCCCCCCCCCCCCCCCCCCCCCCCCCCCCCCCCCCCCCCCCCCCCCCCCCCCCCCCCCCCCCCCCCCCCCCCCCCCCCCCCCCCCCCCCCCCCCCCCCCCCCCCCCCCCCCCCCCCCCCCCCCCCCCCCCCCCCCCCCCCCCCCCCCCCCCCCCCCCCCCCCCCCCCCCCCCCCCCCCCCCCCCCCCCCCCCCCCCCCCCCCCCCCCCCCCCCCCCCCCCCCCCCCCCCCCCCCCCCCCCCCCCCCCCCCCCCCCCCCCCCCCCCCCCCCCCCCCCCCCCCCCCCCCCCPPPPPPPPPPPPPPPPPPPPPPPPPPPPPPPPPPPPPPPPPPPPPPPPPPPPPPPPPPPPPPPPPPPPPPPPPPPPPPPPPPPPPPPPPPPPPPPPPPPPPPPPPPPPPPPPPPPPPPPPPPPPPPPPPPPPPPPPPPPPPPPPPPPPPPPPPPPPPPPPPPPPPPPPPPPPPPPPPPPPPPPPPPPPPPPPPPPPPPPPPPPPPPPPPPPPPPPPPPPPPPPPPPPPPPPPPPPPPPPPPPPPPPPPPPPPPPPPPPPPPPPPPPPPPPPPPPPPPPPPPPPPPPPPPPPPPPPPPPPPPPPPPPPPPPPPPPPPPPPPPPPPPPPPPPPPPPPPPPPPPPPPPPPPPPPPPPPPPPPPPPPPPPPPPPPPPPPPPPPPPPPPPPPPPPPPPPPPPPPPPPPPPPPPPPPPPPPPPPPPPPPPPPPPPPPPPPPPPPPPPPPPPPPPPPPPPPPPPPPPPPPPPPPPPPPPPPPPPPPPPPPPPPPPPPPPPPPPPPPPPPPPPPPPPPPPPPPPPPPPPPPPPPPPPPPPPPPPPPPPPPPPPPPPPPPPPPPPPPPPPPPPPPPPPPPPPPPPPPPPPPPPPPPPPPPPPPPPPPPPPPPPPPPPPPPPPPPPPPPPPPPPPPPPPPPPPPPPPPPPPPPPPPPPPPPPPPPPPPPPPPPPPPPPPPPPPPPPPPPPPPPPPPPPPPPPPPPPPPPPPPPPPPPPPPPPPPPPPPPPPPPPPPPPPPPPPPPPPPPPPPPPPPPPPPPPPPPPPPPPPPPPPPPPPPPPPPPPPPPPPPPPPPPPPPPPPPPPPPPPPPPPPPPPPPPPPPPPPPPPPPPPPPPPPPPPPPPPPPPPPPPPPPPPPPPPPPPPPPPPPPPPPPPPPPPPPPPPPPPPPPPPPPPPPPPPPPPPPPPPPPPPPPPPPPPPPPPPPPPPPPPPPPPPPPPPPPPPPPPPPPPPPPPPPPPPPPPPPPPPPPPPPPPPPPPPPPPPPPPPPPPPPPPPPPPPPPPPPPPPPPPPPPPPPPPPPPPPPPPPPPPPPPPPPPPPPPPPPPPPPPPPPPPPPPPPPPPPPPPPPPPPPPPPPPPPPPPPPPPPPPPPPPPPPPPPPPPPPPPPPPPPPPPPPPPPPPPPPPPPPPPPPPPPPPPPPPPPPPPPPPPPPPPPPPPPPPPPPPPPPPPPPPPPPPPPPPPPPPPPPPPPPPPPPPPPPPPPPPPPPPPPPPPPPPPPPPPPPPPPPPPPPPPPPPPPPPPPPPPPPPPPPPPPPPPPPPPPPPPPCCCCCCCCCCCCCCCCCCCCCCCCCCCCCCCCCCCCCCCCCCCCCCCCCCCCCCCCCCCCCCCCCCCCCCCCCCCCCCCCCCCCCCCCCCCCCCCCCCCCCCCCCCCCCCCCCCCCCCCCCCCCCCCCCCCCCCCCCCCCCCCCCCCCCCCCCCCCCCCCCCCCCCCCCCCCCCCCCCCCCCCCCCCCCCCCCCCCCCCCCCCCCCCCCCCCCCCCCCCCCCCCCCCCCCCCCCCCCCCCCCCCCCCCCCCCCCCCCCCCCCCCCCCCCCCCCCCCCCCCCCCCCCCCCCCCCCCCCCCCCCCCCCCCCCCCCCCCCCCCCCCCCCCCCCCCCCCCCCCCCCCCCCCCCCCCCCCCCCCCCCCCCCCCCCCCCCCCCCCCCCCCCCCCCCCCCCCCCCCCCCCCCCCCCCCCCCCCCCCCCCCCCCCCCCCCCCCCCCCCCCCCCCCCCCCCCCCCCCCCCCCCCCCCCCCCCCCCCCCCCCCCCCCCCCCCCCCCCCCCCCCCCCCCCCCCCCCCCCCCCCCCCCCCCCCCCCCCCCCCCCCCCCCCCCCCCCCCCCCCCCCCCCCCCCCCCCCCCCCCCCCCCCCCCCCCCCCCCCCCCCCCCCCCCCCCCCCCCCCCCCCCCCCCCCCCCCCCCCCCCCCCCCCCCCCCCCCCCCCCCCCCCCCCCCCCCCCCCCCCCCCCCCCCCCCCCCCCCCCCCCCCCCCCCCCCCCCCCCCCCCCCCCCCCCCCCCCCCCCCCCCCCCCCCCCCCCCCCCCCCCCCCCCCCCCCCCCCCCCCCCCCCCCCCCCCCCCCCCCCCCCCCCCCCCCCCCCCCCCCCCCCCCCCCCCCCCCCCCCCCCCCCCCCCCCCCCCCCCCCCCCCCCCCCCCCCCCCCCCCCCCCCCCCCCCCCCCCCCCCCCCCCCCCCCCCCCCCCCCCCCCCCCCCCCCCCCCCCCCCCCCCCCCCCCCCCCCCCCCCCCCCCCCCCCCCCCCCCCCCCCCCCCCCCCCCCCCCCCCCCCCCCCCCCCCCCCCCCCCCCCCCCCCCCCCCCCCCCCCCCCCCCCCCCCCCCCCCCCCCCCCCCCCCCCCCCCCCCCCCCCCCCCCCCCCCCCCCCCCCCCCCCCCCCCCCCCCCCCCCCCCCCCCCCCCCCCCCCCCCCCCCCCCCCCCCCCCCCCCCCCCCCCCCCCCCCCCCCCCCCCCCCCCCCCCCCCCCCCCCCCCCCCCCCCCCCCCCCCCCCCCCCCCCCCCCCCCCCCCCCCCCCCCCCCCCCCCCCCCC'\n '2004-012004-022004-032004-042004-052004-062004-072004-082004-092004-102004-112004-122005-012005-022005-032005-042005-052005-062005-072005-082005-092005-102005-112005-122006-012006-022006-032006-042006-052006-062006-072006-082006-092006-102006-112006-122007-012007-022007-032007-042007-052007-062007-072007-082007-092007-102007-112007-122008-012008-022008-032008-042008-052008-062008-072008-082008-092008-102008-112008-122009-012009-022009-032009-042009-052009-062009-072009-082009-092009-102009-112009-122010-012010-022010-032010-042010-052010-062010-072010-082010-092010-102010-112010-122011-012011-022011-032011-042011-052011-062011-072011-082011-092011-102011-112011-122012-012012-022012-032012-042012-052012-062012-072012-082012-092012-102012-112012-122013-012013-022013-032013-042013-052013-062013-072013-082013-092013-102013-112013-122014-012014-022014-032014-042014-052014-062014-072014-082014-092014-102014-112014-122015-012015-022015-032015-042015-052015-062015-072015-082004-012004-022004-032004-042004-052004-062004-072004-082004-092004-102004-112004-122005-012005-022005-032005-042005-052005-062005-072005-082005-092005-102005-112005-122006-012006-022006-032006-042006-052006-062006-072006-082006-092006-102006-112006-122007-012007-022007-032007-042007-052007-062007-072007-082007-092007-102007-112007-122008-012008-022008-032008-042008-052008-062008-072008-082008-092008-102008-112008-122009-012009-022009-032009-042009-052009-062009-072009-082009-092009-102009-112009-122010-012010-022010-032010-042010-052010-062010-072010-082010-092010-102010-112010-122011-012011-022011-032011-042011-052011-062011-072011-082011-092011-102011-112011-122012-012012-022012-032012-042012-052012-062012-072012-082012-092012-102012-112012-122013-012013-022013-032013-042013-052013-062013-072013-082013-092013-102013-112013-122014-012014-022014-032014-042014-052014-062014-072014-082014-092014-102014-112014-122015-012015-022015-032015-042015-052015-062015-072015-082004-012004-022004-032004-042004-052004-062004-072004-082004-092004-102004-112004-122005-012005-022005-032005-042005-052005-062005-072005-082005-092005-102005-112005-122006-012006-022006-032006-042006-052006-062006-072006-082006-092006-102006-112006-122007-012007-022007-032007-042007-052007-062007-072007-082007-092007-102007-112007-122008-012008-022008-032008-042008-052008-062008-072008-082008-092008-102008-112008-122009-012009-022009-032009-042009-052009-062009-072009-082009-092009-102009-112009-122010-012010-022010-032010-042010-052010-062010-072010-082010-092010-102010-112010-122011-012011-022011-032011-042011-052011-062011-072011-082011-092011-102011-112011-122012-012012-022012-032012-042012-052012-062012-072012-082012-092012-102012-112012-122013-012013-022013-032013-042013-052013-062013-072013-082013-092013-102013-112013-122014-012014-022014-032014-042014-052014-062014-072014-082014-092014-102014-112014-122015-012015-022015-032015-042015-052015-062015-072015-082004-012004-022004-032004-042004-052004-062004-072004-082004-092004-102004-112004-122005-012005-022005-032005-042005-052005-062005-072005-082005-092005-102005-112005-122006-012006-022006-032006-042006-052006-062006-072006-082006-092006-102006-112006-122007-012007-022007-032007-042007-052007-062007-072007-082007-092007-102007-112007-122008-012008-022008-032008-042008-052008-062008-072008-082008-092008-102008-112008-122009-012009-022009-032009-042009-052009-062009-072009-082009-092009-102009-112009-122010-012010-022010-032010-042010-052010-062010-072010-082010-092010-102010-112010-122011-012011-022011-032011-042011-052011-062011-072011-082011-092011-102011-112011-122012-012012-022012-032012-042012-052012-062012-072012-082012-092012-102012-112012-122013-012013-022013-032013-042013-052013-062013-072013-082013-092013-102013-112013-122014-012014-022014-032014-042014-052014-062014-072014-082014-092014-102014-112014-122015-012015-022015-032015-042015-052015-062015-072015-082004-012004-022004-032004-042004-052004-062004-072004-082004-092004-102004-112004-122005-012005-022005-032005-042005-052005-062005-072005-082005-092005-102005-112005-122006-012006-022006-032006-042006-052006-062006-072006-082006-092006-102006-112006-122007-012007-022007-032007-042007-052007-062007-072007-082007-092007-102007-112007-122008-012008-022008-032008-042008-052008-062008-072008-082008-092008-102008-112008-122009-012009-022009-032009-042009-052009-062009-072009-082009-092009-102009-112009-122010-012010-022010-032010-042010-052010-062010-072010-082010-092010-102010-112010-122011-012011-022011-032011-042011-052011-062011-072011-082011-092011-102011-112011-122012-012012-022012-032012-042012-052012-062012-072012-082012-092012-102012-112012-122013-012013-022013-032013-042013-052013-062013-072013-082013-092013-102013-112013-122014-012014-022014-032014-042014-052014-062014-072014-082014-092014-102014-112014-122015-012015-022015-032015-042015-052015-062015-072015-082004-012004-022004-032004-042004-052004-062004-072004-082004-092004-102004-112004-122005-012005-022005-032005-042005-052005-062005-072005-082005-092005-102005-112005-122006-012006-022006-032006-042006-052006-062006-072006-082006-092006-102006-112006-122007-012007-022007-032007-042007-052007-062007-072007-082007-092007-102007-112007-122008-012008-022008-032008-042008-052008-062008-072008-082008-092008-102008-112008-122009-012009-022009-032009-042009-052009-062009-072009-082009-092009-102009-112009-122010-012010-022010-032010-042010-052010-062010-072010-082010-092010-102010-112010-122011-012011-022011-032011-042011-052011-062011-072011-082011-092011-102011-112011-122012-012012-022012-032012-042012-052012-062012-072012-082012-092012-102012-112012-122013-012013-022013-032013-042013-052013-062013-072013-082013-092013-102013-112013-122014-012014-022014-032014-042014-052014-062014-072014-082014-092014-102014-112014-122015-012015-022015-032015-042015-052015-062015-072015-082004-012004-022004-032004-042004-052004-062004-072004-082004-092004-102004-112004-122005-012005-022005-032005-042005-052005-062005-072005-082005-092005-102005-112005-122006-012006-022006-032006-042006-052006-062006-072006-082006-092006-102006-112006-122007-012007-022007-032007-042007-052007-062007-072007-082007-092007-102007-112007-122008-012008-022008-032008-042008-052008-062008-072008-082008-092008-102008-112008-122009-012009-022009-032009-042009-052009-062009-072009-082009-092009-102009-112009-122010-012010-022010-032010-042010-052010-062010-072010-082010-092010-102010-112010-122011-012011-022011-032011-042011-052011-062011-072011-082011-092011-102011-112011-122012-012012-022012-032012-042012-052012-062012-072012-082012-092012-102012-112012-122013-012013-022013-032013-042013-052013-062013-072013-082013-092013-102013-112013-122014-012014-022014-032014-042014-052014-062014-072014-082014-092014-102014-112014-122015-012015-022015-032015-042015-052015-062015-072015-082004-012004-022004-032004-042004-052004-062004-072004-082004-092004-102004-112004-122005-012005-022005-032005-042005-052005-062005-072005-082005-092005-102005-112005-122006-012006-022006-032006-042006-052006-062006-072006-082006-092006-102006-112006-122007-012007-022007-032007-042007-052007-062007-072007-082007-092007-102007-112007-122008-012008-022008-032008-042008-052008-062008-072008-082008-092008-102008-112008-122009-012009-022009-032009-042009-052009-062009-072009-082009-092009-102009-112009-122010-012010-022010-032010-042010-052010-062010-072010-082010-092010-102010-112010-122011-012011-022011-032011-042011-052011-062011-072011-082011-092011-102011-112011-122012-012012-022012-032012-042012-052012-062012-072012-082012-092012-102012-112012-122013-012013-022013-032013-042013-052013-062013-072013-082013-092013-102013-112013-122014-012014-022014-032014-042014-052014-062014-072014-082014-092014-102014-112014-122015-012015-022015-032015-042015-052015-062015-072015-082004-012004-022004-032004-042004-052004-062004-072004-082004-092004-102004-112004-122005-012005-022005-032005-042005-052005-062005-072005-082005-092005-102005-112005-122006-012006-022006-032006-042006-052006-062006-072006-082006-092006-102006-112006-122007-012007-022007-032007-042007-052007-062007-072007-082007-092007-102007-112007-122008-012008-022008-032008-042008-052008-062008-072008-082008-092008-102008-112008-122009-012009-022009-032009-042009-052009-062009-072009-082009-092009-102009-112009-122010-012010-022010-032010-042010-052010-062010-072010-082010-092010-102010-112010-122011-012011-022011-032011-042011-052011-062011-072011-082011-092011-102011-112011-122012-012012-022012-032012-042012-052012-062012-072012-082012-092012-102012-112012-122013-012013-022013-032013-042013-052013-062013-072013-082013-092013-102013-112013-122014-012014-022014-032014-042014-052014-062014-072014-082014-092014-102014-112014-122015-012015-022015-032015-042015-052015-062015-072015-082004-012004-022004-032004-042004-052004-062004-072004-082004-092004-102004-112004-122005-012005-022005-032005-042005-052005-062005-072005-082005-092005-102005-112005-122006-012006-022006-032006-042006-052006-062006-072006-082006-092006-102006-112006-122007-012007-022007-032007-042007-052007-062007-072007-082007-092007-102007-112007-122008-012008-022008-032008-042008-052008-062008-072008-082008-092008-102008-112008-122009-012009-022009-032009-042009-052009-062009-072009-082009-092009-102009-112009-122010-012010-022010-032010-042010-052010-062010-072010-082010-092010-102010-112010-122011-012011-022011-032011-042011-052011-062011-072011-082011-092011-102011-112011-122012-012012-022012-032012-042012-052012-062012-072012-082012-092012-102012-112012-122013-012013-022013-032013-042013-052013-062013-072013-082013-092013-102013-112013-122014-012014-022014-032014-042014-052014-062014-072014-082014-092014-102014-112014-122015-012015-022015-032015-042015-052015-062015-072015-082004-012004-022004-032004-042004-052004-062004-072004-082004-092004-102004-112004-122005-012005-022005-032005-042005-052005-062005-072005-082005-092005-102005-112005-122006-012006-022006-032006-042006-052006-062006-072006-082006-092006-102006-112006-122007-012007-022007-032007-042007-052007-062007-072007-082007-092007-102007-112007-122008-012008-022008-032008-042008-052008-062008-072008-082008-092008-102008-112008-122009-012009-022009-032009-042009-052009-062009-072009-082009-092009-102009-112009-122010-012010-022010-032010-042010-052010-062010-072010-082010-092010-102010-112010-122011-012011-022011-032011-042011-052011-062011-072011-082011-092011-102011-112011-122012-012012-022012-032012-042012-052012-062012-072012-082012-092012-102012-112012-122013-012013-022013-032013-042013-052013-062013-072013-082013-092013-102013-112013-122014-012014-022014-032014-042014-052014-062014-072014-082014-092014-102014-112014-122015-012015-022015-032015-042015-052015-062015-072015-082004-012004-022004-032004-042004-052004-062004-072004-082004-092004-102004-112004-122005-012005-022005-032005-042005-052005-062005-072005-082005-092005-102005-112005-122006-012006-022006-032006-042006-052006-062006-072006-082006-092006-102006-112006-122007-012007-022007-032007-042007-052007-062007-072007-082007-092007-102007-112007-122008-012008-022008-032008-042008-052008-062008-072008-082008-092008-102008-112008-122009-012009-022009-032009-042009-052009-062009-072009-082009-092009-102009-112009-122010-012010-022010-032010-042010-052010-062010-072010-082010-092010-102010-112010-122011-012011-022011-032011-042011-052011-062011-072011-082011-092011-102011-112011-122012-012012-022012-032012-042012-052012-062012-072012-082012-092012-102012-112012-122013-012013-022013-032013-042013-052013-062013-072013-082013-092013-102013-112013-122014-012014-022014-032014-042014-052014-062014-072014-082014-092014-102014-112014-122015-012015-022015-032015-042015-052015-062015-072015-082004-012004-022004-032004-042004-052004-062004-072004-082004-092004-102004-112004-122005-012005-022005-032005-042005-052005-062005-072005-082005-092005-102005-112005-122006-012006-022006-032006-042006-052006-062006-072006-082006-092006-102006-112006-122007-012007-022007-032007-042007-052007-062007-072007-082007-092007-102007-112007-122008-012008-022008-032008-042008-052008-062008-072008-082008-092008-102008-112008-122009-012009-022009-032009-042009-052009-062009-072009-082009-092009-102009-112009-122010-012010-022010-032010-042010-052010-062010-072010-082010-092010-102010-112010-122011-012011-022011-032011-042011-052011-062011-072011-082011-092011-102011-112011-122012-012012-022012-032012-042012-052012-062012-072012-082012-092012-102012-112012-122013-012013-022013-032013-042013-052013-062013-072013-082013-092013-102013-112013-122014-012014-022014-032014-042014-052014-062014-072014-082014-092014-102014-112014-122015-012015-022015-032015-042015-052015-062015-072015-082004-012004-022004-032004-042004-052004-062004-072004-082004-092004-102004-112004-122005-012005-022005-032005-042005-052005-062005-072005-082005-092005-102005-112005-122006-012006-022006-032006-042006-052006-062006-072006-082006-092006-102006-112006-122007-012007-022007-032007-042007-052007-062007-072007-082007-092007-102007-112007-122008-012008-022008-032008-042008-052008-062008-072008-082008-092008-102008-112008-122009-012009-022009-032009-042009-052009-062009-072009-082009-092009-102009-112009-122010-012010-022010-032010-042010-052010-062010-072010-082010-092010-102010-112010-122011-012011-022011-032011-042011-052011-062011-072011-082011-092011-102011-112011-122012-012012-022012-032012-042012-052012-062012-072012-082012-092012-102012-112012-122013-012013-022013-032013-042013-052013-062013-072013-082013-092013-102013-112013-122014-012014-022014-032014-042014-052014-062014-072014-082014-092014-102014-112014-122015-012015-022015-032015-042015-052015-062015-072015-082004-012004-022004-032004-042004-052004-062004-072004-082004-092004-102004-112004-122005-012005-022005-032005-042005-052005-062005-072005-082005-092005-102005-112005-122006-012006-022006-032006-042006-052006-062006-072006-082006-092006-102006-112006-122007-012007-022007-032007-042007-052007-062007-072007-082007-092007-102007-112007-122008-012008-022008-032008-042008-052008-062008-072008-082008-092008-102008-112008-122009-012009-022009-032009-042009-052009-062009-072009-082009-092009-102009-112009-122010-012010-022010-032010-042010-052010-062010-072010-082010-092010-102010-112010-122011-012011-022011-032011-042011-052011-062011-072011-082011-092011-102011-112011-122012-012012-022012-032012-042012-052012-062012-072012-082012-092012-102012-112012-122013-012013-022013-032013-042013-052013-062013-072013-082013-092013-102013-112013-122014-012014-022014-032014-042014-052014-062014-072014-082014-092014-102014-112014-122015-012015-022015-032015-042015-052015-062015-072015-082004-012004-022004-032004-042004-052004-062004-072004-082004-092004-102004-112004-122005-012005-022005-032005-042005-052005-062005-072005-082005-092005-102005-112005-122006-012006-022006-032006-042006-052006-062006-072006-082006-092006-102006-112006-122007-012007-022007-032007-042007-052007-062007-072007-082007-092007-102007-112007-122008-012008-022008-032008-042008-052008-062008-072008-082008-092008-102008-112008-122009-012009-022009-032009-042009-052009-062009-072009-082009-092009-102009-112009-122010-012010-022010-032010-042010-052010-062010-072010-082010-092010-102010-112010-122011-012011-022011-032011-042011-052011-062011-072011-082011-092011-102011-112011-122012-012012-022012-032012-042012-052012-062012-072012-082012-092012-102012-112012-122013-012013-022013-032013-042013-052013-062013-072013-082013-092013-102013-112013-122014-012014-022014-032014-042014-052014-062014-072014-082014-092014-102014-112014-122015-012015-022015-032015-042015-052015-062015-072015-082004-012004-022004-032004-042004-052004-062004-072004-082004-092004-102004-112004-122005-012005-022005-032005-042005-052005-062005-072005-082005-092005-102005-112005-122006-012006-022006-032006-042006-052006-062006-072006-082006-092006-102006-112006-122007-012007-022007-032007-042007-052007-062007-072007-082007-092007-102007-112007-122008-012008-022008-032008-042008-052008-062008-072008-082008-092008-102008-112008-122009-012009-022009-032009-042009-052009-062009-072009-082009-092009-102009-112009-122010-012010-022010-032010-042010-052010-062010-072010-082010-092010-102010-112010-122011-012011-022011-032011-042011-052011-062011-072011-082011-092011-102011-112011-122012-012012-022012-032012-042012-052012-062012-072012-082012-092012-102012-112012-122013-012013-022013-032013-042013-052013-062013-072013-082013-092013-102013-112013-122014-012014-022014-032014-042014-052014-062014-072014-082014-092014-102014-112014-122015-012015-022015-032015-042015-052015-062015-072015-082004-012004-022004-032004-042004-052004-062004-072004-082004-092004-102004-112004-122005-012005-022005-032005-042005-052005-062005-072005-082005-092005-102005-112005-122006-012006-022006-032006-042006-052006-062006-072006-082006-092006-102006-112006-122007-012007-022007-032007-042007-052007-062007-072007-082007-092007-102007-112007-122008-012008-022008-032008-042008-052008-062008-072008-082008-092008-102008-112008-122009-012009-022009-032009-042009-052009-062009-072009-082009-092009-102009-112009-122010-012010-022010-032010-042010-052010-062010-072010-082010-092010-102010-112010-122011-012011-022011-032011-042011-052011-062011-072011-082011-092011-102011-112011-122012-012012-022012-032012-042012-052012-062012-072012-082012-092012-102012-112012-122013-012013-022013-032013-042013-052013-062013-072013-082013-092013-102013-112013-122014-012014-022014-032014-042014-052014-062014-072014-082014-092014-102014-112014-122015-012015-022015-032015-042015-052015-062015-072015-082004-012004-022004-032004-042004-052004-062004-072004-082004-092004-102004-112004-122005-012005-022005-032005-042005-052005-062005-072005-082005-092005-102005-112005-122006-012006-022006-032006-042006-052006-062006-072006-082006-092006-102006-112006-122007-012007-022007-032007-042007-052007-062007-072007-082007-092007-102007-112007-122008-012008-022008-032008-042008-052008-062008-072008-082008-092008-102008-112008-122009-012009-022009-032009-042009-052009-062009-072009-082009-092009-102009-112009-122010-012010-022010-032010-042010-052010-062010-072010-082010-092010-102010-112010-122011-012011-022011-032011-042011-052011-062011-072011-082011-092011-102011-112011-122012-012012-022012-032012-042012-052012-062012-072012-082012-092012-102012-112012-122013-012013-022013-032013-042013-052013-062013-072013-082013-092013-102013-112013-122014-012014-022014-032014-042014-052014-062014-072014-082014-092014-102014-112014-122015-012015-022015-032015-042015-052015-062015-072015-082004-012004-022004-032004-042004-052004-062004-072004-082004-092004-102004-112004-122005-012005-022005-032005-042005-052005-062005-072005-082005-092005-102005-112005-122006-012006-022006-032006-042006-052006-062006-072006-082006-092006-102006-112006-122007-012007-022007-032007-042007-052007-062007-072007-082007-092007-102007-112007-122008-012008-022008-032008-042008-052008-062008-072008-082008-092008-102008-112008-122009-012009-022009-032009-042009-052009-062009-072009-082009-092009-102009-112009-122010-012010-022010-032010-042010-052010-062010-072010-082010-092010-102010-112010-122011-012011-022011-032011-042011-052011-062011-072011-082011-092011-102011-112011-122012-012012-022012-032012-042012-052012-062012-072012-082012-092012-102012-112012-122013-012013-022013-032013-042013-052013-062013-072013-082013-092013-102013-112013-122014-012014-022014-032014-042014-052014-062014-072014-082014-092014-102014-112014-122015-012015-022015-032015-042015-052015-062015-072015-082004-012004-022004-032004-042004-052004-062004-072004-082004-092004-102004-112004-122005-012005-022005-032005-042005-052005-062005-072005-082005-092005-102005-112005-122006-012006-022006-032006-042006-052006-062006-072006-082006-092006-102006-112006-122007-012007-022007-032007-042007-052007-062007-072007-082007-092007-102007-112007-122008-012008-022008-032008-042008-052008-062008-072008-082008-092008-102008-112008-122009-012009-022009-032009-042009-052009-062009-072009-082009-092009-102009-112009-122010-012010-022010-032010-042010-052010-062010-072010-082010-092010-102010-112010-122011-012011-022011-032011-042011-052011-062011-072011-082011-092011-102011-112011-122012-012012-022012-032012-042012-052012-062012-072012-082012-092012-102012-112012-122013-012013-022013-032013-042013-052013-062013-072013-082013-092013-102013-112013-122014-012014-022014-032014-042014-052014-062014-072014-082014-092014-102014-112014-122015-012015-022015-032015-042015-052015-062015-072015-082004-012004-022004-032004-042004-052004-062004-072004-082004-092004-102004-112004-122005-012005-022005-032005-042005-052005-062005-072005-082005-092005-102005-112005-122006-012006-022006-032006-042006-052006-062006-072006-082006-092006-102006-112006-122007-012007-022007-032007-042007-052007-062007-072007-082007-092007-102007-112007-122008-012008-022008-032008-042008-052008-062008-072008-082008-092008-102008-112008-122009-012009-022009-032009-042009-052009-062009-072009-082009-092009-102009-112009-122010-012010-022010-032010-042010-052010-062010-072010-082010-092010-102010-112010-122011-012011-022011-032011-042011-052011-062011-072011-082011-092011-102011-112011-122012-012012-022012-032012-042012-052012-062012-072012-082012-092012-102012-112012-122013-012013-022013-032013-042013-052013-062013-072013-082013-092013-102013-112013-122014-012014-022014-032014-042014-052014-062014-072014-082014-092014-102014-112014-122015-012015-022015-032015-042015-052015-062015-072015-082004-012004-022004-032004-042004-052004-062004-072004-082004-092004-102004-112004-122005-012005-022005-032005-042005-052005-062005-072005-082005-092005-102005-112005-122006-012006-022006-032006-042006-052006-062006-072006-082006-092006-102006-112006-122007-012007-022007-032007-042007-052007-062007-072007-082007-092007-102007-112007-122008-012008-022008-032008-042008-052008-062008-072008-082008-092008-102008-112008-122009-012009-022009-032009-042009-052009-062009-072009-082009-092009-102009-112009-122010-012010-022010-032010-042010-052010-062010-072010-082010-092010-102010-112010-122011-012011-022011-032011-042011-052011-062011-072011-082011-092011-102011-112011-122012-012012-022012-032012-042012-052012-062012-072012-082012-092012-102012-112012-122013-012013-022013-032013-042013-052013-062013-072013-082013-092013-102013-112013-122014-012014-022014-032014-042014-052014-062014-072014-082014-092014-102014-112014-122015-012015-022015-032015-042015-052015-062015-072015-082004-012004-022004-032004-042004-052004-062004-072004-082004-092004-102004-112004-122005-012005-022005-032005-042005-052005-062005-072005-082005-092005-102005-112005-122006-012006-022006-032006-042006-052006-062006-072006-082006-092006-102006-112006-122007-012007-022007-032007-042007-052007-062007-072007-082007-092007-102007-112007-122008-012008-022008-032008-042008-052008-062008-072008-082008-092008-102008-112008-122009-012009-022009-032009-042009-052009-062009-072009-082009-092009-102009-112009-122010-012010-022010-032010-042010-052010-062010-072010-082010-092010-102010-112010-122011-012011-022011-032011-042011-052011-062011-072011-082011-092011-102011-112011-122012-012012-022012-032012-042012-052012-062012-072012-082012-092012-102012-112012-122013-012013-022013-032013-042013-052013-062013-072013-082013-092013-102013-112013-122014-012014-022014-032014-042014-052014-062014-072014-082014-092014-102014-112014-122015-012015-022015-032015-042015-052015-062015-072015-082004-012004-022004-032004-042004-052004-062004-072004-082004-092004-102004-112004-122005-012005-022005-032005-042005-052005-062005-072005-082005-092005-102005-112005-122006-012006-022006-032006-042006-052006-062006-072006-082006-092006-102006-112006-122007-012007-022007-032007-042007-052007-062007-072007-082007-092007-102007-112007-122008-012008-022008-032008-042008-052008-062008-072008-082008-092008-102008-112008-122009-012009-022009-032009-042009-052009-062009-072009-082009-092009-102009-112009-122010-012010-022010-032010-042010-052010-062010-072010-082010-092010-102010-112010-122011-012011-022011-032011-042011-052011-062011-072011-082011-092011-102011-112011-122012-012012-022012-032012-042012-052012-062012-072012-082012-092012-102012-112012-122013-012013-022013-032013-042013-052013-062013-072013-082013-092013-102013-112013-122014-012014-022014-032014-042014-052014-062014-072014-082014-092014-102014-112014-122015-012015-022015-032015-042015-052015-062015-072015-082004-012004-022004-032004-042004-052004-062004-072004-082004-092004-102004-112004-122005-012005-022005-032005-042005-052005-062005-072005-082005-092005-102005-112005-122006-012006-022006-032006-042006-052006-062006-072006-082006-092006-102006-112006-122007-012007-022007-032007-042007-052007-062007-072007-082007-092007-102007-112007-122008-012008-022008-032008-042008-052008-062008-072008-082008-092008-102008-112008-122009-012009-022009-032009-042009-052009-062009-072009-082009-092009-102009-112009-122010-012010-022010-032010-042010-052010-062010-072010-082010-092010-102010-112010-122011-012011-022011-032011-042011-052011-062011-072011-082011-092011-102011-112011-122012-012012-022012-032012-042012-052012-062012-072012-082012-092012-102012-112012-122013-012013-022013-032013-042013-052013-062013-072013-082013-092013-102013-112013-122014-012014-022014-032014-042014-052014-062014-072014-082014-092014-102014-112014-122015-012015-022015-032015-042015-052015-062015-072015-082004-012004-022004-032004-042004-052004-062004-072004-082004-092004-102004-112004-122005-012005-022005-032005-042005-052005-062005-072005-082005-092005-102005-112005-122006-012006-022006-032006-042006-052006-062006-072006-082006-092006-102006-112006-122007-012007-022007-032007-042007-052007-062007-072007-082007-092007-102007-112007-122008-012008-022008-032008-042008-052008-062008-072008-082008-092008-102008-112008-122009-012009-022009-032009-042009-052009-062009-072009-082009-092009-102009-112009-122010-012010-022010-032010-042010-052010-062010-072010-082010-092010-102010-112010-122011-012011-022011-032011-042011-052011-062011-072011-082011-092011-102011-112011-122012-012012-022012-032012-042012-052012-062012-072012-082012-092012-102012-112012-122013-012013-022013-032013-042013-052013-062013-072013-082013-092013-102013-112013-122014-012014-022014-032014-042014-052014-062014-072014-082014-092014-102014-112014-122015-012015-022015-032015-042015-052015-062015-072015-082004-012004-022004-032004-042004-052004-062004-072004-082004-092004-102004-112004-122005-012005-022005-032005-042005-052005-062005-072005-082005-092005-102005-112005-122006-012006-022006-032006-042006-052006-062006-072006-082006-092006-102006-112006-122007-012007-022007-032007-042007-052007-062007-072007-082007-092007-102007-112007-122008-012008-022008-032008-042008-052008-062008-072008-082008-092008-102008-112008-122009-012009-022009-032009-042009-052009-062009-072009-082009-092009-102009-112009-122010-012010-022010-032010-042010-052010-062010-072010-082010-092010-102010-112010-122011-012011-022011-032011-042011-052011-062011-072011-082011-092011-102011-112011-122012-012012-022012-032012-042012-052012-062012-072012-082012-092012-102012-112012-122013-012013-022013-032013-042013-052013-062013-072013-082013-092013-102013-112013-122014-012014-022014-032014-042014-052014-062014-072014-082014-092014-102014-112014-122015-012015-022015-032015-042015-052015-062015-072015-082004-012004-022004-032004-042004-052004-062004-072004-082004-092004-102004-112004-122005-012005-022005-032005-042005-052005-062005-072005-082005-092005-102005-112005-122006-012006-022006-032006-042006-052006-062006-072006-082006-092006-102006-112006-122007-012007-022007-032007-042007-052007-062007-072007-082007-092007-102007-112007-122008-012008-022008-032008-042008-052008-062008-072008-082008-092008-102008-112008-122009-012009-022009-032009-042009-052009-062009-072009-082009-092009-102009-112009-122010-012010-022010-032010-042010-052010-062010-072010-082010-092010-102010-112010-122011-012011-022011-032011-042011-052011-062011-072011-082011-092011-102011-112011-122012-012012-022012-032012-042012-052012-062012-072012-082012-092012-102012-112012-122013-012013-022013-032013-042013-052013-062013-072013-082013-092013-102013-112013-122014-012014-022014-032014-042014-052014-062014-072014-082014-092014-102014-112014-122015-012015-022015-032015-042015-052015-062015-072015-082004-012004-022004-032004-042004-052004-062004-072004-082004-092004-102004-112004-122005-012005-022005-032005-042005-052005-062005-072005-082005-092005-102005-112005-122006-012006-022006-032006-042006-052006-062006-072006-082006-092006-102006-112006-122007-012007-022007-032007-042007-052007-062007-072007-082007-092007-102007-112007-122008-012008-022008-032008-042008-052008-062008-072008-082008-092008-102008-112008-122009-012009-022009-032009-042009-052009-062009-072009-082009-092009-102009-112009-122010-012010-022010-032010-042010-052010-062010-072010-082010-092010-102010-112010-122011-012011-022011-032011-042011-052011-062011-072011-082011-092011-102011-112011-122012-012012-022012-032012-042012-052012-062012-072012-082012-092012-102012-112012-122013-012013-022013-032013-042013-052013-062013-072013-082013-092013-102013-112013-122014-012014-022014-032014-042014-052014-062014-072014-082014-092014-102014-112014-122015-012015-022015-032015-042015-052015-062015-072015-082004-012004-022004-032004-042004-052004-062004-072004-082004-092004-102004-112004-122005-012005-022005-032005-042005-052005-062005-072005-082005-092005-102005-112005-122006-012006-022006-032006-042006-052006-062006-072006-082006-092006-102006-112006-122007-012007-022007-032007-042007-052007-062007-072007-082007-092007-102007-112007-122008-012008-022008-032008-042008-052008-062008-072008-082008-092008-102008-112008-122009-012009-022009-032009-042009-052009-062009-072009-082009-092009-102009-112009-122010-012010-022010-032010-042010-052010-062010-072010-082010-092010-102010-112010-122011-012011-022011-032011-042011-052011-062011-072011-082011-092011-102011-112011-122012-012012-022012-032012-042012-052012-062012-072012-082012-092012-102012-112012-122013-012013-022013-032013-042013-052013-062013-072013-082013-092013-102013-112013-122014-012014-022014-032014-042014-052014-062014-072014-082014-092014-102014-112014-122015-012015-022015-032015-042015-052015-062015-072015-082004-012004-022004-032004-042004-052004-062004-072004-082004-092004-102004-112004-122005-012005-022005-032005-042005-052005-062005-072005-082005-092005-102005-112005-122006-012006-022006-032006-042006-052006-062006-072006-082006-092006-102006-112006-122007-012007-022007-032007-042007-052007-062007-072007-082007-092007-102007-112007-122008-012008-022008-032008-042008-052008-062008-072008-082008-092008-102008-112008-122009-012009-022009-032009-042009-052009-062009-072009-082009-092009-102009-112009-122010-012010-022010-032010-042010-052010-062010-072010-082010-092010-102010-112010-122011-012011-022011-032011-042011-052011-062011-072011-082011-092011-102011-112011-122012-012012-022012-032012-042012-052012-062012-072012-082012-092012-102012-112012-122013-012013-022013-032013-042013-052013-062013-072013-082013-092013-102013-112013-122014-012014-022014-032014-042014-052014-062014-072014-082014-092014-102014-112014-122015-012015-022015-032015-042015-052015-062015-072015-082004-012004-022004-032004-042004-052004-062004-072004-082004-092004-102004-112004-122005-012005-022005-032005-042005-052005-062005-072005-082005-092005-102005-112005-122006-012006-022006-032006-042006-052006-062006-072006-082006-092006-102006-112006-122007-012007-022007-032007-042007-052007-062007-072007-082007-092007-102007-112007-122008-012008-022008-032008-042008-052008-062008-072008-082008-092008-102008-112008-122009-012009-022009-032009-042009-052009-062009-072009-082009-092009-102009-112009-122010-012010-022010-032010-042010-052010-062010-072010-082010-092010-102010-112010-122011-012011-022011-032011-042011-052011-062011-072011-082011-092011-102011-112011-122012-012012-022012-032012-042012-052012-062012-072012-082012-092012-102012-112012-122013-012013-022013-032013-042013-052013-062013-072013-082013-092013-102013-112013-122014-012014-022014-032014-042014-052014-062014-072014-082014-092014-102014-112014-122015-012015-022015-032015-042015-052015-062015-072015-082004-012004-022004-032004-042004-052004-062004-072004-082004-092004-102004-112004-122005-012005-022005-032005-042005-052005-062005-072005-082005-092005-102005-112005-122006-012006-022006-032006-042006-052006-062006-072006-082006-092006-102006-112006-122007-012007-022007-032007-042007-052007-062007-072007-082007-092007-102007-112007-122008-012008-022008-032008-042008-052008-062008-072008-082008-092008-102008-112008-122009-012009-022009-032009-042009-052009-062009-072009-082009-092009-102009-112009-122010-012010-022010-032010-042010-052010-062010-072010-082010-092010-102010-112010-122011-012011-022011-032011-042011-052011-062011-072011-082011-092011-102011-112011-122012-012012-022012-032012-042012-052012-062012-072012-082012-092012-102012-112012-122013-012013-022013-032013-042013-052013-062013-072013-082013-092013-102013-112013-122014-012014-022014-032014-042014-052014-062014-072014-082014-092014-102014-112014-122015-012015-022015-032015-042015-052015-062015-072015-082004-012004-022004-032004-042004-052004-062004-072004-082004-092004-102004-112004-122005-012005-022005-032005-042005-052005-062005-072005-082005-092005-102005-112005-122006-012006-022006-032006-042006-052006-062006-072006-082006-092006-102006-112006-122007-012007-022007-032007-042007-052007-062007-072007-082007-092007-102007-112007-122008-012008-022008-032008-042008-052008-062008-072008-082008-092008-102008-112008-122009-012009-022009-032009-042009-052009-062009-072009-082009-092009-102009-112009-122010-012010-022010-032010-042010-052010-062010-072010-082010-092010-102010-112010-122011-012011-022011-032011-042011-052011-062011-072011-082011-092011-102011-112011-122012-012012-022012-032012-042012-052012-062012-072012-082012-092012-102012-112012-122013-012013-022013-032013-042013-052013-062013-072013-082013-092013-102013-112013-122014-012014-022014-032014-042014-052014-062014-072014-082014-092014-102014-112014-122015-012015-022015-032015-042015-052015-062015-072015-082004-012004-022004-032004-042004-052004-062004-072004-082004-092004-102004-112004-122005-012005-022005-032005-042005-052005-062005-072005-082005-092005-102005-112005-122006-012006-022006-032006-042006-052006-062006-072006-082006-092006-102006-112006-122007-012007-022007-032007-042007-052007-062007-072007-082007-092007-102007-112007-122008-012008-022008-032008-042008-052008-062008-072008-082008-092008-102008-112008-122009-012009-022009-032009-042009-052009-062009-072009-082009-092009-102009-112009-122010-012010-022010-032010-042010-052010-062010-072010-082010-092010-102010-112010-122011-012011-022011-032011-042011-052011-062011-072011-082011-092011-102011-112011-122012-012012-022012-032012-042012-052012-062012-072012-082012-092012-102012-112012-122013-012013-022013-032013-042013-052013-062013-072013-082013-092013-102013-112013-122014-012014-022014-032014-042014-052014-062014-072014-082014-092014-102014-112014-122015-012015-022015-032015-042015-052015-062015-072015-082004-012004-022004-032004-042004-052004-062004-072004-082004-092004-102004-112004-122005-012005-022005-032005-042005-052005-062005-072005-082005-092005-102005-112005-122006-012006-022006-032006-042006-052006-062006-072006-082006-092006-102006-112006-122007-012007-022007-032007-042007-052007-062007-072007-082007-092007-102007-112007-122008-012008-022008-032008-042008-052008-062008-072008-082008-092008-102008-112008-122009-012009-022009-032009-042009-052009-062009-072009-082009-092009-102009-112009-122010-012010-022010-032010-042010-052010-062010-072010-082010-092010-102010-112010-122011-012011-022011-032011-042011-052011-062011-072011-082011-092011-102011-112011-122012-012012-022012-032012-042012-052012-062012-072012-082012-092012-102012-112012-122013-012013-022013-032013-042013-052013-062013-072013-082013-092013-102013-112013-122014-012014-022014-032014-042014-052014-062014-072014-082014-092014-102014-112014-122015-012015-022015-032015-042015-052015-062015-072015-082004-012004-022004-032004-042004-052004-062004-072004-082004-092004-102004-112004-122005-012005-022005-032005-042005-052005-062005-072005-082005-092005-102005-112005-122006-012006-022006-032006-042006-052006-062006-072006-082006-092006-102006-112006-122007-012007-022007-032007-042007-052007-062007-072007-082007-092007-102007-112007-122008-012008-022008-032008-042008-052008-062008-072008-082008-092008-102008-112008-122009-012009-022009-032009-042009-052009-062009-072009-082009-092009-102009-112009-122010-012010-022010-032010-042010-052010-062010-072010-082010-092010-102010-112010-122011-012011-022011-032011-042011-052011-062011-072011-082011-092011-102011-112011-122012-012012-022012-032012-042012-052012-062012-072012-082012-092012-102012-112012-122013-012013-022013-032013-042013-052013-062013-072013-082013-092013-102013-112013-122014-012014-022014-032014-042014-052014-062014-072014-082014-092014-102014-112014-122015-012015-022015-032015-042015-052015-062015-072015-082004-012004-022004-032004-042004-052004-062004-072004-082004-092004-102004-112004-122005-012005-022005-032005-042005-052005-062005-072005-082005-092005-102005-112005-122006-012006-022006-032006-042006-052006-062006-072006-082006-092006-102006-112006-122007-012007-022007-032007-042007-052007-062007-072007-082007-092007-102007-112007-122008-012008-022008-032008-042008-052008-062008-072008-082008-092008-102008-112008-122009-012009-022009-032009-042009-052009-062009-072009-082009-092009-102009-112009-122010-012010-022010-032010-042010-052010-062010-072010-082010-092010-102010-112010-122011-012011-022011-032011-042011-052011-062011-072011-082011-092011-102011-112011-122012-012012-022012-032012-042012-052012-062012-072012-082012-092012-102012-112012-122013-012013-022013-032013-042013-052013-062013-072013-082013-092013-102013-112013-122014-012014-022014-032014-042014-052014-062014-072014-082014-092014-102014-112014-122015-012015-022015-032015-042015-052015-062015-072015-082004-012004-022004-032004-042004-052004-062004-072004-082004-092004-102004-112004-122005-012005-022005-032005-042005-052005-062005-072005-082005-092005-102005-112005-122006-012006-022006-032006-042006-052006-062006-072006-082006-092006-102006-112006-122007-012007-022007-032007-042007-052007-062007-072007-082007-092007-102007-112007-122008-012008-022008-032008-042008-052008-062008-072008-082008-092008-102008-112008-122009-012009-022009-032009-042009-052009-062009-072009-082009-092009-102009-112009-122010-012010-022010-032010-042010-052010-062010-072010-082010-092010-102010-112010-122011-012011-022011-032011-042011-052011-062011-072011-082011-092011-102011-112011-122012-012012-022012-032012-042012-052012-062012-072012-082012-092012-102012-112012-122013-012013-022013-032013-042013-052013-062013-072013-082013-092013-102013-112013-122014-012014-022014-032014-042014-052014-062014-072014-082014-092014-102014-112014-122015-012015-022015-032015-042015-052015-062015-072015-082004-012004-022004-032004-042004-052004-062004-072004-082004-092004-102004-112004-122005-012005-022005-032005-042005-052005-062005-072005-082005-092005-102005-112005-122006-012006-022006-032006-042006-052006-062006-072006-082006-092006-102006-112006-122007-012007-022007-032007-042007-052007-062007-072007-082007-092007-102007-112007-122008-012008-022008-032008-042008-052008-062008-072008-082008-092008-102008-112008-122009-012009-022009-032009-042009-052009-062009-072009-082009-092009-102009-112009-122010-012010-022010-032010-042010-052010-062010-072010-082010-092010-102010-112010-122011-012011-022011-032011-042011-052011-062011-072011-082011-092011-102011-112011-122012-012012-022012-032012-042012-052012-062012-072012-082012-092012-102012-112012-122013-012013-022013-032013-042013-052013-062013-072013-082013-092013-102013-112013-122014-012014-022014-032014-042014-052014-062014-072014-082014-092014-102014-112014-122015-012015-022015-032015-042015-052015-062015-072015-082004-012004-022004-032004-042004-052004-062004-072004-082004-092004-102004-112004-122005-012005-022005-032005-042005-052005-062005-072005-082005-092005-102005-112005-122006-012006-022006-032006-042006-052006-062006-072006-082006-092006-102006-112006-122007-012007-022007-032007-042007-052007-062007-072007-082007-092007-102007-112007-122008-012008-022008-032008-042008-052008-062008-072008-082008-092008-102008-112008-122009-012009-022009-032009-042009-052009-062009-072009-082009-092009-102009-112009-122010-012010-022010-032010-042010-052010-062010-072010-082010-092010-102010-112010-122011-012011-022011-032011-042011-052011-062011-072011-082011-092011-102011-112011-122012-012012-022012-032012-042012-052012-062012-072012-082012-092012-102012-112012-122013-012013-022013-032013-042013-052013-062013-072013-082013-092013-102013-112013-122014-012014-022014-032014-042014-052014-062014-072014-082014-092014-102014-112014-122015-012015-022015-032015-042015-052015-062015-072015-082004-012004-022004-032004-042004-052004-062004-072004-082004-092004-102004-112004-122005-012005-022005-032005-042005-052005-062005-072005-082005-092005-102005-112005-122006-012006-022006-032006-042006-052006-062006-072006-082006-092006-102006-112006-122007-012007-022007-032007-042007-052007-062007-072007-082007-092007-102007-112007-122008-012008-022008-032008-042008-052008-062008-072008-082008-092008-102008-112008-122009-012009-022009-032009-042009-052009-062009-072009-082009-092009-102009-112009-122010-012010-022010-032010-042010-052010-062010-072010-082010-092010-102010-112010-122011-012011-022011-032011-042011-052011-062011-072011-082011-092011-102011-112011-122012-012012-022012-032012-042012-052012-062012-072012-082012-092012-102012-112012-122013-012013-022013-032013-042013-052013-062013-072013-082013-092013-102013-112013-122014-012014-022014-032014-042014-052014-062014-072014-082014-092014-102014-112014-122015-012015-022015-032015-042015-052015-062015-072015-082004-012004-022004-032004-042004-052004-062004-072004-082004-092004-102004-112004-122005-012005-022005-032005-042005-052005-062005-072005-082005-092005-102005-112005-122006-012006-022006-032006-042006-052006-062006-072006-082006-092006-102006-112006-122007-012007-022007-032007-042007-052007-062007-072007-082007-092007-102007-112007-122008-012008-022008-032008-042008-052008-062008-072008-082008-092008-102008-112008-122009-012009-022009-032009-042009-052009-062009-072009-082009-092009-102009-112009-122010-012010-022010-032010-042010-052010-062010-072010-082010-092010-102010-112010-122011-012011-022011-032011-042011-052011-062011-072011-082011-092011-102011-112011-122012-012012-022012-032012-042012-052012-062012-072012-082012-092012-102012-112012-122013-012013-022013-032013-042013-052013-062013-072013-082013-092013-102013-112013-122014-012014-022014-032014-042014-052014-062014-072014-082014-092014-102014-112014-122015-012015-022015-032015-042015-052015-062015-072015-082004-012004-022004-032004-042004-052004-062004-072004-082004-092004-102004-112004-122005-012005-022005-032005-042005-052005-062005-072005-082005-092005-102005-112005-122006-012006-022006-032006-042006-052006-062006-072006-082006-092006-102006-112006-122007-012007-022007-032007-042007-052007-062007-072007-082007-092007-102007-112007-122008-012008-022008-032008-042008-052008-062008-072008-082008-092008-102008-112008-122009-012009-022009-032009-042009-052009-062009-072009-082009-092009-102009-112009-122010-012010-022010-032010-042010-052010-062010-072010-082010-092010-102010-112010-122011-012011-022011-032011-042011-052011-062011-072011-082011-092011-102011-112011-122012-012012-022012-032012-042012-052012-062012-072012-082012-092012-102012-112012-122013-012013-022013-032013-042013-052013-062013-072013-082013-092013-102013-112013-122014-012014-022014-032014-042014-052014-062014-072014-082014-092014-102014-112014-122015-012015-022015-032015-042015-052015-062015-072015-082004-012004-022004-032004-042004-052004-062004-072004-082004-092004-102004-112004-122005-012005-022005-032005-042005-052005-062005-072005-082005-092005-102005-112005-122006-012006-022006-032006-042006-052006-062006-072006-082006-092006-102006-112006-122007-012007-022007-032007-042007-052007-062007-072007-082007-092007-102007-112007-122008-012008-022008-032008-042008-052008-062008-072008-082008-092008-102008-112008-122009-012009-022009-032009-042009-052009-062009-072009-082009-092009-102009-112009-122010-012010-022010-032010-042010-052010-062010-072010-082010-092010-102010-112010-122011-012011-022011-032011-042011-052011-062011-072011-082011-092011-102011-112011-122012-012012-022012-032012-042012-052012-062012-072012-082012-092012-102012-112012-122013-012013-022013-032013-042013-052013-062013-072013-082013-092013-102013-112013-122014-012014-022014-032014-042014-052014-062014-072014-082014-092014-102014-112014-122015-012015-022015-032015-042015-052015-062015-072015-082004-012004-022004-032004-042004-052004-062004-072004-082004-092004-102004-112004-122005-012005-022005-032005-042005-052005-062005-072005-082005-092005-102005-112005-122006-012006-022006-032006-042006-052006-062006-072006-082006-092006-102006-112006-122007-012007-022007-032007-042007-052007-062007-072007-082007-092007-102007-112007-122008-012008-022008-032008-042008-052008-062008-072008-082008-092008-102008-112008-122009-012009-022009-032009-042009-052009-062009-072009-082009-092009-102009-112009-122010-012010-022010-032010-042010-052010-062010-072010-082010-092010-102010-112010-122011-012011-022011-032011-042011-052011-062011-072011-082011-092011-102011-112011-122012-012012-022012-032012-042012-052012-062012-072012-082012-092012-102012-112012-122013-012013-022013-032013-042013-052013-062013-072013-082013-092013-102013-112013-122014-012014-022014-032014-042014-052014-062014-072014-082014-092014-102014-112014-122015-012015-022015-032015-042015-052015-062015-072015-082004-012004-022004-032004-042004-052004-062004-072004-082004-092004-102004-112004-122005-012005-022005-032005-042005-052005-062005-072005-082005-092005-102005-112005-122006-012006-022006-032006-042006-052006-062006-072006-082006-092006-102006-112006-122007-012007-022007-032007-042007-052007-062007-072007-082007-092007-102007-112007-122008-012008-022008-032008-042008-052008-062008-072008-082008-092008-102008-112008-122009-012009-022009-032009-042009-052009-062009-072009-082009-092009-102009-112009-122010-012010-022010-032010-042010-052010-062010-072010-082010-092010-102010-112010-122011-012011-022011-032011-042011-052011-062011-072011-082011-092011-102011-112011-122012-012012-022012-032012-042012-052012-062012-072012-082012-092012-102012-112012-122013-012013-022013-032013-042013-052013-062013-072013-082013-092013-102013-112013-122014-012014-022014-032014-042014-052014-062014-072014-082014-092014-102014-112014-122015-012015-022015-032015-042015-052015-062015-072015-082004-012004-022004-032004-042004-052004-062004-072004-082004-092004-102004-112004-122005-012005-022005-032005-042005-052005-062005-072005-082005-092005-102005-112005-122006-012006-022006-032006-042006-052006-062006-072006-082006-092006-102006-112006-122007-012007-022007-032007-042007-052007-062007-072007-082007-092007-102007-112007-122008-012008-022008-032008-042008-052008-062008-072008-082008-092008-102008-112008-122009-012009-022009-032009-042009-052009-062009-072009-082009-092009-102009-112009-122010-012010-022010-032010-042010-052010-062010-072010-082010-092010-102010-112010-122011-012011-022011-032011-042011-052011-062011-072011-082011-092011-102011-112011-122012-012012-022012-032012-042012-052012-062012-072012-082012-092012-102012-112012-122013-012013-022013-032013-042013-052013-062013-072013-082013-092013-102013-112013-122014-012014-022014-032014-042014-052014-062014-072014-082014-092014-102014-112014-122015-012015-022015-032015-042015-052015-062015-072015-082004-012004-022004-032004-042004-052004-062004-072004-082004-092004-102004-112004-122005-012005-022005-032005-042005-052005-062005-072005-082005-092005-102005-112005-122006-012006-022006-032006-042006-052006-062006-072006-082006-092006-102006-112006-122007-012007-022007-032007-042007-052007-062007-072007-082007-092007-102007-112007-122008-012008-022008-032008-042008-052008-062008-072008-082008-092008-102008-112008-122009-012009-022009-032009-042009-052009-062009-072009-082009-092009-102009-112009-122010-012010-022010-032010-042010-052010-062010-072010-082010-092010-102010-112010-122011-012011-022011-032011-042011-052011-062011-072011-082011-092011-102011-112011-122012-012012-022012-032012-042012-052012-062012-072012-082012-092012-102012-112012-122013-012013-022013-032013-042013-052013-062013-072013-082013-092013-102013-112013-122014-012014-022014-032014-042014-052014-062014-072014-082014-092014-102014-112014-122015-012015-022015-032015-042015-052015-062015-072015-082004-012004-022004-032004-042004-052004-062004-072004-082004-092004-102004-112004-122005-012005-022005-032005-042005-052005-062005-072005-082005-092005-102005-112005-122006-012006-022006-032006-042006-052006-062006-072006-082006-092006-102006-112006-122007-012007-022007-032007-042007-052007-062007-072007-082007-092007-102007-112007-122008-012008-022008-032008-042008-052008-062008-072008-082008-092008-102008-112008-122009-012009-022009-032009-042009-052009-062009-072009-082009-092009-102009-112009-122010-012010-022010-032010-042010-052010-062010-072010-082010-092010-102010-112010-122011-012011-022011-032011-042011-052011-062011-072011-082011-092011-102011-112011-122012-012012-022012-032012-042012-052012-062012-072012-082012-092012-102012-112012-122013-012013-022013-032013-042013-052013-062013-072013-082013-092013-102013-112013-122014-012014-022014-032014-042014-052014-062014-072014-082014-092014-102014-112014-122015-012015-022015-032015-042015-052015-062015-072015-082004-012004-022004-032004-042004-052004-062004-072004-082004-092004-102004-112004-122005-012005-022005-032005-042005-052005-062005-072005-082005-092005-102005-112005-122006-012006-022006-032006-042006-052006-062006-072006-082006-092006-102006-112006-122007-012007-022007-032007-042007-052007-062007-072007-082007-092007-102007-112007-122008-012008-022008-032008-042008-052008-062008-072008-082008-092008-102008-112008-122009-012009-022009-032009-042009-052009-062009-072009-082009-092009-102009-112009-122010-012010-022010-032010-042010-052010-062010-072010-082010-092010-102010-112010-122011-012011-022011-032011-042011-052011-062011-072011-082011-092011-102011-112011-122012-012012-022012-032012-042012-052012-062012-072012-082012-092012-102012-112012-122013-012013-022013-032013-042013-052013-062013-072013-082013-092013-102013-112013-122014-012014-022014-032014-042014-052014-062014-072014-082014-092014-102014-112014-122015-012015-022015-032015-042015-052015-062015-072015-082004-012004-022004-032004-042004-052004-062004-072004-082004-092004-102004-112004-122005-012005-022005-032005-042005-052005-062005-072005-082005-092005-102005-112005-122006-012006-022006-032006-042006-052006-062006-072006-082006-092006-102006-112006-122007-012007-022007-032007-042007-052007-062007-072007-082007-092007-102007-112007-122008-012008-022008-032008-042008-052008-062008-072008-082008-092008-102008-112008-122009-012009-022009-032009-042009-052009-062009-072009-082009-092009-102009-112009-122010-012010-022010-032010-042010-052010-062010-072010-082010-092010-102010-112010-122011-012011-022011-032011-042011-052011-062011-072011-082011-092011-102011-112011-122012-012012-022012-032012-042012-052012-062012-072012-082012-092012-102012-112012-122013-012013-022013-032013-042013-052013-062013-072013-082013-092013-102013-112013-122014-012014-022014-032014-042014-052014-062014-072014-082014-092014-102014-112014-122015-012015-022015-032015-042015-052015-062015-072015-082004-012004-022004-032004-042004-052004-062004-072004-082004-092004-102004-112004-122005-012005-022005-032005-042005-052005-062005-072005-082005-092005-102005-112005-122006-012006-022006-032006-042006-052006-062006-072006-082006-092006-102006-112006-122007-012007-022007-032007-042007-052007-062007-072007-082007-092007-102007-112007-122008-012008-022008-032008-042008-052008-062008-072008-082008-092008-102008-112008-122009-012009-022009-032009-042009-052009-062009-072009-082009-092009-102009-112009-122010-012010-022010-032010-042010-052010-062010-072010-082010-092010-102010-112010-122011-012011-022011-032011-042011-052011-062011-072011-082011-092011-102011-112011-122012-012012-022012-032012-042012-052012-062012-072012-082012-092012-102012-112012-122013-012013-022013-032013-042013-052013-062013-072013-082013-092013-102013-112013-122014-012014-022014-032014-042014-052014-062014-072014-082014-092014-102014-112014-122015-012015-022015-032015-042015-052015-062015-072015-082004-022004-032004-052004-062004-072004-082004-092004-102004-112004-122005-022005-032005-052005-062005-072005-082005-092005-112005-122006-022006-032006-052006-062006-082006-092006-112006-122007-022007-032007-052007-062007-082007-092007-112007-122008-012008-022008-032008-042008-052008-062008-072008-082008-092008-102008-112008-122009-012009-022009-032009-042009-052009-062009-072009-082009-092009-102009-112009-122010-012010-022010-032010-042010-052010-062010-072010-082010-092010-102010-112010-122011-012011-022011-032011-042011-052011-062011-072011-082011-092011-102011-112011-122012-012012-022012-032012-042012-052012-062012-072012-082012-092012-102012-112012-122013-012013-022013-032013-042013-052013-062013-072013-082013-092013-102013-112013-122014-012014-022014-032014-042014-052014-062014-072014-082014-092014-102014-112014-122015-012015-022015-032015-042015-052015-062015-072015-082004-022004-032004-052004-062004-082004-092004-102004-112004-122005-022005-032005-052005-062005-072005-082005-092005-112005-122006-022006-032006-052006-062006-082006-092006-112006-122007-022007-032007-052007-062007-082007-092007-112007-122008-012008-022008-032008-042008-052008-062008-072008-082008-092008-102008-112008-122009-012009-022009-032009-042009-052009-062009-072009-082009-092009-102009-112009-122010-012010-022010-032010-042010-052010-062010-072010-082010-092010-102010-112010-122011-012011-022011-032011-042011-052011-062011-072011-082011-092011-102011-112011-122012-012012-022012-032012-042012-052012-062012-072012-082012-092012-102012-112012-122013-012013-022013-032013-042013-052013-062013-072013-082013-092013-102013-112013-122014-012014-022014-032014-042014-052014-062014-072014-082014-092014-102014-112014-122015-012015-022015-032015-042015-052015-062015-072015-082004-022004-032004-052004-062004-072004-082004-092004-102004-112004-122005-022005-032005-052005-062005-072005-082005-092005-112005-122006-022006-032006-052006-062006-082006-092006-112006-122007-022007-032007-052007-062007-082007-092007-112007-122008-012008-022008-032008-042008-052008-062008-072008-082008-092008-102008-112008-122009-012009-022009-032009-042009-052009-062009-072009-082009-092009-102009-112009-122010-012010-022010-032010-042010-052010-062010-072010-082010-092010-102010-112010-122011-012011-022011-032011-042011-052011-062011-072011-082011-092011-102011-112011-122012-012012-022012-032012-042012-052012-062012-072012-082012-092012-102012-112012-122013-012013-022013-032013-042013-052013-062013-072013-082013-092013-102013-112013-122014-012014-022014-032014-042014-052014-062014-072014-082014-092014-102014-112014-122015-012015-022015-032015-042015-052015-062015-072015-082004-022004-032004-052004-062004-082004-092004-102004-112004-122005-022005-032005-052005-062005-072005-082005-092005-112005-122006-022006-032006-052006-062006-082006-092006-112006-122007-022007-032007-052007-062007-082007-092007-112007-122008-012008-022008-032008-042008-052008-062008-072008-082008-092008-102008-112008-122009-012009-022009-032009-042009-052009-062009-072009-082009-092009-102009-112009-122010-012010-022010-032010-042010-052010-062010-072010-082010-092010-102010-112010-122011-012011-022011-032011-042011-052011-062011-072011-082011-092011-102011-112011-122012-012012-022012-032012-042012-052012-062012-072012-082012-092012-102012-112012-122013-012013-022013-032013-042013-052013-062013-072013-082013-092013-102013-112013-122014-012014-022014-032014-042014-052014-062014-072014-082014-092014-102014-112014-122015-012015-022015-032015-042015-052015-062015-072015-082004-022004-032004-052004-062004-072004-082004-092004-102004-112004-122005-022005-032005-052005-062005-072005-082005-092005-112005-122006-022006-032006-052006-062006-082006-092006-112006-122007-022007-032007-052007-062007-082007-092007-112007-122008-012008-022008-032008-042008-052008-062008-072008-082008-092008-102008-112008-122009-012009-022009-032009-042009-052009-062009-072009-082009-092009-102009-112009-122010-012010-022010-032010-042010-052010-062010-072010-082010-092010-102010-112010-122011-012011-022011-032011-042011-052011-062011-072011-082011-092011-102011-112011-122012-012012-022012-032012-042012-052012-062012-072012-082012-092012-102012-112012-122013-012013-022013-032013-042013-052013-062013-072013-082013-092013-102013-112013-122014-012014-022014-032014-042014-052014-062014-072014-082014-092014-102014-112014-122015-012015-022015-032015-042015-052015-062015-072015-082004-022004-032004-052004-062004-072004-082004-092004-102004-112004-122005-022005-032005-052005-062005-072005-082005-092005-112005-122006-022006-032006-052006-062006-082006-092006-112006-122007-022007-032007-052007-062007-082007-092007-112007-122008-012008-022008-032008-042008-052008-062008-072008-082008-092008-102008-112008-122009-012009-022009-032009-042009-052009-062009-072009-082009-092009-102009-112009-122010-012010-022010-032010-042010-052010-062010-072010-082010-092010-102010-112010-122011-012011-022011-032011-042011-052011-062011-072011-082011-092011-102011-112011-122012-012012-022012-032012-042012-052012-062012-072012-082012-092012-102012-112012-122013-012013-022013-032013-042013-052013-062013-072013-082013-092013-102013-112013-122014-012014-022014-032014-042014-052014-062014-072014-082014-092014-102014-112014-122015-012015-022015-032015-042015-052015-062015-072015-082004-022004-032004-052004-062004-072004-082004-092004-102004-112004-122005-022005-032005-052005-062005-072005-082005-092005-112005-122006-022006-032006-052006-062006-082006-092006-112006-122007-022007-032007-052007-062007-082007-092007-112007-122008-012008-022008-032008-042008-052008-062008-072008-082008-092008-102008-112008-122009-012009-022009-032009-042009-052009-062009-072009-082009-092009-102009-112009-122010-012010-022010-032010-042010-052010-062010-072010-082010-092010-102010-112010-122011-012011-022011-032011-042011-052011-062011-072011-082011-092011-102011-112011-122012-012012-022012-032012-042012-052012-062012-072012-082012-092012-102012-112012-122013-012013-022013-032013-042013-052013-062013-072013-082013-092013-102013-112013-122014-012014-022014-032014-042014-052014-062014-072014-082014-092014-102014-112014-122015-012015-022015-032015-042015-052015-062015-072015-082004-022004-032004-052004-062004-072004-082004-092004-102004-112004-122005-022005-032005-052005-062005-072005-082005-092005-112005-122006-022006-032006-052006-062006-082006-092006-112006-122007-022007-032007-052007-062007-082007-092007-112007-122008-012008-022008-032008-042008-052008-062008-072008-082008-092008-102008-112008-122009-012009-022009-032009-042009-052009-062009-072009-082009-092009-102009-112009-122010-012010-022010-032010-042010-052010-062010-072010-082010-092010-102010-112010-122011-012011-022011-032011-042011-052011-062011-072011-082011-092011-102011-112011-122012-012012-022012-032012-042012-052012-062012-072012-082012-092012-102012-112012-122013-012013-022013-032013-042013-052013-062013-072013-082013-092013-102013-112013-122014-012014-022014-032014-042014-052014-062014-072014-082014-092014-102014-112014-122015-012015-022015-032015-042015-052015-062015-072015-082004-022004-032004-052004-062004-072004-082004-092004-102004-112004-122005-022005-032005-052005-062005-072005-082005-092005-112005-122006-022006-032006-052006-062006-082006-092006-112006-122007-022007-032007-052007-062007-082007-092007-112007-122008-012008-022008-032008-042008-052008-062008-072008-082008-092008-102008-112008-122009-012009-022009-032009-042009-052009-062009-072009-082009-092009-102009-112009-122010-012010-022010-032010-042010-052010-062010-072010-082010-092010-102010-112010-122011-012011-022011-032011-042011-052011-062011-072011-082011-092011-102011-112011-122012-012012-022012-032012-042012-052012-062012-072012-082012-092012-102012-112012-122013-012013-022013-032013-042013-052013-062013-072013-082013-092013-102013-112013-122014-012014-022014-032014-042014-052014-062014-072014-082014-092014-102014-112014-122015-012015-022015-032015-042015-052015-062015-072015-082004-022004-032004-052004-062004-072004-082004-092004-102004-112004-122005-022005-032005-052005-062005-072005-082005-092005-112005-122006-022006-032006-052006-062006-082006-092006-112006-122007-022007-032007-052007-062007-082007-092007-112007-122008-012008-022008-032008-042008-052008-062008-072008-082008-092008-102008-112008-122009-012009-022009-032009-042009-052009-062009-072009-082009-092009-102009-112009-122010-012010-022010-032010-042010-052010-062010-072010-082010-092010-102010-112010-122011-012011-022011-032011-042011-052011-062011-072011-082011-092011-102011-112011-122012-012012-022012-032012-042012-052012-062012-072012-082012-092012-102012-112012-122013-012013-022013-032013-042013-052013-062013-072013-082013-092013-102013-112013-122014-012014-022014-032014-042014-052014-062014-072014-082014-092014-102014-112014-122015-012015-022015-032015-042015-052015-062015-072015-082004-022004-032004-052004-062004-082004-092004-102004-112004-122005-022005-032005-052005-062005-072005-082005-092005-112005-122006-022006-032006-052006-062006-082006-092006-112006-122007-022007-032007-052007-062007-082007-092007-112007-122008-012008-022008-032008-042008-052008-062008-072008-082008-092008-102008-112008-122009-012009-022009-032009-042009-052009-062009-072009-082009-092009-102009-112009-122010-012010-022010-032010-042010-052010-062010-072010-082010-092010-102010-112010-122011-012011-022011-032011-042011-052011-062011-072011-082011-092011-102011-112011-122012-012012-022012-032012-042012-052012-062012-072012-082012-092012-102012-112012-122013-012013-022013-032013-042013-052013-062013-072013-082013-092013-102013-112013-122014-012014-022014-032014-042014-052014-062014-072014-082014-092014-102014-112014-122015-012015-022015-032015-042015-052015-062015-072015-082004-022004-032004-052004-062004-072004-082004-092004-102004-112004-122005-022005-032005-052005-062005-072005-082005-092005-112005-122006-022006-032006-052006-062006-082006-092006-112006-122007-022007-032007-052007-062007-082007-092007-112007-122008-012008-022008-032008-042008-052008-062008-072008-082008-092008-102008-112008-122009-012009-022009-032009-042009-052009-062009-072009-082009-092009-102009-112009-122010-012010-022010-032010-042010-052010-062010-072010-082010-092010-102010-112010-122011-012011-022011-032011-042011-052011-062011-072011-082011-092011-102011-112011-122012-012012-022012-032012-042012-052012-062012-072012-082012-092012-102012-112012-122013-012013-022013-032013-042013-052013-062013-072013-082013-092013-102013-112013-122014-012014-022014-032014-042014-052014-062014-072014-082014-092014-102014-112014-122015-012015-022015-032015-042015-052015-062015-072015-082004-022004-032004-052004-062004-082004-092004-102004-112004-122005-022005-032005-052005-062005-072005-082005-092005-112005-122006-022006-032006-052006-062006-082006-092006-112006-122007-022007-032007-052007-062007-082007-092007-112007-122008-012008-022008-032008-042008-052008-062008-072008-082008-092008-102008-112008-122009-012009-022009-032009-042009-052009-062009-072009-082009-092009-102009-112009-122010-012010-022010-032010-042010-052010-062010-072010-082010-092010-102010-112010-122011-012011-022011-032011-042011-052011-062011-072011-082011-092011-102011-112011-122012-012012-022012-032012-042012-052012-062012-072012-082012-092012-102012-112012-122013-012013-022013-032013-042013-052013-062013-072013-082013-092013-102013-112013-122014-012014-022014-032014-042014-052014-062014-072014-082014-092014-102014-112014-122015-012015-022015-032015-042015-052015-062015-072015-082004-022004-032004-052004-062004-072004-082004-092004-102004-112004-122005-022005-032005-052005-062005-072005-082005-092005-112005-122006-022006-032006-052006-062006-082006-092006-112006-122007-022007-032007-052007-062007-082007-092007-112007-122008-012008-022008-032008-042008-052008-062008-072008-082008-092008-102008-112008-122009-012009-022009-032009-042009-052009-062009-072009-082009-092009-102009-112009-122010-012010-022010-032010-042010-052010-062010-072010-082010-092010-102010-112010-122011-012011-022011-032011-042011-052011-062011-072011-082011-092011-102011-112011-122012-012012-022012-032012-042012-052012-062012-072012-082012-092012-102012-112012-122013-012013-022013-032013-042013-052013-062013-072013-082013-092013-102013-112013-122014-012014-022014-032014-042014-052014-062014-072014-082014-092014-102014-112014-122015-012015-022015-032015-042015-052015-062015-072015-082004-022004-032004-052004-062004-072004-082004-092004-102004-112004-122005-022005-032005-052005-062005-072005-082005-092005-112005-122006-022006-032006-052006-062006-082006-092006-112006-122007-022007-032007-052007-062007-082007-092007-112007-122008-012008-022008-032008-042008-052008-062008-072008-082008-092008-102008-112008-122009-012009-022009-032009-042009-052009-062009-072009-082009-092009-102009-112009-122010-012010-022010-032010-042010-052010-062010-072010-082010-092010-102010-112010-122011-012011-022011-032011-042011-052011-062011-072011-082011-092011-102011-112011-122012-012012-022012-032012-042012-052012-062012-072012-082012-092012-102012-112012-122013-012013-022013-032013-042013-052013-062013-072013-082013-092013-102013-112013-122014-012014-022014-032014-042014-052014-062014-072014-082014-092014-102014-112014-122015-012015-022015-032015-042015-052015-062015-072015-082004-022004-032004-052004-062004-072004-082004-092004-102004-112004-122005-022005-032005-052005-062005-072005-082005-092005-112005-122006-022006-032006-052006-062006-082006-092006-112006-122007-022007-032007-052007-062007-082007-092007-112007-122008-012008-022008-032008-042008-052008-062008-072008-082008-092008-102008-112008-122009-012009-022009-032009-042009-052009-062009-072009-082009-092009-102009-112009-122010-012010-022010-032010-042010-052010-062010-072010-082010-092010-102010-112010-122011-012011-022011-032011-042011-052011-062011-072011-082011-092011-102011-112011-122012-012012-022012-032012-042012-052012-062012-072012-082012-092012-102012-112012-122013-012013-022013-032013-042013-052013-062013-072013-082013-092013-102013-112013-122014-012014-022014-032014-042014-052014-062014-072014-082014-092014-102014-112014-122015-012015-022015-032015-042015-052015-062015-072015-082004-022004-032004-052004-062004-072004-082004-092004-102004-112004-122005-022005-032005-052005-062005-072005-082005-092005-112005-122006-022006-032006-052006-062006-082006-092006-112006-122007-022007-032007-052007-062007-082007-092007-112007-122008-012008-022008-032008-042008-052008-062008-072008-082008-092008-102008-112008-122009-012009-022009-032009-042009-052009-062009-072009-082009-092009-102009-112009-122010-012010-022010-032010-042010-052010-062010-072010-082010-092010-102010-112010-122011-012011-022011-032011-042011-052011-062011-072011-082011-092011-102011-112011-122012-012012-022012-032012-042012-052012-062012-072012-082012-092012-102012-112012-122013-012013-022013-032013-042013-052013-062013-072013-082013-092013-102013-112013-122014-012014-022014-032014-042014-052014-062014-072014-082014-092014-102014-112014-122015-012015-022015-032015-042015-052015-062015-072015-082004-022004-032004-052004-062004-072004-082004-092004-102004-112004-122005-022005-032005-052005-062005-072005-082005-092005-112005-122006-022006-032006-052006-062006-082006-092006-112006-122007-022007-032007-052007-062007-082007-092007-112007-122008-012008-022008-032008-042008-052008-062008-072008-082008-092008-102008-112008-122009-012009-022009-032009-042009-052009-062009-072009-082009-092009-102009-112009-122010-012010-022010-032010-042010-052010-062010-072010-082010-092010-102010-112010-122011-012011-022011-032011-042011-052011-062011-072011-082011-092011-102011-112011-122012-012012-022012-032012-042012-052012-062012-072012-082012-092012-102012-112012-122013-012013-022013-032013-042013-052013-062013-072013-082013-092013-102013-112013-122014-012014-022014-032014-042014-052014-062014-072014-082014-092014-102014-112014-122015-012015-022015-032015-042015-052015-062015-072015-082004-012004-022004-032004-042004-052004-062004-072004-082004-092004-102004-112004-122005-012005-022005-032005-042005-052005-062005-072005-082005-092005-102005-112005-122006-012006-022006-032006-042006-052006-062006-072006-082006-092006-102006-112006-122007-012007-022007-032007-042007-052007-062007-072007-082007-092007-102007-112007-122008-012008-022008-032008-042008-052008-062008-072008-082008-092008-102008-112008-122009-012009-022009-032009-042009-052009-062009-072009-082009-092009-102009-112009-122010-012010-022010-032010-042010-052010-062010-072010-082010-092010-102010-112010-122011-012011-022011-032011-042011-052011-062011-072011-082011-092011-102011-112011-122012-012012-022012-032012-042012-052012-062012-072012-082012-092012-102012-112012-122013-012013-022013-032013-042013-052013-062013-072013-082013-092013-102013-112013-122014-012014-022014-032014-042014-052014-062014-072014-082014-092014-102014-112014-122015-012015-022015-032015-042015-052015-062015-072015-082004-012004-022004-032004-042004-052004-062004-072004-082004-092004-102004-112004-122005-012005-022005-032005-042005-052005-062005-072005-082005-092005-102005-112005-122006-012006-022006-032006-042006-052006-062006-072006-082006-092006-102006-112006-122007-012007-022007-032007-042007-052007-062007-072007-082007-092007-102007-112007-122008-012008-022008-032008-042008-052008-062008-072008-082008-092008-102008-112008-122009-012009-022009-032009-042009-052009-062009-072009-082009-092009-102009-112009-122010-012010-022010-032010-042010-052010-062010-072010-082010-092010-102010-112010-122011-012011-022011-032011-042011-052011-062011-072011-082011-092011-102011-112011-122012-012012-022012-032012-042012-052012-062012-072012-082012-092012-102012-112012-122013-012013-022013-032013-042013-052013-062013-072013-082013-092013-102013-112013-122014-012014-022014-032014-042014-052014-062014-072014-082014-092014-102014-112014-122015-012015-022015-032015-042015-052015-062015-072015-082004-012004-022004-032004-042004-052004-062004-072004-082004-092004-102004-112004-122005-012005-022005-032005-042005-052005-062005-072005-082005-092005-102005-112005-122006-012006-022006-032006-042006-052006-062006-072006-082006-092006-102006-112006-122007-012007-022007-032007-042007-052007-062007-072007-082007-092007-102007-112007-122008-012008-022008-032008-042008-052008-062008-072008-082008-092008-102008-112008-122009-012009-022009-032009-042009-052009-062009-072009-082009-092009-102009-112009-122010-012010-022010-032010-042010-052010-062010-072010-082010-092010-102010-112010-122011-012011-022011-032011-042011-052011-062011-072011-082011-092011-102011-112011-122012-012012-022012-032012-042012-052012-062012-072012-082012-092012-102012-112012-122013-012013-022013-032013-042013-052013-062013-072013-082013-092013-102013-112013-122014-012014-022014-032014-042014-052014-062014-072014-082014-092014-102014-112014-122015-012015-022015-032015-042015-052015-062015-072015-082004-012004-022004-032004-042004-052004-062004-072004-082004-092004-102004-112004-122005-012005-022005-032005-042005-052005-062005-072005-082005-092005-102005-112005-122006-012006-022006-032006-042006-052006-062006-072006-082006-092006-102006-112006-122007-012007-022007-032007-042007-052007-062007-072007-082007-092007-102007-112007-122008-012008-022008-032008-042008-052008-062008-072008-082008-092008-102008-112008-122009-012009-022009-032009-042009-052009-062009-072009-082009-092009-102009-112009-122010-012010-022010-032010-042010-052010-062010-072010-082010-092010-102010-112010-122011-012011-022011-032011-042011-052011-062011-072011-082011-092011-102011-112011-122012-012012-022012-032012-042012-052012-062012-072012-082012-092012-102012-112012-122013-012013-022013-032013-042013-052013-062013-072013-082013-092013-102013-112013-122014-012014-022014-032014-042014-052014-062014-072014-082014-092014-102014-112014-122015-012015-022015-032015-042015-052015-062015-072015-082004-012004-022004-032004-042004-052004-062004-072004-082004-092004-102004-112004-122005-012005-022005-032005-042005-052005-062005-072005-082005-092005-102005-112005-122006-012006-022006-032006-042006-052006-062006-072006-082006-092006-102006-112006-122007-012007-022007-032007-042007-052007-062007-072007-082007-092007-102007-112007-122008-012008-022008-032008-042008-052008-062008-072008-082008-092008-102008-112008-122009-012009-022009-032009-042009-052009-062009-072009-082009-092009-102009-112009-122010-012010-022010-032010-042010-052010-062010-072010-082010-092010-102010-112010-122011-012011-022011-032011-042011-052011-062011-072011-082011-092011-102011-112011-122012-012012-022012-032012-042012-052012-062012-072012-082012-092012-102012-112012-122013-012013-022013-032013-042013-052013-062013-072013-082013-092013-102013-112013-122014-012014-022014-032014-042014-052014-062014-072014-082014-092014-102014-112014-122015-012015-022015-032015-042015-052015-062015-072015-082004-012004-022004-032004-042004-052004-062004-072004-082004-092004-102004-112004-122005-012005-022005-032005-042005-052005-062005-072005-082005-092005-102005-112005-122006-012006-022006-032006-042006-052006-062006-072006-082006-092006-102006-112006-122007-012007-022007-032007-042007-052007-062007-072007-082007-092007-102007-112007-122008-012008-022008-032008-042008-052008-062008-072008-082008-092008-102008-112008-122009-012009-022009-032009-042009-052009-062009-072009-082009-092009-102009-112009-122010-012010-022010-032010-042010-052010-062010-072010-082010-092010-102010-112010-122011-012011-022011-032011-042011-052011-062011-072011-082011-092011-102011-112011-122012-012012-022012-032012-042012-052012-062012-072012-082012-092012-102012-112012-122013-012013-022013-032013-042013-052013-062013-072013-082013-092013-102013-112013-122014-012014-022014-032014-042014-052014-062014-072014-082014-092014-102014-112014-122015-012015-022015-032015-042015-052015-062015-072015-082004-012004-022004-032004-042004-052004-062004-072004-082004-092004-102004-112004-122005-012005-022005-032005-042005-052005-062005-072005-082005-092005-102005-112005-122006-012006-022006-032006-042006-052006-062006-072006-082006-092006-102006-112006-122007-012007-022007-032007-042007-052007-062007-072007-082007-092007-102007-112007-122008-012008-022008-032008-042008-052008-062008-072008-082008-092008-102008-112008-122009-012009-022009-032009-042009-052009-062009-072009-082009-092009-102009-112009-122010-012010-022010-032010-042010-052010-062010-072010-082010-092010-102010-112010-122011-012011-022011-032011-042011-052011-062011-072011-082011-092011-102011-112011-122012-012012-022012-032012-042012-052012-062012-072012-082012-092012-102012-112012-122013-012013-022013-032013-042013-052013-062013-072013-082013-092013-102013-112013-122014-012014-022014-032014-042014-052014-062014-072014-082014-092014-102014-112014-122015-012015-022015-032015-042015-052015-062015-072015-082004-012004-022004-032004-042004-052004-062004-072004-082004-092004-102004-112004-122005-012005-022005-032005-042005-052005-062005-072005-082005-092005-102005-112005-122006-012006-022006-032006-042006-052006-062006-072006-082006-092006-102006-112006-122007-012007-022007-032007-042007-052007-062007-072007-082007-092007-102007-112007-122008-012008-022008-032008-042008-052008-062008-072008-082008-092008-102008-112008-122009-012009-022009-032009-042009-052009-062009-072009-082009-092009-102009-112009-122010-012010-022010-032010-042010-052010-062010-072010-082010-092010-102010-112010-122011-012011-022011-032011-042011-052011-062011-072011-082011-092011-102011-112011-122012-012012-022012-032012-042012-052012-062012-072012-082012-092012-102012-112012-122013-012013-022013-032013-042013-052013-062013-072013-082013-092013-102013-112013-122014-012014-022014-032014-042014-052014-062014-072014-082014-092014-102014-112014-122015-012015-022015-032015-042015-052015-062015-072015-082004-012004-022004-032004-042004-052004-062004-072004-082004-092004-102004-112004-122005-012005-022005-032005-042005-052005-062005-072005-082005-092005-102005-112005-122006-012006-022006-032006-042006-052006-062006-072006-082006-092006-102006-112006-122007-012007-022007-032007-042007-052007-062007-072007-082007-092007-102007-112007-122008-012008-022008-032008-042008-052008-062008-072008-082008-092008-102008-112008-122009-012009-022009-032009-042009-052009-062009-072009-082009-092009-102009-112009-122010-012010-022010-032010-042010-052010-062010-072010-082010-092010-102010-112010-122011-012011-022011-032011-042011-052011-062011-072011-082011-092011-102011-112011-122012-012012-022012-032012-042012-052012-062012-072012-082012-092012-102012-112012-122013-012013-022013-032013-042013-052013-062013-072013-082013-092013-102013-112013-122014-012014-022014-032014-042014-052014-062014-072014-082014-092014-102014-112014-122015-012015-022015-032015-042015-052015-062015-072015-082004-012004-022004-032004-042004-052004-062004-072004-082004-092004-102004-112004-122005-012005-022005-032005-042005-052005-062005-072005-082005-092005-102005-112005-122006-012006-022006-032006-042006-052006-062006-072006-082006-092006-102006-112006-122007-012007-022007-032007-042007-052007-062007-072007-082007-092007-102007-112007-122008-012008-022008-032008-042008-052008-062008-072008-082008-092008-102008-112008-122009-012009-022009-032009-042009-052009-062009-072009-082009-092009-102009-112009-122010-012010-022010-032010-042010-052010-062010-072010-082010-092010-102010-112010-122011-012011-022011-032011-042011-052011-062011-072011-082011-092011-102011-112011-122012-012012-022012-032012-042012-052012-062012-072012-082012-092012-102012-112012-122013-012013-022013-032013-042013-052013-062013-072013-082013-092013-102013-112013-122014-012014-022014-032014-042014-052014-062014-072014-082014-092014-102014-112014-122015-012015-022015-032015-042015-052015-062015-072015-082004-012004-022004-032004-042004-052004-062004-072004-082004-092004-102004-112004-122005-012005-022005-032005-042005-052005-062005-072005-082005-092005-102005-112005-122006-012006-022006-032006-042006-052006-062006-072006-082006-092006-102006-112006-122007-012007-022007-032007-042007-052007-062007-072007-082007-092007-102007-112007-122008-012008-022008-032008-042008-052008-062008-072008-082008-092008-102008-112008-122009-012009-022009-032009-042009-052009-062009-072009-082009-092009-102009-112009-122010-012010-022010-032010-042010-052010-062010-072010-082010-092010-102010-112010-122011-012011-022011-032011-042011-052011-062011-072011-082011-092011-102011-112011-122012-012012-022012-032012-042012-052012-062012-072012-082012-092012-102012-112012-122013-012013-022013-032013-042013-052013-062013-072013-082013-092013-102013-112013-122014-012014-022014-032014-042014-052014-062014-072014-082014-092014-102014-112014-122015-012015-022015-032015-042015-052015-062015-072015-082004-012004-022004-032004-042004-052004-062004-072004-082004-092004-102004-112004-122005-012005-022005-032005-042005-052005-062005-072005-082005-092005-102005-112005-122006-012006-022006-032006-042006-052006-062006-072006-082006-092006-102006-112006-122007-012007-022007-032007-042007-052007-062007-072007-082007-092007-102007-112007-122008-012008-022008-032008-042008-052008-062008-072008-082008-092008-102008-112008-122009-012009-022009-032009-042009-052009-062009-072009-082009-092009-102009-112009-122010-012010-022010-032010-042010-052010-062010-072010-082010-092010-102010-112010-122011-012011-022011-032011-042011-052011-062011-072011-082011-092011-102011-112011-122012-012012-022012-032012-042012-052012-062012-072012-082012-092012-102012-112012-122013-012013-022013-032013-042013-052013-062013-072013-082013-092013-102013-112013-122014-012014-022014-032014-042014-052014-062014-072014-082014-092014-102014-112014-122015-012015-022015-032015-042015-052015-062015-072015-082004-012004-022004-032004-042004-052004-062004-072004-082004-092004-102004-112004-122005-012005-022005-032005-042005-052005-062005-072005-082005-092005-102005-112005-122006-012006-022006-032006-042006-052006-062006-072006-082006-092006-102006-112006-122007-012007-022007-032007-042007-052007-062007-072007-082007-092007-102007-112007-122008-012008-022008-032008-042008-052008-062008-072008-082008-092008-102008-112008-122009-012009-022009-032009-042009-052009-062009-072009-082009-092009-102009-112009-122010-012010-022010-032010-042010-052010-062010-072010-082010-092010-102010-112010-122011-012011-022011-032011-042011-052011-062011-072011-082011-092011-102011-112011-122012-012012-022012-032012-042012-052012-062012-072012-082012-092012-102012-112012-122013-012013-022013-032013-042013-052013-062013-072013-082013-092013-102013-112013-122014-012014-022014-032014-042014-052014-062014-072014-082014-092014-102014-112014-122015-012015-022015-032015-042015-052015-062015-072015-082004-012004-022004-032004-042004-052004-062004-072004-082004-092004-102004-112004-122005-012005-022005-032005-042005-052005-062005-072005-082005-092005-102005-112005-122006-012006-022006-032006-042006-052006-062006-072006-082006-092006-102006-112006-122007-012007-022007-032007-042007-052007-062007-072007-082007-092007-102007-112007-122008-012008-022008-032008-042008-052008-062008-072008-082008-092008-102008-112008-122009-012009-022009-032009-042009-052009-062009-072009-082009-092009-102009-112009-122010-012010-022010-032010-042010-052010-062010-072010-082010-092010-102010-112010-122011-012011-022011-032011-042011-052011-062011-072011-082011-092011-102011-112011-122012-012012-022012-032012-042012-052012-062012-072012-082012-092012-102012-112012-122013-012013-022013-032013-042013-052013-062013-072013-082013-092013-102013-112013-122014-012014-022014-032014-042014-052014-062014-072014-082014-092014-102014-112014-122015-012015-022015-032015-042015-052015-062015-072015-082004-012004-022004-032004-042004-052004-062004-072004-082004-092004-102004-112004-122005-012005-022005-032005-042005-052005-062005-072005-082005-092005-102005-112005-122006-012006-022006-032006-042006-052006-062006-072006-082006-092006-102006-112006-122007-012007-022007-032007-042007-052007-062007-072007-082007-092007-102007-112007-122008-012008-022008-032008-042008-052008-062008-072008-082008-092008-102008-112008-122009-012009-022009-032009-042009-052009-062009-072009-082009-092009-102009-112009-122010-012010-022010-032010-042010-052010-062010-072010-082010-092010-102010-112010-122011-012011-022011-032011-042011-052011-062011-072011-082011-092011-102011-112011-122012-012012-022012-032012-042012-052012-062012-072012-082012-092012-102012-112012-122013-012013-022013-032013-042013-052013-062013-072013-082013-092013-102013-112013-122014-012014-022014-032014-042014-052014-062014-072014-082014-092014-102014-112014-122015-012015-022015-032015-042015-052015-062015-072015-082004-012004-022004-032004-042004-052004-062004-072004-082004-092004-102004-112004-122005-012005-022005-032005-042005-052005-062005-072005-082005-092005-102005-112005-122006-012006-022006-032006-042006-052006-062006-072006-082006-092006-102006-112006-122007-012007-022007-032007-042007-052007-062007-072007-082007-092007-102007-112007-122008-012008-022008-032008-042008-052008-062008-072008-082008-092008-102008-112008-122009-012009-022009-032009-042009-052009-062009-072009-082009-092009-102009-112009-122010-012010-022010-032010-042010-052010-062010-072010-082010-092010-102010-112010-122011-012011-022011-032011-042011-052011-062011-072011-082011-092011-102011-112011-122012-012012-022012-032012-042012-052012-062012-072012-082012-092012-102012-112012-122013-012013-022013-032013-042013-052013-062013-072013-082013-092013-102013-112013-122014-012014-022014-032014-042014-052014-062014-072014-082014-092014-102014-112014-122015-012015-022015-032015-042015-052015-062015-072015-082004-012004-022004-032004-042004-052004-062004-072004-082004-092004-102004-112004-122005-012005-022005-032005-042005-052005-062005-072005-082005-092005-102005-112005-122006-012006-022006-032006-042006-052006-062006-072006-082006-092006-102006-112006-122007-012007-022007-032007-042007-052007-062007-072007-082007-092007-102007-112007-122008-012008-022008-032008-042008-052008-062008-072008-082008-092008-102008-112008-122009-012009-022009-032009-042009-052009-062009-072009-082009-092009-102009-112009-122010-012010-022010-032010-042010-052010-062010-072010-082010-092010-102010-112010-122011-012011-022011-032011-042011-052011-062011-072011-082011-092011-102011-112011-122012-012012-022012-032012-042012-052012-062012-072012-082012-092012-102012-112012-122013-012013-022013-032013-042013-052013-062013-072013-082013-092013-102013-112013-122014-012014-022014-032014-042014-052014-062014-072014-082014-092014-102014-112014-122015-012015-022015-032015-042015-052015-062015-072015-082004-012004-022004-032004-042004-052004-062004-072004-082004-092004-102004-112004-122005-012005-022005-032005-042005-052005-062005-072005-082005-092005-102005-112005-122006-012006-022006-032006-042006-052006-062006-072006-082006-092006-102006-112006-122007-012007-022007-032007-042007-052007-062007-072007-082007-092007-102007-112007-122008-012008-022008-032008-042008-052008-062008-072008-082008-092008-102008-112008-122009-012009-022009-032009-042009-052009-062009-072009-082009-092009-102009-112009-122010-012010-022010-032010-042010-052010-062010-072010-082010-092010-102010-112010-122011-012011-022011-032011-042011-052011-062011-072011-082011-092011-102011-112011-122012-012012-022012-032012-042012-052012-062012-072012-082012-092012-102012-112012-122013-012013-022013-032013-042013-052013-062013-072013-082013-092013-102013-112013-122014-012014-022014-032014-042014-052014-062014-072014-082014-092014-102014-112014-122015-012015-022015-032015-042015-052015-062015-072015-082004-012004-022004-032004-042004-052004-062004-072004-082004-092004-102004-112004-122005-012005-022005-032005-042005-052005-062005-072005-082005-092005-102005-112005-122006-012006-022006-032006-042006-052006-062006-072006-082006-092006-102006-112006-122007-012007-022007-032007-042007-052007-062007-072007-082007-092007-102007-112007-122008-012008-022008-032008-042008-052008-062008-072008-082008-092008-102008-112008-122009-012009-022009-032009-042009-052009-062009-072009-082009-092009-102009-112009-122010-012010-022010-032010-042010-052010-062010-072010-082010-092010-102010-112010-122011-012011-022011-032011-042011-052011-062011-072011-082011-092011-102011-112011-122012-012012-022012-032012-042012-052012-062012-072012-082012-092012-102012-112012-122013-012013-022013-032013-042013-052013-062013-072013-082013-092013-102013-112013-122014-012014-022014-032014-042014-052014-062014-072014-082014-092014-102014-112014-122015-012015-022015-032015-042015-052015-062015-072015-082004-012004-022004-032004-042004-052004-062004-072004-082004-092004-102004-112004-122005-012005-022005-032005-042005-052005-062005-072005-082005-092005-102005-112005-122006-012006-022006-032006-042006-052006-062006-072006-082006-092006-102006-112006-122007-012007-022007-032007-042007-052007-062007-072007-082007-092007-102007-112007-122008-012008-022008-032008-042008-052008-062008-072008-082008-092008-102008-112008-122009-012009-022009-032009-042009-052009-062009-072009-082009-092009-102009-112009-122010-012010-022010-032010-042010-052010-062010-072010-082010-092010-102010-112010-122011-012011-022011-032011-042011-052011-062011-072011-082011-092011-102011-112011-122012-012012-022012-032012-042012-052012-062012-072012-082012-092012-102012-112012-122013-012013-022013-032013-042013-052013-062013-072013-082013-092013-102013-112013-122014-012014-022014-032014-042014-052014-062014-072014-082014-092014-102014-112014-122015-012015-022015-032015-042015-052015-062015-072015-082004-012004-022004-032004-042004-052004-062004-072004-082004-092004-102004-112004-122005-012005-022005-032005-042005-052005-062005-072005-082005-092005-102005-112005-122006-012006-022006-032006-042006-052006-062006-072006-082006-092006-102006-112006-122007-012007-022007-032007-042007-052007-062007-072007-082007-092007-102007-112007-122008-012008-022008-032008-042008-052008-062008-072008-082008-092008-102008-112008-122009-012009-022009-032009-042009-052009-062009-072009-082009-092009-102009-112009-122010-012010-022010-032010-042010-052010-062010-072010-082010-092010-102010-112010-122011-012011-022011-032011-042011-052011-062011-072011-082011-092011-102011-112011-122012-012012-022012-032012-042012-052012-062012-072012-082012-092012-102012-112012-122013-012013-022013-032013-042013-052013-062013-072013-082013-092013-102013-112013-122014-012014-022014-032014-042014-052014-062014-072014-082014-092014-102014-112014-122015-012015-022015-032015-042015-052015-062015-072015-082004-012004-022004-032004-042004-052004-062004-072004-082004-092004-102004-112004-122005-012005-022005-032005-042005-052005-062005-072005-082005-092005-102005-112005-122006-012006-022006-032006-042006-052006-062006-072006-082006-092006-102006-112006-122007-012007-022007-032007-042007-052007-062007-072007-082007-092007-102007-112007-122008-012008-022008-032008-042008-052008-062008-072008-082008-092008-102008-112008-122009-012009-022009-032009-042009-052009-062009-072009-082009-092009-102009-112009-122010-012010-022010-032010-042010-052010-062010-072010-082010-092010-102010-112010-122011-012011-022011-032011-042011-052011-062011-072011-082011-092011-102011-112011-122012-012012-022012-032012-042012-052012-062012-072012-082012-092012-102012-112012-122013-012013-022013-032013-042013-052013-062013-072013-082013-092013-102013-112013-122014-012014-022014-032014-042014-052014-062014-072014-082014-092014-102014-112014-122015-012015-022015-032015-042015-052015-062015-072015-082004-012004-022004-032004-042004-052004-062004-072004-082004-092004-102004-112004-122005-012005-022005-032005-042005-052005-062005-072005-082005-092005-102005-112005-122006-012006-022006-032006-042006-052006-062006-072006-082006-092006-102006-112006-122007-012007-022007-032007-042007-052007-062007-072007-082007-092007-102007-112007-122008-012008-022008-032008-042008-052008-062008-072008-082008-092008-102008-112008-122009-012009-022009-032009-042009-052009-062009-072009-082009-092009-102009-112009-122010-012010-022010-032010-042010-052010-062010-072010-082010-092010-102010-112010-122011-012011-022011-032011-042011-052011-062011-072011-082011-092011-102011-112011-122012-012012-022012-032012-042012-052012-062012-072012-082012-092012-102012-112012-122013-012013-022013-032013-042013-052013-062013-072013-082013-092013-102013-112013-122014-012014-022014-032014-042014-052014-062014-072014-082014-092014-102014-112014-122015-012015-022015-032015-042015-052015-062015-072015-082004-012004-022004-032004-042004-052004-062004-072004-082004-092004-102004-112004-122005-012005-022005-032005-042005-052005-062005-072005-082005-092005-102005-112005-122006-012006-022006-032006-042006-052006-062006-072006-082006-092006-102006-112006-122007-012007-022007-032007-042007-052007-062007-072007-082007-092007-102007-112007-122008-012008-022008-032008-042008-052008-062008-072008-082008-092008-102008-112008-122009-012009-022009-032009-042009-052009-062009-072009-082009-092009-102009-112009-122010-012010-022010-032010-042010-052010-062010-072010-082010-092010-102010-112010-122011-012011-022011-032011-042011-052011-062011-072011-082011-092011-102011-112011-122012-012012-022012-032012-042012-052012-062012-072012-082012-092012-102012-112012-122013-012013-022013-032013-042013-052013-062013-072013-082013-092013-102013-112013-122014-012014-022014-032014-042014-052014-062014-072014-082014-092014-102014-112014-122015-012015-022015-032015-042015-052015-062015-072015-082004-012004-022004-032004-042004-052004-062004-072004-082004-092004-102004-112004-122005-012005-022005-032005-042005-052005-062005-072005-082005-092005-102005-112005-122006-012006-022006-032006-042006-052006-062006-072006-082006-092006-102006-112006-122007-012007-022007-032007-042007-052007-062007-072007-082007-092007-102007-112007-122008-012008-022008-032008-042008-052008-062008-072008-082008-092008-102008-112008-122009-012009-022009-032009-042009-052009-062009-072009-082009-092009-102009-112009-122010-012010-022010-032010-042010-052010-062010-072010-082010-092010-102010-112010-122011-012011-022011-032011-042011-052011-062011-072011-082011-092011-102011-112011-122012-012012-022012-032012-042012-052012-062012-072012-082012-092012-102012-112012-122013-012013-022013-032013-042013-052013-062013-072013-082013-092013-102013-112013-122014-012014-022014-032014-042014-052014-062014-072014-082014-092014-102014-112014-122015-012015-022015-032015-042015-052015-062015-072015-082004-012004-022004-032004-042004-052004-062004-072004-082004-092004-102004-112004-122005-012005-022005-032005-042005-052005-062005-072005-082005-092005-102005-112005-122006-012006-022006-032006-042006-052006-062006-072006-082006-092006-102006-112006-122007-012007-022007-032007-042007-052007-062007-072007-082007-092007-102007-112007-122008-012008-022008-032008-042008-052008-062008-072008-082008-092008-102008-112008-122009-012009-022009-032009-042009-052009-062009-072009-082009-092009-102009-112009-122010-012010-022010-032010-042010-052010-062010-072010-082010-092010-102010-112010-122011-012011-022011-032011-042011-052011-062011-072011-082011-092011-102011-112011-122012-012012-022012-032012-042012-052012-062012-072012-082012-092012-102012-112012-122013-012013-022013-032013-042013-052013-062013-072013-082013-092013-102013-112013-122014-012014-022014-032014-042014-052014-062014-072014-082014-092014-102014-112014-122015-012015-022015-032015-042015-052015-062015-072015-082004-012004-022004-032004-042004-052004-062004-072004-082004-092004-102004-112004-122005-012005-022005-032005-042005-052005-062005-072005-082005-092005-102005-112005-122006-012006-022006-032006-042006-052006-062006-072006-082006-092006-102006-112006-122007-012007-022007-032007-042007-052007-062007-072007-082007-092007-102007-112007-122008-012008-022008-032008-042008-052008-062008-072008-082008-092008-102008-112008-122009-012009-022009-032009-042009-052009-062009-072009-082009-092009-102009-112009-122010-012010-022010-032010-042010-052010-062010-072010-082010-092010-102010-112010-122011-012011-022011-032011-042011-052011-062011-072011-082011-092011-102011-112011-122012-012012-022012-032012-042012-052012-062012-072012-082012-092012-102012-112012-122013-012013-022013-032013-042013-052013-062013-072013-082013-092013-102013-112013-122014-012014-022014-032014-042014-052014-062014-072014-082014-092014-102014-112014-122015-012015-022015-032015-042015-052015-062015-072015-082004-012004-022004-032004-042004-052004-062004-072004-082004-092004-102004-112004-122005-012005-022005-032005-042005-052005-062005-072005-082005-092005-102005-112005-122006-012006-022006-032006-042006-052006-062006-072006-082006-092006-102006-112006-122007-012007-022007-032007-042007-052007-062007-072007-082007-092007-102007-112007-122008-012008-022008-032008-042008-052008-062008-072008-082008-092008-102008-112008-122009-012009-022009-032009-042009-052009-062009-072009-082009-092009-102009-112009-122010-012010-022010-032010-042010-052010-062010-072010-082010-092010-102010-112010-122011-012011-022011-032011-042011-052011-062011-072011-082011-092011-102011-112011-122012-012012-022012-032012-042012-052012-062012-072012-082012-092012-102012-112012-122013-012013-022013-032013-042013-052013-062013-072013-082013-092013-102013-112013-122014-012014-022014-032014-042014-052014-062014-072014-082014-092014-102014-112014-122015-012015-022015-032015-042015-052015-062015-072015-082004-012004-022004-032004-042004-052004-062004-072004-082004-092004-102004-112004-122005-012005-022005-032005-042005-052005-062005-072005-082005-092005-102005-112005-122006-012006-022006-032006-042006-052006-062006-072006-082006-092006-102006-112006-122007-012007-022007-032007-042007-052007-062007-072007-082007-092007-102007-112007-122008-012008-022008-032008-042008-052008-062008-072008-082008-092008-102008-112008-122009-012009-022009-032009-042009-052009-062009-072009-082009-092009-102009-112009-122010-012010-022010-032010-042010-052010-062010-072010-082010-092010-102010-112010-122011-012011-022011-032011-042011-052011-062011-072011-082011-092011-102011-112011-122012-012012-022012-032012-042012-052012-062012-072012-082012-092012-102012-112012-122013-012013-022013-032013-042013-052013-062013-072013-082013-092013-102013-112013-122014-012014-022014-032014-042014-052014-062014-072014-082014-092014-102014-112014-122015-012015-022015-032015-042015-052015-062015-072015-082004-012004-022004-032004-042004-052004-062004-072004-082004-092004-102004-112004-122005-012005-022005-032005-042005-052005-062005-072005-082005-092005-102005-112005-122006-012006-022006-032006-042006-052006-062006-072006-082006-092006-102006-112006-122007-012007-022007-032007-042007-052007-062007-072007-082007-092007-102007-112007-122008-012008-022008-032008-042008-052008-062008-072008-082008-092008-102008-112008-122009-012009-022009-032009-042009-052009-062009-072009-082009-092009-102009-112009-122010-012010-022010-032010-042010-052010-062010-072010-082010-092010-102010-112010-122011-012011-022011-032011-042011-052011-062011-072011-082011-092011-102011-112011-122012-012012-022012-032012-042012-052012-062012-072012-082012-092012-102012-112012-122013-012013-022013-032013-042013-052013-062013-072013-082013-092013-102013-112013-122014-012014-022014-032014-042014-052014-062014-072014-082014-092014-102014-112014-122015-012015-022015-032015-042015-052015-062015-072015-082004-012004-022004-032004-042004-052004-062004-072004-082004-092004-102004-112004-122005-012005-022005-032005-042005-052005-062005-072005-082005-092005-102005-112005-122006-012006-022006-032006-042006-052006-062006-072006-082006-092006-102006-112006-122007-012007-022007-032007-042007-052007-062007-072007-082007-092007-102007-112007-122008-012008-022008-032008-042008-052008-062008-072008-082008-092008-102008-112008-122009-012009-022009-032009-042009-052009-062009-072009-082009-092009-102009-112009-122010-012010-022010-032010-042010-052010-062010-072010-082010-092010-102010-112010-122011-012011-022011-032011-042011-052011-062011-072011-082011-092011-102011-112011-122012-012012-022012-032012-042012-052012-062012-072012-082012-092012-102012-112012-122013-012013-022013-032013-042013-052013-062013-072013-082013-092013-102013-112013-122014-012014-022014-032014-042014-052014-062014-072014-082014-092014-102014-112014-122015-012015-022015-032015-042015-052015-062015-072015-082004-012004-022004-032004-042004-052004-062004-072004-082004-092004-102004-112004-122005-012005-022005-032005-042005-052005-062005-072005-082005-092005-102005-112005-122006-012006-022006-032006-042006-052006-062006-072006-082006-092006-102006-112006-122007-012007-022007-032007-042007-052007-062007-072007-082007-092007-102007-112007-122008-012008-022008-032008-042008-052008-062008-072008-082008-092008-102008-112008-122009-012009-022009-032009-042009-052009-062009-072009-082009-092009-102009-112009-122010-012010-022010-032010-042010-052010-062010-072010-082010-092010-102010-112010-122011-012011-022011-032011-042011-052011-062011-072011-082011-092011-102011-112011-122012-012012-022012-032012-042012-052012-062012-072012-082012-092012-102012-112012-122013-012013-022013-032013-042013-052013-062013-072013-082013-092013-102013-112013-122014-012014-022014-032014-042014-052014-062014-072014-082014-092014-102014-112014-122015-012015-022015-032015-042015-052015-062015-072015-082004-012004-022004-032004-042004-052004-062004-072004-082004-092004-102004-112004-122005-012005-022005-032005-042005-052005-062005-072005-082005-092005-102005-112005-122006-012006-022006-032006-042006-052006-062006-072006-082006-092006-102006-112006-122007-012007-022007-032007-042007-052007-062007-072007-082007-092007-102007-112007-122008-012008-022008-032008-042008-052008-062008-072008-082008-092008-102008-112008-122009-012009-022009-032009-042009-052009-062009-072009-082009-092009-102009-112009-122010-012010-022010-032010-042010-052010-062010-072010-082010-092010-102010-112010-122011-012011-022011-032011-042011-052011-062011-072011-082011-092011-102011-112011-122012-012012-022012-032012-042012-052012-062012-072012-082012-092012-102012-112012-122013-012013-022013-032013-042013-052013-062013-072013-082013-092013-102013-112013-122014-012014-022014-032014-042014-052014-062014-072014-082014-092014-102014-112014-122015-012015-022015-032015-042015-052015-062015-072015-082004-012004-022004-032004-042004-052004-062004-072004-082004-092004-102004-112004-122005-012005-022005-032005-042005-052005-062005-072005-082005-092005-102005-112005-122006-012006-022006-032006-042006-052006-062006-072006-082006-092006-102006-112006-122007-012007-022007-032007-042007-052007-062007-072007-082007-092007-102007-112007-122008-012008-022008-032008-042008-052008-062008-072008-082008-092008-102008-112008-122009-012009-022009-032009-042009-052009-062009-072009-082009-092009-102009-112009-122010-012010-022010-032010-042010-052010-062010-072010-082010-092010-102010-112010-122011-012011-022011-032011-042011-052011-062011-072011-082011-092011-102011-112011-122012-012012-022012-032012-042012-052012-062012-072012-082012-092012-102012-112012-122013-012013-022013-032013-042013-052013-062013-072013-082013-092013-102013-112013-122014-012014-022014-032014-042014-052014-062014-072014-082014-092014-102014-112014-122015-012015-022015-032015-042015-052015-062015-072015-082004-012004-022004-032004-042004-052004-062004-072004-082004-092004-102004-112004-122005-012005-022005-032005-042005-052005-062005-072005-082005-092005-102005-112005-122006-012006-022006-032006-042006-052006-062006-072006-082006-092006-102006-112006-122007-012007-022007-032007-042007-052007-062007-072007-082007-092007-102007-112007-122008-012008-022008-032008-042008-052008-062008-072008-082008-092008-102008-112008-122009-012009-022009-032009-042009-052009-062009-072009-082009-092009-102009-112009-122010-012010-022010-032010-042010-052010-062010-072010-082010-092010-102010-112010-122011-012011-022011-032011-042011-052011-062011-072011-082011-092011-102011-112011-122012-012012-022012-032012-042012-052012-062012-072012-082012-092012-102012-112012-122013-012013-022013-032013-042013-052013-062013-072013-082013-092013-102013-112013-122014-012014-022014-032014-042014-052014-062014-072014-082014-092014-102014-112014-122015-012015-022015-032015-042015-052015-062015-072015-082004-012004-022004-032004-042004-052004-062004-072004-082004-092004-102004-112004-122005-012005-022005-032005-042005-052005-062005-072005-082005-092005-102005-112005-122006-012006-022006-032006-042006-052006-062006-072006-082006-092006-102006-112006-122007-012007-022007-032007-042007-052007-062007-072007-082007-092007-102007-112007-122008-012008-022008-032008-042008-052008-062008-072008-082008-092008-102008-112008-122009-012009-022009-032009-042009-052009-062009-072009-082009-092009-102009-112009-122010-012010-022010-032010-042010-052010-062010-072010-082010-092010-102010-112010-122011-012011-022011-032011-042011-052011-062011-072011-082011-092011-102011-112011-122012-012012-022012-032012-042012-052012-062012-072012-082012-092012-102012-112012-122013-012013-022013-032013-042013-052013-062013-072013-082013-092013-102013-112013-122014-012014-022014-032014-042014-052014-062014-072014-082014-092014-102014-112014-122015-012015-022015-032015-042015-052015-062015-072015-082004-012004-022004-032004-042004-052004-062004-072004-082004-092004-102004-112004-122005-012005-022005-032005-042005-052005-062005-072005-082005-092005-102005-112005-122006-012006-022006-032006-042006-052006-062006-072006-082006-092006-102006-112006-122007-012007-022007-032007-042007-052007-062007-072007-082007-092007-102007-112007-122008-012008-022008-032008-042008-052008-062008-072008-082008-092008-102008-112008-122009-012009-022009-032009-042009-052009-062009-072009-082009-092009-102009-112009-122010-012010-022010-032010-042010-052010-062010-072010-082010-092010-102010-112010-122011-012011-022011-032011-042011-052011-062011-072011-082011-092011-102011-112011-122012-012012-022012-032012-042012-052012-062012-072012-082012-092012-102012-112012-122013-012013-022013-032013-042013-052013-062013-072013-082013-092013-102013-112013-122014-012014-022014-032014-042014-052014-062014-072014-082014-092014-102014-112014-122015-012015-022015-032015-042015-052015-062015-072015-082004-012004-022004-032004-042004-052004-062004-072004-082004-092004-102004-112004-122005-012005-022005-032005-042005-052005-062005-072005-082005-092005-102005-112005-122006-012006-022006-032006-042006-052006-062006-072006-082006-092006-102006-112006-122007-012007-022007-032007-042007-052007-062007-072007-082007-092007-102007-112007-122008-012008-022008-032008-042008-052008-062008-072008-082008-092008-102008-112008-122009-012009-022009-032009-042009-052009-062009-072009-082009-092009-102009-112009-122010-012010-022010-032010-042010-052010-062010-072010-082010-092010-102010-112010-122011-012011-022011-032011-042011-052011-062011-072011-082011-092011-102011-112011-122012-012012-022012-032012-042012-052012-062012-072012-082012-092012-102012-112012-122013-012013-022013-032013-042013-052013-062013-072013-082013-092013-102013-112013-122014-012014-022014-032014-042014-052014-062014-072014-082014-092014-102014-112014-122015-012015-022015-032015-042015-052015-062015-072015-082004-012004-022004-032004-042004-052004-062004-072004-082004-092004-102004-112004-122005-012005-022005-032005-042005-052005-062005-072005-082005-092005-102005-112005-122006-012006-022006-032006-042006-052006-062006-072006-082006-092006-102006-112006-122007-012007-022007-032007-042007-052007-062007-072007-082007-092007-102007-112007-122008-012008-022008-032008-042008-052008-062008-072008-082008-092008-102008-112008-122009-012009-022009-032009-042009-052009-062009-072009-082009-092009-102009-112009-122010-012010-022010-032010-042010-052010-062010-072010-082010-092010-102010-112010-122011-012011-022011-032011-042011-052011-062011-072011-082011-092011-102011-112011-122012-012012-022012-032012-042012-052012-062012-072012-082012-092012-102012-112012-122013-012013-022013-032013-042013-052013-062013-072013-082013-092013-102013-112013-122014-012014-022014-032014-042014-052014-062014-072014-082014-092014-102014-112014-122015-012015-022015-032015-042015-052015-062015-072015-082004-012004-022004-032004-042004-052004-062004-072004-082004-092004-102004-112004-122005-012005-022005-032005-042005-052005-062005-072005-082005-092005-102005-112005-122006-012006-022006-032006-042006-052006-062006-072006-082006-092006-102006-112006-122007-012007-022007-032007-042007-052007-062007-072007-082007-092007-102007-112007-122008-012008-022008-032008-042008-052008-062008-072008-082008-092008-102008-112008-122009-012009-022009-032009-042009-052009-062009-072009-082009-092009-102009-112009-122010-012010-022010-032010-042010-052010-062010-072010-082010-092010-102010-112010-122011-012011-022011-032011-042011-052011-062011-072011-082011-092011-102011-112011-122012-012012-022012-032012-042012-052012-062012-072012-082012-092012-102012-112012-122013-012013-022013-032013-042013-052013-062013-072013-082013-092013-102013-112013-122014-012014-022014-032014-042014-052014-062014-072014-082014-092014-102014-112014-122015-012015-022015-032015-042015-052015-062015-072015-082004-012004-022004-032004-042004-052004-062004-072004-082004-092004-102004-112004-122005-012005-022005-032005-042005-052005-062005-072005-082005-092005-102005-112005-122006-012006-022006-032006-042006-052006-062006-072006-082006-092006-102006-112006-122007-012007-022007-032007-042007-052007-062007-072007-082007-092007-102007-112007-122008-012008-022008-032008-042008-052008-062008-072008-082008-092008-102008-112008-122009-012009-022009-032009-042009-052009-062009-072009-082009-092009-102009-112009-122010-012010-022010-032010-042010-052010-062010-072010-082010-092010-102010-112010-122011-012011-022011-032011-042011-052011-062011-072011-082011-092011-102011-112011-122012-012012-022012-032012-042012-052012-062012-072012-082012-092012-102012-112012-122013-012013-022013-032013-042013-052013-062013-072013-082013-092013-102013-112013-122014-012014-022014-032014-042014-052014-062014-072014-082014-092014-102014-112014-122015-012015-022015-032015-042015-052015-062015-072015-082004-012004-022004-032004-042004-052004-062004-072004-082004-092004-102004-112004-122005-012005-022005-032005-042005-052005-062005-072005-082005-092005-102005-112005-122006-012006-022006-032006-042006-052006-062006-072006-082006-092006-102006-112006-122007-012007-022007-032007-042007-052007-062007-072007-082007-092007-102007-112007-122008-012008-022008-032008-042008-052008-062008-072008-082008-092008-102008-112008-122009-012009-022009-032009-042009-052009-062009-072009-082009-092009-102009-112009-122010-012010-022010-032010-042010-052010-062010-072010-082010-092010-102010-112010-122011-012011-022011-032011-042011-052011-062011-072011-082011-092011-102011-112011-122012-012012-022012-032012-042012-052012-062012-072012-082012-092012-102012-112012-122013-012013-022013-032013-042013-052013-062013-072013-082013-092013-102013-112013-122014-012014-022014-032014-042014-052014-062014-072014-082014-092014-102014-112014-122015-012015-022015-032015-042015-052015-062015-072015-082004-012004-022004-032004-042004-052004-062004-072004-082004-092004-102004-112004-122005-012005-022005-032005-042005-052005-062005-072005-082005-092005-102005-112005-122006-012006-022006-032006-042006-052006-062006-072006-082006-092006-102006-112006-122007-012007-022007-032007-042007-052007-062007-072007-082007-092007-102007-112007-122008-012008-022008-032008-042008-052008-062008-072008-082008-092008-102008-112008-122009-012009-022009-032009-042009-052009-062009-072009-082009-092009-102009-112009-122010-012010-022010-032010-042010-052010-062010-072010-082010-092010-102010-112010-122011-012011-022011-032011-042011-052011-062011-072011-082011-092011-102011-112011-122012-012012-022012-032012-042012-052012-062012-072012-082012-092012-102012-112012-122013-012013-022013-032013-042013-052013-062013-072013-082013-092013-102013-112013-122014-012014-022014-032014-042014-052014-062014-072014-082014-092014-102014-112014-122015-012015-022015-032015-042015-052015-062015-072015-082004-012004-022004-032004-042004-052004-062004-072004-082004-092004-102004-112004-122005-012005-022005-032005-042005-052005-062005-072005-082005-092005-102005-112005-122006-012006-022006-032006-042006-052006-062006-072006-082006-092006-102006-112006-122007-012007-022007-032007-042007-052007-062007-072007-082007-092007-102007-112007-122008-012008-022008-032008-042008-052008-062008-072008-082008-092008-102008-112008-122009-012009-022009-032009-042009-052009-062009-072009-082009-092009-102009-112009-122010-012010-022010-032010-042010-052010-062010-072010-082010-092010-102010-112010-122011-012011-022011-032011-042011-052011-062011-072011-082011-092011-102011-112011-122012-012012-022012-032012-042012-052012-062012-072012-082012-092012-102012-112012-122013-012013-022013-032013-042013-052013-062013-072013-082013-092013-102013-112013-122014-012014-022014-032014-042014-052014-062014-072014-082014-092014-102014-112014-122015-012015-022015-032015-042015-052015-062015-072015-082004-012004-022004-032004-042004-052004-062004-072004-082004-092004-102004-112004-122005-012005-022005-032005-042005-052005-062005-072005-082005-092005-102005-112005-122006-012006-022006-032006-042006-052006-062006-072006-082006-092006-102006-112006-122007-012007-022007-032007-042007-052007-062007-072007-082007-092007-102007-112007-122008-012008-022008-032008-042008-052008-062008-072008-082008-092008-102008-112008-122009-012009-022009-032009-042009-052009-062009-072009-082009-092009-102009-112009-122010-012010-022010-032010-042010-052010-062010-072010-082010-092010-102010-112010-122011-012011-022011-032011-042011-052011-062011-072011-082011-092011-102011-112011-122012-012012-022012-032012-042012-052012-062012-072012-082012-092012-102012-112012-122013-012013-022013-032013-042013-052013-062013-072013-082013-092013-102013-112013-122014-012014-022014-032014-042014-052014-062014-072014-082014-092014-102014-112014-122015-012015-022015-032015-042015-052015-062015-072015-082004-012004-022004-032004-042004-052004-062004-072004-082004-092004-102004-112004-122005-012005-022005-032005-042005-052005-062005-072005-082005-092005-102005-112005-122006-012006-022006-032006-042006-052006-062006-072006-082006-092006-102006-112006-122007-012007-022007-032007-042007-052007-062007-072007-082007-092007-102007-112007-122008-012008-022008-032008-042008-052008-062008-072008-082008-092008-102008-112008-122009-012009-022009-032009-042009-052009-062009-072009-082009-092009-102009-112009-122010-012010-022010-032010-042010-052010-062010-072010-082010-092010-102010-112010-122011-012011-022011-032011-042011-052011-062011-072011-082011-092011-102011-112011-122012-012012-022012-032012-042012-052012-062012-072012-082012-092012-102012-112012-122013-012013-022013-032013-042013-052013-062013-072013-082013-092013-102013-112013-122014-012014-022014-032014-042014-052014-062014-072014-082014-092014-102014-112014-122015-012015-022015-032015-042015-052015-062015-072015-082004-012004-022004-032004-042004-052004-062004-072004-082004-092004-102004-112004-122005-012005-022005-032005-042005-052005-062005-072005-082005-092005-102005-112005-122006-012006-022006-032006-042006-052006-062006-072006-082006-092006-102006-112006-122007-012007-022007-032007-042007-052007-062007-072007-082007-092007-102007-112007-122008-012008-022008-032008-042008-052008-062008-072008-082008-092008-102008-112008-122009-012009-022009-032009-042009-052009-062009-072009-082009-092009-102009-112009-122010-012010-022010-032010-042010-052010-062010-072010-082010-092010-102010-112010-122011-012011-022011-032011-042011-052011-062011-072011-082011-092011-102011-112011-122012-012012-022012-032012-042012-052012-062012-072012-082012-092012-102012-112012-122013-012013-022013-032013-042013-052013-062013-072013-082013-092013-102013-112013-122014-012014-022014-032014-042014-052014-062014-072014-082014-092014-102014-112014-122015-012015-022015-032015-042015-052015-062015-072015-082004-012004-022004-032004-042004-052004-062004-072004-082004-092004-102004-112004-122005-012005-022005-032005-042005-052005-062005-072005-082005-092005-102005-112005-122006-012006-022006-032006-042006-052006-062006-072006-082006-092006-102006-112006-122007-012007-022007-032007-042007-052007-062007-072007-082007-092007-102007-112007-122008-012008-022008-032008-042008-052008-062008-072008-082008-092008-102008-112008-122009-012009-022009-032009-042009-052009-062009-072009-082009-092009-102009-112009-122010-012010-022010-032010-042010-052010-062010-072010-082010-092010-102010-112010-122011-012011-022011-032011-042011-052011-062011-072011-082011-092011-102011-112011-122012-012012-022012-032012-042012-052012-062012-072012-082012-092012-102012-112012-122013-012013-022013-032013-042013-052013-062013-072013-082013-092013-102013-112013-122014-012014-022014-032014-042014-052014-062014-072014-082014-092014-102014-112014-122015-012015-022015-032015-042015-052015-062015-072015-082004-012004-022004-032004-042004-052004-062004-072004-082004-092004-102004-112004-122005-012005-022005-032005-042005-052005-062005-072005-082005-092005-102005-112005-122006-012006-022006-032006-042006-052006-062006-072006-082006-092006-102006-112006-122007-012007-022007-032007-042007-052007-062007-072007-082007-092007-102007-112007-122008-012008-022008-032008-042008-052008-062008-072008-082008-092008-102008-112008-122009-012009-022009-032009-042009-052009-062009-072009-082009-092009-102009-112009-122010-012010-022010-032010-042010-052010-062010-072010-082010-092010-102010-112010-122011-012011-022011-032011-042011-052011-062011-072011-082011-092011-102011-112011-122012-012012-022012-032012-042012-052012-062012-072012-082012-092012-102012-112012-122013-012013-022013-032013-042013-052013-062013-072013-082013-092013-102013-112013-122014-012014-022014-032014-042014-052014-062014-072014-082014-092014-102014-112014-122015-012015-022015-032015-042015-052015-062015-072015-082004-012004-022004-032004-042004-052004-062004-072004-082004-092004-102004-112004-122005-012005-022005-032005-042005-052005-062005-072005-082005-092005-102005-112005-122006-012006-022006-032006-042006-052006-062006-072006-082006-092006-102006-112006-122007-012007-022007-032007-042007-052007-062007-072007-082007-092007-102007-112007-122008-012008-022008-032008-042008-052008-062008-072008-082008-092008-102008-112008-122009-012009-022009-032009-042009-052009-062009-072009-082009-092009-102009-112009-122010-012010-022010-032010-042010-052010-062010-072010-082010-092010-102010-112010-122011-012011-022011-032011-042011-052011-062011-072011-082011-092011-102011-112011-122012-012012-022012-032012-042012-052012-062012-072012-082012-092012-102012-112012-122013-012013-022013-032013-042013-052013-062013-072013-082013-092013-102013-112013-122014-012014-022014-032014-042014-052014-062014-072014-082014-092014-102014-112014-122015-012015-022015-032015-042015-052015-062015-072015-082004-012004-022004-032004-042004-052004-062004-072004-082004-092004-102004-112004-122005-012005-022005-032005-042005-052005-062005-072005-082005-092005-102005-112005-122006-012006-022006-032006-042006-052006-062006-072006-082006-092006-102006-112006-122007-012007-022007-032007-042007-052007-062007-072007-082007-092007-102007-112007-122008-012008-022008-032008-042008-052008-062008-072008-082008-092008-102008-112008-122009-012009-022009-032009-042009-052009-062009-072009-082009-092009-102009-112009-122010-012010-022010-032010-042010-052010-062010-072010-082010-092010-102010-112010-122011-012011-022011-032011-042011-052011-062011-072011-082011-092011-102011-112011-122012-012012-022012-032012-042012-052012-062012-072012-082012-092012-102012-112012-122013-012013-022013-032013-042013-052013-062013-072013-082013-092013-102013-112013-122014-012014-022014-032014-042014-052014-062014-072014-082014-092014-102014-112014-122015-012015-022015-032015-042015-052015-062015-072015-082004-012004-022004-032004-042004-052004-062004-072004-082004-092004-102004-112004-122005-012005-022005-032005-042005-052005-062005-072005-082005-092005-102005-112005-122006-012006-022006-032006-042006-052006-062006-072006-082006-092006-102006-112006-122007-012007-022007-032007-042007-052007-062007-072007-082007-092007-102007-112007-122008-012008-022008-032008-042008-052008-062008-072008-082008-092008-102008-112008-122009-012009-022009-032009-042009-052009-062009-072009-082009-092009-102009-112009-122010-012010-022010-032010-042010-052010-062010-072010-082010-092010-102010-112010-122011-012011-022011-032011-042011-052011-062011-072011-082011-092011-102011-112011-122012-012012-022012-032012-042012-052012-062012-072012-082012-092012-102012-112012-122013-012013-022013-032013-042013-052013-062013-072013-082013-092013-102013-112013-122014-012014-022014-032014-042014-052014-062014-072014-082014-092014-102014-112014-122015-012015-022015-032015-042015-052015-062015-072015-082004-012004-022004-032004-042004-052004-062004-072004-082004-092004-102004-112004-122005-012005-022005-032005-042005-052005-062005-072005-082005-092005-102005-112005-122006-012006-022006-032006-042006-052006-062006-072006-082006-092006-102006-112006-122007-012007-022007-032007-042007-052007-062007-072007-082007-092007-102007-112007-122008-012008-022008-032008-042008-052008-062008-072008-082008-092008-102008-112008-122009-012009-022009-032009-042009-052009-062009-072009-082009-092009-102009-112009-122010-012010-022010-032010-042010-052010-062010-072010-082010-092010-102010-112010-122011-012011-022011-032011-042011-052011-062011-072011-082011-092011-102011-112011-122012-012012-022012-032012-042012-052012-062012-072012-082012-092012-102012-112012-122013-012013-022013-032013-042013-052013-062013-072013-082013-092013-102013-112013-122014-012014-022014-032014-042014-052014-062014-072014-082014-092014-102014-112014-122015-012015-022015-032015-042015-052015-062015-072015-082004-012004-022004-032004-042004-052004-062004-072004-082004-092004-102004-112004-122005-012005-022005-032005-042005-052005-062005-072005-082005-092005-102005-112005-122006-012006-022006-032006-042006-052006-062006-072006-082006-092006-102006-112006-122007-012007-022007-032007-042007-052007-062007-072007-082007-092007-102007-112007-122008-012008-022008-032008-042008-052008-062008-072008-082008-092008-102008-112008-122009-012009-022009-032009-042009-052009-062009-072009-082009-092009-102009-112009-122010-012010-022010-032010-042010-052010-062010-072010-082010-092010-102010-112010-122011-012011-022011-032011-042011-052011-062011-072011-082011-092011-102011-112011-122012-012012-022012-032012-042012-052012-062012-072012-082012-092012-102012-112012-122013-012013-022013-032013-042013-052013-062013-072013-082013-092013-102013-112013-122014-012014-022014-032014-042014-052014-062014-072014-082014-092014-102014-112014-122015-012015-022015-032015-042015-052015-062015-072015-08'] to numeric",
     "output_type": "error",
     "traceback": [
      "\u001B[1;31m---------------------------------------------------------------------------\u001B[0m",
      "\u001B[1;31mTypeError\u001B[0m                                 Traceback (most recent call last)",
      "Cell \u001B[1;32mIn[88], line 1\u001B[0m\n\u001B[1;32m----> 1\u001B[0m SSE\u001B[38;5;241m.\u001B[39mmean()\n",
      "File \u001B[1;32mD:\\anaconda\\Lib\\site-packages\\pandas\\core\\frame.py:11693\u001B[0m, in \u001B[0;36mDataFrame.mean\u001B[1;34m(self, axis, skipna, numeric_only, **kwargs)\u001B[0m\n\u001B[0;32m  11685\u001B[0m \u001B[38;5;129m@doc\u001B[39m(make_doc(\u001B[38;5;124m\"\u001B[39m\u001B[38;5;124mmean\u001B[39m\u001B[38;5;124m\"\u001B[39m, ndim\u001B[38;5;241m=\u001B[39m\u001B[38;5;241m2\u001B[39m))\n\u001B[0;32m  11686\u001B[0m \u001B[38;5;28;01mdef\u001B[39;00m \u001B[38;5;21mmean\u001B[39m(\n\u001B[0;32m  11687\u001B[0m     \u001B[38;5;28mself\u001B[39m,\n\u001B[1;32m   (...)\u001B[0m\n\u001B[0;32m  11691\u001B[0m     \u001B[38;5;241m*\u001B[39m\u001B[38;5;241m*\u001B[39mkwargs,\n\u001B[0;32m  11692\u001B[0m ):\n\u001B[1;32m> 11693\u001B[0m     result \u001B[38;5;241m=\u001B[39m \u001B[38;5;28msuper\u001B[39m()\u001B[38;5;241m.\u001B[39mmean(axis, skipna, numeric_only, \u001B[38;5;241m*\u001B[39m\u001B[38;5;241m*\u001B[39mkwargs)\n\u001B[0;32m  11694\u001B[0m     \u001B[38;5;28;01mif\u001B[39;00m \u001B[38;5;28misinstance\u001B[39m(result, Series):\n\u001B[0;32m  11695\u001B[0m         result \u001B[38;5;241m=\u001B[39m result\u001B[38;5;241m.\u001B[39m__finalize__(\u001B[38;5;28mself\u001B[39m, method\u001B[38;5;241m=\u001B[39m\u001B[38;5;124m\"\u001B[39m\u001B[38;5;124mmean\u001B[39m\u001B[38;5;124m\"\u001B[39m)\n",
      "File \u001B[1;32mD:\\anaconda\\Lib\\site-packages\\pandas\\core\\generic.py:12420\u001B[0m, in \u001B[0;36mNDFrame.mean\u001B[1;34m(self, axis, skipna, numeric_only, **kwargs)\u001B[0m\n\u001B[0;32m  12413\u001B[0m \u001B[38;5;28;01mdef\u001B[39;00m \u001B[38;5;21mmean\u001B[39m(\n\u001B[0;32m  12414\u001B[0m     \u001B[38;5;28mself\u001B[39m,\n\u001B[0;32m  12415\u001B[0m     axis: Axis \u001B[38;5;241m|\u001B[39m \u001B[38;5;28;01mNone\u001B[39;00m \u001B[38;5;241m=\u001B[39m \u001B[38;5;241m0\u001B[39m,\n\u001B[1;32m   (...)\u001B[0m\n\u001B[0;32m  12418\u001B[0m     \u001B[38;5;241m*\u001B[39m\u001B[38;5;241m*\u001B[39mkwargs,\n\u001B[0;32m  12419\u001B[0m ) \u001B[38;5;241m-\u001B[39m\u001B[38;5;241m>\u001B[39m Series \u001B[38;5;241m|\u001B[39m \u001B[38;5;28mfloat\u001B[39m:\n\u001B[1;32m> 12420\u001B[0m     \u001B[38;5;28;01mreturn\u001B[39;00m \u001B[38;5;28mself\u001B[39m\u001B[38;5;241m.\u001B[39m_stat_function(\n\u001B[0;32m  12421\u001B[0m         \u001B[38;5;124m\"\u001B[39m\u001B[38;5;124mmean\u001B[39m\u001B[38;5;124m\"\u001B[39m, nanops\u001B[38;5;241m.\u001B[39mnanmean, axis, skipna, numeric_only, \u001B[38;5;241m*\u001B[39m\u001B[38;5;241m*\u001B[39mkwargs\n\u001B[0;32m  12422\u001B[0m     )\n",
      "File \u001B[1;32mD:\\anaconda\\Lib\\site-packages\\pandas\\core\\generic.py:12377\u001B[0m, in \u001B[0;36mNDFrame._stat_function\u001B[1;34m(self, name, func, axis, skipna, numeric_only, **kwargs)\u001B[0m\n\u001B[0;32m  12373\u001B[0m nv\u001B[38;5;241m.\u001B[39mvalidate_func(name, (), kwargs)\n\u001B[0;32m  12375\u001B[0m validate_bool_kwarg(skipna, \u001B[38;5;124m\"\u001B[39m\u001B[38;5;124mskipna\u001B[39m\u001B[38;5;124m\"\u001B[39m, none_allowed\u001B[38;5;241m=\u001B[39m\u001B[38;5;28;01mFalse\u001B[39;00m)\n\u001B[1;32m> 12377\u001B[0m \u001B[38;5;28;01mreturn\u001B[39;00m \u001B[38;5;28mself\u001B[39m\u001B[38;5;241m.\u001B[39m_reduce(\n\u001B[0;32m  12378\u001B[0m     func, name\u001B[38;5;241m=\u001B[39mname, axis\u001B[38;5;241m=\u001B[39maxis, skipna\u001B[38;5;241m=\u001B[39mskipna, numeric_only\u001B[38;5;241m=\u001B[39mnumeric_only\n\u001B[0;32m  12379\u001B[0m )\n",
      "File \u001B[1;32mD:\\anaconda\\Lib\\site-packages\\pandas\\core\\frame.py:11562\u001B[0m, in \u001B[0;36mDataFrame._reduce\u001B[1;34m(self, op, name, axis, skipna, numeric_only, filter_type, **kwds)\u001B[0m\n\u001B[0;32m  11558\u001B[0m     df \u001B[38;5;241m=\u001B[39m df\u001B[38;5;241m.\u001B[39mT\n\u001B[0;32m  11560\u001B[0m \u001B[38;5;66;03m# After possibly _get_data and transposing, we are now in the\u001B[39;00m\n\u001B[0;32m  11561\u001B[0m \u001B[38;5;66;03m#  simple case where we can use BlockManager.reduce\u001B[39;00m\n\u001B[1;32m> 11562\u001B[0m res \u001B[38;5;241m=\u001B[39m df\u001B[38;5;241m.\u001B[39m_mgr\u001B[38;5;241m.\u001B[39mreduce(blk_func)\n\u001B[0;32m  11563\u001B[0m out \u001B[38;5;241m=\u001B[39m df\u001B[38;5;241m.\u001B[39m_constructor_from_mgr(res, axes\u001B[38;5;241m=\u001B[39mres\u001B[38;5;241m.\u001B[39maxes)\u001B[38;5;241m.\u001B[39miloc[\u001B[38;5;241m0\u001B[39m]\n\u001B[0;32m  11564\u001B[0m \u001B[38;5;28;01mif\u001B[39;00m out_dtype \u001B[38;5;129;01mis\u001B[39;00m \u001B[38;5;129;01mnot\u001B[39;00m \u001B[38;5;28;01mNone\u001B[39;00m \u001B[38;5;129;01mand\u001B[39;00m out\u001B[38;5;241m.\u001B[39mdtype \u001B[38;5;241m!=\u001B[39m \u001B[38;5;124m\"\u001B[39m\u001B[38;5;124mboolean\u001B[39m\u001B[38;5;124m\"\u001B[39m:\n",
      "File \u001B[1;32mD:\\anaconda\\Lib\\site-packages\\pandas\\core\\internals\\managers.py:1500\u001B[0m, in \u001B[0;36mBlockManager.reduce\u001B[1;34m(self, func)\u001B[0m\n\u001B[0;32m   1498\u001B[0m res_blocks: \u001B[38;5;28mlist\u001B[39m[Block] \u001B[38;5;241m=\u001B[39m []\n\u001B[0;32m   1499\u001B[0m \u001B[38;5;28;01mfor\u001B[39;00m blk \u001B[38;5;129;01min\u001B[39;00m \u001B[38;5;28mself\u001B[39m\u001B[38;5;241m.\u001B[39mblocks:\n\u001B[1;32m-> 1500\u001B[0m     nbs \u001B[38;5;241m=\u001B[39m blk\u001B[38;5;241m.\u001B[39mreduce(func)\n\u001B[0;32m   1501\u001B[0m     res_blocks\u001B[38;5;241m.\u001B[39mextend(nbs)\n\u001B[0;32m   1503\u001B[0m index \u001B[38;5;241m=\u001B[39m Index([\u001B[38;5;28;01mNone\u001B[39;00m])  \u001B[38;5;66;03m# placeholder\u001B[39;00m\n",
      "File \u001B[1;32mD:\\anaconda\\Lib\\site-packages\\pandas\\core\\internals\\blocks.py:404\u001B[0m, in \u001B[0;36mBlock.reduce\u001B[1;34m(self, func)\u001B[0m\n\u001B[0;32m    398\u001B[0m \u001B[38;5;129m@final\u001B[39m\n\u001B[0;32m    399\u001B[0m \u001B[38;5;28;01mdef\u001B[39;00m \u001B[38;5;21mreduce\u001B[39m(\u001B[38;5;28mself\u001B[39m, func) \u001B[38;5;241m-\u001B[39m\u001B[38;5;241m>\u001B[39m \u001B[38;5;28mlist\u001B[39m[Block]:\n\u001B[0;32m    400\u001B[0m     \u001B[38;5;66;03m# We will apply the function and reshape the result into a single-row\u001B[39;00m\n\u001B[0;32m    401\u001B[0m     \u001B[38;5;66;03m#  Block with the same mgr_locs; squeezing will be done at a higher level\u001B[39;00m\n\u001B[0;32m    402\u001B[0m     \u001B[38;5;28;01massert\u001B[39;00m \u001B[38;5;28mself\u001B[39m\u001B[38;5;241m.\u001B[39mndim \u001B[38;5;241m==\u001B[39m \u001B[38;5;241m2\u001B[39m\n\u001B[1;32m--> 404\u001B[0m     result \u001B[38;5;241m=\u001B[39m func(\u001B[38;5;28mself\u001B[39m\u001B[38;5;241m.\u001B[39mvalues)\n\u001B[0;32m    406\u001B[0m     \u001B[38;5;28;01mif\u001B[39;00m \u001B[38;5;28mself\u001B[39m\u001B[38;5;241m.\u001B[39mvalues\u001B[38;5;241m.\u001B[39mndim \u001B[38;5;241m==\u001B[39m \u001B[38;5;241m1\u001B[39m:\n\u001B[0;32m    407\u001B[0m         res_values \u001B[38;5;241m=\u001B[39m result\n",
      "File \u001B[1;32mD:\\anaconda\\Lib\\site-packages\\pandas\\core\\frame.py:11481\u001B[0m, in \u001B[0;36mDataFrame._reduce.<locals>.blk_func\u001B[1;34m(values, axis)\u001B[0m\n\u001B[0;32m  11479\u001B[0m         \u001B[38;5;28;01mreturn\u001B[39;00m np\u001B[38;5;241m.\u001B[39marray([result])\n\u001B[0;32m  11480\u001B[0m \u001B[38;5;28;01melse\u001B[39;00m:\n\u001B[1;32m> 11481\u001B[0m     \u001B[38;5;28;01mreturn\u001B[39;00m op(values, axis\u001B[38;5;241m=\u001B[39maxis, skipna\u001B[38;5;241m=\u001B[39mskipna, \u001B[38;5;241m*\u001B[39m\u001B[38;5;241m*\u001B[39mkwds)\n",
      "File \u001B[1;32mD:\\anaconda\\Lib\\site-packages\\pandas\\core\\nanops.py:147\u001B[0m, in \u001B[0;36mbottleneck_switch.__call__.<locals>.f\u001B[1;34m(values, axis, skipna, **kwds)\u001B[0m\n\u001B[0;32m    145\u001B[0m         result \u001B[38;5;241m=\u001B[39m alt(values, axis\u001B[38;5;241m=\u001B[39maxis, skipna\u001B[38;5;241m=\u001B[39mskipna, \u001B[38;5;241m*\u001B[39m\u001B[38;5;241m*\u001B[39mkwds)\n\u001B[0;32m    146\u001B[0m \u001B[38;5;28;01melse\u001B[39;00m:\n\u001B[1;32m--> 147\u001B[0m     result \u001B[38;5;241m=\u001B[39m alt(values, axis\u001B[38;5;241m=\u001B[39maxis, skipna\u001B[38;5;241m=\u001B[39mskipna, \u001B[38;5;241m*\u001B[39m\u001B[38;5;241m*\u001B[39mkwds)\n\u001B[0;32m    149\u001B[0m \u001B[38;5;28;01mreturn\u001B[39;00m result\n",
      "File \u001B[1;32mD:\\anaconda\\Lib\\site-packages\\pandas\\core\\nanops.py:404\u001B[0m, in \u001B[0;36m_datetimelike_compat.<locals>.new_func\u001B[1;34m(values, axis, skipna, mask, **kwargs)\u001B[0m\n\u001B[0;32m    401\u001B[0m \u001B[38;5;28;01mif\u001B[39;00m datetimelike \u001B[38;5;129;01mand\u001B[39;00m mask \u001B[38;5;129;01mis\u001B[39;00m \u001B[38;5;28;01mNone\u001B[39;00m:\n\u001B[0;32m    402\u001B[0m     mask \u001B[38;5;241m=\u001B[39m isna(values)\n\u001B[1;32m--> 404\u001B[0m result \u001B[38;5;241m=\u001B[39m func(values, axis\u001B[38;5;241m=\u001B[39maxis, skipna\u001B[38;5;241m=\u001B[39mskipna, mask\u001B[38;5;241m=\u001B[39mmask, \u001B[38;5;241m*\u001B[39m\u001B[38;5;241m*\u001B[39mkwargs)\n\u001B[0;32m    406\u001B[0m \u001B[38;5;28;01mif\u001B[39;00m datetimelike:\n\u001B[0;32m    407\u001B[0m     result \u001B[38;5;241m=\u001B[39m _wrap_results(result, orig_values\u001B[38;5;241m.\u001B[39mdtype, fill_value\u001B[38;5;241m=\u001B[39miNaT)\n",
      "File \u001B[1;32mD:\\anaconda\\Lib\\site-packages\\pandas\\core\\nanops.py:720\u001B[0m, in \u001B[0;36mnanmean\u001B[1;34m(values, axis, skipna, mask)\u001B[0m\n\u001B[0;32m    718\u001B[0m count \u001B[38;5;241m=\u001B[39m _get_counts(values\u001B[38;5;241m.\u001B[39mshape, mask, axis, dtype\u001B[38;5;241m=\u001B[39mdtype_count)\n\u001B[0;32m    719\u001B[0m the_sum \u001B[38;5;241m=\u001B[39m values\u001B[38;5;241m.\u001B[39msum(axis, dtype\u001B[38;5;241m=\u001B[39mdtype_sum)\n\u001B[1;32m--> 720\u001B[0m the_sum \u001B[38;5;241m=\u001B[39m _ensure_numeric(the_sum)\n\u001B[0;32m    722\u001B[0m \u001B[38;5;28;01mif\u001B[39;00m axis \u001B[38;5;129;01mis\u001B[39;00m \u001B[38;5;129;01mnot\u001B[39;00m \u001B[38;5;28;01mNone\u001B[39;00m \u001B[38;5;129;01mand\u001B[39;00m \u001B[38;5;28mgetattr\u001B[39m(the_sum, \u001B[38;5;124m\"\u001B[39m\u001B[38;5;124mndim\u001B[39m\u001B[38;5;124m\"\u001B[39m, \u001B[38;5;28;01mFalse\u001B[39;00m):\n\u001B[0;32m    723\u001B[0m     count \u001B[38;5;241m=\u001B[39m cast(np\u001B[38;5;241m.\u001B[39mndarray, count)\n",
      "File \u001B[1;32mD:\\anaconda\\Lib\\site-packages\\pandas\\core\\nanops.py:1686\u001B[0m, in \u001B[0;36m_ensure_numeric\u001B[1;34m(x)\u001B[0m\n\u001B[0;32m   1683\u001B[0m inferred \u001B[38;5;241m=\u001B[39m lib\u001B[38;5;241m.\u001B[39minfer_dtype(x)\n\u001B[0;32m   1684\u001B[0m \u001B[38;5;28;01mif\u001B[39;00m inferred \u001B[38;5;129;01min\u001B[39;00m [\u001B[38;5;124m\"\u001B[39m\u001B[38;5;124mstring\u001B[39m\u001B[38;5;124m\"\u001B[39m, \u001B[38;5;124m\"\u001B[39m\u001B[38;5;124mmixed\u001B[39m\u001B[38;5;124m\"\u001B[39m]:\n\u001B[0;32m   1685\u001B[0m     \u001B[38;5;66;03m# GH#44008, GH#36703 avoid casting e.g. strings to numeric\u001B[39;00m\n\u001B[1;32m-> 1686\u001B[0m     \u001B[38;5;28;01mraise\u001B[39;00m \u001B[38;5;167;01mTypeError\u001B[39;00m(\u001B[38;5;124mf\u001B[39m\u001B[38;5;124m\"\u001B[39m\u001B[38;5;124mCould not convert \u001B[39m\u001B[38;5;132;01m{\u001B[39;00mx\u001B[38;5;132;01m}\u001B[39;00m\u001B[38;5;124m to numeric\u001B[39m\u001B[38;5;124m\"\u001B[39m)\n\u001B[0;32m   1687\u001B[0m \u001B[38;5;28;01mtry\u001B[39;00m:\n\u001B[0;32m   1688\u001B[0m     x \u001B[38;5;241m=\u001B[39m x\u001B[38;5;241m.\u001B[39mastype(np\u001B[38;5;241m.\u001B[39mcomplex128)\n",
      "\u001B[1;31mTypeError\u001B[0m: Could not convert ['EEEEEEEEEEEEEEEEEEEEEEEEEEEEEEEEEEEEEEEEEEEEEEEEEEEEEEEEEEEEEEEEEEEEEEEEEEEEEEEEEEEEEEEEEEEEEEEEEEEEEEEEEEEEEEEEEEEEEEEEEEEEEEEEEEEEEEEEEEEEEEEEEEEEEEEEEEEEEEEEEEEEEEEEEEEEEEEEEEEEEEEEEEEEEEEEEEEEEEEEEEEEEEEEEEEEEEEEEEEEEEEEEEEEEEEEEEEEEEEEEEEEEEEEEEEEEEEEEEEEEEEEEEEEEEEEEEEEEEEEEEEEEEEEEEEEEEEEEEEEEEEEEEEEEEEEEEEEEEEEEEEEEEEEEEEEEEEEEEEEEEEEEEEEEEEEEEEEEEEEEEEEEEEEEEEEEEEEEEEEEEEEEEEEEEEEEEEEEEEEEEEEEEEEEEEEEEEEEEEEEEEEEEEEEEEEEEEEEEEEEEEEEEEEEEEEEEEEEEEEEEEEEEEEEEEEEEEEEEEEEEEEEEEEEEEEEEEEEEEEEEEEEEEEEEEEEEEEEEEEEEEEEEEEEEEEEEEEEEEEEEEEEEEEEEEEEEEEEEEEEEEEEEEEEEEEEEEEEEEEEEEEEEEEEEEEEEEEEEEEEEEEEEEEEEEEEEEEEEEEEEEEEEEEEEEEEEEEEEEEEEEEEEEEEEEEEEEEEEEEEEEEEEEEEEEEEEEEEEEEEEEEEEEEEEEEEEEEEEEEEEEEEEEEEEEEEEEEEEEEEEEEEEEEEEEEEEEEEEEEEEEEEEEEEEEEEEEEEEEEEEEEEEEEEEEEEEEEEEEEEEEEEEEEEEEEEEEEEEEEEEEEEEEEEEEEEEEEEEEEEEEEEEEEEEEEEEEEEEEEEEEEEEEEEEEEEEEEEEEEEEEEEEEEEEEEEEEEEEEEEEEEEEEEEEEEEEEEEEEEEEEEEEEEEEEEEEEEEEEEEEEEEEEEEEEEEEEEEEEEEEEEEEEEEEEEEEEEEEEEEEEEEEEEEEEEEEEEEEEEEEEEEEEEEEEEEEEEEEEEEEEEEEEEEEEEEEEEEEEEEEEEEEEEEEEEEEEEEEEEEEEEEEEEEEEEEEEEEEEEEEEEEEEEEEEEEEEEEEEEEEEEEEEEEEEEEEEEEEEEEEEEEEEEEEEEEEEEEEEEEEEEEEEEEEEEEEEEEEEEEEEEEEEEEEEEEEEEEEEEEEEEEEEEEEEEEEEEEEEEEEEEEEEEEEEEEEEEEEEEEEEEEEEEEEEEEEEEEEEEEEEEEEEEEEEEEEEEEEEEEEEEEEEEEEEEEEEEEEEEEEEEEEEEEEEEEEEEEEEEEEEEEEEEEEEEEEEEEEEEEEEEEEEEEEEEEEEEEEEEEEEEEEEEEEEEEEEEEEEEEEEEEEEEEEEEEEEEEEEEEEEEEEEEEEEEEEEEEEEEEEEEEEEEEEEEEEEEEEEEEEEEEEEEEEEEEEEEEEEEEEEEEEEEEEEEEEEEEEEEEEEEEEEEEEEEEEEEEEEEEEEEEEEEEEEEEEEEEEEEEEEEEEEEEEEEEEEEEEEEEEEEEEEEEEEEEEEEEEEEEEEEEEEEEEEEEEEEEEEEEEEEEEEEEEEEEEEEEEEEEEEEEEEEEEEEEEEEEEEEEEEEEEEEEEEEEEEEEEEEEEEEEEEEEEEEEEEEEEEEEEEEEEEEEEEEEEEEEEEEEEEEEEEEEEEEEEEEEEEEEEEEEEEEEEEEEEEEEEEEEEEEEEEEEEEEEEEEEEEEEEEEEEEEEEEEEEEEEEEEEEEEEEEEEEEEEEEEEEEEEEEEEEEEEEEEEEEEEEEEEEEEEEEEEEEEEEEEEEEEEEEEEEEEEEEEEEEEEEEEEEEEEEEEEEEEEEEEEEEEEEEEEEEEEEEEEEEEEEEEEEEEEEEEEEEEEEEEEEEEEEEEEEEEEEEEEEEEEEEEEEEEEEEEEEEEEEEEEEEEEEEEEEEEEEEEEEEEEEEEEEEEEEEEEEEEEEEEEEEEEEEEEEEEEEEEEEEEEEEEEEEEEEEEEEEEEEEEEEEEEEEEEEEEEEEEEEEEEEEEEEEEEEEEEEEEEEEEEEEEEEEEEEEEEEEEEEEEEEEEEEEEEEEEEEEEEEEEEEEEEEEEEEEEEEEEEEEEEEEEEEEEEEEEEEEEEEEEEEEEEEEEEEEEEEEEEEEEEEEEEEEEEEEEEEEEEEEEEEEEEEEEEEEEEEEEEEEEEEEEEEEEEEEEEEEEEEEEEEEEEEEEEEEEEEEEEEEEEEEEEEEEEEEEEEEEEEEEEEEEEEEEEEEEEEEEEEEEEEEEEEEEEEEEEEEEEEEEEEEEEEEEEEEEEEEEEEEEEEEEEEEEEEEEEEEEEEEEEEEEEEEEEEEEEEEEEEEEEEEEEEEEEEEEEEEEEEEEEEEEEEEEEEEEEEEEEEEEEEEEEEEEEEEEEEEEEEEEEEEEEEEEEEEEEEEEEEEEEEEEEEEEEEEEEEEEEEEEEEEEEEEEEEEEEEEEEEEEEEEEEEEEEEEEEEEEEEEEEEEEEEEEEEEEEEEEEEEEEEEEEEEEEEEEEEEEEEEEEEEEEEEEEEEEEEEEEEEEEEEEEEEEEEEEEEEEEEEEEEEEEEEEEEEEEEEEEEEEEEEEEEEEEEEEEEEEEEEEEEEEEEEEEEEEEEEEEEEEEEEEEEEEEEEEEEEEEEEEEEEEEEEEEEEEEEEEEEEEEEEEEEEEEEEEEEEEEEEEEEEEEEEEEEEEEEEEEEEEEEEEEEEEEEEEEEEEEEEEEEEEEEEEEEEEEEEEEEEEEEEEEEEEEEEEEEEEEEEEEEEEEEEEEEEEEEEEEEEEEEEEEEEEEEEEEEEEEEEEEEEEEEEEEEEEEEEEEEEEEEEEEEEEEEEEEEEEEEEEEEEEEEEEEEEEEEEEEEEEEEEEEEEEEEEEEEEEEEEEEEEEEEEEEEEEEEEEEEEEEEEEEEEEEEEEEEEEEEEEEEEEEEEEEEEEEEEEEEEEEEEEEEEEEEEEEEEEEEEEEEEEEEEEEEEEEEEEEEEEEEEEEEEEEEEEEEEEEEEEEEEEEEEEEEEEEEEEEEEEEEEEEEEEEEEEEEEEEEEEEEEEEEEEEEEEEEEEEEEEEEEEEEEEEEEEEEEEEEEEEEEEEEEEEEEEEEEEEEEEEEEEEEEEEEEEEEEEEEEEEEEEEEEEEEEEEEEEEEEEEEEEEEEEEEEEEEEEEEEEEEEEEEEEEEEEEEEEEEEEEEEEEEEEEEEEEEEEEEEEEEEEEEEEEEEEEEEEEEEEEEEEEEEEEEEEEEEEEEEEEEEEEEEEEEEEEEEEEEEEEEEEEEEEEEEEEEEEEEEEEEEEEEEEEEEEEEEEEEEEEEEEEEEEEEEEEEEEEEEEEEEEEEEEEEEEEEEEEEEEEEEEEEEEEEEEEEEEEEEEEEEEEEEEEEEEEEEEEEEEEEEEEEEEEEEEEEEEEEEEEEEEEEEEEEEEEEEEEEEEEEEEEEEEEEEEEEEEEEEEEEEEEEEEEEEEEEEEEEEEEEEEEEEEEEEEEEEEEEEEEEEEEEEEEEEEEEEEEEEEEEEEEEEEEEEEEEEEEEEEEEEEEEEEEEEEEEEEEEEEEEEEEEEEEEEEEEEEEEEEEEEEEEEEEEEEEEEEEEEEEEEEEEEEEEEEEEEEEEEEEEEEEEEEEEEEEEEEEEEEEEEEEEEEEEEEEEEEEEEEEEEEEEEEEEEEEEEEEEEEEEEEEEEEEEEEEEEEEEEEEEEEEEEEEEEEEEEEEEEEEEEEEEEEEEEEEEEEEEEEEEEEEEEEEEEEEEEEEEEEEEEEEEEEEEEEEEEEEEEEEEEEEEEEEEEEEEEEEEEEEEEEEEEEEEEEEEEEEEEEEEEEEEEEEEEEEEEEEEEEEEEEEEEEEEEEEEEEEEEEEEEEEEEEEEEEEEEEEEEEEEEEEEEEEEEEEEEEEEEEEEEEEEEEEEEEEEEEEEEEEEEEEEEEEEEEEEEEEEEEEEEEEEEEEEEEEEEEEEEEEEEEEEEEEEEEEEEEEEEEEEEEEEEEEEEEEEEEEEEEEEEEEEEEEEEEEEEEEEEEEEEEEEEEEEEEEEEEEEEEEEEEEEEEEEEEEEEEEEEEEEEEEEEEEEEEEEEEEEEEEEEEEEEEEEEEEEEEEEEEEEEEEEEEEEEEEEEEEEEEEEEEEEEEEEEEEEEEEEEEEEEEEEEEEEEEEEEEEEEEEEEEEEEEEEEEEEEEEEEEEEEEEEEEEEEEEEEEEEEEEEEEEEEEEEEEEEEEEEEEEEEEEEEEEEEEEEEEEEEEEEEEEEEEEEEEEEEEEEEEEEEEEEEEEEEEEEEEEEEEEEEEEEEEEEEEEEEEEEEEEEEEEEEEEEEEEEEEEEEEEEEEEEEEEEEEEEEEEEEEEEEEEEEEEEEEEEEEEEEEEEEEEEEEEEEEEEEEEEEEEEEEEEEEEEEEEEEEEEEEEEEEEEEEEEEEEEEEEEEEEEEEEEEEEEEEEEEEEEEEEEEEEEEEEEEEEEEEEEEEEEEEEEEEEEEEEEEEEEEEEEEEEEEEEEEEEEEEEEEEEEEEEEEEEEEEEEEEEEEEEEEEEEEEEEEEEEEEEEEEEEEEEEEEEEEEEEEEEEEEEEEEEEEEEEEEEEEEEEEEEEEEEEEEEEEEEEEEEEEEEEEEEEEEEEEEEEEEEEEEEEEEEEEEEEEEEEEEEEEEEEEEEEEEEEEEEEEEEEEEEEEEEEEEEEEEEEEEEEEEEEEEEEEEEEEEEEEEEEEEEEEEEEEEEEEEEEEEEEEEEEEEEEEEEEEEEEEEEEEEEEEEEEEEEEEEEEEEEEEEEEEEEEEEEEEEEEEEEEEEEEEEEEEEEEEEEEEEEEEEEEEEEEEEEEEEEEEEEEEEEEEEEEEEEEEEEEEEEEEEEEEEEEEEEEEEEEEEEEEEEEEEEEEEEEEEEEEEEEEEEEEEEEEEEEEEEEEEEEEEEEEEEEEEEEEEEEEEEEEEEEEEEEEEEEEEEEEEEEEEEEEEEEEEEEEEEEEEEEEEEEEEEEEEEEEEEEEEEEEEEEEEEEEEEEEEEEEEEEEEEEEEEEEEEEEEEEEEEEEEEEEEEEEEEEEEEEEEEEEEEEEEEEEEEEEEEEEEEEEEEEEEEEEEEEEEEEEEEEEEEEEEEEEEEEEEEEEEEEEEEEEEEEEEEEEEEEEEEEEEEEEEEEEEEEEEEEEEEEEEEEEEEEEEEEEEEEEEEEEEEEEEEEEEEEEEEEEEEEEEEEEEEEEEEEEEEEEEEEEEEEEEEEEEEEEEEEEEEEEEEEEEEEEEEEEEEEEEEEEEEEEEEEEEEEEEEEEEEEEEEEEEEEEEEEEEEEEEEEEEEEEEEEEEEEEEEEEEEEEEEEEEEEEEEEEEEEEEEEEEEEEEEEEEEEEEEEEEEEEEEEEEEEEEEEEEEEEEEEEEEEEEEEEEEEEEEEEEEEEEEEEEEEEEEEEEEEEEEEEEEEEEEEEEEEEEEEEEEEEEEEEEEEEEEEEEEEEEEEEEEEEEEEEEEEEEEEEEEEEEEEEEEEEEEEEEEEEEEEEEEEEEEEEEEEEEEEEEEEEEEEEEEEEEEEEEEEEEEEEEEEEEEEEEEEEEEEEEEEEEEEEEEEEEEEEEEEEEEEEEEEEEEEEEEEEEEEEEEEEEEEEEEEEEEEEEEEEEEEEEEEEEEEEEEEEEEEEEEEEEEEEEEEEEEEEEEEEEEEEEEEEEEEEEEEEEEEEEEEEEEEEEEEEEEEEEEEEEEEEEEEEEEEEEEEEEEEEEEEEEEEEEEEEEEEEEEEEEEEEEEEEEEEEEEEEEEEEEEEEEEEEEEEEEEEEEEEEEEEEEEEEEEEEEEEEEEEEEEEEEEEEEEEEEEEEEEEEEEEEEEEEEEEEEEEEEEEEEEEEEEEEEEEEEEEEEEEEEEEEEEEEEEEEEEEEEEEEEEEEEEEEEEEEEEEEEEEEEEEEEEEEEEEEEEEEEEEEEEEEEEEEEEEEEEEEEEEEEEEEEEEEEEEEEEEEEEEEEEEEEEEEEEEEEEEEEEEEEEEEEEEEEEEEEEEEEEEEEEEEEEEEEEEEEEEEEEEEEEEEEEEEEEEEEEEEEEEEEEEEEEEEEEEEEEEEEEEEEEEEEEEEEEEEEEEEEEEEEEEEEEEEEEEEEEEEEEEEEEEEEEEEEEEEEEEEEEEEEEEEEEEEEEEEEEEEEEEEEEEEEEEEEEEEEEEEEEEEEEEEEEEEEEEEEEEEEEEEEEEEEEEEEEEEEEEEEEEEEEEEEEEEEEEEEEEEEEEEEEEEEEEEEEEEEEEEEEEEEEEEEEEEEEEEEEEEEEEEEEEEEEEEEEEEEEEEEEEEEEEEEEEEEEEEEEEEEEEEEEEEEEEEEEEEEEEEEEEEEEEEEEEEEEEEEEEEEEEEEEEEEEEEEEEEEEEEEEEEEEEEEEEEEEEEEEEEEEEEEEEEEEEEEEEEEEEEEEEEEEEEEEEEEEEEEEEEEEEEEEEEEEEEEEEEEEEEEEEEEEEEEEEEEEEEEEEEEEEEEEEEEEEEEEEEEEEEEEEEEEEEEEEEEEEEEEEEEEEEEEEEEEEEEEEEEEEEEEEEEEEEEEEEEEEEEEEEEEEEEEEEEEEEEEEEEEEEEEEEEEEEEEEEEEEEEEEEEEEEEEEEEEEEEEEEEEEEEEEEEEEEEEEEEEEEEEEEEEEEEEEEEEEEEEEEEEEEEEEEEEEEEEEEEEEEEEEEEEEEEEEEEEEEEEEEEEEEEEEEEEEEEEEEEEEEEEEEEEEEEEEEEEEEEEEEEEEEEEEEEEEEEEEEEEEEEEEEEEEEEEEEEEEEEEEEEEEEEEEEEEEEEEEEEEEEEEEEEEEEEEEEEEEEEEEEEEEEEEEEEEEEEEEEEEEEEEEEEEEEEEEEEEEEEEEEEEEEEEEEEEEEEEEEEEEEEEEEEEEEEEEEEEEEEEEEEEEEEEEEEEEEEEEEEEEEEEEEEEEEEEEEEEEEEEEEEEEEEEEEEEEEEEEEEEEEEEEEEEEEEEEEEEEEEEEEEEEEEEEEEEEEEEEEEEEEEEEEEEEEEEEEEEEEEEEEEEEEEEEEEEEEEEEEEEEEEEEEEEEEEEEEEEEEEEEEEEEEEEEEEEEEEEEEEEEEEEEEEEEEEEEEEEEEEEEEEEEEEEEEEEEEEEEEEEEEEEEEEEEEEEEEEEEEEEEEEEEEEEEEEEEEEEEEEEEEEEEEEEEEEEEEEEEEEEEEEEEEEEEEEEEEEEEEEEEEEEEEEEEEEEEEEEEEEEEEEEEEEEEEEEEEEEEEEEEEEEEEEEEEEEEEEEEEEEEEEEEEEEEEEEEEEEEEEEEEEEEEEEEEEEEEEEEEEEEEEEEEEEEEEEEEEEEEEEEEEEEEEEEEEEEEEEEEEEEEEEEEEEEEEEEEEEEEEEEEEEEEEEEEEEEEEEEEEEEEEEEEEEEEEEEEEEEEEEEEEEEEEEEEEEEEEEEEEEEEEEEEEEEEEEEEEEEEEEEEEEEEEEEEEEEEEEEEEEEEEEEEEEEEEEEEEEEEEEEEEEEEEEEEEEEEEEEEEEEEEEEEEEEEEEEEEEEEEEEEEEEEEEEEEEEEEEEEEEEEEEEEEEEEEEEEEEEEEEEEEEEEEEEEEEEEEEEEEEEEEEEEEEEEEEEEEEEEEEEEEEEEEEEEEEEEEEEEEEEEEEEEEEEEEEEEEEEEEEEEEEEEEEEEEEEEEEEEEEEEEEEEEEEEEEEEEEEEEEEEEEEEEEEEEEEEEEEEEEEEEEEEEEEEEEEEEEEEEEEEEEEEEEEEEEEEEEEEEEEEEEEEEEEEEEEEEEEEEEEEEEEEEEEEEEEEEEEEEEEEEEEEEEEEEEEEEEEEEEEEEEEEEEEEEEEEEEEEEEEEEEEEEEEEEEEEEEEEEEEEEEEEEEEEEEEEEEEEEEEEEEEEEEEEEEEEEEEEEEEEEEEEEEEEEEEEEEEEEEEEEEEEEEEEEEEEEEEEEEEEEEEEEEEEEEEEEEEEEEEEEEEEEEEEEEEEEEEEEEEEEEEEEEEEEEEEEEEEEEEEEEEEEEEEEEEEEEEEEEEEEEEEEEEEEEEEEEEEEEEEEEEEEEEEEEEEEEEEEEEEEEEEEEEEEEEEEEEEEEEEEEEEEEEEEEEEEEEEEEEEEEEEEEEEEEEEEEEEEEEEEEEEEEEEEEEEEEEEEEEEEEEEEEEEEEEEEEEEEEEEEEEEEEEEEEEEEEEEEEEEEEEEEEEEEEEEEEEEEEEEEEEEEEEEEEEEEEEEEEEEEEEEEEEEEEEEEEEEEEEEEEEEEEEEEEEEEEEEEEEEEEEEEEEEEEEEEEEEEEEEEEEEEEEEEEEEEEEEEEEEEEEEEEEEEEEEEEEEEEEEEEEEEEEEEEEEEEEEEEEEEEEEEEEEEEEEEEEEEEEEEEEEEEEEEEEEEEEEEEEEEEEEEEEEEEEEEEEEEEEEEEEEEEEEEEEEEEEEEEEEEEEEEEEEEEEEEEEEEEEEEEEEEEEEEEEEEEEEEEEEEEEEEEEEEEEEEEEEEEEEEEEEEEEEEEEEEEEEEEEEEEEEEEEEEEEEEEEEEEEEEEEEEEEEEEEEEEEEEEEEEEEEEEEEEEEEEEEEEEEEEEEEEEEEEEEEEEEEEEEEEEEEEEEEEEEEEEEEEEEEEEEEEEEEEEEEEEEEEEEEEEEEEEEEEEEEEEEEEEEEEEEEEEEEEEEEEEEEEEEEEEEEEEEEEEEEEEEEEEEEEEEEEEEEEEEEEEEEEEEEEEEEEEEEEEEEEEEEEEEEEEEEEEEEEEEEEEEEEEEEEEEEEEEEEEEEEEEEEEEEEEEEEEEEEEEEEEEEEEEEEEEEEEEEEEEEEEEEEEEEEEEEEEEEEEEEEEEEEEEEEEEEEEEEEEEEEEEEEEEEEEEEEEEEEEEEEEEEEEEEEEEEEEEEEEEEEEEEEEEEEEEEEEEEEEEEEEEEEEEEEEEEEEEEEEEEEEEEEEEEEEEEEEEEEEEEEEEEEEEEEEEEEEEEEEEEEEEEEEEEEEEEEEEEEEEEEEEEEEEEEEEEEEEEEEEEEEEEEEEEEEEEEEEEEEEEEEEEEEEEEEEEEEEEEEEEEEEEEEEEEEEEEEEEEEEEEEEEEEEEEEEEEEEEEEEEEEEEEEEEEEEEEEEEEEEEEEEEEEEEEEEEEEEEEEEEEEEEEEEEEEEEEEEEEEEEEEEEEEEEEEEEEEEEEEEEEEEEEEEEEEEEEEEEEEEEEEEEEEEEEEEEEEEEEEEEEEEEEEEEEEEEEEEEEEEEEEEEEEEEEEEEEEEEEEEEEEEEEEEEEEEEEEEEEEEEEEEEEEEEEEEEEEEEEEEEEEEEEEEEEEEEEEEEEEEEEEEEEEEEEEEEEEEEEEEEEEEEEEEEEEEEEEEEEEEEEEEEEEEEEEEEEEEEEEEEEEEEEEEEEEEEEEEEEEEEEEEEEEEEEEEEEEEEEEEEEEEEEEEEEEEEEEEEEEEEEEEEEEEEEEEEEEEEEEEEEEEEEEEEEEEEEEEEEEEEEEEEEEEEEEEEEEEEEEEEEEEEEEEEEEEEEEEEEEEEEEEEEEEEEEEEEEEEEEEEEEEEEEEEEEEEEEEEEEEEEEEEEEEEEEEEEEEEEEEEEEEEEEEEEEEEEEEEEEEEEEEEEEEEEEEEEEEEEEEEEEEEEEEEEEEEEEEEEEEEEEEEEEEEEEEEEEEEEEEEEEEEEEEEEEEEEEEEEEEEEEEEEEEEEEEEEEEEEEEEEEEEEEEEEEEEEEEEEEEEEEEEEEEEEEEEEEEEEEEEEEEEEEEEEEEEEEEEEEEEEEEEEEEEEEEEEEEEEEEEEEEEEEEEEEEEEEEEEEEEEEEEEEEEEEEEEEEEEEEEEEEEEEEEEEEEEEEEEEEEEEEEEEEEEEEEEEEEEEEEEEEEEEEEEEEEEEEEEEEEEEEEEEEEEEEEEEEEEEEEEEEEEEEEEEEEEEEEEEEEEEEEEEEEEEEEEEEEEEEEEEEEEEEEEEEEEEEEEEEEEEEEEEEEEEEEEEEEEEEEEEEEEEEEEEEEEEEEEEEEEEEEEEEEEEEEEEEEEEEEEEEEEEEEEEEEEEEEEEEEEEEEEEEEEEEEEEEEEEEEEEEEEEEEEEEEEEEEEEEEEEEEEEEEEEEEEEEEEEEEEEEEEEEEEEEEEEEEEEEEEEEEEEEEEEEEEEEEEEEEEEEEEEEEEEEEEEEEEEEEEEEEEEEEEEEEEEEEEEEEEEEEEEEEEEEEEEEEEEEEEEEEEEEEEEEEEEEEEEEEEEEEEEEEEEEEEEEEEEEEEEEEEEEEEEEEEEEEEEEEEEEEEEEEEEEEEEEEEEEEEEEEEEEEEEEEEEEEEEEEEEEEEEEEEEEEEEEEEEEEEEEEEEEEEEEEEEEEEEEEEEEEEEEEEEEEEEEEEEEEEEEEEEEEEEEEEEEEEEEEEEEEEEEEEEEEEEEEEEEEEEEEEEEEEEEEEEEEEEEEEEEEEEEEEEEEEEEEEEEEEEEEEEEEEEEEEEEEEEEEEEEEEEEEEEEEEEEEEEEEEEEEEEEEEEEEEEEEEEEEEEEEEEEEEEEEEEEEEEEEEEEEEEEEEEEEEEEEEEEEEEEEEEEEEEEEEEEEEEEEEEEEEEEEEEEEEEEEEEEEEEEEEEEEEEEEEEEEEEEEEEEEEEEEEEEEEEEEEEEEEEEEEEEEEEEEEEEEEEEEEEEEEEEEEEEEEEEEEEEEEEEEEEEEEEEEEEEEEEEEEEEEEEEEEEEEEEEEEEEEEEEEEEEEEEEEEEEEEEEEEEEEEEEEEEEEEEEEEEEEEEEEEEEEEEEEEEEEEEEEEEEEEEEEEEEEEEEEEEEEEEEEEEEEEEEEEEEEEEEEEEEEEEEEEEEEEEEEEEEEEEEEEEEEEEEEEEEEEEEEEEEEEEEEEEEEEEEEEEEEEEEEEEEEEEEEEEEEEEEEEEEEEEEEEEEEEEEEEEEEEEEEEEEEEEEEEEEEEEEEEEEEEEEEEEEEEEEEEEEEEEEEEEEEEEEEEEEEEEEEEEEEEEEEEEEEEEEEEEEEEEEEEEEEEEEEEEEEEEEEEEEEEEEEEEEEEEEEEEEEEEEEEEEEEEEEEEEEEEEEEEEEEEEEEEEEEEEEEEEEEEEEEEEEEEEEEEEEEEEEEEEEEEEEEEEEEEEEEEEEEEEEEEEEEEEEEEEEEEEEEEEEEEEEEEEEEEEEEEEEEEEEEEEEEEEEEEEEEEEEEEEEEEEEEEEEEEEEEEEEEEEEEEEEEEEEEEEEEEEEEEEEEEEEEEEEEEEEEEEEEEEEEEEEEEEEEEEEEEEEEEEEEEEEEEEEEEEEEEEEEEEEEEEEEEEEEEEEEEEEEEEEEEEEEEEEEEEEEEEEEEEEEEEEEEEEEEEEEEEEEEEEEEEEEEEEEEEEEEEEEEEEEEEEEEEEEEEEEEEEEEEEEEEEEEEEEEEEEEEEEEEEEEEEEEEEEEEEEEEEEEEEEEEEEEEEEEEEEEEEEEEEEEEEEEEEEEEEEEEEEEEEEEEEEEEEEEEEEEEEEEEEEEEEEEEEEEEEEEEEEEEEEEEEEEEEEEEEEEEEEEEEEEEEEEEEEEEEEEEEEEEEEEEEEEEEEEEEEEEEEEEEEEEEEEEEEEEEEEEEEEEEEEEEEEEEEEEEEEEEEEEEEEEEEEEEEEEEEEEEEEEEEEEEEEEEEEEEEEEEEEEEEEEEEEEEEEEEEEEEEEEEEEEEEEEEEEEEEEEEEEEEEEEEEEEEEEEEEEEEEEEEEEEEEEEEEEEEEEEEEEEEEEEEEEEEEEEEEEEEEEEEEEEEEEEEEEEEEEEEEEEEEEEEEEEEEEEEEEEEEEEEEEEEEEEEEEEEEEEEEEEEEEEEEEEEEEEEEEEEEEEEEEEEEEEEEEEEEEEEEEEEEEEEEEEEEEEEEEEEEEEEEEEEEEEEEEEEEEEEEEEEEEEEEEEEEEEEEEEEEEEEEEEEEEEEEEEEEEEEEEEEEEEEEEEEEEEEEEEEEEEEEEEEEEEEEEEEEEEEEEEEEEEEEEEEEEEEEEEEEEEEEEEEEEEEEEEEEEEEEEEEEEEEEEEEEEEEEEEEEEEEEEEEEEEEEEEEEEEEEEEEEEEEEEEEEEEEEEEEEEEEEEEEEEEEEEEEEEEEEEEEEEEEEEEEEEEEEEEEEEEEEEEEEEEEEEEEEEEEEEEEEEEEEEEEEEEEEEEEEEEEEEEEEEEEEEEEEEEEEEEEEEEEEEEEEEEEEEEEEEEEEEEEEEEEEEEEEEEEEEEEEEEEEEEEEEEEEEEEEEEEEEEEEEEEEEEEEEEEEEEEEEEEEEEEEEEEEEEEEEEEEEEEEEEEEEEEEEEEEEEEEEEEEEEEEEEEEEEEEEEEEEEEEEEEEEEEEEEEEEEEEEEEEEEEEEEEEEEEEEEEEEEEEEEEEEEEEEEEEEEEEEEEEEEEEEEEEEEEEEEEEEEEEEEEEEEEEEEEEEEEEEEEEEEEEEEEEEEEEEEEEEEEEEEEEEEEEEEEEEEEEEEEEEEEEEEEEEEEEEEEEEEEEEEEEEEEEEEEEEEEEEEEEEEEEEEEEEEEEEEEEEEEEEEEEEEEEEEEEEEEEEEEEEEEEEEEEEEEEEEEEEEEEEEEEEEEEEEEEEEEEEEEEEEEEEEEEEEEEEEEEEEEEEEEEEEEEEEEEEEEEEEEEEEEEEEEEEEEEEEEEEEEEEEEEEEEEEEEEEEEEEEEEEEEEEEEEEEEEEEEEEEEEEEEEEEEEEEEEEEEEEEEEEEEEEEEEEEEEEEEEEEEEEEEEEEEEEEEEEEEEEEEEEEEEEEEEEEEEEEEEEEEEEEEEEEEEEEEEEEEEEEEEEEEEEEEEEEEEEEEEEEEEEEEEEEEEEEEEEEEEEEEEEEEEEEEEEEEEEEEEEEEEEEEEEEEEEEEEEEEEEEEEEEEEEEEEEEEEEEEEEEEEEEEEEEEEEEEEEEEEEEEEEEEEEEEEEEEEEEEEEEEEEEEEEEEEEEEEEEEEEEEEEEEEEEEEEEEEEEEEEEEEEEEEEEEEEEEEEEEEEEEEEEEEEEEEEEEEEEEEEEEEEEEEEEEEEEEEEEEEEEEEEEEEEEEEEEEEEEEEEEEEEEEEEEEEEEEEEEEEEEEEEEEEEEEEEEEEEEEEEEEEEEEEEEEEEEEEEEEEEEEEEEEEEEEEEEEEEEEEEEEEEEEEEEEEEEEEEEEEEEEEEEEEEEEEEEEEEEEEEEEEEEEEEEEEEEEEEEEEEEEEEEEEEEEEEEEEEEEEEEEEEEEEEEEEEEEEEEEEEEEEEEEEEEEEEEEEEEEEEEEEEEEEEEEEEEEEEEEEEEEEEEEEEEEEEEEEEEEEEEEEEEEEEEEEEEEEEEEEEEEEEEEEEEEEEEEEEEEEEEEEEEEEEEEEEEEEEEEEEEEEEEEEEEEEEEEEEEEEEEEEEEEEEEEEEEEEEEEEEEEEEEEEEEEEEEEEEEEEEEEEEEEEEEEEEEEEEEEEEEEEEEEEEEEEEEEEEEEEEEEEEEEEEEEEEEEEEEEEEEEEEEEEEEEEEEEEEEEEEEEEEEEEEEEEEEEEEEEEEEEEEEEEEEEEEEEEEEEEEEEEEEEEEEEEEEEEEEEEEEEEEEEEEEEEEEEEEEEEEEEEEEEEEEEEEEEEEEEEEEEEEEEEEEEEEEEEEEEEEEEEEEEEEEEEEEEEEEEEEEEEEEEEEEEEEEEEEEEEEEEEEEEEEEEEEEEEEEEEEEEEEEEEEEEEEEEEEEEEEEEEEEEEEEEEEEEEEEEEEEEEEEEEEEEEEEEEEEEEEEEEEEEEEEEEEEEEEEEEEEEEEEEEEEEEEEEEEEEEEEEEEEEEEEEEEEEEEEEEEEEEEEEEEEEEEEEEEEEEEEEEEEEEEEEEEEEEEEEEEEEEEEEEEEEEEEEEEEEEEEEEEEEEEEEEEEEEEEEEEEEEEEEEEEEEEEEEEEEEEEEEEEEEEEEEEEEEEEEEEEEEEEEEEEEEEEEEEEEEEEEEEEEEEEEEEEEEEEEEEEEEEEEEEEEEEEEEEEEEEEEEEEEEEEEEEEEEEEEEEEEEEEEEEEEEEEEEEEEEEEEEEEEEEEEEEEEEEEEEEEEEEEEEEEEEEEEEEEEEEEEEEEEEEEEEEEEEEEEEEEEEEEEEEEEEEEEEEEEEEEEEEEEEEEEEEEEEEEEEEEEEEEEEEEEEEEEEEEEEEEEEEEEEEEEEEEEEEEEEEEEEEEEEEEEEEEEEEEEEEEEEEEEEEEEEEEEEEEEEEEEEEEEEEEEEEEEEEEEEEEEEEEEEEEEEEEEEEEEEEEEEEEEEEEEEEEEEEEEEEEEEEEEEEEEEEEEEEEEEEEEEEEEEEEEEEEEEEEEEEEEEEEEEEEEEEEEEEEEEEEEEEEEEEEEEEEEEEEEEEEEEEEEEEEEEEEEEEEEEEEEEEEEEEEEEEEEEEEEEEEEEEEEEEEEEEEEEEEEEEEEEEEEEEEEEEEEEEEEEEEEEEEEEEEEEEEEEEEEEEEEEEEEEEEEEEEEEEEEEEEEEEEEEEEEEEEEEEEEEEEEEEEEEEEEEEEEEEEEEEEEEEEEEEEEEEEEEEEEEEEEEEEEEEEEEEEEEEEEEEEEEEEEEEEEEEEEEEEEEEEEEEEEEEEEEEEEEEEEEEEEEEEEEEEEEEEEEEEEEEEEEEEEEEEEEEEEEEEEEEEEEEEEEEEEEEEEEEEEEEEEEEEEEEEEEEEEEEEEEEEEEEEEEEEEEEEEEEEEEEEEEEEEEEEEEEEEEEEEEEEEEEEEEEEEEEEEEEEEEEEEEEEEEEEEEEEEEEEEEEEEEEEEEEEEEEEEEEEEEEEEEEEEEEEEEEEEEEEEEEEEEEEEEEEEEEEEEEEEEEEEEEEEEEEEEEEEEEEEEEEEEEEEEEEEEEEEEEEEEEEEEEEEEEEEEEEEEEEEEEEEEEEEEEEEEEEEEEEEEEEEEEEEEEEEEEEEEEEEEEEEEEEEEEEEEEEEEEEEEEEEEEEEEEEEEEEEEEEEEEEEEEEEEEEEEEEEEEEEEEEEEEEEEEEEEEEEEEEEEEEEEEEEEEEEEEEEEEEEEEEEEEEEEEEEEEEEEEEEEEEEEEEEEEEEEEEEEEEEEEEEEEEEEEEEEEEEEEEEEEEEEEEEEEEEEEEEEEEEEEEEEEEEEEEEEEEEEEEEEEEEEEEEEEEEEEEEEEEEEEEEEEEEEEEEEEEEEEEEEEEEEEEEEEEEEEEEEEEEEEEEEEEEEEEEEEEEEEEEEEEEEEEEEEEEEEEEEEEEEEEEEEEEEEEEEEEEEEEEEEEEEEEEEEEEEEEEEEEEEEEEEEEEEEEEEEEEEEEEEEEEEEEEEEEEEEEEEEEEEEEEEEEEEEEEEEEEEEEEEEEEEEEEEEEEEEEEEEEEEEEEEEEEEEEEEEEEEEEEEEEEEEEEEEEEEEEEEEEEEEEEEEEEEEEEEEEEEEEEEEEEEEEEEEEEEEEEEEEEEEEEEEEEEEEEEEEEEEEEEEEEEEEEEEEEEEEEEEEEEEEEEEEEEEEEEEEEEEEEEEEEEEEEEEEEEEEEEEEEEEEEEEEEEEEEEEEEEEEEEEEEEEEEEEEEEEEEEEEEEEEEEEEEEEEEEEEEEEEEEEEEEEEEEEEEEEEEEEEEEEEEEEEEEEEEEEEEEEEEEEEEEEEEEEEEEEEEEEEEEEEEEEEEEEEEEEEEEEEEEEEEEEEEEEEEEEEEEEEEEEEEEEEEEEEEEEEEEEEEEEEEEEEEEEEEEEEEEEEEEEEEEEEEEEEEEEEEEEEEEEEEEEEEEEEEEEEEEEEEEEEEEEEEEEEEEEEEEEEEEEEEEEEEEEEEEEEEEEEEEEEEEEEEEEEEEEEEEEEEEEEEEEEEEEEEEEEEEEEEEEEEEEEEEEEEEEEEEEEEEEEEEEEEEEEEEEEEEEEEEEEEEEEEEEEEEEEEEEEEEEEEEEEEEEEEEEEEEEEEEEEEEEEEEEEEEEEEEEEEEEEEEEEEEEEEEEEEEEEEEEEEEEEEEEEEEEEEEEEEEEEEEEEEEEEEEEEEEEEEEEEEEEEEEEEEEEEEEEEEEEEEEEEEEEEEEEEEEEEEEEEEEEEEEEEEEEEEEEEEEEEEEEEEEEEEEEEEEEEEEEEEEEEEEEEEEEEEEEEEEEEEEEEEEEEEEEEEEEEEEEEEEEEEEEEEEEEEEEEEEEEEEEEEEEEEEEEEEEEEEEEEEEEEEEEEEEEEEEEEEEEEEEEEEEEEEEEEEEEEEEEEEEEEEEEEEEEEEEEEEEEEEEEEEEEEEEEEEEEEEEEEEEEEEEEEEEEEEEEEEEEEEEEEEEEEEEEEEEEEEEEEEEEEEEEEEEEEEEEEEEEEEEEEEEEEEEEEEEEEEEEEEEEEEEEEEEEEEEEEEEEEEEEEEEEEEEEEEEEEEEEEEEEEEEEEEEEEEEEEEEEEEEEEEEEEEEEEEEEEEEEEEEEEEEEEEEEEEEEEEEEEEEEEEEEEEEEEEEEEEEEEEEEEEEEEEEEEEEEEEEEEEEEEEEEEEEEEEEEEEEEEEEEEEEEEEEEEEEEEEEEEEEEEEEEEEEEEEEEEEEEEEEEEEEEEEEEEEEEEEEEEEEEEEEEEEEEEEEEEEEEEEEEEEEEEEEEEEEEEEEEEEEEEEEEEEEEEEEEEEEEEEEEEEEEEEEEEEEEEEEEEEEEEEEEEEEEEEEEEEEEEEEEEEEEEEEEEEEEEEEEEEEEEEEEEEEEEEEEEEEEEEEEEEEEEEEEEEEEEEEEEEEEEEEEEEEEEEEEEEEEEEEEEEEEEEEEEEEEEEEEEEEEEEEEEEEEEEEEEEEEEEEEEEEEEEEEEEEEEEEEEEEEEEEEEEEEEEEEEEEEEEEEEEEEEEEEEEEEEEEEEEEEEEEEEEEEEEEEEEEEEEEEEEEEEEEEEEEEEEEEEEEEEEEEEEEEEEEEEEEEEEEEEEEEEEEEEEEEEEEEEEEEEEEEEEEEEEEEEEEEEEEEEEEEEEEEEEEEEEEEEEEEEEEEEEEEEEEEEEEEEEEEEEEEEEEEEEEEEEEEEEEEEEEEEEEEEEEEEEEEEEEEEEEEEEEEEEEEEEEEEEEEEEEEEEEEEEEEEEEEEEEEEEEEEEEEEEEEEEEEEEEEEEEEEEEEEEEEEEEEEEEEEEEEEEEEEEEEEEEEEEEEEEEEEEEEEEEEEEEEEEEEEEEEEEEEEEEEEEEEEEEEEEEEEEEEEEEEEEEEEEEEEEEEEEEEEEEEEEEEEEEEEEEEEEEEEEEEEEEEEEEEEEEEEEEEEEEEEEEEEEEEEEEEEEEEEEEEEEEEEEEEEEEEEEEEEEEEEEEEEEEEEEEEEEEEEEEEEEEEEEEEEEEEEEEEEEEEEEEEEEEEEEEEEEEEEEEEEEEEEEEEEEEEEEEEEEEEEEEEEEEEEEEEEEEEEEEEEEEEEEEEEEEEEEEEEEEEEEEEEEEEEEEEEEEEEEEEEEEEEEEEEEEEEEEEEEEEEEEEEEEEEEEEEEEEEEEEEEEEEEEEEEEEEEEEEEEEEEEEEEEEEEEEEEEEEEEEEEEEEEEEEEEEEEEEEEEEEEEEEEEEEEEEEEEEEEEEEEEEEEEEEEEEEEEEEEEEEEEEEEEEEEEEEEEEEEEEEEEEEEEEEEEEEEEEEEEEEEEEEEEEEEEEEEEEEEEEEEEEEEEEEEEEEEEEEEEEEEEEEEEEEEEEEEEEEEEEEEEE'\n 'PPPPPPPPPPPPPPPPPPPPPPPPPPPPPPPPPPPPPPPPPPPPPPPPPPPPPPPPPPPPPPPPPPPPPPPPPPPPPPPPPPPPPPPPPPPPPPPPPPPPPPPPPPPPPPPPPPPPPPPPPPPPPPPPPPPPPPPPPPPPPPPPPPPPPPPPPPPPPPPPPPPPPPPPPPPPPPPPPPPPPPPPPPPPPPPPPPPPPPPPPPPPPPPPPPPPPPPPPPPPPPPPPPPPPPPPPPPPPPPPPPPPPPPPPPPPPPPPPPPPPPPPPPPPPPPPPPPPPPPPPPPPPPPPPPPPPPPPPPPPPPPPPPPPPPPPPPPPPPPPPPPPPPPPPPPPPPPPPPPPPPPPPPPPPPPPPPPPPPPPPPPPPPPPPPPPPPPPPPPPPPPPPPPPPPPPPPPPPPPPPPPPPPPPPPPPPPPPPPPPPPPPPPPPPPPPPPPPPPPPPPPPPPPPPPPPPPPPPPPPPPPPPPPPPPPPPPPPPPPPPPPPPPPPPPPPPPPPPPPPPPPPPPPPPPPPPPPPPPPPPPPPPPPPPPPPPPPPPPPPPPPPPPPPPPPPPPPPPPPPPPPPPPPPPPPPPPPPPPPPPPPPPPPPPPPPPPPPPPPPPPPPPPPPPPPPPPPPPPPPPPPPPPPPPPPPPPPPPPPPPPPPPPPPPPPPPPPPPPPPPPPPPPPPPPPPPPPPPPPPPPPPPPPPPPPPPPPPPPPPPPPPPPPPPPPPPPPPPPPPPPPPPPPPPPPPPPPPPPPPPPPPPPPPPPPPPPPPPPPPPPPPPPPPPPPPPPPPPPPPPPPPPPPPPPPPPPPPPPPPPPPPPPPPPPPPPPPPPPPPPPPPPPPPPPPPPPPPPPPPPPPPPPPPPPPPPPPPPPPPPPPPPPPPPPPPPPPPPPPPPPPPPPPPPPPPPPPPPPPPPPPPPPPPPPPPPPPPPPPPPPPPPPPPPPPPPPPPPPPPPPPPPPPPPPPPPPPPPPPPPPPPPPPPPPPPPPPPPPPPPPPPPPPPPPPPPPPPPPPPPPPPPPPPPPPPPPPPPPPPPPPPPPPPPPPPPPPPPPPPPPPPPPPPPPPPPPPPPPPPPPPPPPPPPPPPPPPPPPPPPPPPPPPPPPPPPPPPPPPPPPPPPPPPPPPPPPPPPPPPPPPPPPPPPPPPPPPPPPPPPPPPPPPPPPPPPPPPPPPPPPPPPPPPPPPPPPPPPPPPPPPPPPPPPPPPPPPPPPPPPPPPPPPPPPPPPPPPPPPPPPPPPPPPPPPPPPPPPPPPPPPPPPPPPPPPPPPPPPPPCCCCCCCCCCCCCCCCCCCCCCCCCCCCCCCCCCCCCCCCCCCCCCCCCCCCCCCCCCCCCCCCCCCCCCCCCCCCCCCCCCCCCCCCCCCCCCCCCCCCCCCCCCCCCCCCCCCCCCCCCCCCCCCCCCCCCCCCCCCCCCCCCCCCCCCCCCCCCCCCCCCCCCCCCCCCCCCCCCCCCCCCCCCCCCCCCCCCCCCCCCCCCCCCCCCCCCCCCCCCCCCCCCCCCCCCCCCCCCCCCCCCCCCCCCCCCCCCCCCCCCCCCCCCCCCCCCCCCCCCCCCCCCCCCCCCCCCCCCCCCCCCCCCCCCCCCCCCCCCCCCCCCCCCCCCCCCCCCCCCCCCCCCCCCCCCCCCCCCCCCCCCCCCCCCCCCCCCCCCCCCCCCCCCCCCCCCCCCCCCCCCCCCCCCCCCCCCCCCCCCCCCCCCCCCCCCCCCCCCCCCCCCCCCCCCCCCCCCCCCCCCCCCCCCCCCCCCCCCCCCCCCCCCCCCCCCCCCCCCCCCCCCCCCCCCCCCCCCCCCCCCCCCCCCCCCCCCCCCCCCCCCCCCCCCCCCCCCCCCCCCCCCCCCCCCCCCCCCCCCCCCCCCCCCCCCCCCCCCCCCCCCCCCCCCCCCCCCCCCCCCCCCCCCCCCCCCCCCCCCCCCCCCCCCCCCCCCCCCCCCCCCCCCCCCCCCCCCCCCCCCCCCCCCCCCCCCCCCCCCCCCCCCCCCCCCCCCCCCCCCCCCCCCCCCCCCCCCCCCCCCCCCCCCCCCCCCCCCCCCCCCCCCCCCCCCCCCCCCCCCCCCCCCCCCCCCCCCCCCCCCCCCCCCCCCCCCCCCCCCCCCCCCCCCCCCCCCCCCCCCCCCCCCCCCCCCCCCCCCCCCCCCCCCCCCCCCCCCCCCCCCCCCCCCCCCCCCCCCCCCCCCCCCCCCCCCCCCCCCCCCCCCCCCCCCCCCCCCCCCCCCCCCCCCCCCCCCCCCCCCCCCCCCCCCCCCCCCCCCCCCCCCCCCCCCCCCCCCCCCCCCCCCCCCCCCCCCCCCCCCCCCCCCCCCCCCCCCCCCCCCCCCCCCCCCCCCCCCCCCCCCCCCCCCCCCCCCCCCCCCCCCCCCCCCCCCCCCCCCCCCCCCCCCCCCCCCCCCCCCCCCCCCCCCCCCCCCCCCCCCCCCCCCCCCCCCCCCCCCCCCCCCCCCCCCCCCCCCCCCCCCCCCCCCCCCCCCCCCCCCCCCCCCCCCCCCCCCCCCCCCCCCCCCCCCCCCCCCCCCCCCCCCCCCCCCCCCCCCCCPPPPPPPPPPPPPPPPPPPPPPPPPPPPPPPPPPPPPPPPPPPPPPPPPPPPPPPPPPPPPPPPPPPPPPPPPPPPPPPPPPPPPPPPPPPPPPPPPPPPPPPPPPPPPPPPPPPPPPPPPPPPPPPPPPPPPPPPPPPPPPPPPPPPPPPPPPPPPPPPPPPPPPPPPPPPPPPPPPPPPPPPPPPPPPPPPPPPPPPPPPPPPPPPPPPPPPPPPPPPPPPPPPPPPPPPPPPPPPPPPPPPPPPPPPPPPPPPPPPPPPPPPPPPPPPPPPPPPPPPPPPPPPPPPPPPPPPPPPPPPPPPPPPPPPPPPPPPPPPPPPPPPPPPPPPPPPPPPPPPPPPPPPPPPPPPPPPPPPPPPPPPPPPPPPPPPPPPPPPPPPPPPPPPPPPPPPPPPPPPPPPPPPPPPPPPPPPPPPPPPPPPPPPPPPPPPPPPPPPPPPPPPPPPPPPPPPPPPPPPPPPPPPPPPPPPPPPPPPPPPPPPPPPPPPPPPPPPPPPPPPPPPPPPPPPPPPPPPPPPPPPPPPPPPPPPPPPPPPPPPPPPPPPPPPPPPPPPPPPPPPPPPPPPPPPPPPPPPPPPPPPPPPPPPPPPPPPPPPPPPPPPPPPPPPPPPPPPPPPPPPPPPPPPPPPPPPPPPPPPPPPPPPPPPPPPPPPPPPPPPPPPPPPPPPPPPPPPPPPPPPPPPPPPPPPPPPPPPPPPPPPPPPPPPPPPPPPPPPPPPPPPPPPPPPPPPPPPPPPPPPPPPPPPPPPPPPPPPPPPPPPPPPPPPPPPPPPPPPPPPPPPPPPPPPPPPPPPPPPPPPPPPPPPPPPPPPPPPPPPPPPPPPPPPPPPPPPPPPPPPPPPPPPPPPPPPPPPPPPPPPPPPPPPPPPPPPPPPPPPPPPPPPPPPPPPPPPPPPPPPPPPPPPPPPPPPPPPPPPPPPPPPPPPPPPPPPPPPPPPPPPPPPPPPPPPPPPPPPPPPPPPPPPPPPPPPPPPPPPPPPPPPPPPPPPPPPPPPPPPPPPPPPPPPPPPPPPPPPPPPPPPPPPPPPPPPPPPPPPPPPPPPPPPPPPPPPPPPPPPPPPPPPPPPPPPPPPPPPPPPPPPPPPPPPPPPPPPPPPPPPPPPPPPPPPPPPPPPPPPPPPPPPPPPPPPPPPPPPPPPPPPPPPPPPPPPPPPPPPPPPPPPPPPPPPPPPPPPPPPPPPPPPPPPPPPPPPPPPPPPPPPPPPPPPPPPPPPPPPPPPPPPPPPPPPPPPPPPPPPPPPPPPPPPPPPPPPPPPPPCCCCCCCCCCCCCCCCCCCCCCCCCCCCCCCCCCCCCCCCCCCCCCCCCCCCCCCCCCCCCCCCCCCCCCCCCCCCCCCCCCCCCCCCCCCCCCCCCCCCCCCCCCCCCCCCCCCCCCCCCCCCCCCCCCCCCCCCCCCCCCCCCCCCCCCCCCCCCCCCCCCCCCCCCCCCCCCCCCCCCCCCCCCCCCCCCCCCCCCCCCCCCCCCCCCCCCCCCCCCCCCCCCCCCCCCCCCCCCCCCCCCCCCCCCCCCCCCCCCCCCCCCCCCCCCCCCCCCCCCCCCCCCCCCCCCCCCCCCCCCCCCCCCCCCCCCCCCCCCCCCCCCCCCCCCCCCCCCCCCCCCCCCCCCCCCCCCCCCCCCCCCCCCCCCCCCCCCCCCCCCCCCCCCCCCCCCCCCCCCCCCCCCCCCCCCCCCCCCCCCCCCCCCCCCCCCCCCCCCCCCCCCCCCCCCCCCCCCCCCCCCCCCCCCCCCCCCCCCCCCCCCCCCCCCCCCCCCCCCCCCCCCCCCCCCCCCCCCCCCCCCCCCCCCCCCCCCCCCCCCCCCCCCCCCCCCCCCCCCCCCCCCCCCCCCCCCCCCCCCCCCCCCCCCCCCCCCCCCCCCCCCCCCCCCCCCCCCCCCCCCCCCCCCCCCCCCCCCCCCCCCCCCCCCCCCCCCCCCCCCCCCCCCCCCCCCCCCCCCCCCCCCCCCCCCCCCCCCCCCCCCCCCCCCCCCCCCCCCCCCCCCCCCCCCCCCCCCCCCCCCCCCCCCCCCCCCCCCCCCCCCCCCCCCCCCCCCCCCCCCCCCCCCCCCCCCCCCCCCCCCCCCCCCCCCCCCCCCCCCCCCCCCCCCCCCCCCCCCCCCCCCCCCCCCCCCCCCCCCCCCCCCCCCCCCCCCCCCCCCCCCCCCCCCCCCCCCCCCCCCCCCCCCCCCCCCCCCCCCCCCCCCCCCCCCCCCCCCCCCCCCCCCCCCCCCCCCCCCCCCCCCCCCCCCCCCCCCCCCCCCCCCCCCCCCCCCCCCCCCCCCCCCCCCCCCCCCCCCCCCCCCCCCCCCCCCCCCCCCCCCCCCCCCCCCCCCCCCCCCCCCCCCCCCCCCCCCCCCCCCCCCCCCCCCCCCCCCCCCCCCCCCCCCCCCCCCCCCCCCCCCCCCCCCCCCCCCCCCCCCCCCCCCCCCCCCCCCCCCCCCCCCCCCCCCCCCCCCCCCCCCCCCCCCCCCCCCCCCCCCCCCCCCCCCCCCCCCCCCCCCCCCCCCCCCCCCCCCCCCCCCCCCCCCCCCCCCCCCCCPPPPPPPPPPPPPPPPPPPPPPPPPPPPPPPPPPPPPPPPPPPPPPPPPPPPPPPPPPPPPPPPPPPPPPPPPPPPPPPPPPPPPPPPPPPPPPPPPPPPPPPPPPPPPPPPPPPPPPPPPPPPPPPPPPPPPPPPPPPPPPPPPPPPPPPPPPPPPPPPPPPPPPPPPPPPPPPPPPPPPPPPPPPPPPPPPPPPPPPPPPPPPPPPPPPPPPPPPPPPPPPPPPPPPPPPPPPPPPPPPPPPPPPPPPPPPPPPPPPPPPPPPPPPPPPPPPPPPPPPPPPPPPPPPPPPPPPPPPPPPPPPPPPPPPPPPPPPPPPPPPPPPPPPPPPPPPPPPPPPPPPPPPPPPPPPPPPPPPPPPPPPPPPPPPPPPPPPPPPPPPPPPPPPPPPPPPPPPPPPPPPPPPPPPPPPPPPPPPPPPPPPPPPPPPPPPPPPPPPPPPPPPPPPPPPPPPPPPPPPPPPPPPPPPPPPPPPPPPPPPPPPPPPPPPPPPPPPPPPPPPPPPPPPPPPPPPPPPPPPPPPPPPPPPPPPPPPPPPPPPPPPPPPPPPPPPPPPPPPPPPPPPPPPPPPPPPPPPPPPPPPPPPPPPPPPPPPPPPPPPPPPPPPPPPPPPPPPPPPPPPPPPPPPPPPPPPPPPPPPPPPPPPPPPPPPPPPPPPPPPPPPPPPPPPPPPPPPPPPPPPPPPPPPPPPPPPPPPPPPPPPPPPPPPPPPPPPPPPPPPPPPPPPPPPPPPPPPPPPPPPPPPPPPPPPPPPPPPPPPPPPPPPPPPPPPPPPPPPPPPPPPPPPPPPPPPPPPPPPPPPPPPPPPPPPPPPPPPPPPPPPPPPPPPPPPPPPPPPPPPPPPPPPPPPPPPPPPPPPPPPPPPPPPPPPPPPPPPPPPPPPPPPPPPPPPPPPPPPPPPPPPPPPPPPPPPPPPPPPPPPPPPPPPPPPPPPPPPPPPPPPPPPPPPPPPPPPPPPPPPPPPPPPPPPPPPPPPPPPPPPPPPPPPPPPPPPPPPPPPPPPPPPPPPPPPPPPPPPPPPPPPPPPPPPPPPPPPPPPPPPPPPPPPPPPPPPPPPPPPPPPPPPPPPPPPPPPPPPPPPPPPPPPPPPPPPPPPPPPPPPPPPPPPPPPPPPPPPPPPPPPPPPPPPPPPPPPPPPPPPPPPPPPPPPPPPPPPPPPPPPPPPPPPPPPPPPPPPPPPPPPPPPPPPPPPPPPPPPPPPPPPPPPPPPPPPPPPPPPPPPPPPPPPPPPPPPPPPPPPPPPPPPPPPPPPPPPPPPPPCCCCCCCCCCCCCCCCCCCCCCCCCCCCCCCCCCCCCCCCCCCCCCCCCCCCCCCCCCCCCCCCCCCCCCCCCCCCCCCCCCCCCCCCCCCCCCCCCCCCCCCCCCCCCCCCCCCCCCCCCCCCCCCCCCCCCCCCCCCCCCCCCCCCCCCCCCCCCCCCCCCCCCCCCCCCCCCCCCCCCCCCCCCCCCCCCCCCCCCCCCCCCCCCCCCCCCCCCCCCCCCCCCCCCCCCCCCCCCCCCCCCCCCCCCCCCCCCCCCCCCCCCCCCCCCCCCCCCCCCCCCCCCCCCCCCCCCCCCCCCCCCCCCCCCCCCCCCCCCCCCCCCCCCCCCCCCCCCCCCCCCCCCCCCCCCCCCCCCCCCCCCCCCCCCCCCCCCCCCCCCCCCCCCCCCCCCCCCCCCCCCCCCCCCCCCCCCCCCCCCCCCCCCCCCCCCCCCCCCCCCCCCCCCCCCCCCCCCCCCCCCCCCCCCCCCCCCCCCCCCCCCCCCCCCCCCCCCCCCCCCCCCCCCCCCCCCCCCCCCCCCCCCCCCCCCCCCCCCCCCCCCCCCCCCCCCCCCCCCCCCCCCCCCCCCCCCCCCCCCCCCCCCCCCCCCCCCCCCCCCCCCCCCCCCCCCCCCCCCCCCCCCCCCCCCCCCCCCCCCCCCCCCCCCCCCCCCCCCCCCCCCCCCCCCCCCCCCCCCCCCCCCCCCCCCCCCCCCCCCCCCCCCCCCCCCCCCCCCCCCCCCCCCCCCCCCCCCCCCCCCCCCCCCCCCCCCCCCCCCCCCCCCCCCCCCCCCCCCCCCCCCCCCCCCCCCCCCCCCCCCCCCCCCCCCCCCCCCCCCCCCCCCCCCCCCCCCCCCCCCCCCCCCCCCCCCCCCCCCCCCCCCCCCCCCCCCCCCCCCCCCCCCCCCCCCCCCCCCCCCCCCCCCCCCCCCCCCCCCCCCCCCCCCCCCCCCCCCCCCCCCCCCCCCCCCCCCCCCCCCCCCCCCCCCCCCCCCCCCCCCCCCCCCCCCCCCCCCCCCCCCCCCCCCCCCCCCCCCCCCCCCCCCCCCCCCCCCCCCCCCCCCCCCCCCCCCCCCCCCCCCCCCCCCCCCCCCCCCCCCCCCCCCCCCCCCCCCCCCCCCCCCCCCCCCCCCCCCCCCCCCCCCCCCCCCCCCCCCCCCCCCCCCCCCCCCCCCCCCCCCCCCCCCCCCCCCCCCCCCCCCCCCCCCCCCCCCCCCCCCCCCCCCCCCCCCCCCCCCCCCCCCCCCCCCCCCCCCCCCCCCCCCCCCCCCCCCCCCCCPPPPPPPPPPPPPPPPPPPPPPPPPPPPPPPPPPPPPPPPPPPPPPPPPPPPPPPPPPPPPPPPPPPPPPPPPPPPPPPPPPPPPPPPPPPPPPPPPPPPPPPPPPPPPPPPPPPPPPPPPPPPPPPPPPPPPPPPPPPPPPPPPPPPPPPPPPPPPPPPPPPPPPPPPPPPPPPPPPPPPPPPPPPPPPPPPPPPPPPPPPPPPPPPPPPPPPPPPPPPPPPPPPPPPPPPPPPPPPPPPPPPPPPPPPPPPPPPPPPPPPPPPPPPPPPPPPPPPPPPPPPPPPPPPPPPPPPPPPPPPPPPPPPPPPPPPPPPPPPPPPPPPPPPPPPPPPPPPPPPPPPPPPPPPPPPPPPPPPPPPPPPPPPPPPPPPPPPPPPPPPPPPPPPPPPPPPPPPPPPPPPPPPPPPPPPPPPPPPPPPPPPPPPPPPPPPPPPPPPPPPPPPPPPPPPPPPPPPPPPPPPPPPPPPPPPPPPPPPPPPPPPPPPPPPPPPPPPPPPPPPPPPPPPPPPPPPPPPPPPPPPPPPPPPPPPPPPPPPPPPPPPPPPPPPPPPPPPPPPPPPPPPPPPPPPPPPPPPPPPPPPPPPPPPPPPPPPPPPPPPPPPPPPPPPPPPPPPPPPPPPPPPPPPPPPPPPPPPPPPPPPPPPPPPPPPPPPPPPPPPPPPPPPPPPPPPPPPPPPPPPPPPPPPPPPPPPPPPPPPPPPPPPPPPPPPPPPPPPPPPPPPPPPPPPPPPPPPPPPPPPPPPPPPPPPPPPPPPPPPPPPPPPPPPPPPPPPPPPPPPPPPPPPPPPPPPPPPPPPPPPPPPPPPPPPPPPPPPPPPPPPPPPPPPPPPPPPPPPPPPPPPPPPPPPPPPPPPPPPPPPPPPPPPPPPPPPPPPPPPPPPPPPPPPPPPPPPPPPPPPPPPPPPPPPPPPPPPPPPPPPPPPPPPPPPPPPPPPPPPPPPPPPPPPPPPPPPPPPPPPPPPPPPPPPPPPPPPPPPPPPPPPPPPPPPPPPPPPPPPPPPPPPPPPPPPPPPPPPPPPPPPPPPPPPPPPPPPPPPPPPPPPPPPPPPPPPPPPPPPPPPPPPPPPPPPPPPPPPPPPPPPPPPPPPPPPPPPPPPPPPPPPPPPPPPPPPPPPPPPPPPPPPPPPPPPPPPPPPPPPCCCCCCCCCCCCCCCCCCCCCCCCCCCCCCCCCCCCCCCCCCCCCCCCCCCCCCCCCCCCCCCCCCCCCCCCCCCCCCCCCCCCCCCCCCCCCCCCCCCCCCCCCCCCCCCCCCCCCCCCCCCCCCCCCCCCCCCCCCCCCCCCCCCCCCCCCCCCCCCCCCCCCCCCCCCCCCCCCCCCCCCCCCCCCCCCCCCCCCCCCCCCCCCCCCCCCCCCCCCCCCCCCCCCCCCCCCCCCCCCCCCCCCCCCCCCCCCCCCCCCCCCCCCCCCCCCCCCCCCCCCCCCCCCCCCCCCCCCCCCCCCCCCCCCCCCCCCCCCCCCCCCCCCCCCCCCCCCCCCCCCCCCCCCCCCCCCCCCCCCCCCCCCCCCCCCCCCCCCCCCCCCCCCCCCCCCCCCCCCCCCCCCCCCCCCCCCCCCCCCCCCCCCCCCCCCCCCCCCCCCCCCCCCCCCCCCCCCCCCCCCCCCCCCCCCCCCCCCCCCCCCCCCCCCCCCCCCCCCCCCCCCCCCCCCCCCCCCCCCCCCCCCCCCCCCCCCCCCCCCCCCCCCCCCCCCCCCCCCCCCCCCCCCCCCCCCCCCCCCCCCCCCCCCCCCCCCCCCCCCCCCCCCCCCCCCCCCCCCCCCCCCCCCCCCCCCCCCCCCCCCCCCCCCCCCCCCCCCCCCCCCCCCCCCCCCCCCCCCCCCCCCCCCCCCCCCCCCCCCCCCCCCCCCCCCCCCCCCCCCCCCCCCCCCCCCCCCCCCCCCCCCCCCCCCCCCCCCCCCCCCCCCCCCCCCCCCCCCCCCCCCCCCCCCCCCCCCCCCCCCCCCCCCCCCCCCCCCCCCCCCCCCCCCCCCCCCCCCCCCCCCCCCCCCCCCCCCCCCCCCCCCCCCCCCCCCCCCCCCCCCCCCCCCCCCCCCCCCCCCCCCCCCCCCCCCCCCCCCCCCCCCCCCCCCCCCCCCCCCCCCCCCCCCCCCCCCCCCCCCCCCCCCCCCCCCCCCCCCCCCCCCCCCCCCCCCCCCCCCCCCCCCCCCCCCCCCCCCCCCCCCCCCCCCCCCCCCCCCCCCCCCCCCCCCCCCCCCCCCCCCCCCCCCCCCCCCCCCCCCCCCCCCCCCCCCCCCCCCCCCCCCCCCCCCCCCCCCCCCCCCCCCCCCCCCCCCCCCCCCCPPPPPPPPPPPPPPPPPPPPPPPPPPPPPPPPPPPPPPPPPPPPPPPPPPPPPPPPPPPPPPPPPPPPPPPPPPPPPPPPPPPPPPPPPPPPPPPPPPPPPPPPPPPPPPPPPPPPPPPPPPPPPPPPPPPPPPPPPPPPPPPPPPPPPPPPPPPPPPPPPPPPPPPPPPPPPPPPPPPPPPPPPPPPPPPPPPPPPPPPPPPPPPPPPPPPPPPPPPPPPPPPPPPPPPPPPPPPPPPPPPPPPPPPPPPPPPPPPPPPPPPPPPPPPPPPPPPPPPPPPPPPPPPPPPPPPPPPPPPPPPPPPPPPPPPPPPPPPPPPPPPPPPPPPPPPPPPPPPPPPPPPPPPPPPPPPPPPPPPPPPPPPPPPPPPPPPPPPPPPPPPPPPPPPPPPPPPPPPPPPPPPPPPPPPPPPPPPPPPPPPPPPPPPPPPPPPPPPPPPPPPPPPPPPPPPPPPPPPPPPPPPPPPPPPPPPPPPPPPPPPPPPPPPPPPPPPPPPPPPPPPPPPPPPPPPPPPPPPPPPPPPPPPPPPPPPPPPPPPPPPPPPPPPPPPPPPPPPPPPPPPPPPPPPPPPPPPPPPPPPPPPPPPPPPPPPPPPPPPPPPPPPPPPPPPPPPPPPPPPPPPPPPPPPPPPPPPPPPPPPPPPPPPPPPPPPPPPPPPPPPPPPPPPPPPPPPPPPPPPPPPPPPPPPPPPPPPPPPPPPPPPPPPPPPPPPPPPPPPPPPPPPPPPPPPPPPPPPPPPPPPPPPPPPPPPPPPPPPPPPPPPPPPPPPPPPPPPPPPPPPPPPPPPPPPPPPPPPPPPPPPPPPPPPPPPPPPPPPPPPPPPPPPPPPPPPPPPPPPPPPPPPPPPPPPPPPPPPPPPPPPPPPPPPPPPPPPPPPPPPPPPPPPPPPPPPPPPPPPPPPPPPPPPPPPPPPPPPPPPPPPPPPPPPPPPPPPPPPPPPPPPPPPPPPPPPPPPPPPPPPPPPPPPPPPPPPPPPPPPPPPPPPPPPPPPPPPPPPPPPPPPPPPPPPPPPPPPPPPPPPPPPPPPPPPPPPPPPPPPPPPPPPPPPPPPPPPPPPPPPPPPPPPPPPPPPPPPPPPPPPPPPPPPPPPPPPPPPPPPPPPPPPPPPPPPPPPPPPPPPPPPPPPPPPPPPPPPPPPPPPPPPPPPPPPPPPPPPPPPPPPPPPPPPPPPPPPPPPPPPPPPPPPPPPPPPPPPPPPPPPPPPPPPPPPPPPPPPPPPPPPPPPPPPPPPPPPPPPPPPPPPPPPPPPPPPPPPPPPPCCCCCCCCCCCCCCCCCCCCCCCCCCCCCCCCCCCCCCCCCCCCCCCCCCCCCCCCCCCCCCCCCCCCCCCCCCCCCCCCCCCCCCCCCCCCCCCCCCCCCCCCCCCCCCCCCCCCCCCCCCCCCCCCCCCCCCCCCCCCCCCCCCCCCCCCCCCCCCCCCCCCCCCCCCCCCCCCCCCCCCCCCCCCCCCCCCCCCCCCCCCCCCCCCCCCCCCCCCCCCCCCCCCCCCCCCCCCCCCCCCCCCCCCCCCCCCCCCCCCCCCCCCCCCCCCCCCCCCCCCCCCCCCCCCCCCCCCCCCCCCCCCCCCCCCCCCCCCCCCCCCCCCCCCCCCCCCCCCCCCCCCCCCCCCCCCCCCCCCCCCCCCCCCCCCCCCCCCCCCCCCCCCCCCCCCCCCCCCCCCCCCCCCCCCCCCCCCCCCCCCCCCCCCCCCCCCCCCCCCCCCCCCCCCCCCCCCCCCCCCCCCCCCCCCCCCCCCCCCCCCCCCCCCCCCCCCCCCCCCCCCCCCCCCCCCCCCCCCCCCCCCCCCCCCCCCCCCCCCCCCCCCCCCCCCCCCCCCCCCCCCCCCCCCCCCCCCCCCCCCCCCCCCCCCCCCCCCCCCCCCCCCCCCCCCCCCCCCCCCCCCCCCCCCCCCCCCCCCCCCCCCCCCCCCCCCCCCCCCCCCCCCCCCCCCCCCCCCCCCCCCCCCCCCCCCCCCCCCCCCCCCCCCCCCCCCCCCCCCCCCCCCCCCCCCCCCCCCCCCCCCCCCCCCCCCCCCCCCCCCCCCCCCCCCCCCCCCCCCCCCCCCCCCCCCCCCCCCCCCCCCCCCCCCCCCCCCCCCCCCCCCCCCCCCCCCCCCCCCCCCCCCCCCCCCCCCCCCCCCCCCCCCCCCCCCCCCCCCCCCCCCCCCCCCCCCCCCCCCCCCCCCCCCCCCCCCCCCCCCCCCCCCCCCCCCCCCCCCCCCCCCCCCCCCCCCCCCCCCCCCCCCCCCCCCCCCCCCCCCCCCCCCCCCCCCCCCCCCCCCCCCCCCCCCCCCCCCCCCCCCCCCCCCCCCCCCCCCCCCCCCCCCCCCCCCCCCCCCCCCCCCCCCCCCCCCCCCCCCCCCCCCCCCCCCCCCCCCCCCCCCCCCCCCCCCCCCCCCCCCCCCCCCCCCCCCCCCCCCCCCCCCCCCCCCCCCCCCCCCCCCCCCCCCCCCCCCCCCCCCCCCCCCCCCCCCCCCCCCCCCCCCCCCCCCCCCCCCCCCCCCCCCCCCCCCCCCCCCCCCCCCCCCCCCCCCCCCCCCCPPPPPPPPPPPPPPPPPPPPPPPPPPPPPPPPPPPPPPPPPPPPPPPPPPPPPPPPPPPPPPPPPPPPPPPPPPPPPPPPPPPPPPPPPPPPPPPPPPPPPPPPPPPPPPPPPPPPPPPPPPPPPPPPPPPPPPPPPPPPPPPPPPPPPPPPPPPPPPPPPPPPPPPPPPPPPPPPPPPPPPPPPPPPPPPPPPPPPPPPPPPPPPPPPPPPPPPPPPPPPPPPPPPPPPPPPPPPPPPPPPPPPPPPPPPPPPPPPPPPPPPPPPPPPPPPPPPPPPPPPPPPPPPPPPPPPPPPPPPPPPPPPPPPPPPPPPPPPPPPPPPPPPPPPPPPPPPPPPPPPPPPPPPPPPPPPPPPPPPPPPPPPPPPPPPPPPPPPPPPPPPPPPPPPPPPPPPPPPPPPPPPPPPPPPPPPPPPPPPPPPPPPPPPPPPPPPPPPPPPPPPPPPPPPPPPPPPPPPPPPPPPPPPPPPPPPPPPPPPPPPPPPPPPPPPPPPPPPPPPPPPPPPPPPPPPPPPPPPPPPPPPPPPPPPPPPPPPPPPPPPPPPPPPPPPPPPPPPPPPPPPPPPPPPPPPPPPPPPPPPPPPPPPPPPPPPPPPPPPPPPPPPPPPPPPPPPPPPPPPPPPPPPPPPPPPPPPPPPPPPPPPPPPPPPPPPPPPPPPPPPPPPPPPPPPPPPPPPPPPPPPPPPPPPPPPPPPPPPPPPPPPPPPPPPPPPPPPPPPPPPPPPPPPPPPPPPPPPPPPPPPPPPPPPPPPPPPPPPPPPPPPPPPPPPPPPPPPPPPPPPPPPPPPPPPPPPPPPPPPPPPPPPPPPPPPPPPPPPPPPPPPPPPPPPPPPPPPPPPPPPPPPPPPPPPPPPPPPPPPPPPPPPPPPPPPPPPPPPPPPPPPPPPPPPPPPPPPPPPPPPPPPPPPPPPPPPPPPPPPPPPPPPPPPPPPPPPPPPPPPPPPPPPPPPPPPPPPPPPPPPPPPPPPPPPPPPPPPPPPPPPPPPPPPPPPPPPPPPPPPPPPPPPPPPPPPPPPPPPPPPPPPPPPPPPPPPPPPPPPPPPPPPPPPPPPPPPPPPPPPPPPPPPPPPPPPPPPPPPPPPPPPPPPPPPPPPPPPPPPPPPPPPPPPPPPPPPPPPPPPPPPPPPPPPPPPPPPPPPPPPPPPPPPPPPPPPPPPPPPPPPPPPPPPPPPPPPPPPPPPPPPPPPPPPPPPPPPPPPPPPPPPPPPPPPPPPPPPPPPPPPPPPPPPPPPPPPPPPPPPPPPPPPPPPPPPPPPPPPPCCCCCCCCCCCCCCCCCCCCCCCCCCCCCCCCCCCCCCCCCCCCCCCCCCCCCCCCCCCCCCCCCCCCCCCCCCCCCCCCCCCCCCCCCCCCCCCCCCCCCCCCCCCCCCCCCCCCCCCCCCCCCCCCCCCCCCCCCCCCCCCCCCCCCCCCCCCCCCCCCCCCCCCCCCCCCCCCCCCCCCCCCCCCCCCCCCCCCCCCCCCCCCCCCCCCCCCCCCCCCCCCCCCCCCCCCCCCCCCCCCCCCCCCCCCCCCCCCCCCCCCCCCCCCCCCCCCCCCCCCCCCCCCCCCCCCCCCCCCCCCCCCCCCCCCCCCCCCCCCCCCCCCCCCCCCCCCCCCCCCCCCCCCCCCCCCCCCCCCCCCCCCCCCCCCCCCCCCCCCCCCCCCCCCCCCCCCCCCCCCCCCCCCCCCCCCCCCCCCCCCCCCCCCCCCCCCCCCCCCCCCCCCCCCCCCCCCCCCCCCCCCCCCCCCCCCCCCCCCCCCCCCCCCCCCCCCCCCCCCCCCCCCCCCCCCCCCCCCCCCCCCCCCCCCCCCCCCCCCCCCCCCCCCCCCCCCCCCCCCCCCCCCCCCCCCCCCCCCCCCCCCCCCCCCCCCCCCCCCCCCCCCCCCCCCCCCCCCCCCCCCCCCCCCCCCCCCCCCCCCCCCCCCCCCCCCCCCCCCCCCCCCCCCCCCCCCCCCCCCCCCCCCCCCCCCCCCCCCCCCCCCCCCCCCCCCCCCCCCCCCCCCCCCCCCCCCCCCCCCCCCCCCCCCCCCCCCCCCCCCCCCCCCCCCCCCCCCCCCCCCCCCCCCCCCCCCCCCCCCCCCCCCCCCCCCCCCCCCCCCCCCCCCCCCCCCCCCCCCCCCCCCCCCCCCCCCCCCCCCCCCCCCCCCCCCCCCCCCCCCCCCCCCCCCCCCCCCCCCCCCCCCCCCCCCCCCCCCCCCCCCCCCCCCCCCCCCCCCCCCCCCCCCCCCCCCCCCCCCCCCCCCCCCCCCCCCCCCCCCCCCCCCCCCCCCCCCCCCCCCCCCCCCCCCCCCCCCCCCCCCCCCCCCCCCCCCCCCCCCCCCCCCCCCCCCCCCCCCCCCCCCCCCCCCCCCCCCCCCCCCCCCCCCCCCCCCCCCCCCCCCCCCCCCCCCCCCCCCCCCCCCCCCCCCCCCCCCCCCCCCCCCCCCCCCCCCCCCCCCCCCCCCCCCCCCCCCCCCCCCCCCCCCCCCCCCCCCCCCCCCCCCCCCCCCCCCCCCCCCCCCCCCCCCCCCCCCCCCCCCCCCCCCCCCCCCCCCCCCCPPPPPPPPPPPPPPPPPPPPPPPPPPPPPPPPPPPPPPPPPPPPPPPPPPPPPPPPPPPPPPPPPPPPPPPPPPPPPPPPPPPPPPPPPPPPPPPPPPPPPPPPPPPPPPPPPPPPPPPPPPPPPPPPPPPPPPPPPPPPPPPPPPPPPPPPPPPPPPPPPPPPPPPPPPPPPPPPPPPPPPPPPPPPPPPPPPPPPPPPPPPPPPPPPPPPPPPPPPPPPPPPPPPPPPPPPPPPPPPPPPPPPPPPPPPPPPPPPPPPPPPPPPPPPPPPPPPPPPPPPPPPPPPPPPPPPPPPPPPPPPPPPPPPPPPPPPPPPPPPPPPPPPPPPPPPPPPPPPPPPPPPPPPPPPPPPPPPPPPPPPPPPPPPPPPPPPPPPPPPPPPPPPPPPPPPPPPPPPPPPPPPPPPPPPPPPPPPPPPPPPPPPPPPPPPPPPPPPPPPPPPPPPPPPPPPPPPPPPPPPPPPPPPPPPPPPPPPPPPPPPPPPPPPPPPPPPPPPPPPPPPPPPPPPPPPPPPPPPPPPPPPPPPPPPPPPPPPPPPPPPPPPPPPPPPPPPPPPPPPPPPPPPPPPPPPPPPPPPPPPPPPPPPPPPPPPPPPPPPPPPPPPPPPPPPPPPPPPPPPPPPPPPPPPPPPPPPPPPPPPPPPPPPPPPPPPPPPPPPPPPPPPPPPPPPPPPPPPPPPPPPPPPPPPPPPPPPPPPPPPPPPPPPPPPPPPPPPPPPPPPPPPPPPPPPPPPPPPPPPPPPPPPPPPPPPPPPPPPPPPPPPPPPPPPPPPPPPPPPPPPPPPPPPPPPPPPPPPPPPPPPPPPPPPPPPPPPPPPPPPPPPPPPPPPPPPPPPPPPPPPPPPPPPPPPPPPPPPPPPPPPPPPPPPPPPPPPPPPPPPPPPPPPPPPPPPPPPPPPPPPPPPPPPPPPPPPPPPPPPPPPPPPPPPPPPPPPPPPPPPPPPPPPPPPPPPPPPPPPPPPPPPPPPPPPPPPPPPPPPPPPPPPPPPPPPPPPPPPPPPPPPPPPPPPPPPPPPPPPPPPPPPPPPPPPPPPPPPPPPPPPPPPPPPPPPPPPPPPPPPPPPPPPPPPPPPPPPPPPPPPPPPPPPPPPPPPPPPPPPPPPPPPPPPPPPPPPPPPPPPPPPPPPPPPPPPPPPPPPPPPPPPPPPPPPPPPPPPPPPPPPPPPPPPPPPPPPPPPPPPPPPPPPPPPPPPPPPPPPPPPPPPPPPPPPPPPPPPPPPPPPPPPPPPPPPPPPPPPPPPPPPPPPPPPPPPPPPPPPPCCCCCCCCCCCCCCCCCCCCCCCCCCCCCCCCCCCCCCCCCCCCCCCCCCCCCCCCCCCCCCCCCCCCCCCCCCCCCCCCCCCCCCCCCCCCCCCCCCCCCCCCCCCCCCCCCCCCCCCCCCCCCCCCCCCCCCCCCCCCCCCCCCCCCCCCCCCCCCCCCCCCCCCCCCCCCCCCCCCCCCCCCCCCCCCCCCCCCCCCCCCCCCCCCCCCCCCCCCCCCCCCCCCCCCCCCCCCCCCCCCCCCCCCCCCCCCCCCCCCCCCCCCCCCCCCCCCCCCCCCCCCCCCCCCCCCCCCCCCCCCCCCCCCCCCCCCCCCCCCCCCCCCCCCCCCCCCCCCCCCCCCCCCCCCCCCCCCCCCCCCCCCCCCCCCCCCCCCCCCCCCCCCCCCCCCCCCCCCCCCCCCCCCCCCCCCCCCCCCCCCCCCCCCCCCCCCCCCCCCCCCCCCCCCCCCCCCCCCCCCCCCCCCCCCCCCCCCCCCCCCCCCCCCCCCCCCCCCCCCCCCCCCCCCCCCCCCCCCCCCCCCCCCCCCCCCCCCCCCCCCCCCCCCCCCCCCCCCCCCCCCCCCCCCCCCCCCCCCCCCCCCCCCCCCCCCCCCCCCCCCCCCCCCCCCCCCCCCCCCCCCCCCCCCCCCCCCCCCCCCCCCCCCCCCCCCCCCCCCCCCCCCCCCCCCCCCCCCCCCCCCCCCCCCCCCCCCCCCCCCCCCCCCCCCCCCCCCCCCCCCCCCCCCCCCCCCCCCCCCCCCCCCCCCCCCCCCCCCCCCCCCCCCCCCCCCCCCCCCCCCCCCCCCCCCCCCCCCCCCCCCCCCCCCCCCCCCCCCCCCCCCCCCCCCCCCCCCCCCCCCCCCCCCCCCCCCCCCCCCCCCCCCCCCCCCCCCCCCCCCCCCCCCCCCCCCCCCCCCCCCCCCCCCCCCCCCCCCCCCCCCCCCCCCCCCCCCCCCCCCCCCCCCCCCCCCCCCCCCCCCCCCCCCCCCCCCCCCCCCCCCCCCCCCCCCCCCCCCCCCCCCCCCCCCCCCCCCCCCCCCCCCCCCCCCCCCCCCCCCCCCCCCCCCCCCCCCCCCCCCCCCCCCCCCCCCCCCCCCCCCCCCCCCCCCCCCCCCCCCCCCCCCCCCCCCCCCCCCCCCCCCCCCCCCCCCCCCCCCCCCCCCCCCCCCCCCCCCCCCCCCCCCCCCCCCCCCCCCCCCCCCCCCCCCCCCCCCCCCCCCCCCCCCCCCCCCCCCCCCCCCCCCCCCCCCCCCCCCCCCCCCCCCCCCCCCCCCCCCC'\n '2004-012004-022004-032004-042004-052004-062004-072004-082004-092004-102004-112004-122005-012005-022005-032005-042005-052005-062005-072005-082005-092005-102005-112005-122006-012006-022006-032006-042006-052006-062006-072006-082006-092006-102006-112006-122007-012007-022007-032007-042007-052007-062007-072007-082007-092007-102007-112007-122008-012008-022008-032008-042008-052008-062008-072008-082008-092008-102008-112008-122009-012009-022009-032009-042009-052009-062009-072009-082009-092009-102009-112009-122010-012010-022010-032010-042010-052010-062010-072010-082010-092010-102010-112010-122011-012011-022011-032011-042011-052011-062011-072011-082011-092011-102011-112011-122012-012012-022012-032012-042012-052012-062012-072012-082012-092012-102012-112012-122013-012013-022013-032013-042013-052013-062013-072013-082013-092013-102013-112013-122014-012014-022014-032014-042014-052014-062014-072014-082014-092014-102014-112014-122015-012015-022015-032015-042015-052015-062015-072015-082004-012004-022004-032004-042004-052004-062004-072004-082004-092004-102004-112004-122005-012005-022005-032005-042005-052005-062005-072005-082005-092005-102005-112005-122006-012006-022006-032006-042006-052006-062006-072006-082006-092006-102006-112006-122007-012007-022007-032007-042007-052007-062007-072007-082007-092007-102007-112007-122008-012008-022008-032008-042008-052008-062008-072008-082008-092008-102008-112008-122009-012009-022009-032009-042009-052009-062009-072009-082009-092009-102009-112009-122010-012010-022010-032010-042010-052010-062010-072010-082010-092010-102010-112010-122011-012011-022011-032011-042011-052011-062011-072011-082011-092011-102011-112011-122012-012012-022012-032012-042012-052012-062012-072012-082012-092012-102012-112012-122013-012013-022013-032013-042013-052013-062013-072013-082013-092013-102013-112013-122014-012014-022014-032014-042014-052014-062014-072014-082014-092014-102014-112014-122015-012015-022015-032015-042015-052015-062015-072015-082004-012004-022004-032004-042004-052004-062004-072004-082004-092004-102004-112004-122005-012005-022005-032005-042005-052005-062005-072005-082005-092005-102005-112005-122006-012006-022006-032006-042006-052006-062006-072006-082006-092006-102006-112006-122007-012007-022007-032007-042007-052007-062007-072007-082007-092007-102007-112007-122008-012008-022008-032008-042008-052008-062008-072008-082008-092008-102008-112008-122009-012009-022009-032009-042009-052009-062009-072009-082009-092009-102009-112009-122010-012010-022010-032010-042010-052010-062010-072010-082010-092010-102010-112010-122011-012011-022011-032011-042011-052011-062011-072011-082011-092011-102011-112011-122012-012012-022012-032012-042012-052012-062012-072012-082012-092012-102012-112012-122013-012013-022013-032013-042013-052013-062013-072013-082013-092013-102013-112013-122014-012014-022014-032014-042014-052014-062014-072014-082014-092014-102014-112014-122015-012015-022015-032015-042015-052015-062015-072015-082004-012004-022004-032004-042004-052004-062004-072004-082004-092004-102004-112004-122005-012005-022005-032005-042005-052005-062005-072005-082005-092005-102005-112005-122006-012006-022006-032006-042006-052006-062006-072006-082006-092006-102006-112006-122007-012007-022007-032007-042007-052007-062007-072007-082007-092007-102007-112007-122008-012008-022008-032008-042008-052008-062008-072008-082008-092008-102008-112008-122009-012009-022009-032009-042009-052009-062009-072009-082009-092009-102009-112009-122010-012010-022010-032010-042010-052010-062010-072010-082010-092010-102010-112010-122011-012011-022011-032011-042011-052011-062011-072011-082011-092011-102011-112011-122012-012012-022012-032012-042012-052012-062012-072012-082012-092012-102012-112012-122013-012013-022013-032013-042013-052013-062013-072013-082013-092013-102013-112013-122014-012014-022014-032014-042014-052014-062014-072014-082014-092014-102014-112014-122015-012015-022015-032015-042015-052015-062015-072015-082004-012004-022004-032004-042004-052004-062004-072004-082004-092004-102004-112004-122005-012005-022005-032005-042005-052005-062005-072005-082005-092005-102005-112005-122006-012006-022006-032006-042006-052006-062006-072006-082006-092006-102006-112006-122007-012007-022007-032007-042007-052007-062007-072007-082007-092007-102007-112007-122008-012008-022008-032008-042008-052008-062008-072008-082008-092008-102008-112008-122009-012009-022009-032009-042009-052009-062009-072009-082009-092009-102009-112009-122010-012010-022010-032010-042010-052010-062010-072010-082010-092010-102010-112010-122011-012011-022011-032011-042011-052011-062011-072011-082011-092011-102011-112011-122012-012012-022012-032012-042012-052012-062012-072012-082012-092012-102012-112012-122013-012013-022013-032013-042013-052013-062013-072013-082013-092013-102013-112013-122014-012014-022014-032014-042014-052014-062014-072014-082014-092014-102014-112014-122015-012015-022015-032015-042015-052015-062015-072015-082004-012004-022004-032004-042004-052004-062004-072004-082004-092004-102004-112004-122005-012005-022005-032005-042005-052005-062005-072005-082005-092005-102005-112005-122006-012006-022006-032006-042006-052006-062006-072006-082006-092006-102006-112006-122007-012007-022007-032007-042007-052007-062007-072007-082007-092007-102007-112007-122008-012008-022008-032008-042008-052008-062008-072008-082008-092008-102008-112008-122009-012009-022009-032009-042009-052009-062009-072009-082009-092009-102009-112009-122010-012010-022010-032010-042010-052010-062010-072010-082010-092010-102010-112010-122011-012011-022011-032011-042011-052011-062011-072011-082011-092011-102011-112011-122012-012012-022012-032012-042012-052012-062012-072012-082012-092012-102012-112012-122013-012013-022013-032013-042013-052013-062013-072013-082013-092013-102013-112013-122014-012014-022014-032014-042014-052014-062014-072014-082014-092014-102014-112014-122015-012015-022015-032015-042015-052015-062015-072015-082004-012004-022004-032004-042004-052004-062004-072004-082004-092004-102004-112004-122005-012005-022005-032005-042005-052005-062005-072005-082005-092005-102005-112005-122006-012006-022006-032006-042006-052006-062006-072006-082006-092006-102006-112006-122007-012007-022007-032007-042007-052007-062007-072007-082007-092007-102007-112007-122008-012008-022008-032008-042008-052008-062008-072008-082008-092008-102008-112008-122009-012009-022009-032009-042009-052009-062009-072009-082009-092009-102009-112009-122010-012010-022010-032010-042010-052010-062010-072010-082010-092010-102010-112010-122011-012011-022011-032011-042011-052011-062011-072011-082011-092011-102011-112011-122012-012012-022012-032012-042012-052012-062012-072012-082012-092012-102012-112012-122013-012013-022013-032013-042013-052013-062013-072013-082013-092013-102013-112013-122014-012014-022014-032014-042014-052014-062014-072014-082014-092014-102014-112014-122015-012015-022015-032015-042015-052015-062015-072015-082004-012004-022004-032004-042004-052004-062004-072004-082004-092004-102004-112004-122005-012005-022005-032005-042005-052005-062005-072005-082005-092005-102005-112005-122006-012006-022006-032006-042006-052006-062006-072006-082006-092006-102006-112006-122007-012007-022007-032007-042007-052007-062007-072007-082007-092007-102007-112007-122008-012008-022008-032008-042008-052008-062008-072008-082008-092008-102008-112008-122009-012009-022009-032009-042009-052009-062009-072009-082009-092009-102009-112009-122010-012010-022010-032010-042010-052010-062010-072010-082010-092010-102010-112010-122011-012011-022011-032011-042011-052011-062011-072011-082011-092011-102011-112011-122012-012012-022012-032012-042012-052012-062012-072012-082012-092012-102012-112012-122013-012013-022013-032013-042013-052013-062013-072013-082013-092013-102013-112013-122014-012014-022014-032014-042014-052014-062014-072014-082014-092014-102014-112014-122015-012015-022015-032015-042015-052015-062015-072015-082004-012004-022004-032004-042004-052004-062004-072004-082004-092004-102004-112004-122005-012005-022005-032005-042005-052005-062005-072005-082005-092005-102005-112005-122006-012006-022006-032006-042006-052006-062006-072006-082006-092006-102006-112006-122007-012007-022007-032007-042007-052007-062007-072007-082007-092007-102007-112007-122008-012008-022008-032008-042008-052008-062008-072008-082008-092008-102008-112008-122009-012009-022009-032009-042009-052009-062009-072009-082009-092009-102009-112009-122010-012010-022010-032010-042010-052010-062010-072010-082010-092010-102010-112010-122011-012011-022011-032011-042011-052011-062011-072011-082011-092011-102011-112011-122012-012012-022012-032012-042012-052012-062012-072012-082012-092012-102012-112012-122013-012013-022013-032013-042013-052013-062013-072013-082013-092013-102013-112013-122014-012014-022014-032014-042014-052014-062014-072014-082014-092014-102014-112014-122015-012015-022015-032015-042015-052015-062015-072015-082004-012004-022004-032004-042004-052004-062004-072004-082004-092004-102004-112004-122005-012005-022005-032005-042005-052005-062005-072005-082005-092005-102005-112005-122006-012006-022006-032006-042006-052006-062006-072006-082006-092006-102006-112006-122007-012007-022007-032007-042007-052007-062007-072007-082007-092007-102007-112007-122008-012008-022008-032008-042008-052008-062008-072008-082008-092008-102008-112008-122009-012009-022009-032009-042009-052009-062009-072009-082009-092009-102009-112009-122010-012010-022010-032010-042010-052010-062010-072010-082010-092010-102010-112010-122011-012011-022011-032011-042011-052011-062011-072011-082011-092011-102011-112011-122012-012012-022012-032012-042012-052012-062012-072012-082012-092012-102012-112012-122013-012013-022013-032013-042013-052013-062013-072013-082013-092013-102013-112013-122014-012014-022014-032014-042014-052014-062014-072014-082014-092014-102014-112014-122015-012015-022015-032015-042015-052015-062015-072015-082004-012004-022004-032004-042004-052004-062004-072004-082004-092004-102004-112004-122005-012005-022005-032005-042005-052005-062005-072005-082005-092005-102005-112005-122006-012006-022006-032006-042006-052006-062006-072006-082006-092006-102006-112006-122007-012007-022007-032007-042007-052007-062007-072007-082007-092007-102007-112007-122008-012008-022008-032008-042008-052008-062008-072008-082008-092008-102008-112008-122009-012009-022009-032009-042009-052009-062009-072009-082009-092009-102009-112009-122010-012010-022010-032010-042010-052010-062010-072010-082010-092010-102010-112010-122011-012011-022011-032011-042011-052011-062011-072011-082011-092011-102011-112011-122012-012012-022012-032012-042012-052012-062012-072012-082012-092012-102012-112012-122013-012013-022013-032013-042013-052013-062013-072013-082013-092013-102013-112013-122014-012014-022014-032014-042014-052014-062014-072014-082014-092014-102014-112014-122015-012015-022015-032015-042015-052015-062015-072015-082004-012004-022004-032004-042004-052004-062004-072004-082004-092004-102004-112004-122005-012005-022005-032005-042005-052005-062005-072005-082005-092005-102005-112005-122006-012006-022006-032006-042006-052006-062006-072006-082006-092006-102006-112006-122007-012007-022007-032007-042007-052007-062007-072007-082007-092007-102007-112007-122008-012008-022008-032008-042008-052008-062008-072008-082008-092008-102008-112008-122009-012009-022009-032009-042009-052009-062009-072009-082009-092009-102009-112009-122010-012010-022010-032010-042010-052010-062010-072010-082010-092010-102010-112010-122011-012011-022011-032011-042011-052011-062011-072011-082011-092011-102011-112011-122012-012012-022012-032012-042012-052012-062012-072012-082012-092012-102012-112012-122013-012013-022013-032013-042013-052013-062013-072013-082013-092013-102013-112013-122014-012014-022014-032014-042014-052014-062014-072014-082014-092014-102014-112014-122015-012015-022015-032015-042015-052015-062015-072015-082004-012004-022004-032004-042004-052004-062004-072004-082004-092004-102004-112004-122005-012005-022005-032005-042005-052005-062005-072005-082005-092005-102005-112005-122006-012006-022006-032006-042006-052006-062006-072006-082006-092006-102006-112006-122007-012007-022007-032007-042007-052007-062007-072007-082007-092007-102007-112007-122008-012008-022008-032008-042008-052008-062008-072008-082008-092008-102008-112008-122009-012009-022009-032009-042009-052009-062009-072009-082009-092009-102009-112009-122010-012010-022010-032010-042010-052010-062010-072010-082010-092010-102010-112010-122011-012011-022011-032011-042011-052011-062011-072011-082011-092011-102011-112011-122012-012012-022012-032012-042012-052012-062012-072012-082012-092012-102012-112012-122013-012013-022013-032013-042013-052013-062013-072013-082013-092013-102013-112013-122014-012014-022014-032014-042014-052014-062014-072014-082014-092014-102014-112014-122015-012015-022015-032015-042015-052015-062015-072015-082004-012004-022004-032004-042004-052004-062004-072004-082004-092004-102004-112004-122005-012005-022005-032005-042005-052005-062005-072005-082005-092005-102005-112005-122006-012006-022006-032006-042006-052006-062006-072006-082006-092006-102006-112006-122007-012007-022007-032007-042007-052007-062007-072007-082007-092007-102007-112007-122008-012008-022008-032008-042008-052008-062008-072008-082008-092008-102008-112008-122009-012009-022009-032009-042009-052009-062009-072009-082009-092009-102009-112009-122010-012010-022010-032010-042010-052010-062010-072010-082010-092010-102010-112010-122011-012011-022011-032011-042011-052011-062011-072011-082011-092011-102011-112011-122012-012012-022012-032012-042012-052012-062012-072012-082012-092012-102012-112012-122013-012013-022013-032013-042013-052013-062013-072013-082013-092013-102013-112013-122014-012014-022014-032014-042014-052014-062014-072014-082014-092014-102014-112014-122015-012015-022015-032015-042015-052015-062015-072015-082004-012004-022004-032004-042004-052004-062004-072004-082004-092004-102004-112004-122005-012005-022005-032005-042005-052005-062005-072005-082005-092005-102005-112005-122006-012006-022006-032006-042006-052006-062006-072006-082006-092006-102006-112006-122007-012007-022007-032007-042007-052007-062007-072007-082007-092007-102007-112007-122008-012008-022008-032008-042008-052008-062008-072008-082008-092008-102008-112008-122009-012009-022009-032009-042009-052009-062009-072009-082009-092009-102009-112009-122010-012010-022010-032010-042010-052010-062010-072010-082010-092010-102010-112010-122011-012011-022011-032011-042011-052011-062011-072011-082011-092011-102011-112011-122012-012012-022012-032012-042012-052012-062012-072012-082012-092012-102012-112012-122013-012013-022013-032013-042013-052013-062013-072013-082013-092013-102013-112013-122014-012014-022014-032014-042014-052014-062014-072014-082014-092014-102014-112014-122015-012015-022015-032015-042015-052015-062015-072015-082004-012004-022004-032004-042004-052004-062004-072004-082004-092004-102004-112004-122005-012005-022005-032005-042005-052005-062005-072005-082005-092005-102005-112005-122006-012006-022006-032006-042006-052006-062006-072006-082006-092006-102006-112006-122007-012007-022007-032007-042007-052007-062007-072007-082007-092007-102007-112007-122008-012008-022008-032008-042008-052008-062008-072008-082008-092008-102008-112008-122009-012009-022009-032009-042009-052009-062009-072009-082009-092009-102009-112009-122010-012010-022010-032010-042010-052010-062010-072010-082010-092010-102010-112010-122011-012011-022011-032011-042011-052011-062011-072011-082011-092011-102011-112011-122012-012012-022012-032012-042012-052012-062012-072012-082012-092012-102012-112012-122013-012013-022013-032013-042013-052013-062013-072013-082013-092013-102013-112013-122014-012014-022014-032014-042014-052014-062014-072014-082014-092014-102014-112014-122015-012015-022015-032015-042015-052015-062015-072015-082004-012004-022004-032004-042004-052004-062004-072004-082004-092004-102004-112004-122005-012005-022005-032005-042005-052005-062005-072005-082005-092005-102005-112005-122006-012006-022006-032006-042006-052006-062006-072006-082006-092006-102006-112006-122007-012007-022007-032007-042007-052007-062007-072007-082007-092007-102007-112007-122008-012008-022008-032008-042008-052008-062008-072008-082008-092008-102008-112008-122009-012009-022009-032009-042009-052009-062009-072009-082009-092009-102009-112009-122010-012010-022010-032010-042010-052010-062010-072010-082010-092010-102010-112010-122011-012011-022011-032011-042011-052011-062011-072011-082011-092011-102011-112011-122012-012012-022012-032012-042012-052012-062012-072012-082012-092012-102012-112012-122013-012013-022013-032013-042013-052013-062013-072013-082013-092013-102013-112013-122014-012014-022014-032014-042014-052014-062014-072014-082014-092014-102014-112014-122015-012015-022015-032015-042015-052015-062015-072015-082004-012004-022004-032004-042004-052004-062004-072004-082004-092004-102004-112004-122005-012005-022005-032005-042005-052005-062005-072005-082005-092005-102005-112005-122006-012006-022006-032006-042006-052006-062006-072006-082006-092006-102006-112006-122007-012007-022007-032007-042007-052007-062007-072007-082007-092007-102007-112007-122008-012008-022008-032008-042008-052008-062008-072008-082008-092008-102008-112008-122009-012009-022009-032009-042009-052009-062009-072009-082009-092009-102009-112009-122010-012010-022010-032010-042010-052010-062010-072010-082010-092010-102010-112010-122011-012011-022011-032011-042011-052011-062011-072011-082011-092011-102011-112011-122012-012012-022012-032012-042012-052012-062012-072012-082012-092012-102012-112012-122013-012013-022013-032013-042013-052013-062013-072013-082013-092013-102013-112013-122014-012014-022014-032014-042014-052014-062014-072014-082014-092014-102014-112014-122015-012015-022015-032015-042015-052015-062015-072015-082004-012004-022004-032004-042004-052004-062004-072004-082004-092004-102004-112004-122005-012005-022005-032005-042005-052005-062005-072005-082005-092005-102005-112005-122006-012006-022006-032006-042006-052006-062006-072006-082006-092006-102006-112006-122007-012007-022007-032007-042007-052007-062007-072007-082007-092007-102007-112007-122008-012008-022008-032008-042008-052008-062008-072008-082008-092008-102008-112008-122009-012009-022009-032009-042009-052009-062009-072009-082009-092009-102009-112009-122010-012010-022010-032010-042010-052010-062010-072010-082010-092010-102010-112010-122011-012011-022011-032011-042011-052011-062011-072011-082011-092011-102011-112011-122012-012012-022012-032012-042012-052012-062012-072012-082012-092012-102012-112012-122013-012013-022013-032013-042013-052013-062013-072013-082013-092013-102013-112013-122014-012014-022014-032014-042014-052014-062014-072014-082014-092014-102014-112014-122015-012015-022015-032015-042015-052015-062015-072015-082004-012004-022004-032004-042004-052004-062004-072004-082004-092004-102004-112004-122005-012005-022005-032005-042005-052005-062005-072005-082005-092005-102005-112005-122006-012006-022006-032006-042006-052006-062006-072006-082006-092006-102006-112006-122007-012007-022007-032007-042007-052007-062007-072007-082007-092007-102007-112007-122008-012008-022008-032008-042008-052008-062008-072008-082008-092008-102008-112008-122009-012009-022009-032009-042009-052009-062009-072009-082009-092009-102009-112009-122010-012010-022010-032010-042010-052010-062010-072010-082010-092010-102010-112010-122011-012011-022011-032011-042011-052011-062011-072011-082011-092011-102011-112011-122012-012012-022012-032012-042012-052012-062012-072012-082012-092012-102012-112012-122013-012013-022013-032013-042013-052013-062013-072013-082013-092013-102013-112013-122014-012014-022014-032014-042014-052014-062014-072014-082014-092014-102014-112014-122015-012015-022015-032015-042015-052015-062015-072015-082004-012004-022004-032004-042004-052004-062004-072004-082004-092004-102004-112004-122005-012005-022005-032005-042005-052005-062005-072005-082005-092005-102005-112005-122006-012006-022006-032006-042006-052006-062006-072006-082006-092006-102006-112006-122007-012007-022007-032007-042007-052007-062007-072007-082007-092007-102007-112007-122008-012008-022008-032008-042008-052008-062008-072008-082008-092008-102008-112008-122009-012009-022009-032009-042009-052009-062009-072009-082009-092009-102009-112009-122010-012010-022010-032010-042010-052010-062010-072010-082010-092010-102010-112010-122011-012011-022011-032011-042011-052011-062011-072011-082011-092011-102011-112011-122012-012012-022012-032012-042012-052012-062012-072012-082012-092012-102012-112012-122013-012013-022013-032013-042013-052013-062013-072013-082013-092013-102013-112013-122014-012014-022014-032014-042014-052014-062014-072014-082014-092014-102014-112014-122015-012015-022015-032015-042015-052015-062015-072015-082004-012004-022004-032004-042004-052004-062004-072004-082004-092004-102004-112004-122005-012005-022005-032005-042005-052005-062005-072005-082005-092005-102005-112005-122006-012006-022006-032006-042006-052006-062006-072006-082006-092006-102006-112006-122007-012007-022007-032007-042007-052007-062007-072007-082007-092007-102007-112007-122008-012008-022008-032008-042008-052008-062008-072008-082008-092008-102008-112008-122009-012009-022009-032009-042009-052009-062009-072009-082009-092009-102009-112009-122010-012010-022010-032010-042010-052010-062010-072010-082010-092010-102010-112010-122011-012011-022011-032011-042011-052011-062011-072011-082011-092011-102011-112011-122012-012012-022012-032012-042012-052012-062012-072012-082012-092012-102012-112012-122013-012013-022013-032013-042013-052013-062013-072013-082013-092013-102013-112013-122014-012014-022014-032014-042014-052014-062014-072014-082014-092014-102014-112014-122015-012015-022015-032015-042015-052015-062015-072015-082004-012004-022004-032004-042004-052004-062004-072004-082004-092004-102004-112004-122005-012005-022005-032005-042005-052005-062005-072005-082005-092005-102005-112005-122006-012006-022006-032006-042006-052006-062006-072006-082006-092006-102006-112006-122007-012007-022007-032007-042007-052007-062007-072007-082007-092007-102007-112007-122008-012008-022008-032008-042008-052008-062008-072008-082008-092008-102008-112008-122009-012009-022009-032009-042009-052009-062009-072009-082009-092009-102009-112009-122010-012010-022010-032010-042010-052010-062010-072010-082010-092010-102010-112010-122011-012011-022011-032011-042011-052011-062011-072011-082011-092011-102011-112011-122012-012012-022012-032012-042012-052012-062012-072012-082012-092012-102012-112012-122013-012013-022013-032013-042013-052013-062013-072013-082013-092013-102013-112013-122014-012014-022014-032014-042014-052014-062014-072014-082014-092014-102014-112014-122015-012015-022015-032015-042015-052015-062015-072015-082004-012004-022004-032004-042004-052004-062004-072004-082004-092004-102004-112004-122005-012005-022005-032005-042005-052005-062005-072005-082005-092005-102005-112005-122006-012006-022006-032006-042006-052006-062006-072006-082006-092006-102006-112006-122007-012007-022007-032007-042007-052007-062007-072007-082007-092007-102007-112007-122008-012008-022008-032008-042008-052008-062008-072008-082008-092008-102008-112008-122009-012009-022009-032009-042009-052009-062009-072009-082009-092009-102009-112009-122010-012010-022010-032010-042010-052010-062010-072010-082010-092010-102010-112010-122011-012011-022011-032011-042011-052011-062011-072011-082011-092011-102011-112011-122012-012012-022012-032012-042012-052012-062012-072012-082012-092012-102012-112012-122013-012013-022013-032013-042013-052013-062013-072013-082013-092013-102013-112013-122014-012014-022014-032014-042014-052014-062014-072014-082014-092014-102014-112014-122015-012015-022015-032015-042015-052015-062015-072015-082004-012004-022004-032004-042004-052004-062004-072004-082004-092004-102004-112004-122005-012005-022005-032005-042005-052005-062005-072005-082005-092005-102005-112005-122006-012006-022006-032006-042006-052006-062006-072006-082006-092006-102006-112006-122007-012007-022007-032007-042007-052007-062007-072007-082007-092007-102007-112007-122008-012008-022008-032008-042008-052008-062008-072008-082008-092008-102008-112008-122009-012009-022009-032009-042009-052009-062009-072009-082009-092009-102009-112009-122010-012010-022010-032010-042010-052010-062010-072010-082010-092010-102010-112010-122011-012011-022011-032011-042011-052011-062011-072011-082011-092011-102011-112011-122012-012012-022012-032012-042012-052012-062012-072012-082012-092012-102012-112012-122013-012013-022013-032013-042013-052013-062013-072013-082013-092013-102013-112013-122014-012014-022014-032014-042014-052014-062014-072014-082014-092014-102014-112014-122015-012015-022015-032015-042015-052015-062015-072015-082004-012004-022004-032004-042004-052004-062004-072004-082004-092004-102004-112004-122005-012005-022005-032005-042005-052005-062005-072005-082005-092005-102005-112005-122006-012006-022006-032006-042006-052006-062006-072006-082006-092006-102006-112006-122007-012007-022007-032007-042007-052007-062007-072007-082007-092007-102007-112007-122008-012008-022008-032008-042008-052008-062008-072008-082008-092008-102008-112008-122009-012009-022009-032009-042009-052009-062009-072009-082009-092009-102009-112009-122010-012010-022010-032010-042010-052010-062010-072010-082010-092010-102010-112010-122011-012011-022011-032011-042011-052011-062011-072011-082011-092011-102011-112011-122012-012012-022012-032012-042012-052012-062012-072012-082012-092012-102012-112012-122013-012013-022013-032013-042013-052013-062013-072013-082013-092013-102013-112013-122014-012014-022014-032014-042014-052014-062014-072014-082014-092014-102014-112014-122015-012015-022015-032015-042015-052015-062015-072015-082004-012004-022004-032004-042004-052004-062004-072004-082004-092004-102004-112004-122005-012005-022005-032005-042005-052005-062005-072005-082005-092005-102005-112005-122006-012006-022006-032006-042006-052006-062006-072006-082006-092006-102006-112006-122007-012007-022007-032007-042007-052007-062007-072007-082007-092007-102007-112007-122008-012008-022008-032008-042008-052008-062008-072008-082008-092008-102008-112008-122009-012009-022009-032009-042009-052009-062009-072009-082009-092009-102009-112009-122010-012010-022010-032010-042010-052010-062010-072010-082010-092010-102010-112010-122011-012011-022011-032011-042011-052011-062011-072011-082011-092011-102011-112011-122012-012012-022012-032012-042012-052012-062012-072012-082012-092012-102012-112012-122013-012013-022013-032013-042013-052013-062013-072013-082013-092013-102013-112013-122014-012014-022014-032014-042014-052014-062014-072014-082014-092014-102014-112014-122015-012015-022015-032015-042015-052015-062015-072015-082004-012004-022004-032004-042004-052004-062004-072004-082004-092004-102004-112004-122005-012005-022005-032005-042005-052005-062005-072005-082005-092005-102005-112005-122006-012006-022006-032006-042006-052006-062006-072006-082006-092006-102006-112006-122007-012007-022007-032007-042007-052007-062007-072007-082007-092007-102007-112007-122008-012008-022008-032008-042008-052008-062008-072008-082008-092008-102008-112008-122009-012009-022009-032009-042009-052009-062009-072009-082009-092009-102009-112009-122010-012010-022010-032010-042010-052010-062010-072010-082010-092010-102010-112010-122011-012011-022011-032011-042011-052011-062011-072011-082011-092011-102011-112011-122012-012012-022012-032012-042012-052012-062012-072012-082012-092012-102012-112012-122013-012013-022013-032013-042013-052013-062013-072013-082013-092013-102013-112013-122014-012014-022014-032014-042014-052014-062014-072014-082014-092014-102014-112014-122015-012015-022015-032015-042015-052015-062015-072015-082004-012004-022004-032004-042004-052004-062004-072004-082004-092004-102004-112004-122005-012005-022005-032005-042005-052005-062005-072005-082005-092005-102005-112005-122006-012006-022006-032006-042006-052006-062006-072006-082006-092006-102006-112006-122007-012007-022007-032007-042007-052007-062007-072007-082007-092007-102007-112007-122008-012008-022008-032008-042008-052008-062008-072008-082008-092008-102008-112008-122009-012009-022009-032009-042009-052009-062009-072009-082009-092009-102009-112009-122010-012010-022010-032010-042010-052010-062010-072010-082010-092010-102010-112010-122011-012011-022011-032011-042011-052011-062011-072011-082011-092011-102011-112011-122012-012012-022012-032012-042012-052012-062012-072012-082012-092012-102012-112012-122013-012013-022013-032013-042013-052013-062013-072013-082013-092013-102013-112013-122014-012014-022014-032014-042014-052014-062014-072014-082014-092014-102014-112014-122015-012015-022015-032015-042015-052015-062015-072015-082004-012004-022004-032004-042004-052004-062004-072004-082004-092004-102004-112004-122005-012005-022005-032005-042005-052005-062005-072005-082005-092005-102005-112005-122006-012006-022006-032006-042006-052006-062006-072006-082006-092006-102006-112006-122007-012007-022007-032007-042007-052007-062007-072007-082007-092007-102007-112007-122008-012008-022008-032008-042008-052008-062008-072008-082008-092008-102008-112008-122009-012009-022009-032009-042009-052009-062009-072009-082009-092009-102009-112009-122010-012010-022010-032010-042010-052010-062010-072010-082010-092010-102010-112010-122011-012011-022011-032011-042011-052011-062011-072011-082011-092011-102011-112011-122012-012012-022012-032012-042012-052012-062012-072012-082012-092012-102012-112012-122013-012013-022013-032013-042013-052013-062013-072013-082013-092013-102013-112013-122014-012014-022014-032014-042014-052014-062014-072014-082014-092014-102014-112014-122015-012015-022015-032015-042015-052015-062015-072015-082004-012004-022004-032004-042004-052004-062004-072004-082004-092004-102004-112004-122005-012005-022005-032005-042005-052005-062005-072005-082005-092005-102005-112005-122006-012006-022006-032006-042006-052006-062006-072006-082006-092006-102006-112006-122007-012007-022007-032007-042007-052007-062007-072007-082007-092007-102007-112007-122008-012008-022008-032008-042008-052008-062008-072008-082008-092008-102008-112008-122009-012009-022009-032009-042009-052009-062009-072009-082009-092009-102009-112009-122010-012010-022010-032010-042010-052010-062010-072010-082010-092010-102010-112010-122011-012011-022011-032011-042011-052011-062011-072011-082011-092011-102011-112011-122012-012012-022012-032012-042012-052012-062012-072012-082012-092012-102012-112012-122013-012013-022013-032013-042013-052013-062013-072013-082013-092013-102013-112013-122014-012014-022014-032014-042014-052014-062014-072014-082014-092014-102014-112014-122015-012015-022015-032015-042015-052015-062015-072015-082004-012004-022004-032004-042004-052004-062004-072004-082004-092004-102004-112004-122005-012005-022005-032005-042005-052005-062005-072005-082005-092005-102005-112005-122006-012006-022006-032006-042006-052006-062006-072006-082006-092006-102006-112006-122007-012007-022007-032007-042007-052007-062007-072007-082007-092007-102007-112007-122008-012008-022008-032008-042008-052008-062008-072008-082008-092008-102008-112008-122009-012009-022009-032009-042009-052009-062009-072009-082009-092009-102009-112009-122010-012010-022010-032010-042010-052010-062010-072010-082010-092010-102010-112010-122011-012011-022011-032011-042011-052011-062011-072011-082011-092011-102011-112011-122012-012012-022012-032012-042012-052012-062012-072012-082012-092012-102012-112012-122013-012013-022013-032013-042013-052013-062013-072013-082013-092013-102013-112013-122014-012014-022014-032014-042014-052014-062014-072014-082014-092014-102014-112014-122015-012015-022015-032015-042015-052015-062015-072015-082004-012004-022004-032004-042004-052004-062004-072004-082004-092004-102004-112004-122005-012005-022005-032005-042005-052005-062005-072005-082005-092005-102005-112005-122006-012006-022006-032006-042006-052006-062006-072006-082006-092006-102006-112006-122007-012007-022007-032007-042007-052007-062007-072007-082007-092007-102007-112007-122008-012008-022008-032008-042008-052008-062008-072008-082008-092008-102008-112008-122009-012009-022009-032009-042009-052009-062009-072009-082009-092009-102009-112009-122010-012010-022010-032010-042010-052010-062010-072010-082010-092010-102010-112010-122011-012011-022011-032011-042011-052011-062011-072011-082011-092011-102011-112011-122012-012012-022012-032012-042012-052012-062012-072012-082012-092012-102012-112012-122013-012013-022013-032013-042013-052013-062013-072013-082013-092013-102013-112013-122014-012014-022014-032014-042014-052014-062014-072014-082014-092014-102014-112014-122015-012015-022015-032015-042015-052015-062015-072015-082004-012004-022004-032004-042004-052004-062004-072004-082004-092004-102004-112004-122005-012005-022005-032005-042005-052005-062005-072005-082005-092005-102005-112005-122006-012006-022006-032006-042006-052006-062006-072006-082006-092006-102006-112006-122007-012007-022007-032007-042007-052007-062007-072007-082007-092007-102007-112007-122008-012008-022008-032008-042008-052008-062008-072008-082008-092008-102008-112008-122009-012009-022009-032009-042009-052009-062009-072009-082009-092009-102009-112009-122010-012010-022010-032010-042010-052010-062010-072010-082010-092010-102010-112010-122011-012011-022011-032011-042011-052011-062011-072011-082011-092011-102011-112011-122012-012012-022012-032012-042012-052012-062012-072012-082012-092012-102012-112012-122013-012013-022013-032013-042013-052013-062013-072013-082013-092013-102013-112013-122014-012014-022014-032014-042014-052014-062014-072014-082014-092014-102014-112014-122015-012015-022015-032015-042015-052015-062015-072015-082004-012004-022004-032004-042004-052004-062004-072004-082004-092004-102004-112004-122005-012005-022005-032005-042005-052005-062005-072005-082005-092005-102005-112005-122006-012006-022006-032006-042006-052006-062006-072006-082006-092006-102006-112006-122007-012007-022007-032007-042007-052007-062007-072007-082007-092007-102007-112007-122008-012008-022008-032008-042008-052008-062008-072008-082008-092008-102008-112008-122009-012009-022009-032009-042009-052009-062009-072009-082009-092009-102009-112009-122010-012010-022010-032010-042010-052010-062010-072010-082010-092010-102010-112010-122011-012011-022011-032011-042011-052011-062011-072011-082011-092011-102011-112011-122012-012012-022012-032012-042012-052012-062012-072012-082012-092012-102012-112012-122013-012013-022013-032013-042013-052013-062013-072013-082013-092013-102013-112013-122014-012014-022014-032014-042014-052014-062014-072014-082014-092014-102014-112014-122015-012015-022015-032015-042015-052015-062015-072015-082004-012004-022004-032004-042004-052004-062004-072004-082004-092004-102004-112004-122005-012005-022005-032005-042005-052005-062005-072005-082005-092005-102005-112005-122006-012006-022006-032006-042006-052006-062006-072006-082006-092006-102006-112006-122007-012007-022007-032007-042007-052007-062007-072007-082007-092007-102007-112007-122008-012008-022008-032008-042008-052008-062008-072008-082008-092008-102008-112008-122009-012009-022009-032009-042009-052009-062009-072009-082009-092009-102009-112009-122010-012010-022010-032010-042010-052010-062010-072010-082010-092010-102010-112010-122011-012011-022011-032011-042011-052011-062011-072011-082011-092011-102011-112011-122012-012012-022012-032012-042012-052012-062012-072012-082012-092012-102012-112012-122013-012013-022013-032013-042013-052013-062013-072013-082013-092013-102013-112013-122014-012014-022014-032014-042014-052014-062014-072014-082014-092014-102014-112014-122015-012015-022015-032015-042015-052015-062015-072015-082004-012004-022004-032004-042004-052004-062004-072004-082004-092004-102004-112004-122005-012005-022005-032005-042005-052005-062005-072005-082005-092005-102005-112005-122006-012006-022006-032006-042006-052006-062006-072006-082006-092006-102006-112006-122007-012007-022007-032007-042007-052007-062007-072007-082007-092007-102007-112007-122008-012008-022008-032008-042008-052008-062008-072008-082008-092008-102008-112008-122009-012009-022009-032009-042009-052009-062009-072009-082009-092009-102009-112009-122010-012010-022010-032010-042010-052010-062010-072010-082010-092010-102010-112010-122011-012011-022011-032011-042011-052011-062011-072011-082011-092011-102011-112011-122012-012012-022012-032012-042012-052012-062012-072012-082012-092012-102012-112012-122013-012013-022013-032013-042013-052013-062013-072013-082013-092013-102013-112013-122014-012014-022014-032014-042014-052014-062014-072014-082014-092014-102014-112014-122015-012015-022015-032015-042015-052015-062015-072015-082004-012004-022004-032004-042004-052004-062004-072004-082004-092004-102004-112004-122005-012005-022005-032005-042005-052005-062005-072005-082005-092005-102005-112005-122006-012006-022006-032006-042006-052006-062006-072006-082006-092006-102006-112006-122007-012007-022007-032007-042007-052007-062007-072007-082007-092007-102007-112007-122008-012008-022008-032008-042008-052008-062008-072008-082008-092008-102008-112008-122009-012009-022009-032009-042009-052009-062009-072009-082009-092009-102009-112009-122010-012010-022010-032010-042010-052010-062010-072010-082010-092010-102010-112010-122011-012011-022011-032011-042011-052011-062011-072011-082011-092011-102011-112011-122012-012012-022012-032012-042012-052012-062012-072012-082012-092012-102012-112012-122013-012013-022013-032013-042013-052013-062013-072013-082013-092013-102013-112013-122014-012014-022014-032014-042014-052014-062014-072014-082014-092014-102014-112014-122015-012015-022015-032015-042015-052015-062015-072015-082004-012004-022004-032004-042004-052004-062004-072004-082004-092004-102004-112004-122005-012005-022005-032005-042005-052005-062005-072005-082005-092005-102005-112005-122006-012006-022006-032006-042006-052006-062006-072006-082006-092006-102006-112006-122007-012007-022007-032007-042007-052007-062007-072007-082007-092007-102007-112007-122008-012008-022008-032008-042008-052008-062008-072008-082008-092008-102008-112008-122009-012009-022009-032009-042009-052009-062009-072009-082009-092009-102009-112009-122010-012010-022010-032010-042010-052010-062010-072010-082010-092010-102010-112010-122011-012011-022011-032011-042011-052011-062011-072011-082011-092011-102011-112011-122012-012012-022012-032012-042012-052012-062012-072012-082012-092012-102012-112012-122013-012013-022013-032013-042013-052013-062013-072013-082013-092013-102013-112013-122014-012014-022014-032014-042014-052014-062014-072014-082014-092014-102014-112014-122015-012015-022015-032015-042015-052015-062015-072015-082004-012004-022004-032004-042004-052004-062004-072004-082004-092004-102004-112004-122005-012005-022005-032005-042005-052005-062005-072005-082005-092005-102005-112005-122006-012006-022006-032006-042006-052006-062006-072006-082006-092006-102006-112006-122007-012007-022007-032007-042007-052007-062007-072007-082007-092007-102007-112007-122008-012008-022008-032008-042008-052008-062008-072008-082008-092008-102008-112008-122009-012009-022009-032009-042009-052009-062009-072009-082009-092009-102009-112009-122010-012010-022010-032010-042010-052010-062010-072010-082010-092010-102010-112010-122011-012011-022011-032011-042011-052011-062011-072011-082011-092011-102011-112011-122012-012012-022012-032012-042012-052012-062012-072012-082012-092012-102012-112012-122013-012013-022013-032013-042013-052013-062013-072013-082013-092013-102013-112013-122014-012014-022014-032014-042014-052014-062014-072014-082014-092014-102014-112014-122015-012015-022015-032015-042015-052015-062015-072015-082004-012004-022004-032004-042004-052004-062004-072004-082004-092004-102004-112004-122005-012005-022005-032005-042005-052005-062005-072005-082005-092005-102005-112005-122006-012006-022006-032006-042006-052006-062006-072006-082006-092006-102006-112006-122007-012007-022007-032007-042007-052007-062007-072007-082007-092007-102007-112007-122008-012008-022008-032008-042008-052008-062008-072008-082008-092008-102008-112008-122009-012009-022009-032009-042009-052009-062009-072009-082009-092009-102009-112009-122010-012010-022010-032010-042010-052010-062010-072010-082010-092010-102010-112010-122011-012011-022011-032011-042011-052011-062011-072011-082011-092011-102011-112011-122012-012012-022012-032012-042012-052012-062012-072012-082012-092012-102012-112012-122013-012013-022013-032013-042013-052013-062013-072013-082013-092013-102013-112013-122014-012014-022014-032014-042014-052014-062014-072014-082014-092014-102014-112014-122015-012015-022015-032015-042015-052015-062015-072015-082004-012004-022004-032004-042004-052004-062004-072004-082004-092004-102004-112004-122005-012005-022005-032005-042005-052005-062005-072005-082005-092005-102005-112005-122006-012006-022006-032006-042006-052006-062006-072006-082006-092006-102006-112006-122007-012007-022007-032007-042007-052007-062007-072007-082007-092007-102007-112007-122008-012008-022008-032008-042008-052008-062008-072008-082008-092008-102008-112008-122009-012009-022009-032009-042009-052009-062009-072009-082009-092009-102009-112009-122010-012010-022010-032010-042010-052010-062010-072010-082010-092010-102010-112010-122011-012011-022011-032011-042011-052011-062011-072011-082011-092011-102011-112011-122012-012012-022012-032012-042012-052012-062012-072012-082012-092012-102012-112012-122013-012013-022013-032013-042013-052013-062013-072013-082013-092013-102013-112013-122014-012014-022014-032014-042014-052014-062014-072014-082014-092014-102014-112014-122015-012015-022015-032015-042015-052015-062015-072015-082004-012004-022004-032004-042004-052004-062004-072004-082004-092004-102004-112004-122005-012005-022005-032005-042005-052005-062005-072005-082005-092005-102005-112005-122006-012006-022006-032006-042006-052006-062006-072006-082006-092006-102006-112006-122007-012007-022007-032007-042007-052007-062007-072007-082007-092007-102007-112007-122008-012008-022008-032008-042008-052008-062008-072008-082008-092008-102008-112008-122009-012009-022009-032009-042009-052009-062009-072009-082009-092009-102009-112009-122010-012010-022010-032010-042010-052010-062010-072010-082010-092010-102010-112010-122011-012011-022011-032011-042011-052011-062011-072011-082011-092011-102011-112011-122012-012012-022012-032012-042012-052012-062012-072012-082012-092012-102012-112012-122013-012013-022013-032013-042013-052013-062013-072013-082013-092013-102013-112013-122014-012014-022014-032014-042014-052014-062014-072014-082014-092014-102014-112014-122015-012015-022015-032015-042015-052015-062015-072015-082004-012004-022004-032004-042004-052004-062004-072004-082004-092004-102004-112004-122005-012005-022005-032005-042005-052005-062005-072005-082005-092005-102005-112005-122006-012006-022006-032006-042006-052006-062006-072006-082006-092006-102006-112006-122007-012007-022007-032007-042007-052007-062007-072007-082007-092007-102007-112007-122008-012008-022008-032008-042008-052008-062008-072008-082008-092008-102008-112008-122009-012009-022009-032009-042009-052009-062009-072009-082009-092009-102009-112009-122010-012010-022010-032010-042010-052010-062010-072010-082010-092010-102010-112010-122011-012011-022011-032011-042011-052011-062011-072011-082011-092011-102011-112011-122012-012012-022012-032012-042012-052012-062012-072012-082012-092012-102012-112012-122013-012013-022013-032013-042013-052013-062013-072013-082013-092013-102013-112013-122014-012014-022014-032014-042014-052014-062014-072014-082014-092014-102014-112014-122015-012015-022015-032015-042015-052015-062015-072015-082004-012004-022004-032004-042004-052004-062004-072004-082004-092004-102004-112004-122005-012005-022005-032005-042005-052005-062005-072005-082005-092005-102005-112005-122006-012006-022006-032006-042006-052006-062006-072006-082006-092006-102006-112006-122007-012007-022007-032007-042007-052007-062007-072007-082007-092007-102007-112007-122008-012008-022008-032008-042008-052008-062008-072008-082008-092008-102008-112008-122009-012009-022009-032009-042009-052009-062009-072009-082009-092009-102009-112009-122010-012010-022010-032010-042010-052010-062010-072010-082010-092010-102010-112010-122011-012011-022011-032011-042011-052011-062011-072011-082011-092011-102011-112011-122012-012012-022012-032012-042012-052012-062012-072012-082012-092012-102012-112012-122013-012013-022013-032013-042013-052013-062013-072013-082013-092013-102013-112013-122014-012014-022014-032014-042014-052014-062014-072014-082014-092014-102014-112014-122015-012015-022015-032015-042015-052015-062015-072015-082004-012004-022004-032004-042004-052004-062004-072004-082004-092004-102004-112004-122005-012005-022005-032005-042005-052005-062005-072005-082005-092005-102005-112005-122006-012006-022006-032006-042006-052006-062006-072006-082006-092006-102006-112006-122007-012007-022007-032007-042007-052007-062007-072007-082007-092007-102007-112007-122008-012008-022008-032008-042008-052008-062008-072008-082008-092008-102008-112008-122009-012009-022009-032009-042009-052009-062009-072009-082009-092009-102009-112009-122010-012010-022010-032010-042010-052010-062010-072010-082010-092010-102010-112010-122011-012011-022011-032011-042011-052011-062011-072011-082011-092011-102011-112011-122012-012012-022012-032012-042012-052012-062012-072012-082012-092012-102012-112012-122013-012013-022013-032013-042013-052013-062013-072013-082013-092013-102013-112013-122014-012014-022014-032014-042014-052014-062014-072014-082014-092014-102014-112014-122015-012015-022015-032015-042015-052015-062015-072015-082004-012004-022004-032004-042004-052004-062004-072004-082004-092004-102004-112004-122005-012005-022005-032005-042005-052005-062005-072005-082005-092005-102005-112005-122006-012006-022006-032006-042006-052006-062006-072006-082006-092006-102006-112006-122007-012007-022007-032007-042007-052007-062007-072007-082007-092007-102007-112007-122008-012008-022008-032008-042008-052008-062008-072008-082008-092008-102008-112008-122009-012009-022009-032009-042009-052009-062009-072009-082009-092009-102009-112009-122010-012010-022010-032010-042010-052010-062010-072010-082010-092010-102010-112010-122011-012011-022011-032011-042011-052011-062011-072011-082011-092011-102011-112011-122012-012012-022012-032012-042012-052012-062012-072012-082012-092012-102012-112012-122013-012013-022013-032013-042013-052013-062013-072013-082013-092013-102013-112013-122014-012014-022014-032014-042014-052014-062014-072014-082014-092014-102014-112014-122015-012015-022015-032015-042015-052015-062015-072015-082004-012004-022004-032004-042004-052004-062004-072004-082004-092004-102004-112004-122005-012005-022005-032005-042005-052005-062005-072005-082005-092005-102005-112005-122006-012006-022006-032006-042006-052006-062006-072006-082006-092006-102006-112006-122007-012007-022007-032007-042007-052007-062007-072007-082007-092007-102007-112007-122008-012008-022008-032008-042008-052008-062008-072008-082008-092008-102008-112008-122009-012009-022009-032009-042009-052009-062009-072009-082009-092009-102009-112009-122010-012010-022010-032010-042010-052010-062010-072010-082010-092010-102010-112010-122011-012011-022011-032011-042011-052011-062011-072011-082011-092011-102011-112011-122012-012012-022012-032012-042012-052012-062012-072012-082012-092012-102012-112012-122013-012013-022013-032013-042013-052013-062013-072013-082013-092013-102013-112013-122014-012014-022014-032014-042014-052014-062014-072014-082014-092014-102014-112014-122015-012015-022015-032015-042015-052015-062015-072015-082004-012004-022004-032004-042004-052004-062004-072004-082004-092004-102004-112004-122005-012005-022005-032005-042005-052005-062005-072005-082005-092005-102005-112005-122006-012006-022006-032006-042006-052006-062006-072006-082006-092006-102006-112006-122007-012007-022007-032007-042007-052007-062007-072007-082007-092007-102007-112007-122008-012008-022008-032008-042008-052008-062008-072008-082008-092008-102008-112008-122009-012009-022009-032009-042009-052009-062009-072009-082009-092009-102009-112009-122010-012010-022010-032010-042010-052010-062010-072010-082010-092010-102010-112010-122011-012011-022011-032011-042011-052011-062011-072011-082011-092011-102011-112011-122012-012012-022012-032012-042012-052012-062012-072012-082012-092012-102012-112012-122013-012013-022013-032013-042013-052013-062013-072013-082013-092013-102013-112013-122014-012014-022014-032014-042014-052014-062014-072014-082014-092014-102014-112014-122015-012015-022015-032015-042015-052015-062015-072015-082004-012004-022004-032004-042004-052004-062004-072004-082004-092004-102004-112004-122005-012005-022005-032005-042005-052005-062005-072005-082005-092005-102005-112005-122006-012006-022006-032006-042006-052006-062006-072006-082006-092006-102006-112006-122007-012007-022007-032007-042007-052007-062007-072007-082007-092007-102007-112007-122008-012008-022008-032008-042008-052008-062008-072008-082008-092008-102008-112008-122009-012009-022009-032009-042009-052009-062009-072009-082009-092009-102009-112009-122010-012010-022010-032010-042010-052010-062010-072010-082010-092010-102010-112010-122011-012011-022011-032011-042011-052011-062011-072011-082011-092011-102011-112011-122012-012012-022012-032012-042012-052012-062012-072012-082012-092012-102012-112012-122013-012013-022013-032013-042013-052013-062013-072013-082013-092013-102013-112013-122014-012014-022014-032014-042014-052014-062014-072014-082014-092014-102014-112014-122015-012015-022015-032015-042015-052015-062015-072015-082004-012004-022004-032004-042004-052004-062004-072004-082004-092004-102004-112004-122005-012005-022005-032005-042005-052005-062005-072005-082005-092005-102005-112005-122006-012006-022006-032006-042006-052006-062006-072006-082006-092006-102006-112006-122007-012007-022007-032007-042007-052007-062007-072007-082007-092007-102007-112007-122008-012008-022008-032008-042008-052008-062008-072008-082008-092008-102008-112008-122009-012009-022009-032009-042009-052009-062009-072009-082009-092009-102009-112009-122010-012010-022010-032010-042010-052010-062010-072010-082010-092010-102010-112010-122011-012011-022011-032011-042011-052011-062011-072011-082011-092011-102011-112011-122012-012012-022012-032012-042012-052012-062012-072012-082012-092012-102012-112012-122013-012013-022013-032013-042013-052013-062013-072013-082013-092013-102013-112013-122014-012014-022014-032014-042014-052014-062014-072014-082014-092014-102014-112014-122015-012015-022015-032015-042015-052015-062015-072015-082004-012004-022004-032004-042004-052004-062004-072004-082004-092004-102004-112004-122005-012005-022005-032005-042005-052005-062005-072005-082005-092005-102005-112005-122006-012006-022006-032006-042006-052006-062006-072006-082006-092006-102006-112006-122007-012007-022007-032007-042007-052007-062007-072007-082007-092007-102007-112007-122008-012008-022008-032008-042008-052008-062008-072008-082008-092008-102008-112008-122009-012009-022009-032009-042009-052009-062009-072009-082009-092009-102009-112009-122010-012010-022010-032010-042010-052010-062010-072010-082010-092010-102010-112010-122011-012011-022011-032011-042011-052011-062011-072011-082011-092011-102011-112011-122012-012012-022012-032012-042012-052012-062012-072012-082012-092012-102012-112012-122013-012013-022013-032013-042013-052013-062013-072013-082013-092013-102013-112013-122014-012014-022014-032014-042014-052014-062014-072014-082014-092014-102014-112014-122015-012015-022015-032015-042015-052015-062015-072015-082004-012004-022004-032004-042004-052004-062004-072004-082004-092004-102004-112004-122005-012005-022005-032005-042005-052005-062005-072005-082005-092005-102005-112005-122006-012006-022006-032006-042006-052006-062006-072006-082006-092006-102006-112006-122007-012007-022007-032007-042007-052007-062007-072007-082007-092007-102007-112007-122008-012008-022008-032008-042008-052008-062008-072008-082008-092008-102008-112008-122009-012009-022009-032009-042009-052009-062009-072009-082009-092009-102009-112009-122010-012010-022010-032010-042010-052010-062010-072010-082010-092010-102010-112010-122011-012011-022011-032011-042011-052011-062011-072011-082011-092011-102011-112011-122012-012012-022012-032012-042012-052012-062012-072012-082012-092012-102012-112012-122013-012013-022013-032013-042013-052013-062013-072013-082013-092013-102013-112013-122014-012014-022014-032014-042014-052014-062014-072014-082014-092014-102014-112014-122015-012015-022015-032015-042015-052015-062015-072015-082004-012004-022004-032004-042004-052004-062004-072004-082004-092004-102004-112004-122005-012005-022005-032005-042005-052005-062005-072005-082005-092005-102005-112005-122006-012006-022006-032006-042006-052006-062006-072006-082006-092006-102006-112006-122007-012007-022007-032007-042007-052007-062007-072007-082007-092007-102007-112007-122008-012008-022008-032008-042008-052008-062008-072008-082008-092008-102008-112008-122009-012009-022009-032009-042009-052009-062009-072009-082009-092009-102009-112009-122010-012010-022010-032010-042010-052010-062010-072010-082010-092010-102010-112010-122011-012011-022011-032011-042011-052011-062011-072011-082011-092011-102011-112011-122012-012012-022012-032012-042012-052012-062012-072012-082012-092012-102012-112012-122013-012013-022013-032013-042013-052013-062013-072013-082013-092013-102013-112013-122014-012014-022014-032014-042014-052014-062014-072014-082014-092014-102014-112014-122015-012015-022015-032015-042015-052015-062015-072015-082004-022004-032004-052004-062004-072004-082004-092004-102004-112004-122005-022005-032005-052005-062005-072005-082005-092005-112005-122006-022006-032006-052006-062006-082006-092006-112006-122007-022007-032007-052007-062007-082007-092007-112007-122008-012008-022008-032008-042008-052008-062008-072008-082008-092008-102008-112008-122009-012009-022009-032009-042009-052009-062009-072009-082009-092009-102009-112009-122010-012010-022010-032010-042010-052010-062010-072010-082010-092010-102010-112010-122011-012011-022011-032011-042011-052011-062011-072011-082011-092011-102011-112011-122012-012012-022012-032012-042012-052012-062012-072012-082012-092012-102012-112012-122013-012013-022013-032013-042013-052013-062013-072013-082013-092013-102013-112013-122014-012014-022014-032014-042014-052014-062014-072014-082014-092014-102014-112014-122015-012015-022015-032015-042015-052015-062015-072015-082004-022004-032004-052004-062004-082004-092004-102004-112004-122005-022005-032005-052005-062005-072005-082005-092005-112005-122006-022006-032006-052006-062006-082006-092006-112006-122007-022007-032007-052007-062007-082007-092007-112007-122008-012008-022008-032008-042008-052008-062008-072008-082008-092008-102008-112008-122009-012009-022009-032009-042009-052009-062009-072009-082009-092009-102009-112009-122010-012010-022010-032010-042010-052010-062010-072010-082010-092010-102010-112010-122011-012011-022011-032011-042011-052011-062011-072011-082011-092011-102011-112011-122012-012012-022012-032012-042012-052012-062012-072012-082012-092012-102012-112012-122013-012013-022013-032013-042013-052013-062013-072013-082013-092013-102013-112013-122014-012014-022014-032014-042014-052014-062014-072014-082014-092014-102014-112014-122015-012015-022015-032015-042015-052015-062015-072015-082004-022004-032004-052004-062004-072004-082004-092004-102004-112004-122005-022005-032005-052005-062005-072005-082005-092005-112005-122006-022006-032006-052006-062006-082006-092006-112006-122007-022007-032007-052007-062007-082007-092007-112007-122008-012008-022008-032008-042008-052008-062008-072008-082008-092008-102008-112008-122009-012009-022009-032009-042009-052009-062009-072009-082009-092009-102009-112009-122010-012010-022010-032010-042010-052010-062010-072010-082010-092010-102010-112010-122011-012011-022011-032011-042011-052011-062011-072011-082011-092011-102011-112011-122012-012012-022012-032012-042012-052012-062012-072012-082012-092012-102012-112012-122013-012013-022013-032013-042013-052013-062013-072013-082013-092013-102013-112013-122014-012014-022014-032014-042014-052014-062014-072014-082014-092014-102014-112014-122015-012015-022015-032015-042015-052015-062015-072015-082004-022004-032004-052004-062004-082004-092004-102004-112004-122005-022005-032005-052005-062005-072005-082005-092005-112005-122006-022006-032006-052006-062006-082006-092006-112006-122007-022007-032007-052007-062007-082007-092007-112007-122008-012008-022008-032008-042008-052008-062008-072008-082008-092008-102008-112008-122009-012009-022009-032009-042009-052009-062009-072009-082009-092009-102009-112009-122010-012010-022010-032010-042010-052010-062010-072010-082010-092010-102010-112010-122011-012011-022011-032011-042011-052011-062011-072011-082011-092011-102011-112011-122012-012012-022012-032012-042012-052012-062012-072012-082012-092012-102012-112012-122013-012013-022013-032013-042013-052013-062013-072013-082013-092013-102013-112013-122014-012014-022014-032014-042014-052014-062014-072014-082014-092014-102014-112014-122015-012015-022015-032015-042015-052015-062015-072015-082004-022004-032004-052004-062004-072004-082004-092004-102004-112004-122005-022005-032005-052005-062005-072005-082005-092005-112005-122006-022006-032006-052006-062006-082006-092006-112006-122007-022007-032007-052007-062007-082007-092007-112007-122008-012008-022008-032008-042008-052008-062008-072008-082008-092008-102008-112008-122009-012009-022009-032009-042009-052009-062009-072009-082009-092009-102009-112009-122010-012010-022010-032010-042010-052010-062010-072010-082010-092010-102010-112010-122011-012011-022011-032011-042011-052011-062011-072011-082011-092011-102011-112011-122012-012012-022012-032012-042012-052012-062012-072012-082012-092012-102012-112012-122013-012013-022013-032013-042013-052013-062013-072013-082013-092013-102013-112013-122014-012014-022014-032014-042014-052014-062014-072014-082014-092014-102014-112014-122015-012015-022015-032015-042015-052015-062015-072015-082004-022004-032004-052004-062004-072004-082004-092004-102004-112004-122005-022005-032005-052005-062005-072005-082005-092005-112005-122006-022006-032006-052006-062006-082006-092006-112006-122007-022007-032007-052007-062007-082007-092007-112007-122008-012008-022008-032008-042008-052008-062008-072008-082008-092008-102008-112008-122009-012009-022009-032009-042009-052009-062009-072009-082009-092009-102009-112009-122010-012010-022010-032010-042010-052010-062010-072010-082010-092010-102010-112010-122011-012011-022011-032011-042011-052011-062011-072011-082011-092011-102011-112011-122012-012012-022012-032012-042012-052012-062012-072012-082012-092012-102012-112012-122013-012013-022013-032013-042013-052013-062013-072013-082013-092013-102013-112013-122014-012014-022014-032014-042014-052014-062014-072014-082014-092014-102014-112014-122015-012015-022015-032015-042015-052015-062015-072015-082004-022004-032004-052004-062004-072004-082004-092004-102004-112004-122005-022005-032005-052005-062005-072005-082005-092005-112005-122006-022006-032006-052006-062006-082006-092006-112006-122007-022007-032007-052007-062007-082007-092007-112007-122008-012008-022008-032008-042008-052008-062008-072008-082008-092008-102008-112008-122009-012009-022009-032009-042009-052009-062009-072009-082009-092009-102009-112009-122010-012010-022010-032010-042010-052010-062010-072010-082010-092010-102010-112010-122011-012011-022011-032011-042011-052011-062011-072011-082011-092011-102011-112011-122012-012012-022012-032012-042012-052012-062012-072012-082012-092012-102012-112012-122013-012013-022013-032013-042013-052013-062013-072013-082013-092013-102013-112013-122014-012014-022014-032014-042014-052014-062014-072014-082014-092014-102014-112014-122015-012015-022015-032015-042015-052015-062015-072015-082004-022004-032004-052004-062004-072004-082004-092004-102004-112004-122005-022005-032005-052005-062005-072005-082005-092005-112005-122006-022006-032006-052006-062006-082006-092006-112006-122007-022007-032007-052007-062007-082007-092007-112007-122008-012008-022008-032008-042008-052008-062008-072008-082008-092008-102008-112008-122009-012009-022009-032009-042009-052009-062009-072009-082009-092009-102009-112009-122010-012010-022010-032010-042010-052010-062010-072010-082010-092010-102010-112010-122011-012011-022011-032011-042011-052011-062011-072011-082011-092011-102011-112011-122012-012012-022012-032012-042012-052012-062012-072012-082012-092012-102012-112012-122013-012013-022013-032013-042013-052013-062013-072013-082013-092013-102013-112013-122014-012014-022014-032014-042014-052014-062014-072014-082014-092014-102014-112014-122015-012015-022015-032015-042015-052015-062015-072015-082004-022004-032004-052004-062004-072004-082004-092004-102004-112004-122005-022005-032005-052005-062005-072005-082005-092005-112005-122006-022006-032006-052006-062006-082006-092006-112006-122007-022007-032007-052007-062007-082007-092007-112007-122008-012008-022008-032008-042008-052008-062008-072008-082008-092008-102008-112008-122009-012009-022009-032009-042009-052009-062009-072009-082009-092009-102009-112009-122010-012010-022010-032010-042010-052010-062010-072010-082010-092010-102010-112010-122011-012011-022011-032011-042011-052011-062011-072011-082011-092011-102011-112011-122012-012012-022012-032012-042012-052012-062012-072012-082012-092012-102012-112012-122013-012013-022013-032013-042013-052013-062013-072013-082013-092013-102013-112013-122014-012014-022014-032014-042014-052014-062014-072014-082014-092014-102014-112014-122015-012015-022015-032015-042015-052015-062015-072015-082004-022004-032004-052004-062004-072004-082004-092004-102004-112004-122005-022005-032005-052005-062005-072005-082005-092005-112005-122006-022006-032006-052006-062006-082006-092006-112006-122007-022007-032007-052007-062007-082007-092007-112007-122008-012008-022008-032008-042008-052008-062008-072008-082008-092008-102008-112008-122009-012009-022009-032009-042009-052009-062009-072009-082009-092009-102009-112009-122010-012010-022010-032010-042010-052010-062010-072010-082010-092010-102010-112010-122011-012011-022011-032011-042011-052011-062011-072011-082011-092011-102011-112011-122012-012012-022012-032012-042012-052012-062012-072012-082012-092012-102012-112012-122013-012013-022013-032013-042013-052013-062013-072013-082013-092013-102013-112013-122014-012014-022014-032014-042014-052014-062014-072014-082014-092014-102014-112014-122015-012015-022015-032015-042015-052015-062015-072015-082004-022004-032004-052004-062004-082004-092004-102004-112004-122005-022005-032005-052005-062005-072005-082005-092005-112005-122006-022006-032006-052006-062006-082006-092006-112006-122007-022007-032007-052007-062007-082007-092007-112007-122008-012008-022008-032008-042008-052008-062008-072008-082008-092008-102008-112008-122009-012009-022009-032009-042009-052009-062009-072009-082009-092009-102009-112009-122010-012010-022010-032010-042010-052010-062010-072010-082010-092010-102010-112010-122011-012011-022011-032011-042011-052011-062011-072011-082011-092011-102011-112011-122012-012012-022012-032012-042012-052012-062012-072012-082012-092012-102012-112012-122013-012013-022013-032013-042013-052013-062013-072013-082013-092013-102013-112013-122014-012014-022014-032014-042014-052014-062014-072014-082014-092014-102014-112014-122015-012015-022015-032015-042015-052015-062015-072015-082004-022004-032004-052004-062004-072004-082004-092004-102004-112004-122005-022005-032005-052005-062005-072005-082005-092005-112005-122006-022006-032006-052006-062006-082006-092006-112006-122007-022007-032007-052007-062007-082007-092007-112007-122008-012008-022008-032008-042008-052008-062008-072008-082008-092008-102008-112008-122009-012009-022009-032009-042009-052009-062009-072009-082009-092009-102009-112009-122010-012010-022010-032010-042010-052010-062010-072010-082010-092010-102010-112010-122011-012011-022011-032011-042011-052011-062011-072011-082011-092011-102011-112011-122012-012012-022012-032012-042012-052012-062012-072012-082012-092012-102012-112012-122013-012013-022013-032013-042013-052013-062013-072013-082013-092013-102013-112013-122014-012014-022014-032014-042014-052014-062014-072014-082014-092014-102014-112014-122015-012015-022015-032015-042015-052015-062015-072015-082004-022004-032004-052004-062004-082004-092004-102004-112004-122005-022005-032005-052005-062005-072005-082005-092005-112005-122006-022006-032006-052006-062006-082006-092006-112006-122007-022007-032007-052007-062007-082007-092007-112007-122008-012008-022008-032008-042008-052008-062008-072008-082008-092008-102008-112008-122009-012009-022009-032009-042009-052009-062009-072009-082009-092009-102009-112009-122010-012010-022010-032010-042010-052010-062010-072010-082010-092010-102010-112010-122011-012011-022011-032011-042011-052011-062011-072011-082011-092011-102011-112011-122012-012012-022012-032012-042012-052012-062012-072012-082012-092012-102012-112012-122013-012013-022013-032013-042013-052013-062013-072013-082013-092013-102013-112013-122014-012014-022014-032014-042014-052014-062014-072014-082014-092014-102014-112014-122015-012015-022015-032015-042015-052015-062015-072015-082004-022004-032004-052004-062004-072004-082004-092004-102004-112004-122005-022005-032005-052005-062005-072005-082005-092005-112005-122006-022006-032006-052006-062006-082006-092006-112006-122007-022007-032007-052007-062007-082007-092007-112007-122008-012008-022008-032008-042008-052008-062008-072008-082008-092008-102008-112008-122009-012009-022009-032009-042009-052009-062009-072009-082009-092009-102009-112009-122010-012010-022010-032010-042010-052010-062010-072010-082010-092010-102010-112010-122011-012011-022011-032011-042011-052011-062011-072011-082011-092011-102011-112011-122012-012012-022012-032012-042012-052012-062012-072012-082012-092012-102012-112012-122013-012013-022013-032013-042013-052013-062013-072013-082013-092013-102013-112013-122014-012014-022014-032014-042014-052014-062014-072014-082014-092014-102014-112014-122015-012015-022015-032015-042015-052015-062015-072015-082004-022004-032004-052004-062004-072004-082004-092004-102004-112004-122005-022005-032005-052005-062005-072005-082005-092005-112005-122006-022006-032006-052006-062006-082006-092006-112006-122007-022007-032007-052007-062007-082007-092007-112007-122008-012008-022008-032008-042008-052008-062008-072008-082008-092008-102008-112008-122009-012009-022009-032009-042009-052009-062009-072009-082009-092009-102009-112009-122010-012010-022010-032010-042010-052010-062010-072010-082010-092010-102010-112010-122011-012011-022011-032011-042011-052011-062011-072011-082011-092011-102011-112011-122012-012012-022012-032012-042012-052012-062012-072012-082012-092012-102012-112012-122013-012013-022013-032013-042013-052013-062013-072013-082013-092013-102013-112013-122014-012014-022014-032014-042014-052014-062014-072014-082014-092014-102014-112014-122015-012015-022015-032015-042015-052015-062015-072015-082004-022004-032004-052004-062004-072004-082004-092004-102004-112004-122005-022005-032005-052005-062005-072005-082005-092005-112005-122006-022006-032006-052006-062006-082006-092006-112006-122007-022007-032007-052007-062007-082007-092007-112007-122008-012008-022008-032008-042008-052008-062008-072008-082008-092008-102008-112008-122009-012009-022009-032009-042009-052009-062009-072009-082009-092009-102009-112009-122010-012010-022010-032010-042010-052010-062010-072010-082010-092010-102010-112010-122011-012011-022011-032011-042011-052011-062011-072011-082011-092011-102011-112011-122012-012012-022012-032012-042012-052012-062012-072012-082012-092012-102012-112012-122013-012013-022013-032013-042013-052013-062013-072013-082013-092013-102013-112013-122014-012014-022014-032014-042014-052014-062014-072014-082014-092014-102014-112014-122015-012015-022015-032015-042015-052015-062015-072015-082004-022004-032004-052004-062004-072004-082004-092004-102004-112004-122005-022005-032005-052005-062005-072005-082005-092005-112005-122006-022006-032006-052006-062006-082006-092006-112006-122007-022007-032007-052007-062007-082007-092007-112007-122008-012008-022008-032008-042008-052008-062008-072008-082008-092008-102008-112008-122009-012009-022009-032009-042009-052009-062009-072009-082009-092009-102009-112009-122010-012010-022010-032010-042010-052010-062010-072010-082010-092010-102010-112010-122011-012011-022011-032011-042011-052011-062011-072011-082011-092011-102011-112011-122012-012012-022012-032012-042012-052012-062012-072012-082012-092012-102012-112012-122013-012013-022013-032013-042013-052013-062013-072013-082013-092013-102013-112013-122014-012014-022014-032014-042014-052014-062014-072014-082014-092014-102014-112014-122015-012015-022015-032015-042015-052015-062015-072015-082004-022004-032004-052004-062004-072004-082004-092004-102004-112004-122005-022005-032005-052005-062005-072005-082005-092005-112005-122006-022006-032006-052006-062006-082006-092006-112006-122007-022007-032007-052007-062007-082007-092007-112007-122008-012008-022008-032008-042008-052008-062008-072008-082008-092008-102008-112008-122009-012009-022009-032009-042009-052009-062009-072009-082009-092009-102009-112009-122010-012010-022010-032010-042010-052010-062010-072010-082010-092010-102010-112010-122011-012011-022011-032011-042011-052011-062011-072011-082011-092011-102011-112011-122012-012012-022012-032012-042012-052012-062012-072012-082012-092012-102012-112012-122013-012013-022013-032013-042013-052013-062013-072013-082013-092013-102013-112013-122014-012014-022014-032014-042014-052014-062014-072014-082014-092014-102014-112014-122015-012015-022015-032015-042015-052015-062015-072015-082004-012004-022004-032004-042004-052004-062004-072004-082004-092004-102004-112004-122005-012005-022005-032005-042005-052005-062005-072005-082005-092005-102005-112005-122006-012006-022006-032006-042006-052006-062006-072006-082006-092006-102006-112006-122007-012007-022007-032007-042007-052007-062007-072007-082007-092007-102007-112007-122008-012008-022008-032008-042008-052008-062008-072008-082008-092008-102008-112008-122009-012009-022009-032009-042009-052009-062009-072009-082009-092009-102009-112009-122010-012010-022010-032010-042010-052010-062010-072010-082010-092010-102010-112010-122011-012011-022011-032011-042011-052011-062011-072011-082011-092011-102011-112011-122012-012012-022012-032012-042012-052012-062012-072012-082012-092012-102012-112012-122013-012013-022013-032013-042013-052013-062013-072013-082013-092013-102013-112013-122014-012014-022014-032014-042014-052014-062014-072014-082014-092014-102014-112014-122015-012015-022015-032015-042015-052015-062015-072015-082004-012004-022004-032004-042004-052004-062004-072004-082004-092004-102004-112004-122005-012005-022005-032005-042005-052005-062005-072005-082005-092005-102005-112005-122006-012006-022006-032006-042006-052006-062006-072006-082006-092006-102006-112006-122007-012007-022007-032007-042007-052007-062007-072007-082007-092007-102007-112007-122008-012008-022008-032008-042008-052008-062008-072008-082008-092008-102008-112008-122009-012009-022009-032009-042009-052009-062009-072009-082009-092009-102009-112009-122010-012010-022010-032010-042010-052010-062010-072010-082010-092010-102010-112010-122011-012011-022011-032011-042011-052011-062011-072011-082011-092011-102011-112011-122012-012012-022012-032012-042012-052012-062012-072012-082012-092012-102012-112012-122013-012013-022013-032013-042013-052013-062013-072013-082013-092013-102013-112013-122014-012014-022014-032014-042014-052014-062014-072014-082014-092014-102014-112014-122015-012015-022015-032015-042015-052015-062015-072015-082004-012004-022004-032004-042004-052004-062004-072004-082004-092004-102004-112004-122005-012005-022005-032005-042005-052005-062005-072005-082005-092005-102005-112005-122006-012006-022006-032006-042006-052006-062006-072006-082006-092006-102006-112006-122007-012007-022007-032007-042007-052007-062007-072007-082007-092007-102007-112007-122008-012008-022008-032008-042008-052008-062008-072008-082008-092008-102008-112008-122009-012009-022009-032009-042009-052009-062009-072009-082009-092009-102009-112009-122010-012010-022010-032010-042010-052010-062010-072010-082010-092010-102010-112010-122011-012011-022011-032011-042011-052011-062011-072011-082011-092011-102011-112011-122012-012012-022012-032012-042012-052012-062012-072012-082012-092012-102012-112012-122013-012013-022013-032013-042013-052013-062013-072013-082013-092013-102013-112013-122014-012014-022014-032014-042014-052014-062014-072014-082014-092014-102014-112014-122015-012015-022015-032015-042015-052015-062015-072015-082004-012004-022004-032004-042004-052004-062004-072004-082004-092004-102004-112004-122005-012005-022005-032005-042005-052005-062005-072005-082005-092005-102005-112005-122006-012006-022006-032006-042006-052006-062006-072006-082006-092006-102006-112006-122007-012007-022007-032007-042007-052007-062007-072007-082007-092007-102007-112007-122008-012008-022008-032008-042008-052008-062008-072008-082008-092008-102008-112008-122009-012009-022009-032009-042009-052009-062009-072009-082009-092009-102009-112009-122010-012010-022010-032010-042010-052010-062010-072010-082010-092010-102010-112010-122011-012011-022011-032011-042011-052011-062011-072011-082011-092011-102011-112011-122012-012012-022012-032012-042012-052012-062012-072012-082012-092012-102012-112012-122013-012013-022013-032013-042013-052013-062013-072013-082013-092013-102013-112013-122014-012014-022014-032014-042014-052014-062014-072014-082014-092014-102014-112014-122015-012015-022015-032015-042015-052015-062015-072015-082004-012004-022004-032004-042004-052004-062004-072004-082004-092004-102004-112004-122005-012005-022005-032005-042005-052005-062005-072005-082005-092005-102005-112005-122006-012006-022006-032006-042006-052006-062006-072006-082006-092006-102006-112006-122007-012007-022007-032007-042007-052007-062007-072007-082007-092007-102007-112007-122008-012008-022008-032008-042008-052008-062008-072008-082008-092008-102008-112008-122009-012009-022009-032009-042009-052009-062009-072009-082009-092009-102009-112009-122010-012010-022010-032010-042010-052010-062010-072010-082010-092010-102010-112010-122011-012011-022011-032011-042011-052011-062011-072011-082011-092011-102011-112011-122012-012012-022012-032012-042012-052012-062012-072012-082012-092012-102012-112012-122013-012013-022013-032013-042013-052013-062013-072013-082013-092013-102013-112013-122014-012014-022014-032014-042014-052014-062014-072014-082014-092014-102014-112014-122015-012015-022015-032015-042015-052015-062015-072015-082004-012004-022004-032004-042004-052004-062004-072004-082004-092004-102004-112004-122005-012005-022005-032005-042005-052005-062005-072005-082005-092005-102005-112005-122006-012006-022006-032006-042006-052006-062006-072006-082006-092006-102006-112006-122007-012007-022007-032007-042007-052007-062007-072007-082007-092007-102007-112007-122008-012008-022008-032008-042008-052008-062008-072008-082008-092008-102008-112008-122009-012009-022009-032009-042009-052009-062009-072009-082009-092009-102009-112009-122010-012010-022010-032010-042010-052010-062010-072010-082010-092010-102010-112010-122011-012011-022011-032011-042011-052011-062011-072011-082011-092011-102011-112011-122012-012012-022012-032012-042012-052012-062012-072012-082012-092012-102012-112012-122013-012013-022013-032013-042013-052013-062013-072013-082013-092013-102013-112013-122014-012014-022014-032014-042014-052014-062014-072014-082014-092014-102014-112014-122015-012015-022015-032015-042015-052015-062015-072015-082004-012004-022004-032004-042004-052004-062004-072004-082004-092004-102004-112004-122005-012005-022005-032005-042005-052005-062005-072005-082005-092005-102005-112005-122006-012006-022006-032006-042006-052006-062006-072006-082006-092006-102006-112006-122007-012007-022007-032007-042007-052007-062007-072007-082007-092007-102007-112007-122008-012008-022008-032008-042008-052008-062008-072008-082008-092008-102008-112008-122009-012009-022009-032009-042009-052009-062009-072009-082009-092009-102009-112009-122010-012010-022010-032010-042010-052010-062010-072010-082010-092010-102010-112010-122011-012011-022011-032011-042011-052011-062011-072011-082011-092011-102011-112011-122012-012012-022012-032012-042012-052012-062012-072012-082012-092012-102012-112012-122013-012013-022013-032013-042013-052013-062013-072013-082013-092013-102013-112013-122014-012014-022014-032014-042014-052014-062014-072014-082014-092014-102014-112014-122015-012015-022015-032015-042015-052015-062015-072015-082004-012004-022004-032004-042004-052004-062004-072004-082004-092004-102004-112004-122005-012005-022005-032005-042005-052005-062005-072005-082005-092005-102005-112005-122006-012006-022006-032006-042006-052006-062006-072006-082006-092006-102006-112006-122007-012007-022007-032007-042007-052007-062007-072007-082007-092007-102007-112007-122008-012008-022008-032008-042008-052008-062008-072008-082008-092008-102008-112008-122009-012009-022009-032009-042009-052009-062009-072009-082009-092009-102009-112009-122010-012010-022010-032010-042010-052010-062010-072010-082010-092010-102010-112010-122011-012011-022011-032011-042011-052011-062011-072011-082011-092011-102011-112011-122012-012012-022012-032012-042012-052012-062012-072012-082012-092012-102012-112012-122013-012013-022013-032013-042013-052013-062013-072013-082013-092013-102013-112013-122014-012014-022014-032014-042014-052014-062014-072014-082014-092014-102014-112014-122015-012015-022015-032015-042015-052015-062015-072015-082004-012004-022004-032004-042004-052004-062004-072004-082004-092004-102004-112004-122005-012005-022005-032005-042005-052005-062005-072005-082005-092005-102005-112005-122006-012006-022006-032006-042006-052006-062006-072006-082006-092006-102006-112006-122007-012007-022007-032007-042007-052007-062007-072007-082007-092007-102007-112007-122008-012008-022008-032008-042008-052008-062008-072008-082008-092008-102008-112008-122009-012009-022009-032009-042009-052009-062009-072009-082009-092009-102009-112009-122010-012010-022010-032010-042010-052010-062010-072010-082010-092010-102010-112010-122011-012011-022011-032011-042011-052011-062011-072011-082011-092011-102011-112011-122012-012012-022012-032012-042012-052012-062012-072012-082012-092012-102012-112012-122013-012013-022013-032013-042013-052013-062013-072013-082013-092013-102013-112013-122014-012014-022014-032014-042014-052014-062014-072014-082014-092014-102014-112014-122015-012015-022015-032015-042015-052015-062015-072015-082004-012004-022004-032004-042004-052004-062004-072004-082004-092004-102004-112004-122005-012005-022005-032005-042005-052005-062005-072005-082005-092005-102005-112005-122006-012006-022006-032006-042006-052006-062006-072006-082006-092006-102006-112006-122007-012007-022007-032007-042007-052007-062007-072007-082007-092007-102007-112007-122008-012008-022008-032008-042008-052008-062008-072008-082008-092008-102008-112008-122009-012009-022009-032009-042009-052009-062009-072009-082009-092009-102009-112009-122010-012010-022010-032010-042010-052010-062010-072010-082010-092010-102010-112010-122011-012011-022011-032011-042011-052011-062011-072011-082011-092011-102011-112011-122012-012012-022012-032012-042012-052012-062012-072012-082012-092012-102012-112012-122013-012013-022013-032013-042013-052013-062013-072013-082013-092013-102013-112013-122014-012014-022014-032014-042014-052014-062014-072014-082014-092014-102014-112014-122015-012015-022015-032015-042015-052015-062015-072015-082004-012004-022004-032004-042004-052004-062004-072004-082004-092004-102004-112004-122005-012005-022005-032005-042005-052005-062005-072005-082005-092005-102005-112005-122006-012006-022006-032006-042006-052006-062006-072006-082006-092006-102006-112006-122007-012007-022007-032007-042007-052007-062007-072007-082007-092007-102007-112007-122008-012008-022008-032008-042008-052008-062008-072008-082008-092008-102008-112008-122009-012009-022009-032009-042009-052009-062009-072009-082009-092009-102009-112009-122010-012010-022010-032010-042010-052010-062010-072010-082010-092010-102010-112010-122011-012011-022011-032011-042011-052011-062011-072011-082011-092011-102011-112011-122012-012012-022012-032012-042012-052012-062012-072012-082012-092012-102012-112012-122013-012013-022013-032013-042013-052013-062013-072013-082013-092013-102013-112013-122014-012014-022014-032014-042014-052014-062014-072014-082014-092014-102014-112014-122015-012015-022015-032015-042015-052015-062015-072015-082004-012004-022004-032004-042004-052004-062004-072004-082004-092004-102004-112004-122005-012005-022005-032005-042005-052005-062005-072005-082005-092005-102005-112005-122006-012006-022006-032006-042006-052006-062006-072006-082006-092006-102006-112006-122007-012007-022007-032007-042007-052007-062007-072007-082007-092007-102007-112007-122008-012008-022008-032008-042008-052008-062008-072008-082008-092008-102008-112008-122009-012009-022009-032009-042009-052009-062009-072009-082009-092009-102009-112009-122010-012010-022010-032010-042010-052010-062010-072010-082010-092010-102010-112010-122011-012011-022011-032011-042011-052011-062011-072011-082011-092011-102011-112011-122012-012012-022012-032012-042012-052012-062012-072012-082012-092012-102012-112012-122013-012013-022013-032013-042013-052013-062013-072013-082013-092013-102013-112013-122014-012014-022014-032014-042014-052014-062014-072014-082014-092014-102014-112014-122015-012015-022015-032015-042015-052015-062015-072015-082004-012004-022004-032004-042004-052004-062004-072004-082004-092004-102004-112004-122005-012005-022005-032005-042005-052005-062005-072005-082005-092005-102005-112005-122006-012006-022006-032006-042006-052006-062006-072006-082006-092006-102006-112006-122007-012007-022007-032007-042007-052007-062007-072007-082007-092007-102007-112007-122008-012008-022008-032008-042008-052008-062008-072008-082008-092008-102008-112008-122009-012009-022009-032009-042009-052009-062009-072009-082009-092009-102009-112009-122010-012010-022010-032010-042010-052010-062010-072010-082010-092010-102010-112010-122011-012011-022011-032011-042011-052011-062011-072011-082011-092011-102011-112011-122012-012012-022012-032012-042012-052012-062012-072012-082012-092012-102012-112012-122013-012013-022013-032013-042013-052013-062013-072013-082013-092013-102013-112013-122014-012014-022014-032014-042014-052014-062014-072014-082014-092014-102014-112014-122015-012015-022015-032015-042015-052015-062015-072015-082004-012004-022004-032004-042004-052004-062004-072004-082004-092004-102004-112004-122005-012005-022005-032005-042005-052005-062005-072005-082005-092005-102005-112005-122006-012006-022006-032006-042006-052006-062006-072006-082006-092006-102006-112006-122007-012007-022007-032007-042007-052007-062007-072007-082007-092007-102007-112007-122008-012008-022008-032008-042008-052008-062008-072008-082008-092008-102008-112008-122009-012009-022009-032009-042009-052009-062009-072009-082009-092009-102009-112009-122010-012010-022010-032010-042010-052010-062010-072010-082010-092010-102010-112010-122011-012011-022011-032011-042011-052011-062011-072011-082011-092011-102011-112011-122012-012012-022012-032012-042012-052012-062012-072012-082012-092012-102012-112012-122013-012013-022013-032013-042013-052013-062013-072013-082013-092013-102013-112013-122014-012014-022014-032014-042014-052014-062014-072014-082014-092014-102014-112014-122015-012015-022015-032015-042015-052015-062015-072015-082004-012004-022004-032004-042004-052004-062004-072004-082004-092004-102004-112004-122005-012005-022005-032005-042005-052005-062005-072005-082005-092005-102005-112005-122006-012006-022006-032006-042006-052006-062006-072006-082006-092006-102006-112006-122007-012007-022007-032007-042007-052007-062007-072007-082007-092007-102007-112007-122008-012008-022008-032008-042008-052008-062008-072008-082008-092008-102008-112008-122009-012009-022009-032009-042009-052009-062009-072009-082009-092009-102009-112009-122010-012010-022010-032010-042010-052010-062010-072010-082010-092010-102010-112010-122011-012011-022011-032011-042011-052011-062011-072011-082011-092011-102011-112011-122012-012012-022012-032012-042012-052012-062012-072012-082012-092012-102012-112012-122013-012013-022013-032013-042013-052013-062013-072013-082013-092013-102013-112013-122014-012014-022014-032014-042014-052014-062014-072014-082014-092014-102014-112014-122015-012015-022015-032015-042015-052015-062015-072015-082004-012004-022004-032004-042004-052004-062004-072004-082004-092004-102004-112004-122005-012005-022005-032005-042005-052005-062005-072005-082005-092005-102005-112005-122006-012006-022006-032006-042006-052006-062006-072006-082006-092006-102006-112006-122007-012007-022007-032007-042007-052007-062007-072007-082007-092007-102007-112007-122008-012008-022008-032008-042008-052008-062008-072008-082008-092008-102008-112008-122009-012009-022009-032009-042009-052009-062009-072009-082009-092009-102009-112009-122010-012010-022010-032010-042010-052010-062010-072010-082010-092010-102010-112010-122011-012011-022011-032011-042011-052011-062011-072011-082011-092011-102011-112011-122012-012012-022012-032012-042012-052012-062012-072012-082012-092012-102012-112012-122013-012013-022013-032013-042013-052013-062013-072013-082013-092013-102013-112013-122014-012014-022014-032014-042014-052014-062014-072014-082014-092014-102014-112014-122015-012015-022015-032015-042015-052015-062015-072015-082004-012004-022004-032004-042004-052004-062004-072004-082004-092004-102004-112004-122005-012005-022005-032005-042005-052005-062005-072005-082005-092005-102005-112005-122006-012006-022006-032006-042006-052006-062006-072006-082006-092006-102006-112006-122007-012007-022007-032007-042007-052007-062007-072007-082007-092007-102007-112007-122008-012008-022008-032008-042008-052008-062008-072008-082008-092008-102008-112008-122009-012009-022009-032009-042009-052009-062009-072009-082009-092009-102009-112009-122010-012010-022010-032010-042010-052010-062010-072010-082010-092010-102010-112010-122011-012011-022011-032011-042011-052011-062011-072011-082011-092011-102011-112011-122012-012012-022012-032012-042012-052012-062012-072012-082012-092012-102012-112012-122013-012013-022013-032013-042013-052013-062013-072013-082013-092013-102013-112013-122014-012014-022014-032014-042014-052014-062014-072014-082014-092014-102014-112014-122015-012015-022015-032015-042015-052015-062015-072015-082004-012004-022004-032004-042004-052004-062004-072004-082004-092004-102004-112004-122005-012005-022005-032005-042005-052005-062005-072005-082005-092005-102005-112005-122006-012006-022006-032006-042006-052006-062006-072006-082006-092006-102006-112006-122007-012007-022007-032007-042007-052007-062007-072007-082007-092007-102007-112007-122008-012008-022008-032008-042008-052008-062008-072008-082008-092008-102008-112008-122009-012009-022009-032009-042009-052009-062009-072009-082009-092009-102009-112009-122010-012010-022010-032010-042010-052010-062010-072010-082010-092010-102010-112010-122011-012011-022011-032011-042011-052011-062011-072011-082011-092011-102011-112011-122012-012012-022012-032012-042012-052012-062012-072012-082012-092012-102012-112012-122013-012013-022013-032013-042013-052013-062013-072013-082013-092013-102013-112013-122014-012014-022014-032014-042014-052014-062014-072014-082014-092014-102014-112014-122015-012015-022015-032015-042015-052015-062015-072015-082004-012004-022004-032004-042004-052004-062004-072004-082004-092004-102004-112004-122005-012005-022005-032005-042005-052005-062005-072005-082005-092005-102005-112005-122006-012006-022006-032006-042006-052006-062006-072006-082006-092006-102006-112006-122007-012007-022007-032007-042007-052007-062007-072007-082007-092007-102007-112007-122008-012008-022008-032008-042008-052008-062008-072008-082008-092008-102008-112008-122009-012009-022009-032009-042009-052009-062009-072009-082009-092009-102009-112009-122010-012010-022010-032010-042010-052010-062010-072010-082010-092010-102010-112010-122011-012011-022011-032011-042011-052011-062011-072011-082011-092011-102011-112011-122012-012012-022012-032012-042012-052012-062012-072012-082012-092012-102012-112012-122013-012013-022013-032013-042013-052013-062013-072013-082013-092013-102013-112013-122014-012014-022014-032014-042014-052014-062014-072014-082014-092014-102014-112014-122015-012015-022015-032015-042015-052015-062015-072015-082004-012004-022004-032004-042004-052004-062004-072004-082004-092004-102004-112004-122005-012005-022005-032005-042005-052005-062005-072005-082005-092005-102005-112005-122006-012006-022006-032006-042006-052006-062006-072006-082006-092006-102006-112006-122007-012007-022007-032007-042007-052007-062007-072007-082007-092007-102007-112007-122008-012008-022008-032008-042008-052008-062008-072008-082008-092008-102008-112008-122009-012009-022009-032009-042009-052009-062009-072009-082009-092009-102009-112009-122010-012010-022010-032010-042010-052010-062010-072010-082010-092010-102010-112010-122011-012011-022011-032011-042011-052011-062011-072011-082011-092011-102011-112011-122012-012012-022012-032012-042012-052012-062012-072012-082012-092012-102012-112012-122013-012013-022013-032013-042013-052013-062013-072013-082013-092013-102013-112013-122014-012014-022014-032014-042014-052014-062014-072014-082014-092014-102014-112014-122015-012015-022015-032015-042015-052015-062015-072015-082004-012004-022004-032004-042004-052004-062004-072004-082004-092004-102004-112004-122005-012005-022005-032005-042005-052005-062005-072005-082005-092005-102005-112005-122006-012006-022006-032006-042006-052006-062006-072006-082006-092006-102006-112006-122007-012007-022007-032007-042007-052007-062007-072007-082007-092007-102007-112007-122008-012008-022008-032008-042008-052008-062008-072008-082008-092008-102008-112008-122009-012009-022009-032009-042009-052009-062009-072009-082009-092009-102009-112009-122010-012010-022010-032010-042010-052010-062010-072010-082010-092010-102010-112010-122011-012011-022011-032011-042011-052011-062011-072011-082011-092011-102011-112011-122012-012012-022012-032012-042012-052012-062012-072012-082012-092012-102012-112012-122013-012013-022013-032013-042013-052013-062013-072013-082013-092013-102013-112013-122014-012014-022014-032014-042014-052014-062014-072014-082014-092014-102014-112014-122015-012015-022015-032015-042015-052015-062015-072015-082004-012004-022004-032004-042004-052004-062004-072004-082004-092004-102004-112004-122005-012005-022005-032005-042005-052005-062005-072005-082005-092005-102005-112005-122006-012006-022006-032006-042006-052006-062006-072006-082006-092006-102006-112006-122007-012007-022007-032007-042007-052007-062007-072007-082007-092007-102007-112007-122008-012008-022008-032008-042008-052008-062008-072008-082008-092008-102008-112008-122009-012009-022009-032009-042009-052009-062009-072009-082009-092009-102009-112009-122010-012010-022010-032010-042010-052010-062010-072010-082010-092010-102010-112010-122011-012011-022011-032011-042011-052011-062011-072011-082011-092011-102011-112011-122012-012012-022012-032012-042012-052012-062012-072012-082012-092012-102012-112012-122013-012013-022013-032013-042013-052013-062013-072013-082013-092013-102013-112013-122014-012014-022014-032014-042014-052014-062014-072014-082014-092014-102014-112014-122015-012015-022015-032015-042015-052015-062015-072015-082004-012004-022004-032004-042004-052004-062004-072004-082004-092004-102004-112004-122005-012005-022005-032005-042005-052005-062005-072005-082005-092005-102005-112005-122006-012006-022006-032006-042006-052006-062006-072006-082006-092006-102006-112006-122007-012007-022007-032007-042007-052007-062007-072007-082007-092007-102007-112007-122008-012008-022008-032008-042008-052008-062008-072008-082008-092008-102008-112008-122009-012009-022009-032009-042009-052009-062009-072009-082009-092009-102009-112009-122010-012010-022010-032010-042010-052010-062010-072010-082010-092010-102010-112010-122011-012011-022011-032011-042011-052011-062011-072011-082011-092011-102011-112011-122012-012012-022012-032012-042012-052012-062012-072012-082012-092012-102012-112012-122013-012013-022013-032013-042013-052013-062013-072013-082013-092013-102013-112013-122014-012014-022014-032014-042014-052014-062014-072014-082014-092014-102014-112014-122015-012015-022015-032015-042015-052015-062015-072015-082004-012004-022004-032004-042004-052004-062004-072004-082004-092004-102004-112004-122005-012005-022005-032005-042005-052005-062005-072005-082005-092005-102005-112005-122006-012006-022006-032006-042006-052006-062006-072006-082006-092006-102006-112006-122007-012007-022007-032007-042007-052007-062007-072007-082007-092007-102007-112007-122008-012008-022008-032008-042008-052008-062008-072008-082008-092008-102008-112008-122009-012009-022009-032009-042009-052009-062009-072009-082009-092009-102009-112009-122010-012010-022010-032010-042010-052010-062010-072010-082010-092010-102010-112010-122011-012011-022011-032011-042011-052011-062011-072011-082011-092011-102011-112011-122012-012012-022012-032012-042012-052012-062012-072012-082012-092012-102012-112012-122013-012013-022013-032013-042013-052013-062013-072013-082013-092013-102013-112013-122014-012014-022014-032014-042014-052014-062014-072014-082014-092014-102014-112014-122015-012015-022015-032015-042015-052015-062015-072015-082004-012004-022004-032004-042004-052004-062004-072004-082004-092004-102004-112004-122005-012005-022005-032005-042005-052005-062005-072005-082005-092005-102005-112005-122006-012006-022006-032006-042006-052006-062006-072006-082006-092006-102006-112006-122007-012007-022007-032007-042007-052007-062007-072007-082007-092007-102007-112007-122008-012008-022008-032008-042008-052008-062008-072008-082008-092008-102008-112008-122009-012009-022009-032009-042009-052009-062009-072009-082009-092009-102009-112009-122010-012010-022010-032010-042010-052010-062010-072010-082010-092010-102010-112010-122011-012011-022011-032011-042011-052011-062011-072011-082011-092011-102011-112011-122012-012012-022012-032012-042012-052012-062012-072012-082012-092012-102012-112012-122013-012013-022013-032013-042013-052013-062013-072013-082013-092013-102013-112013-122014-012014-022014-032014-042014-052014-062014-072014-082014-092014-102014-112014-122015-012015-022015-032015-042015-052015-062015-072015-082004-012004-022004-032004-042004-052004-062004-072004-082004-092004-102004-112004-122005-012005-022005-032005-042005-052005-062005-072005-082005-092005-102005-112005-122006-012006-022006-032006-042006-052006-062006-072006-082006-092006-102006-112006-122007-012007-022007-032007-042007-052007-062007-072007-082007-092007-102007-112007-122008-012008-022008-032008-042008-052008-062008-072008-082008-092008-102008-112008-122009-012009-022009-032009-042009-052009-062009-072009-082009-092009-102009-112009-122010-012010-022010-032010-042010-052010-062010-072010-082010-092010-102010-112010-122011-012011-022011-032011-042011-052011-062011-072011-082011-092011-102011-112011-122012-012012-022012-032012-042012-052012-062012-072012-082012-092012-102012-112012-122013-012013-022013-032013-042013-052013-062013-072013-082013-092013-102013-112013-122014-012014-022014-032014-042014-052014-062014-072014-082014-092014-102014-112014-122015-012015-022015-032015-042015-052015-062015-072015-082004-012004-022004-032004-042004-052004-062004-072004-082004-092004-102004-112004-122005-012005-022005-032005-042005-052005-062005-072005-082005-092005-102005-112005-122006-012006-022006-032006-042006-052006-062006-072006-082006-092006-102006-112006-122007-012007-022007-032007-042007-052007-062007-072007-082007-092007-102007-112007-122008-012008-022008-032008-042008-052008-062008-072008-082008-092008-102008-112008-122009-012009-022009-032009-042009-052009-062009-072009-082009-092009-102009-112009-122010-012010-022010-032010-042010-052010-062010-072010-082010-092010-102010-112010-122011-012011-022011-032011-042011-052011-062011-072011-082011-092011-102011-112011-122012-012012-022012-032012-042012-052012-062012-072012-082012-092012-102012-112012-122013-012013-022013-032013-042013-052013-062013-072013-082013-092013-102013-112013-122014-012014-022014-032014-042014-052014-062014-072014-082014-092014-102014-112014-122015-012015-022015-032015-042015-052015-062015-072015-082004-012004-022004-032004-042004-052004-062004-072004-082004-092004-102004-112004-122005-012005-022005-032005-042005-052005-062005-072005-082005-092005-102005-112005-122006-012006-022006-032006-042006-052006-062006-072006-082006-092006-102006-112006-122007-012007-022007-032007-042007-052007-062007-072007-082007-092007-102007-112007-122008-012008-022008-032008-042008-052008-062008-072008-082008-092008-102008-112008-122009-012009-022009-032009-042009-052009-062009-072009-082009-092009-102009-112009-122010-012010-022010-032010-042010-052010-062010-072010-082010-092010-102010-112010-122011-012011-022011-032011-042011-052011-062011-072011-082011-092011-102011-112011-122012-012012-022012-032012-042012-052012-062012-072012-082012-092012-102012-112012-122013-012013-022013-032013-042013-052013-062013-072013-082013-092013-102013-112013-122014-012014-022014-032014-042014-052014-062014-072014-082014-092014-102014-112014-122015-012015-022015-032015-042015-052015-062015-072015-082004-012004-022004-032004-042004-052004-062004-072004-082004-092004-102004-112004-122005-012005-022005-032005-042005-052005-062005-072005-082005-092005-102005-112005-122006-012006-022006-032006-042006-052006-062006-072006-082006-092006-102006-112006-122007-012007-022007-032007-042007-052007-062007-072007-082007-092007-102007-112007-122008-012008-022008-032008-042008-052008-062008-072008-082008-092008-102008-112008-122009-012009-022009-032009-042009-052009-062009-072009-082009-092009-102009-112009-122010-012010-022010-032010-042010-052010-062010-072010-082010-092010-102010-112010-122011-012011-022011-032011-042011-052011-062011-072011-082011-092011-102011-112011-122012-012012-022012-032012-042012-052012-062012-072012-082012-092012-102012-112012-122013-012013-022013-032013-042013-052013-062013-072013-082013-092013-102013-112013-122014-012014-022014-032014-042014-052014-062014-072014-082014-092014-102014-112014-122015-012015-022015-032015-042015-052015-062015-072015-082004-012004-022004-032004-042004-052004-062004-072004-082004-092004-102004-112004-122005-012005-022005-032005-042005-052005-062005-072005-082005-092005-102005-112005-122006-012006-022006-032006-042006-052006-062006-072006-082006-092006-102006-112006-122007-012007-022007-032007-042007-052007-062007-072007-082007-092007-102007-112007-122008-012008-022008-032008-042008-052008-062008-072008-082008-092008-102008-112008-122009-012009-022009-032009-042009-052009-062009-072009-082009-092009-102009-112009-122010-012010-022010-032010-042010-052010-062010-072010-082010-092010-102010-112010-122011-012011-022011-032011-042011-052011-062011-072011-082011-092011-102011-112011-122012-012012-022012-032012-042012-052012-062012-072012-082012-092012-102012-112012-122013-012013-022013-032013-042013-052013-062013-072013-082013-092013-102013-112013-122014-012014-022014-032014-042014-052014-062014-072014-082014-092014-102014-112014-122015-012015-022015-032015-042015-052015-062015-072015-082004-012004-022004-032004-042004-052004-062004-072004-082004-092004-102004-112004-122005-012005-022005-032005-042005-052005-062005-072005-082005-092005-102005-112005-122006-012006-022006-032006-042006-052006-062006-072006-082006-092006-102006-112006-122007-012007-022007-032007-042007-052007-062007-072007-082007-092007-102007-112007-122008-012008-022008-032008-042008-052008-062008-072008-082008-092008-102008-112008-122009-012009-022009-032009-042009-052009-062009-072009-082009-092009-102009-112009-122010-012010-022010-032010-042010-052010-062010-072010-082010-092010-102010-112010-122011-012011-022011-032011-042011-052011-062011-072011-082011-092011-102011-112011-122012-012012-022012-032012-042012-052012-062012-072012-082012-092012-102012-112012-122013-012013-022013-032013-042013-052013-062013-072013-082013-092013-102013-112013-122014-012014-022014-032014-042014-052014-062014-072014-082014-092014-102014-112014-122015-012015-022015-032015-042015-052015-062015-072015-082004-012004-022004-032004-042004-052004-062004-072004-082004-092004-102004-112004-122005-012005-022005-032005-042005-052005-062005-072005-082005-092005-102005-112005-122006-012006-022006-032006-042006-052006-062006-072006-082006-092006-102006-112006-122007-012007-022007-032007-042007-052007-062007-072007-082007-092007-102007-112007-122008-012008-022008-032008-042008-052008-062008-072008-082008-092008-102008-112008-122009-012009-022009-032009-042009-052009-062009-072009-082009-092009-102009-112009-122010-012010-022010-032010-042010-052010-062010-072010-082010-092010-102010-112010-122011-012011-022011-032011-042011-052011-062011-072011-082011-092011-102011-112011-122012-012012-022012-032012-042012-052012-062012-072012-082012-092012-102012-112012-122013-012013-022013-032013-042013-052013-062013-072013-082013-092013-102013-112013-122014-012014-022014-032014-042014-052014-062014-072014-082014-092014-102014-112014-122015-012015-022015-032015-042015-052015-062015-072015-082004-012004-022004-032004-042004-052004-062004-072004-082004-092004-102004-112004-122005-012005-022005-032005-042005-052005-062005-072005-082005-092005-102005-112005-122006-012006-022006-032006-042006-052006-062006-072006-082006-092006-102006-112006-122007-012007-022007-032007-042007-052007-062007-072007-082007-092007-102007-112007-122008-012008-022008-032008-042008-052008-062008-072008-082008-092008-102008-112008-122009-012009-022009-032009-042009-052009-062009-072009-082009-092009-102009-112009-122010-012010-022010-032010-042010-052010-062010-072010-082010-092010-102010-112010-122011-012011-022011-032011-042011-052011-062011-072011-082011-092011-102011-112011-122012-012012-022012-032012-042012-052012-062012-072012-082012-092012-102012-112012-122013-012013-022013-032013-042013-052013-062013-072013-082013-092013-102013-112013-122014-012014-022014-032014-042014-052014-062014-072014-082014-092014-102014-112014-122015-012015-022015-032015-042015-052015-062015-072015-082004-012004-022004-032004-042004-052004-062004-072004-082004-092004-102004-112004-122005-012005-022005-032005-042005-052005-062005-072005-082005-092005-102005-112005-122006-012006-022006-032006-042006-052006-062006-072006-082006-092006-102006-112006-122007-012007-022007-032007-042007-052007-062007-072007-082007-092007-102007-112007-122008-012008-022008-032008-042008-052008-062008-072008-082008-092008-102008-112008-122009-012009-022009-032009-042009-052009-062009-072009-082009-092009-102009-112009-122010-012010-022010-032010-042010-052010-062010-072010-082010-092010-102010-112010-122011-012011-022011-032011-042011-052011-062011-072011-082011-092011-102011-112011-122012-012012-022012-032012-042012-052012-062012-072012-082012-092012-102012-112012-122013-012013-022013-032013-042013-052013-062013-072013-082013-092013-102013-112013-122014-012014-022014-032014-042014-052014-062014-072014-082014-092014-102014-112014-122015-012015-022015-032015-042015-052015-062015-072015-082004-012004-022004-032004-042004-052004-062004-072004-082004-092004-102004-112004-122005-012005-022005-032005-042005-052005-062005-072005-082005-092005-102005-112005-122006-012006-022006-032006-042006-052006-062006-072006-082006-092006-102006-112006-122007-012007-022007-032007-042007-052007-062007-072007-082007-092007-102007-112007-122008-012008-022008-032008-042008-052008-062008-072008-082008-092008-102008-112008-122009-012009-022009-032009-042009-052009-062009-072009-082009-092009-102009-112009-122010-012010-022010-032010-042010-052010-062010-072010-082010-092010-102010-112010-122011-012011-022011-032011-042011-052011-062011-072011-082011-092011-102011-112011-122012-012012-022012-032012-042012-052012-062012-072012-082012-092012-102012-112012-122013-012013-022013-032013-042013-052013-062013-072013-082013-092013-102013-112013-122014-012014-022014-032014-042014-052014-062014-072014-082014-092014-102014-112014-122015-012015-022015-032015-042015-052015-062015-072015-082004-012004-022004-032004-042004-052004-062004-072004-082004-092004-102004-112004-122005-012005-022005-032005-042005-052005-062005-072005-082005-092005-102005-112005-122006-012006-022006-032006-042006-052006-062006-072006-082006-092006-102006-112006-122007-012007-022007-032007-042007-052007-062007-072007-082007-092007-102007-112007-122008-012008-022008-032008-042008-052008-062008-072008-082008-092008-102008-112008-122009-012009-022009-032009-042009-052009-062009-072009-082009-092009-102009-112009-122010-012010-022010-032010-042010-052010-062010-072010-082010-092010-102010-112010-122011-012011-022011-032011-042011-052011-062011-072011-082011-092011-102011-112011-122012-012012-022012-032012-042012-052012-062012-072012-082012-092012-102012-112012-122013-012013-022013-032013-042013-052013-062013-072013-082013-092013-102013-112013-122014-012014-022014-032014-042014-052014-062014-072014-082014-092014-102014-112014-122015-012015-022015-032015-042015-052015-062015-072015-082004-012004-022004-032004-042004-052004-062004-072004-082004-092004-102004-112004-122005-012005-022005-032005-042005-052005-062005-072005-082005-092005-102005-112005-122006-012006-022006-032006-042006-052006-062006-072006-082006-092006-102006-112006-122007-012007-022007-032007-042007-052007-062007-072007-082007-092007-102007-112007-122008-012008-022008-032008-042008-052008-062008-072008-082008-092008-102008-112008-122009-012009-022009-032009-042009-052009-062009-072009-082009-092009-102009-112009-122010-012010-022010-032010-042010-052010-062010-072010-082010-092010-102010-112010-122011-012011-022011-032011-042011-052011-062011-072011-082011-092011-102011-112011-122012-012012-022012-032012-042012-052012-062012-072012-082012-092012-102012-112012-122013-012013-022013-032013-042013-052013-062013-072013-082013-092013-102013-112013-122014-012014-022014-032014-042014-052014-062014-072014-082014-092014-102014-112014-122015-012015-022015-032015-042015-052015-062015-072015-082004-012004-022004-032004-042004-052004-062004-072004-082004-092004-102004-112004-122005-012005-022005-032005-042005-052005-062005-072005-082005-092005-102005-112005-122006-012006-022006-032006-042006-052006-062006-072006-082006-092006-102006-112006-122007-012007-022007-032007-042007-052007-062007-072007-082007-092007-102007-112007-122008-012008-022008-032008-042008-052008-062008-072008-082008-092008-102008-112008-122009-012009-022009-032009-042009-052009-062009-072009-082009-092009-102009-112009-122010-012010-022010-032010-042010-052010-062010-072010-082010-092010-102010-112010-122011-012011-022011-032011-042011-052011-062011-072011-082011-092011-102011-112011-122012-012012-022012-032012-042012-052012-062012-072012-082012-092012-102012-112012-122013-012013-022013-032013-042013-052013-062013-072013-082013-092013-102013-112013-122014-012014-022014-032014-042014-052014-062014-072014-082014-092014-102014-112014-122015-012015-022015-032015-042015-052015-062015-072015-082004-012004-022004-032004-042004-052004-062004-072004-082004-092004-102004-112004-122005-012005-022005-032005-042005-052005-062005-072005-082005-092005-102005-112005-122006-012006-022006-032006-042006-052006-062006-072006-082006-092006-102006-112006-122007-012007-022007-032007-042007-052007-062007-072007-082007-092007-102007-112007-122008-012008-022008-032008-042008-052008-062008-072008-082008-092008-102008-112008-122009-012009-022009-032009-042009-052009-062009-072009-082009-092009-102009-112009-122010-012010-022010-032010-042010-052010-062010-072010-082010-092010-102010-112010-122011-012011-022011-032011-042011-052011-062011-072011-082011-092011-102011-112011-122012-012012-022012-032012-042012-052012-062012-072012-082012-092012-102012-112012-122013-012013-022013-032013-042013-052013-062013-072013-082013-092013-102013-112013-122014-012014-022014-032014-042014-052014-062014-072014-082014-092014-102014-112014-122015-012015-022015-032015-042015-052015-062015-072015-082004-012004-022004-032004-042004-052004-062004-072004-082004-092004-102004-112004-122005-012005-022005-032005-042005-052005-062005-072005-082005-092005-102005-112005-122006-012006-022006-032006-042006-052006-062006-072006-082006-092006-102006-112006-122007-012007-022007-032007-042007-052007-062007-072007-082007-092007-102007-112007-122008-012008-022008-032008-042008-052008-062008-072008-082008-092008-102008-112008-122009-012009-022009-032009-042009-052009-062009-072009-082009-092009-102009-112009-122010-012010-022010-032010-042010-052010-062010-072010-082010-092010-102010-112010-122011-012011-022011-032011-042011-052011-062011-072011-082011-092011-102011-112011-122012-012012-022012-032012-042012-052012-062012-072012-082012-092012-102012-112012-122013-012013-022013-032013-042013-052013-062013-072013-082013-092013-102013-112013-122014-012014-022014-032014-042014-052014-062014-072014-082014-092014-102014-112014-122015-012015-022015-032015-042015-052015-062015-072015-082004-012004-022004-032004-042004-052004-062004-072004-082004-092004-102004-112004-122005-012005-022005-032005-042005-052005-062005-072005-082005-092005-102005-112005-122006-012006-022006-032006-042006-052006-062006-072006-082006-092006-102006-112006-122007-012007-022007-032007-042007-052007-062007-072007-082007-092007-102007-112007-122008-012008-022008-032008-042008-052008-062008-072008-082008-092008-102008-112008-122009-012009-022009-032009-042009-052009-062009-072009-082009-092009-102009-112009-122010-012010-022010-032010-042010-052010-062010-072010-082010-092010-102010-112010-122011-012011-022011-032011-042011-052011-062011-072011-082011-092011-102011-112011-122012-012012-022012-032012-042012-052012-062012-072012-082012-092012-102012-112012-122013-012013-022013-032013-042013-052013-062013-072013-082013-092013-102013-112013-122014-012014-022014-032014-042014-052014-062014-072014-082014-092014-102014-112014-122015-012015-022015-032015-042015-052015-062015-072015-082004-012004-022004-032004-042004-052004-062004-072004-082004-092004-102004-112004-122005-012005-022005-032005-042005-052005-062005-072005-082005-092005-102005-112005-122006-012006-022006-032006-042006-052006-062006-072006-082006-092006-102006-112006-122007-012007-022007-032007-042007-052007-062007-072007-082007-092007-102007-112007-122008-012008-022008-032008-042008-052008-062008-072008-082008-092008-102008-112008-122009-012009-022009-032009-042009-052009-062009-072009-082009-092009-102009-112009-122010-012010-022010-032010-042010-052010-062010-072010-082010-092010-102010-112010-122011-012011-022011-032011-042011-052011-062011-072011-082011-092011-102011-112011-122012-012012-022012-032012-042012-052012-062012-072012-082012-092012-102012-112012-122013-012013-022013-032013-042013-052013-062013-072013-082013-092013-102013-112013-122014-012014-022014-032014-042014-052014-062014-072014-082014-092014-102014-112014-122015-012015-022015-032015-042015-052015-062015-072015-082004-012004-022004-032004-042004-052004-062004-072004-082004-092004-102004-112004-122005-012005-022005-032005-042005-052005-062005-072005-082005-092005-102005-112005-122006-012006-022006-032006-042006-052006-062006-072006-082006-092006-102006-112006-122007-012007-022007-032007-042007-052007-062007-072007-082007-092007-102007-112007-122008-012008-022008-032008-042008-052008-062008-072008-082008-092008-102008-112008-122009-012009-022009-032009-042009-052009-062009-072009-082009-092009-102009-112009-122010-012010-022010-032010-042010-052010-062010-072010-082010-092010-102010-112010-122011-012011-022011-032011-042011-052011-062011-072011-082011-092011-102011-112011-122012-012012-022012-032012-042012-052012-062012-072012-082012-092012-102012-112012-122013-012013-022013-032013-042013-052013-062013-072013-082013-092013-102013-112013-122014-012014-022014-032014-042014-052014-062014-072014-082014-092014-102014-112014-122015-012015-022015-032015-042015-052015-062015-072015-082004-012004-022004-032004-042004-052004-062004-072004-082004-092004-102004-112004-122005-012005-022005-032005-042005-052005-062005-072005-082005-092005-102005-112005-122006-012006-022006-032006-042006-052006-062006-072006-082006-092006-102006-112006-122007-012007-022007-032007-042007-052007-062007-072007-082007-092007-102007-112007-122008-012008-022008-032008-042008-052008-062008-072008-082008-092008-102008-112008-122009-012009-022009-032009-042009-052009-062009-072009-082009-092009-102009-112009-122010-012010-022010-032010-042010-052010-062010-072010-082010-092010-102010-112010-122011-012011-022011-032011-042011-052011-062011-072011-082011-092011-102011-112011-122012-012012-022012-032012-042012-052012-062012-072012-082012-092012-102012-112012-122013-012013-022013-032013-042013-052013-062013-072013-082013-092013-102013-112013-122014-012014-022014-032014-042014-052014-062014-072014-082014-092014-102014-112014-122015-012015-022015-032015-042015-052015-062015-072015-082004-012004-022004-032004-042004-052004-062004-072004-082004-092004-102004-112004-122005-012005-022005-032005-042005-052005-062005-072005-082005-092005-102005-112005-122006-012006-022006-032006-042006-052006-062006-072006-082006-092006-102006-112006-122007-012007-022007-032007-042007-052007-062007-072007-082007-092007-102007-112007-122008-012008-022008-032008-042008-052008-062008-072008-082008-092008-102008-112008-122009-012009-022009-032009-042009-052009-062009-072009-082009-092009-102009-112009-122010-012010-022010-032010-042010-052010-062010-072010-082010-092010-102010-112010-122011-012011-022011-032011-042011-052011-062011-072011-082011-092011-102011-112011-122012-012012-022012-032012-042012-052012-062012-072012-082012-092012-102012-112012-122013-012013-022013-032013-042013-052013-062013-072013-082013-092013-102013-112013-122014-012014-022014-032014-042014-052014-062014-072014-082014-092014-102014-112014-122015-012015-022015-032015-042015-052015-062015-072015-082004-012004-022004-032004-042004-052004-062004-072004-082004-092004-102004-112004-122005-012005-022005-032005-042005-052005-062005-072005-082005-092005-102005-112005-122006-012006-022006-032006-042006-052006-062006-072006-082006-092006-102006-112006-122007-012007-022007-032007-042007-052007-062007-072007-082007-092007-102007-112007-122008-012008-022008-032008-042008-052008-062008-072008-082008-092008-102008-112008-122009-012009-022009-032009-042009-052009-062009-072009-082009-092009-102009-112009-122010-012010-022010-032010-042010-052010-062010-072010-082010-092010-102010-112010-122011-012011-022011-032011-042011-052011-062011-072011-082011-092011-102011-112011-122012-012012-022012-032012-042012-052012-062012-072012-082012-092012-102012-112012-122013-012013-022013-032013-042013-052013-062013-072013-082013-092013-102013-112013-122014-012014-022014-032014-042014-052014-062014-072014-082014-092014-102014-112014-122015-012015-022015-032015-042015-052015-062015-072015-082004-012004-022004-032004-042004-052004-062004-072004-082004-092004-102004-112004-122005-012005-022005-032005-042005-052005-062005-072005-082005-092005-102005-112005-122006-012006-022006-032006-042006-052006-062006-072006-082006-092006-102006-112006-122007-012007-022007-032007-042007-052007-062007-072007-082007-092007-102007-112007-122008-012008-022008-032008-042008-052008-062008-072008-082008-092008-102008-112008-122009-012009-022009-032009-042009-052009-062009-072009-082009-092009-102009-112009-122010-012010-022010-032010-042010-052010-062010-072010-082010-092010-102010-112010-122011-012011-022011-032011-042011-052011-062011-072011-082011-092011-102011-112011-122012-012012-022012-032012-042012-052012-062012-072012-082012-092012-102012-112012-122013-012013-022013-032013-042013-052013-062013-072013-082013-092013-102013-112013-122014-012014-022014-032014-042014-052014-062014-072014-082014-092014-102014-112014-122015-012015-022015-032015-042015-052015-062015-072015-082004-012004-022004-032004-042004-052004-062004-072004-082004-092004-102004-112004-122005-012005-022005-032005-042005-052005-062005-072005-082005-092005-102005-112005-122006-012006-022006-032006-042006-052006-062006-072006-082006-092006-102006-112006-122007-012007-022007-032007-042007-052007-062007-072007-082007-092007-102007-112007-122008-012008-022008-032008-042008-052008-062008-072008-082008-092008-102008-112008-122009-012009-022009-032009-042009-052009-062009-072009-082009-092009-102009-112009-122010-012010-022010-032010-042010-052010-062010-072010-082010-092010-102010-112010-122011-012011-022011-032011-042011-052011-062011-072011-082011-092011-102011-112011-122012-012012-022012-032012-042012-052012-062012-072012-082012-092012-102012-112012-122013-012013-022013-032013-042013-052013-062013-072013-082013-092013-102013-112013-122014-012014-022014-032014-042014-052014-062014-072014-082014-092014-102014-112014-122015-012015-022015-032015-042015-052015-062015-072015-082004-012004-022004-032004-042004-052004-062004-072004-082004-092004-102004-112004-122005-012005-022005-032005-042005-052005-062005-072005-082005-092005-102005-112005-122006-012006-022006-032006-042006-052006-062006-072006-082006-092006-102006-112006-122007-012007-022007-032007-042007-052007-062007-072007-082007-092007-102007-112007-122008-012008-022008-032008-042008-052008-062008-072008-082008-092008-102008-112008-122009-012009-022009-032009-042009-052009-062009-072009-082009-092009-102009-112009-122010-012010-022010-032010-042010-052010-062010-072010-082010-092010-102010-112010-122011-012011-022011-032011-042011-052011-062011-072011-082011-092011-102011-112011-122012-012012-022012-032012-042012-052012-062012-072012-082012-092012-102012-112012-122013-012013-022013-032013-042013-052013-062013-072013-082013-092013-102013-112013-122014-012014-022014-032014-042014-052014-062014-072014-082014-092014-102014-112014-122015-012015-022015-032015-042015-052015-062015-072015-082004-012004-022004-032004-042004-052004-062004-072004-082004-092004-102004-112004-122005-012005-022005-032005-042005-052005-062005-072005-082005-092005-102005-112005-122006-012006-022006-032006-042006-052006-062006-072006-082006-092006-102006-112006-122007-012007-022007-032007-042007-052007-062007-072007-082007-092007-102007-112007-122008-012008-022008-032008-042008-052008-062008-072008-082008-092008-102008-112008-122009-012009-022009-032009-042009-052009-062009-072009-082009-092009-102009-112009-122010-012010-022010-032010-042010-052010-062010-072010-082010-092010-102010-112010-122011-012011-022011-032011-042011-052011-062011-072011-082011-092011-102011-112011-122012-012012-022012-032012-042012-052012-062012-072012-082012-092012-102012-112012-122013-012013-022013-032013-042013-052013-062013-072013-082013-092013-102013-112013-122014-012014-022014-032014-042014-052014-062014-072014-082014-092014-102014-112014-122015-012015-022015-032015-042015-052015-062015-072015-082004-012004-022004-032004-042004-052004-062004-072004-082004-092004-102004-112004-122005-012005-022005-032005-042005-052005-062005-072005-082005-092005-102005-112005-122006-012006-022006-032006-042006-052006-062006-072006-082006-092006-102006-112006-122007-012007-022007-032007-042007-052007-062007-072007-082007-092007-102007-112007-122008-012008-022008-032008-042008-052008-062008-072008-082008-092008-102008-112008-122009-012009-022009-032009-042009-052009-062009-072009-082009-092009-102009-112009-122010-012010-022010-032010-042010-052010-062010-072010-082010-092010-102010-112010-122011-012011-022011-032011-042011-052011-062011-072011-082011-092011-102011-112011-122012-012012-022012-032012-042012-052012-062012-072012-082012-092012-102012-112012-122013-012013-022013-032013-042013-052013-062013-072013-082013-092013-102013-112013-122014-012014-022014-032014-042014-052014-062014-072014-082014-092014-102014-112014-122015-012015-022015-032015-042015-052015-062015-072015-082004-012004-022004-032004-042004-052004-062004-072004-082004-092004-102004-112004-122005-012005-022005-032005-042005-052005-062005-072005-082005-092005-102005-112005-122006-012006-022006-032006-042006-052006-062006-072006-082006-092006-102006-112006-122007-012007-022007-032007-042007-052007-062007-072007-082007-092007-102007-112007-122008-012008-022008-032008-042008-052008-062008-072008-082008-092008-102008-112008-122009-012009-022009-032009-042009-052009-062009-072009-082009-092009-102009-112009-122010-012010-022010-032010-042010-052010-062010-072010-082010-092010-102010-112010-122011-012011-022011-032011-042011-052011-062011-072011-082011-092011-102011-112011-122012-012012-022012-032012-042012-052012-062012-072012-082012-092012-102012-112012-122013-012013-022013-032013-042013-052013-062013-072013-082013-092013-102013-112013-122014-012014-022014-032014-042014-052014-062014-072014-082014-092014-102014-112014-122015-012015-022015-032015-042015-052015-062015-072015-082004-012004-022004-032004-042004-052004-062004-072004-082004-092004-102004-112004-122005-012005-022005-032005-042005-052005-062005-072005-082005-092005-102005-112005-122006-012006-022006-032006-042006-052006-062006-072006-082006-092006-102006-112006-122007-012007-022007-032007-042007-052007-062007-072007-082007-092007-102007-112007-122008-012008-022008-032008-042008-052008-062008-072008-082008-092008-102008-112008-122009-012009-022009-032009-042009-052009-062009-072009-082009-092009-102009-112009-122010-012010-022010-032010-042010-052010-062010-072010-082010-092010-102010-112010-122011-012011-022011-032011-042011-052011-062011-072011-082011-092011-102011-112011-122012-012012-022012-032012-042012-052012-062012-072012-082012-092012-102012-112012-122013-012013-022013-032013-042013-052013-062013-072013-082013-092013-102013-112013-122014-012014-022014-032014-042014-052014-062014-072014-082014-092014-102014-112014-122015-012015-022015-032015-042015-052015-062015-072015-082004-012004-022004-032004-042004-052004-062004-072004-082004-092004-102004-112004-122005-012005-022005-032005-042005-052005-062005-072005-082005-092005-102005-112005-122006-012006-022006-032006-042006-052006-062006-072006-082006-092006-102006-112006-122007-012007-022007-032007-042007-052007-062007-072007-082007-092007-102007-112007-122008-012008-022008-032008-042008-052008-062008-072008-082008-092008-102008-112008-122009-012009-022009-032009-042009-052009-062009-072009-082009-092009-102009-112009-122010-012010-022010-032010-042010-052010-062010-072010-082010-092010-102010-112010-122011-012011-022011-032011-042011-052011-062011-072011-082011-092011-102011-112011-122012-012012-022012-032012-042012-052012-062012-072012-082012-092012-102012-112012-122013-012013-022013-032013-042013-052013-062013-072013-082013-092013-102013-112013-122014-012014-022014-032014-042014-052014-062014-072014-082014-092014-102014-112014-122015-012015-022015-032015-042015-052015-062015-072015-08'] to numeric"
     ]
    }
   ],
   "execution_count": 88
  },
  {
   "cell_type": "markdown",
   "metadata": {},
   "source": [
    "___\n",
    "___\n",
    "___\n",
    "___"
   ]
  },
  {
   "cell_type": "code",
   "execution_count": null,
   "metadata": {},
   "outputs": [],
   "source": []
  },
  {
   "cell_type": "code",
   "execution_count": null,
   "metadata": {},
   "outputs": [],
   "source": []
  },
  {
   "cell_type": "code",
   "execution_count": 350,
   "metadata": {},
   "outputs": [
    {
     "ename": "KeyError",
     "evalue": "'historical_delta'",
     "output_type": "error",
     "traceback": [
      "\u001B[1;31m---------------------------------------------------------------------------\u001B[0m",
      "\u001B[1;31mKeyError\u001B[0m                                  Traceback (most recent call last)",
      "\u001B[1;32mD:\\study\\Anaconda3\\lib\\site-packages\\pandas\\core\\indexes\\base.py\u001B[0m in \u001B[0;36mget_loc\u001B[1;34m(self, key, method, tolerance)\u001B[0m\n\u001B[0;32m   3360\u001B[0m             \u001B[1;32mtry\u001B[0m\u001B[1;33m:\u001B[0m\u001B[1;33m\u001B[0m\u001B[1;33m\u001B[0m\u001B[0m\n\u001B[1;32m-> 3361\u001B[1;33m                 \u001B[1;32mreturn\u001B[0m \u001B[0mself\u001B[0m\u001B[1;33m.\u001B[0m\u001B[0m_engine\u001B[0m\u001B[1;33m.\u001B[0m\u001B[0mget_loc\u001B[0m\u001B[1;33m(\u001B[0m\u001B[0mcasted_key\u001B[0m\u001B[1;33m)\u001B[0m\u001B[1;33m\u001B[0m\u001B[1;33m\u001B[0m\u001B[0m\n\u001B[0m\u001B[0;32m   3362\u001B[0m             \u001B[1;32mexcept\u001B[0m \u001B[0mKeyError\u001B[0m \u001B[1;32mas\u001B[0m \u001B[0merr\u001B[0m\u001B[1;33m:\u001B[0m\u001B[1;33m\u001B[0m\u001B[1;33m\u001B[0m\u001B[0m\n",
      "\u001B[1;32mD:\\study\\Anaconda3\\lib\\site-packages\\pandas\\_libs\\index.pyx\u001B[0m in \u001B[0;36mpandas._libs.index.IndexEngine.get_loc\u001B[1;34m()\u001B[0m\n",
      "\u001B[1;32mD:\\study\\Anaconda3\\lib\\site-packages\\pandas\\_libs\\index.pyx\u001B[0m in \u001B[0;36mpandas._libs.index.IndexEngine.get_loc\u001B[1;34m()\u001B[0m\n",
      "\u001B[1;32mpandas\\_libs\\hashtable_class_helper.pxi\u001B[0m in \u001B[0;36mpandas._libs.hashtable.PyObjectHashTable.get_item\u001B[1;34m()\u001B[0m\n",
      "\u001B[1;32mpandas\\_libs\\hashtable_class_helper.pxi\u001B[0m in \u001B[0;36mpandas._libs.hashtable.PyObjectHashTable.get_item\u001B[1;34m()\u001B[0m\n",
      "\u001B[1;31mKeyError\u001B[0m: 'historical_delta'",
      "\nThe above exception was the direct cause of the following exception:\n",
      "\u001B[1;31mKeyError\u001B[0m                                  Traceback (most recent call last)",
      "\u001B[1;32m<ipython-input-350-a631f48c11fd>\u001B[0m in \u001B[0;36m<module>\u001B[1;34m\u001B[0m\n\u001B[0;32m     17\u001B[0m     \u001B[0ma\u001B[0m\u001B[1;33m,\u001B[0m\u001B[0mb\u001B[0m\u001B[1;33m,\u001B[0m\u001B[0mc\u001B[0m \u001B[1;33m=\u001B[0m \u001B[0mabc_cal\u001B[0m\u001B[1;33m(\u001B[0m\u001B[0mdata\u001B[0m\u001B[1;33m)\u001B[0m\u001B[1;33m\u001B[0m\u001B[1;33m\u001B[0m\u001B[0m\n\u001B[0;32m     18\u001B[0m     \u001B[1;32mreturn\u001B[0m \u001B[0mdata\u001B[0m\u001B[1;33m[\u001B[0m\u001B[1;34m\"historical_delta\"\u001B[0m\u001B[1;33m]\u001B[0m \u001B[1;33m+\u001B[0m \u001B[1;33m(\u001B[0m\u001B[0mdata\u001B[0m\u001B[1;33m[\u001B[0m\u001B[1;34m\"historical_vega\"\u001B[0m\u001B[1;33m]\u001B[0m\u001B[1;33m/\u001B[0m \u001B[1;33m(\u001B[0m\u001B[0mdata\u001B[0m\u001B[1;33m[\u001B[0m\u001B[1;34m\"maturity\"\u001B[0m\u001B[1;33m]\u001B[0m\u001B[1;33m**\u001B[0m\u001B[1;36m0.5\u001B[0m\u001B[1;33m*\u001B[0m\u001B[0mdata\u001B[0m\u001B[1;33m[\u001B[0m\u001B[1;34m\"S_t\"\u001B[0m\u001B[1;33m]\u001B[0m\u001B[1;33m)\u001B[0m\u001B[1;33m)\u001B[0m\u001B[1;33m*\u001B[0m\u001B[1;33m(\u001B[0m\u001B[0ma\u001B[0m\u001B[1;33m+\u001B[0m\u001B[0mb\u001B[0m\u001B[1;33m*\u001B[0m\u001B[0mdata\u001B[0m\u001B[1;33m[\u001B[0m\u001B[1;34m\"historical_delta\"\u001B[0m\u001B[1;33m]\u001B[0m\u001B[1;33m+\u001B[0m\u001B[0mc\u001B[0m\u001B[1;33m*\u001B[0m\u001B[0mdata\u001B[0m\u001B[1;33m[\u001B[0m\u001B[1;34m\"historical_delta\"\u001B[0m\u001B[1;33m]\u001B[0m\u001B[1;33m*\u001B[0m\u001B[0mdata\u001B[0m\u001B[1;33m[\u001B[0m\u001B[1;34m\"historical_delta\"\u001B[0m\u001B[1;33m]\u001B[0m\u001B[1;33m)\u001B[0m\u001B[1;33m\u001B[0m\u001B[1;33m\u001B[0m\u001B[0m\n\u001B[1;32m---> 19\u001B[1;33m \u001B[0mdata\u001B[0m\u001B[1;33m[\u001B[0m\u001B[1;34m\"MV_delta\"\u001B[0m\u001B[1;33m]\u001B[0m \u001B[1;33m=\u001B[0m \u001B[0mMV_delta_cal\u001B[0m\u001B[1;33m(\u001B[0m\u001B[0mdata\u001B[0m\u001B[1;33m)\u001B[0m\u001B[1;33m\u001B[0m\u001B[1;33m\u001B[0m\u001B[0m\n\u001B[0m",
      "\u001B[1;32m<ipython-input-350-a631f48c11fd>\u001B[0m in \u001B[0;36mMV_delta_cal\u001B[1;34m(data)\u001B[0m\n\u001B[0;32m     15\u001B[0m     \u001B[1;32mreturn\u001B[0m \u001B[0mmodel\u001B[0m\u001B[1;33m.\u001B[0m\u001B[0mcoef_\u001B[0m\u001B[1;33m\u001B[0m\u001B[1;33m\u001B[0m\u001B[0m\n\u001B[0;32m     16\u001B[0m \u001B[1;32mdef\u001B[0m \u001B[0mMV_delta_cal\u001B[0m\u001B[1;33m(\u001B[0m\u001B[0mdata\u001B[0m\u001B[1;33m)\u001B[0m\u001B[1;33m:\u001B[0m\u001B[1;33m\u001B[0m\u001B[1;33m\u001B[0m\u001B[0m\n\u001B[1;32m---> 17\u001B[1;33m     \u001B[0ma\u001B[0m\u001B[1;33m,\u001B[0m\u001B[0mb\u001B[0m\u001B[1;33m,\u001B[0m\u001B[0mc\u001B[0m \u001B[1;33m=\u001B[0m \u001B[0mabc_cal\u001B[0m\u001B[1;33m(\u001B[0m\u001B[0mdata\u001B[0m\u001B[1;33m)\u001B[0m\u001B[1;33m\u001B[0m\u001B[1;33m\u001B[0m\u001B[0m\n\u001B[0m\u001B[0;32m     18\u001B[0m     \u001B[1;32mreturn\u001B[0m \u001B[0mdata\u001B[0m\u001B[1;33m[\u001B[0m\u001B[1;34m\"historical_delta\"\u001B[0m\u001B[1;33m]\u001B[0m \u001B[1;33m+\u001B[0m \u001B[1;33m(\u001B[0m\u001B[0mdata\u001B[0m\u001B[1;33m[\u001B[0m\u001B[1;34m\"historical_vega\"\u001B[0m\u001B[1;33m]\u001B[0m\u001B[1;33m/\u001B[0m \u001B[1;33m(\u001B[0m\u001B[0mdata\u001B[0m\u001B[1;33m[\u001B[0m\u001B[1;34m\"maturity\"\u001B[0m\u001B[1;33m]\u001B[0m\u001B[1;33m**\u001B[0m\u001B[1;36m0.5\u001B[0m\u001B[1;33m*\u001B[0m\u001B[0mdata\u001B[0m\u001B[1;33m[\u001B[0m\u001B[1;34m\"S_t\"\u001B[0m\u001B[1;33m]\u001B[0m\u001B[1;33m)\u001B[0m\u001B[1;33m)\u001B[0m\u001B[1;33m*\u001B[0m\u001B[1;33m(\u001B[0m\u001B[0ma\u001B[0m\u001B[1;33m+\u001B[0m\u001B[0mb\u001B[0m\u001B[1;33m*\u001B[0m\u001B[0mdata\u001B[0m\u001B[1;33m[\u001B[0m\u001B[1;34m\"historical_delta\"\u001B[0m\u001B[1;33m]\u001B[0m\u001B[1;33m+\u001B[0m\u001B[0mc\u001B[0m\u001B[1;33m*\u001B[0m\u001B[0mdata\u001B[0m\u001B[1;33m[\u001B[0m\u001B[1;34m\"historical_delta\"\u001B[0m\u001B[1;33m]\u001B[0m\u001B[1;33m*\u001B[0m\u001B[0mdata\u001B[0m\u001B[1;33m[\u001B[0m\u001B[1;34m\"historical_delta\"\u001B[0m\u001B[1;33m]\u001B[0m\u001B[1;33m)\u001B[0m\u001B[1;33m\u001B[0m\u001B[1;33m\u001B[0m\u001B[0m\n\u001B[0;32m     19\u001B[0m \u001B[0mdata\u001B[0m\u001B[1;33m[\u001B[0m\u001B[1;34m\"MV_delta\"\u001B[0m\u001B[1;33m]\u001B[0m \u001B[1;33m=\u001B[0m \u001B[0mMV_delta_cal\u001B[0m\u001B[1;33m(\u001B[0m\u001B[0mdata\u001B[0m\u001B[1;33m)\u001B[0m\u001B[1;33m\u001B[0m\u001B[1;33m\u001B[0m\u001B[0m\n",
      "\u001B[1;32m<ipython-input-350-a631f48c11fd>\u001B[0m in \u001B[0;36mabc_cal\u001B[1;34m(data)\u001B[0m\n\u001B[0;32m      4\u001B[0m     \u001B[1;32mglobal\u001B[0m \u001B[0msse_MV\u001B[0m\u001B[1;33m\u001B[0m\u001B[1;33m\u001B[0m\u001B[0m\n\u001B[0;32m      5\u001B[0m     \u001B[0mX\u001B[0m \u001B[1;33m=\u001B[0m \u001B[1;33m(\u001B[0m\u001B[1;33m(\u001B[0m\u001B[0mdata\u001B[0m\u001B[1;33m[\u001B[0m\u001B[1;34m\"historical_vega\"\u001B[0m\u001B[1;33m]\u001B[0m\u001B[1;33m/\u001B[0m \u001B[1;33m(\u001B[0m\u001B[0mdata\u001B[0m\u001B[1;33m[\u001B[0m\u001B[1;34m\"maturity\"\u001B[0m\u001B[1;33m]\u001B[0m\u001B[1;33m**\u001B[0m\u001B[1;36m0.5\u001B[0m\u001B[1;33m*\u001B[0m\u001B[0mdata\u001B[0m\u001B[1;33m[\u001B[0m\u001B[1;34m\"S_t\"\u001B[0m\u001B[1;33m]\u001B[0m\u001B[1;33m)\u001B[0m\u001B[1;33m)\u001B[0m\u001B[1;33m*\u001B[0m\u001B[1;33m(\u001B[0m\u001B[0mdata\u001B[0m\u001B[1;33m[\u001B[0m\u001B[1;34m\"S_t\"\u001B[0m\u001B[1;33m]\u001B[0m\u001B[1;33m-\u001B[0m\u001B[1;36m1\u001B[0m\u001B[1;33m)\u001B[0m\u001B[1;33m)\u001B[0m\u001B[1;33m.\u001B[0m\u001B[0mto_frame\u001B[0m\u001B[1;33m(\u001B[0m\u001B[1;33m)\u001B[0m\u001B[1;33m\u001B[0m\u001B[1;33m\u001B[0m\u001B[0m\n\u001B[1;32m----> 6\u001B[1;33m     \u001B[0mX\u001B[0m\u001B[1;33m[\u001B[0m\u001B[1;36m1\u001B[0m\u001B[1;33m]\u001B[0m \u001B[1;33m=\u001B[0m \u001B[1;33m(\u001B[0m\u001B[0mdata\u001B[0m\u001B[1;33m[\u001B[0m\u001B[1;34m\"historical_vega\"\u001B[0m\u001B[1;33m]\u001B[0m\u001B[1;33m/\u001B[0m \u001B[1;33m(\u001B[0m\u001B[0mdata\u001B[0m\u001B[1;33m[\u001B[0m\u001B[1;34m\"maturity\"\u001B[0m\u001B[1;33m]\u001B[0m\u001B[1;33m**\u001B[0m\u001B[1;36m0.5\u001B[0m\u001B[1;33m*\u001B[0m\u001B[0mdata\u001B[0m\u001B[1;33m[\u001B[0m\u001B[1;34m\"S_t\"\u001B[0m\u001B[1;33m]\u001B[0m\u001B[1;33m)\u001B[0m\u001B[1;33m)\u001B[0m\u001B[1;33m*\u001B[0m\u001B[1;33m(\u001B[0m\u001B[0mdata\u001B[0m\u001B[1;33m[\u001B[0m\u001B[1;34m'historical_delta'\u001B[0m\u001B[1;33m]\u001B[0m\u001B[1;33m)\u001B[0m\u001B[1;33m*\u001B[0m\u001B[1;33m(\u001B[0m\u001B[0mdata\u001B[0m\u001B[1;33m[\u001B[0m\u001B[1;34m\"S_t\"\u001B[0m\u001B[1;33m]\u001B[0m\u001B[1;33m-\u001B[0m\u001B[1;36m1\u001B[0m\u001B[1;33m)\u001B[0m\u001B[1;33m\u001B[0m\u001B[1;33m\u001B[0m\u001B[0m\n\u001B[0m\u001B[0;32m      7\u001B[0m     \u001B[0mX\u001B[0m\u001B[1;33m[\u001B[0m\u001B[1;36m2\u001B[0m\u001B[1;33m]\u001B[0m \u001B[1;33m=\u001B[0m \u001B[1;33m(\u001B[0m\u001B[0mdata\u001B[0m\u001B[1;33m[\u001B[0m\u001B[1;34m\"historical_vega\"\u001B[0m\u001B[1;33m]\u001B[0m\u001B[1;33m/\u001B[0m \u001B[1;33m(\u001B[0m\u001B[0mdata\u001B[0m\u001B[1;33m[\u001B[0m\u001B[1;34m\"maturity\"\u001B[0m\u001B[1;33m]\u001B[0m\u001B[1;33m**\u001B[0m\u001B[1;36m0.5\u001B[0m\u001B[1;33m*\u001B[0m\u001B[0mdata\u001B[0m\u001B[1;33m[\u001B[0m\u001B[1;34m\"S_t\"\u001B[0m\u001B[1;33m]\u001B[0m\u001B[1;33m)\u001B[0m\u001B[1;33m)\u001B[0m\u001B[1;33m*\u001B[0m\u001B[1;33m(\u001B[0m\u001B[0mdata\u001B[0m\u001B[1;33m[\u001B[0m\u001B[1;34m'historical_delta'\u001B[0m\u001B[1;33m]\u001B[0m\u001B[1;33m)\u001B[0m\u001B[1;33m*\u001B[0m\u001B[1;33m(\u001B[0m\u001B[0mdata\u001B[0m\u001B[1;33m[\u001B[0m\u001B[1;34m'historical_delta'\u001B[0m\u001B[1;33m]\u001B[0m\u001B[1;33m)\u001B[0m\u001B[1;33m*\u001B[0m\u001B[1;33m(\u001B[0m\u001B[0mdata\u001B[0m\u001B[1;33m[\u001B[0m\u001B[1;34m\"S_t\"\u001B[0m\u001B[1;33m]\u001B[0m\u001B[1;33m-\u001B[0m\u001B[1;36m1\u001B[0m\u001B[1;33m)\u001B[0m\u001B[1;33m\u001B[0m\u001B[1;33m\u001B[0m\u001B[0m\n\u001B[0;32m      8\u001B[0m     \u001B[0mX\u001B[0m\u001B[1;33m[\u001B[0m\u001B[1;34m'target'\u001B[0m\u001B[1;33m]\u001B[0m \u001B[1;33m=\u001B[0m \u001B[0mdata\u001B[0m\u001B[1;33m[\u001B[0m\u001B[1;34m\"f_t\"\u001B[0m\u001B[1;33m]\u001B[0m \u001B[1;33m-\u001B[0m \u001B[0mdata\u001B[0m\u001B[1;33m[\u001B[0m\u001B[1;34m\"f_t_minus_1\"\u001B[0m\u001B[1;33m]\u001B[0m\u001B[1;33m\u001B[0m\u001B[1;33m\u001B[0m\u001B[0m\n",
      "\u001B[1;32mD:\\study\\Anaconda3\\lib\\site-packages\\pandas\\core\\frame.py\u001B[0m in \u001B[0;36m__getitem__\u001B[1;34m(self, key)\u001B[0m\n\u001B[0;32m   3456\u001B[0m             \u001B[1;32mif\u001B[0m \u001B[0mself\u001B[0m\u001B[1;33m.\u001B[0m\u001B[0mcolumns\u001B[0m\u001B[1;33m.\u001B[0m\u001B[0mnlevels\u001B[0m \u001B[1;33m>\u001B[0m \u001B[1;36m1\u001B[0m\u001B[1;33m:\u001B[0m\u001B[1;33m\u001B[0m\u001B[1;33m\u001B[0m\u001B[0m\n\u001B[0;32m   3457\u001B[0m                 \u001B[1;32mreturn\u001B[0m \u001B[0mself\u001B[0m\u001B[1;33m.\u001B[0m\u001B[0m_getitem_multilevel\u001B[0m\u001B[1;33m(\u001B[0m\u001B[0mkey\u001B[0m\u001B[1;33m)\u001B[0m\u001B[1;33m\u001B[0m\u001B[1;33m\u001B[0m\u001B[0m\n\u001B[1;32m-> 3458\u001B[1;33m             \u001B[0mindexer\u001B[0m \u001B[1;33m=\u001B[0m \u001B[0mself\u001B[0m\u001B[1;33m.\u001B[0m\u001B[0mcolumns\u001B[0m\u001B[1;33m.\u001B[0m\u001B[0mget_loc\u001B[0m\u001B[1;33m(\u001B[0m\u001B[0mkey\u001B[0m\u001B[1;33m)\u001B[0m\u001B[1;33m\u001B[0m\u001B[1;33m\u001B[0m\u001B[0m\n\u001B[0m\u001B[0;32m   3459\u001B[0m             \u001B[1;32mif\u001B[0m \u001B[0mis_integer\u001B[0m\u001B[1;33m(\u001B[0m\u001B[0mindexer\u001B[0m\u001B[1;33m)\u001B[0m\u001B[1;33m:\u001B[0m\u001B[1;33m\u001B[0m\u001B[1;33m\u001B[0m\u001B[0m\n\u001B[0;32m   3460\u001B[0m                 \u001B[0mindexer\u001B[0m \u001B[1;33m=\u001B[0m \u001B[1;33m[\u001B[0m\u001B[0mindexer\u001B[0m\u001B[1;33m]\u001B[0m\u001B[1;33m\u001B[0m\u001B[1;33m\u001B[0m\u001B[0m\n",
      "\u001B[1;32mD:\\study\\Anaconda3\\lib\\site-packages\\pandas\\core\\indexes\\base.py\u001B[0m in \u001B[0;36mget_loc\u001B[1;34m(self, key, method, tolerance)\u001B[0m\n\u001B[0;32m   3361\u001B[0m                 \u001B[1;32mreturn\u001B[0m \u001B[0mself\u001B[0m\u001B[1;33m.\u001B[0m\u001B[0m_engine\u001B[0m\u001B[1;33m.\u001B[0m\u001B[0mget_loc\u001B[0m\u001B[1;33m(\u001B[0m\u001B[0mcasted_key\u001B[0m\u001B[1;33m)\u001B[0m\u001B[1;33m\u001B[0m\u001B[1;33m\u001B[0m\u001B[0m\n\u001B[0;32m   3362\u001B[0m             \u001B[1;32mexcept\u001B[0m \u001B[0mKeyError\u001B[0m \u001B[1;32mas\u001B[0m \u001B[0merr\u001B[0m\u001B[1;33m:\u001B[0m\u001B[1;33m\u001B[0m\u001B[1;33m\u001B[0m\u001B[0m\n\u001B[1;32m-> 3363\u001B[1;33m                 \u001B[1;32mraise\u001B[0m \u001B[0mKeyError\u001B[0m\u001B[1;33m(\u001B[0m\u001B[0mkey\u001B[0m\u001B[1;33m)\u001B[0m \u001B[1;32mfrom\u001B[0m \u001B[0merr\u001B[0m\u001B[1;33m\u001B[0m\u001B[1;33m\u001B[0m\u001B[0m\n\u001B[0m\u001B[0;32m   3364\u001B[0m \u001B[1;33m\u001B[0m\u001B[0m\n\u001B[0;32m   3365\u001B[0m         \u001B[1;32mif\u001B[0m \u001B[0mis_scalar\u001B[0m\u001B[1;33m(\u001B[0m\u001B[0mkey\u001B[0m\u001B[1;33m)\u001B[0m \u001B[1;32mand\u001B[0m \u001B[0misna\u001B[0m\u001B[1;33m(\u001B[0m\u001B[0mkey\u001B[0m\u001B[1;33m)\u001B[0m \u001B[1;32mand\u001B[0m \u001B[1;32mnot\u001B[0m \u001B[0mself\u001B[0m\u001B[1;33m.\u001B[0m\u001B[0mhasnans\u001B[0m\u001B[1;33m:\u001B[0m\u001B[1;33m\u001B[0m\u001B[1;33m\u001B[0m\u001B[0m\n",
      "\u001B[1;31mKeyError\u001B[0m: 'historical_delta'"
     ]
    }
   ],
   "source": [
    "from sklearn.linear_model import LinearRegression\n",
    "global sse_MV\n",
    "def abc_cal(data):\n",
    "    global sse_MV\n",
    "    X = ((data[\"historical_vega\"]/ (data[\"maturity\"]**0.5*data[\"S_t\"]))*(data[\"S_t\"]-1)).to_frame()\n",
    "    X[1] = (data[\"historical_vega\"]/ (data[\"maturity\"]**0.5*data[\"S_t\"]))*(data['historical_delta'])*(data[\"S_t\"]-1)\n",
    "    X[2] = (data[\"historical_vega\"]/ (data[\"maturity\"]**0.5*data[\"S_t\"]))*(data['historical_delta'])*(data['historical_delta'])*(data[\"S_t\"]-1)\n",
    "    X['target'] = data[\"f_t\"] - data[\"f_t_minus_1\"]\n",
    "    X.dropna(inplace=True)\n",
    "    y = X['target']\n",
    "    X.drop('target',inplace=True,axis=1)\n",
    "    model = LinearRegression()\n",
    "    model.fit(X, y)\n",
    "    sse_MV = ((model.predict(X)-y)**2).sum()\n",
    "    return model.coef_\n",
    "def MV_delta_cal(data):\n",
    "    a,b,c = abc_cal(data)\n",
    "    return data[\"historical_delta\"] + (data[\"historical_vega\"]/ (data[\"maturity\"]**0.5*data[\"S_t\"]))*(a+b*data[\"historical_delta\"]+c*data[\"historical_delta\"]*data[\"historical_delta\"])\n",
    "data[\"MV_delta\"] = MV_delta_cal(data)"
   ]
  },
  {
   "cell_type": "code",
   "execution_count": 305,
   "metadata": {},
   "outputs": [],
   "source": [
    "sse_BS = (((data[\"best_bid\"] - data[\"best_bid_t1\"]) - data[\"historical_delta\"]*(data[\"S_t\"]-data[\"S_t1\"]))**2).sum()"
   ]
  },
  {
   "cell_type": "code",
   "execution_count": 306,
   "metadata": {},
   "outputs": [],
   "source": [
    "gain = 1 - sse_MV/sse_BS"
   ]
  },
  {
   "cell_type": "code",
   "execution_count": 307,
   "metadata": {},
   "outputs": [
    {
     "data": {
      "text/plain": [
       "0.01472245645071113"
      ]
     },
     "execution_count": 307,
     "metadata": {},
     "output_type": "execute_result"
    }
   ],
   "source": [
    "gain"
   ]
  },
  {
   "cell_type": "markdown",
   "metadata": {},
   "source": [
    "___  \n",
    "___\n",
    "___  \n",
    "___"
   ]
  },
  {
   "cell_type": "code",
   "execution_count": null,
   "metadata": {},
   "outputs": [],
   "source": []
  },
  {
   "cell_type": "code",
   "execution_count": 91,
   "metadata": {},
   "outputs": [],
   "source": [
    "df = data.groupby([\"maturity_group\",\"delta_group\",\"exercise_style\",\"cp_flag\"]).get_group((0,1,\"A\",\"C\"))"
   ]
  },
  {
   "cell_type": "code",
   "execution_count": 213,
   "metadata": {},
   "outputs": [],
   "source": [
    "pivot_df = pd.pivot(df,values=\"delta\",index=\"date\",columns=\"symbol\")"
   ]
  },
  {
   "cell_type": "code",
   "execution_count": 172,
   "metadata": {},
   "outputs": [],
   "source": [
    "reset_pivot_df = pivot_df.reset_index()\n",
    "reset_pivot_df['ym'] = reset_pivot_df.date.astype(str).str[0:7]"
   ]
  },
  {
   "cell_type": "code",
   "execution_count": 234,
   "metadata": {},
   "outputs": [],
   "source": [
    "cal_df = reset_pivot_df.groupby(\"ym\").get_group(\"2022-09\")"
   ]
  },
  {
   "cell_type": "code",
   "execution_count": 235,
   "metadata": {},
   "outputs": [
    {
     "data": {
      "text/plain": [
       "Timestamp('2022-09-01 00:00:00')"
      ]
     },
     "execution_count": 235,
     "metadata": {},
     "output_type": "execute_result"
    }
   ],
   "source": [
    "cal_df.date.iloc[0]"
   ]
  },
  {
   "cell_type": "code",
   "execution_count": 236,
   "metadata": {},
   "outputs": [],
   "source": [
    "start_date = (cal_df.date.iloc[0] - pd.DateOffset(months=2)).replace(day=1)\n",
    "end_date = (cal_df.date.iloc[0]).replace(day=1)- pd.DateOffset(days=1)\n",
    "#pivot_df[start_date:end_date]"
   ]
  },
  {
   "cell_type": "code",
   "execution_count": 240,
   "metadata": {},
   "outputs": [
    {
     "data": {
      "text/html": [
       "<div>\n",
       "<style scoped>\n",
       "    .dataframe tbody tr th:only-of-type {\n",
       "        vertical-align: middle;\n",
       "    }\n",
       "\n",
       "    .dataframe tbody tr th {\n",
       "        vertical-align: top;\n",
       "    }\n",
       "\n",
       "    .dataframe thead th {\n",
       "        text-align: right;\n",
       "    }\n",
       "</style>\n",
       "<table border=\"1\" class=\"dataframe\">\n",
       "  <thead>\n",
       "    <tr style=\"text-align: right;\">\n",
       "      <th>symbol</th>\n",
       "      <th>OEX 220909C1540000</th>\n",
       "      <th>OEX 220909C1550000</th>\n",
       "      <th>OEX 220909C1560000</th>\n",
       "      <th>OEX 220909C1570000</th>\n",
       "      <th>OEX 220909C1580000</th>\n",
       "      <th>OEX 220909C1590000</th>\n",
       "      <th>OEX 220909C1600000</th>\n",
       "      <th>OEX 220909C1610000</th>\n",
       "      <th>OEX 220909C1620000</th>\n",
       "      <th>OEX 220909C1630000</th>\n",
       "      <th>...</th>\n",
       "      <th>OEX 230908C2010000</th>\n",
       "      <th>OEX 230908C2015000</th>\n",
       "      <th>OEX 230908C2020000</th>\n",
       "      <th>OEX 230908C2025000</th>\n",
       "      <th>OEX 230908C2030000</th>\n",
       "      <th>OEX 230908C2035000</th>\n",
       "      <th>OEX 230908C2040000</th>\n",
       "      <th>OEX 230908C2045000</th>\n",
       "      <th>OEX 230908C2050000</th>\n",
       "      <th>OEX 230908C2055000</th>\n",
       "    </tr>\n",
       "    <tr>\n",
       "      <th>date</th>\n",
       "      <th></th>\n",
       "      <th></th>\n",
       "      <th></th>\n",
       "      <th></th>\n",
       "      <th></th>\n",
       "      <th></th>\n",
       "      <th></th>\n",
       "      <th></th>\n",
       "      <th></th>\n",
       "      <th></th>\n",
       "      <th></th>\n",
       "      <th></th>\n",
       "      <th></th>\n",
       "      <th></th>\n",
       "      <th></th>\n",
       "      <th></th>\n",
       "      <th></th>\n",
       "      <th></th>\n",
       "      <th></th>\n",
       "      <th></th>\n",
       "      <th></th>\n",
       "    </tr>\n",
       "  </thead>\n",
       "  <tbody>\n",
       "    <tr>\n",
       "      <th>2022-08-31</th>\n",
       "      <td>0.950016</td>\n",
       "      <td>0.95321</td>\n",
       "      <td>0.951759</td>\n",
       "      <td>0.944289</td>\n",
       "      <td>0.947501</td>\n",
       "      <td>0.945686</td>\n",
       "      <td>0.937317</td>\n",
       "      <td>0.934989</td>\n",
       "      <td>0.938147</td>\n",
       "      <td>0.933204</td>\n",
       "      <td>...</td>\n",
       "      <td>NaN</td>\n",
       "      <td>NaN</td>\n",
       "      <td>NaN</td>\n",
       "      <td>NaN</td>\n",
       "      <td>NaN</td>\n",
       "      <td>NaN</td>\n",
       "      <td>NaN</td>\n",
       "      <td>NaN</td>\n",
       "      <td>NaN</td>\n",
       "      <td>NaN</td>\n",
       "    </tr>\n",
       "  </tbody>\n",
       "</table>\n",
       "<p>1 rows × 2688 columns</p>\n",
       "</div>"
      ],
      "text/plain": [
       "symbol      OEX 220909C1540000  OEX 220909C1550000  OEX 220909C1560000  \\\n",
       "date                                                                     \n",
       "2022-08-31            0.950016             0.95321            0.951759   \n",
       "\n",
       "symbol      OEX 220909C1570000  OEX 220909C1580000  OEX 220909C1590000  \\\n",
       "date                                                                     \n",
       "2022-08-31            0.944289            0.947501            0.945686   \n",
       "\n",
       "symbol      OEX 220909C1600000  OEX 220909C1610000  OEX 220909C1620000  \\\n",
       "date                                                                     \n",
       "2022-08-31            0.937317            0.934989            0.938147   \n",
       "\n",
       "symbol      OEX 220909C1630000  ...  OEX 230908C2010000  OEX 230908C2015000  \\\n",
       "date                            ...                                           \n",
       "2022-08-31            0.933204  ...                 NaN                 NaN   \n",
       "\n",
       "symbol      OEX 230908C2020000  OEX 230908C2025000  OEX 230908C2030000  \\\n",
       "date                                                                     \n",
       "2022-08-31                 NaN                 NaN                 NaN   \n",
       "\n",
       "symbol      OEX 230908C2035000  OEX 230908C2040000  OEX 230908C2045000  \\\n",
       "date                                                                     \n",
       "2022-08-31                 NaN                 NaN                 NaN   \n",
       "\n",
       "symbol      OEX 230908C2050000  OEX 230908C2055000  \n",
       "date                                                \n",
       "2022-08-31                 NaN                 NaN  \n",
       "\n",
       "[1 rows x 2688 columns]"
      ]
     },
     "execution_count": 240,
     "metadata": {},
     "output_type": "execute_result"
    }
   ],
   "source": [
    "pivot_df[start_date:end_date]"
   ]
  },
  {
   "cell_type": "code",
   "execution_count": 237,
   "metadata": {},
   "outputs": [
    {
     "data": {
      "text/plain": [
       "0.9342140666666666"
      ]
     },
     "execution_count": 237,
     "metadata": {},
     "output_type": "execute_result"
    }
   ],
   "source": [
    "pivot_df[start_date:end_date].mean().mean()"
   ]
  },
  {
   "cell_type": "code",
   "execution_count": 182,
   "metadata": {},
   "outputs": [
    {
     "data": {
      "text/plain": [
       "0     2022-08-31\n",
       "1     2022-09-01\n",
       "2     2022-09-02\n",
       "3     2022-09-06\n",
       "4     2022-09-07\n",
       "         ...    \n",
       "242   2023-08-25\n",
       "243   2023-08-28\n",
       "244   2023-08-29\n",
       "245   2023-08-30\n",
       "246   2023-08-31\n",
       "Name: date, Length: 247, dtype: datetime64[ns]"
      ]
     },
     "execution_count": 182,
     "metadata": {},
     "output_type": "execute_result"
    }
   ],
   "source": [
    "pivot_df.reset_index().date.dt.year"
   ]
  },
  {
   "cell_type": "code",
   "execution_count": 163,
   "metadata": {},
   "outputs": [
    {
     "data": {
      "text/html": [
       "<div>\n",
       "<style scoped>\n",
       "    .dataframe tbody tr th:only-of-type {\n",
       "        vertical-align: middle;\n",
       "    }\n",
       "\n",
       "    .dataframe tbody tr th {\n",
       "        vertical-align: top;\n",
       "    }\n",
       "\n",
       "    .dataframe thead th {\n",
       "        text-align: right;\n",
       "    }\n",
       "</style>\n",
       "<table border=\"1\" class=\"dataframe\">\n",
       "  <thead>\n",
       "    <tr style=\"text-align: right;\">\n",
       "      <th></th>\n",
       "      <th></th>\n",
       "      <th></th>\n",
       "      <th></th>\n",
       "      <th>symbol</th>\n",
       "      <th>OEX 220909C1540000</th>\n",
       "      <th>OEX 220909C1550000</th>\n",
       "      <th>OEX 220909C1560000</th>\n",
       "      <th>OEX 220909C1570000</th>\n",
       "      <th>OEX 220909C1580000</th>\n",
       "      <th>OEX 220909C1590000</th>\n",
       "      <th>OEX 220909C1600000</th>\n",
       "      <th>OEX 220909C1610000</th>\n",
       "      <th>OEX 220909C1620000</th>\n",
       "      <th>OEX 220909C1630000</th>\n",
       "      <th>...</th>\n",
       "      <th>OEX 230908C2015000</th>\n",
       "      <th>OEX 230908C2020000</th>\n",
       "      <th>OEX 230908C2025000</th>\n",
       "      <th>OEX 230908C2030000</th>\n",
       "      <th>OEX 230908C2035000</th>\n",
       "      <th>OEX 230908C2040000</th>\n",
       "      <th>OEX 230908C2045000</th>\n",
       "      <th>OEX 230908C2050000</th>\n",
       "      <th>OEX 230908C2055000</th>\n",
       "      <th>ym</th>\n",
       "    </tr>\n",
       "    <tr>\n",
       "      <th>maturity_group</th>\n",
       "      <th>delta_group</th>\n",
       "      <th>exercise_style</th>\n",
       "      <th>cp_flag</th>\n",
       "      <th>date</th>\n",
       "      <th></th>\n",
       "      <th></th>\n",
       "      <th></th>\n",
       "      <th></th>\n",
       "      <th></th>\n",
       "      <th></th>\n",
       "      <th></th>\n",
       "      <th></th>\n",
       "      <th></th>\n",
       "      <th></th>\n",
       "      <th></th>\n",
       "      <th></th>\n",
       "      <th></th>\n",
       "      <th></th>\n",
       "      <th></th>\n",
       "      <th></th>\n",
       "      <th></th>\n",
       "      <th></th>\n",
       "      <th></th>\n",
       "      <th></th>\n",
       "      <th></th>\n",
       "    </tr>\n",
       "  </thead>\n",
       "  <tbody>\n",
       "    <tr>\n",
       "      <th rowspan=\"11\" valign=\"top\">0</th>\n",
       "      <th rowspan=\"11\" valign=\"top\">1</th>\n",
       "      <th rowspan=\"11\" valign=\"top\">A</th>\n",
       "      <th rowspan=\"11\" valign=\"top\">C</th>\n",
       "      <th>2022-08-31</th>\n",
       "      <td>0.950016</td>\n",
       "      <td>0.95321</td>\n",
       "      <td>0.951759</td>\n",
       "      <td>0.944289</td>\n",
       "      <td>0.947501</td>\n",
       "      <td>0.945686</td>\n",
       "      <td>0.937317</td>\n",
       "      <td>0.934989</td>\n",
       "      <td>0.938147</td>\n",
       "      <td>0.933204</td>\n",
       "      <td>...</td>\n",
       "      <td>NaN</td>\n",
       "      <td>NaN</td>\n",
       "      <td>NaN</td>\n",
       "      <td>NaN</td>\n",
       "      <td>NaN</td>\n",
       "      <td>NaN</td>\n",
       "      <td>NaN</td>\n",
       "      <td>NaN</td>\n",
       "      <td>NaN</td>\n",
       "      <td>NaN</td>\n",
       "    </tr>\n",
       "    <tr>\n",
       "      <th>2022-09-01</th>\n",
       "      <td>NaN</td>\n",
       "      <td>NaN</td>\n",
       "      <td>0.991099</td>\n",
       "      <td>0.983950</td>\n",
       "      <td>NaN</td>\n",
       "      <td>NaN</td>\n",
       "      <td>NaN</td>\n",
       "      <td>0.983703</td>\n",
       "      <td>NaN</td>\n",
       "      <td>0.972826</td>\n",
       "      <td>...</td>\n",
       "      <td>NaN</td>\n",
       "      <td>NaN</td>\n",
       "      <td>NaN</td>\n",
       "      <td>NaN</td>\n",
       "      <td>NaN</td>\n",
       "      <td>NaN</td>\n",
       "      <td>NaN</td>\n",
       "      <td>NaN</td>\n",
       "      <td>NaN</td>\n",
       "      <td>NaN</td>\n",
       "    </tr>\n",
       "    <tr>\n",
       "      <th>2022-09-02</th>\n",
       "      <td>NaN</td>\n",
       "      <td>NaN</td>\n",
       "      <td>NaN</td>\n",
       "      <td>NaN</td>\n",
       "      <td>NaN</td>\n",
       "      <td>NaN</td>\n",
       "      <td>NaN</td>\n",
       "      <td>NaN</td>\n",
       "      <td>NaN</td>\n",
       "      <td>0.993094</td>\n",
       "      <td>...</td>\n",
       "      <td>NaN</td>\n",
       "      <td>NaN</td>\n",
       "      <td>NaN</td>\n",
       "      <td>NaN</td>\n",
       "      <td>NaN</td>\n",
       "      <td>NaN</td>\n",
       "      <td>NaN</td>\n",
       "      <td>NaN</td>\n",
       "      <td>NaN</td>\n",
       "      <td>NaN</td>\n",
       "    </tr>\n",
       "    <tr>\n",
       "      <th>2022-09-06</th>\n",
       "      <td>NaN</td>\n",
       "      <td>NaN</td>\n",
       "      <td>NaN</td>\n",
       "      <td>NaN</td>\n",
       "      <td>NaN</td>\n",
       "      <td>NaN</td>\n",
       "      <td>NaN</td>\n",
       "      <td>NaN</td>\n",
       "      <td>NaN</td>\n",
       "      <td>NaN</td>\n",
       "      <td>...</td>\n",
       "      <td>NaN</td>\n",
       "      <td>NaN</td>\n",
       "      <td>NaN</td>\n",
       "      <td>NaN</td>\n",
       "      <td>NaN</td>\n",
       "      <td>NaN</td>\n",
       "      <td>NaN</td>\n",
       "      <td>NaN</td>\n",
       "      <td>NaN</td>\n",
       "      <td>NaN</td>\n",
       "    </tr>\n",
       "    <tr>\n",
       "      <th>2022-09-07</th>\n",
       "      <td>NaN</td>\n",
       "      <td>NaN</td>\n",
       "      <td>NaN</td>\n",
       "      <td>NaN</td>\n",
       "      <td>NaN</td>\n",
       "      <td>NaN</td>\n",
       "      <td>NaN</td>\n",
       "      <td>NaN</td>\n",
       "      <td>NaN</td>\n",
       "      <td>NaN</td>\n",
       "      <td>...</td>\n",
       "      <td>NaN</td>\n",
       "      <td>NaN</td>\n",
       "      <td>NaN</td>\n",
       "      <td>NaN</td>\n",
       "      <td>NaN</td>\n",
       "      <td>NaN</td>\n",
       "      <td>NaN</td>\n",
       "      <td>NaN</td>\n",
       "      <td>NaN</td>\n",
       "      <td>NaN</td>\n",
       "    </tr>\n",
       "    <tr>\n",
       "      <th>...</th>\n",
       "      <td>...</td>\n",
       "      <td>...</td>\n",
       "      <td>...</td>\n",
       "      <td>...</td>\n",
       "      <td>...</td>\n",
       "      <td>...</td>\n",
       "      <td>...</td>\n",
       "      <td>...</td>\n",
       "      <td>...</td>\n",
       "      <td>...</td>\n",
       "      <td>...</td>\n",
       "      <td>...</td>\n",
       "      <td>...</td>\n",
       "      <td>...</td>\n",
       "      <td>...</td>\n",
       "      <td>...</td>\n",
       "      <td>...</td>\n",
       "      <td>...</td>\n",
       "      <td>...</td>\n",
       "      <td>...</td>\n",
       "      <td>...</td>\n",
       "    </tr>\n",
       "    <tr>\n",
       "      <th>2023-08-25</th>\n",
       "      <td>NaN</td>\n",
       "      <td>NaN</td>\n",
       "      <td>NaN</td>\n",
       "      <td>NaN</td>\n",
       "      <td>NaN</td>\n",
       "      <td>NaN</td>\n",
       "      <td>NaN</td>\n",
       "      <td>NaN</td>\n",
       "      <td>NaN</td>\n",
       "      <td>NaN</td>\n",
       "      <td>...</td>\n",
       "      <td>NaN</td>\n",
       "      <td>NaN</td>\n",
       "      <td>NaN</td>\n",
       "      <td>NaN</td>\n",
       "      <td>NaN</td>\n",
       "      <td>NaN</td>\n",
       "      <td>NaN</td>\n",
       "      <td>NaN</td>\n",
       "      <td>NaN</td>\n",
       "      <td>NaN</td>\n",
       "    </tr>\n",
       "    <tr>\n",
       "      <th>2023-08-28</th>\n",
       "      <td>NaN</td>\n",
       "      <td>NaN</td>\n",
       "      <td>NaN</td>\n",
       "      <td>NaN</td>\n",
       "      <td>NaN</td>\n",
       "      <td>NaN</td>\n",
       "      <td>NaN</td>\n",
       "      <td>NaN</td>\n",
       "      <td>NaN</td>\n",
       "      <td>NaN</td>\n",
       "      <td>...</td>\n",
       "      <td>NaN</td>\n",
       "      <td>NaN</td>\n",
       "      <td>NaN</td>\n",
       "      <td>NaN</td>\n",
       "      <td>NaN</td>\n",
       "      <td>NaN</td>\n",
       "      <td>NaN</td>\n",
       "      <td>NaN</td>\n",
       "      <td>NaN</td>\n",
       "      <td>NaN</td>\n",
       "    </tr>\n",
       "    <tr>\n",
       "      <th>2023-08-29</th>\n",
       "      <td>NaN</td>\n",
       "      <td>NaN</td>\n",
       "      <td>NaN</td>\n",
       "      <td>NaN</td>\n",
       "      <td>NaN</td>\n",
       "      <td>NaN</td>\n",
       "      <td>NaN</td>\n",
       "      <td>NaN</td>\n",
       "      <td>NaN</td>\n",
       "      <td>NaN</td>\n",
       "      <td>...</td>\n",
       "      <td>0.946309</td>\n",
       "      <td>0.947164</td>\n",
       "      <td>0.938142</td>\n",
       "      <td>0.932906</td>\n",
       "      <td>0.924555</td>\n",
       "      <td>0.913135</td>\n",
       "      <td>NaN</td>\n",
       "      <td>NaN</td>\n",
       "      <td>NaN</td>\n",
       "      <td>NaN</td>\n",
       "    </tr>\n",
       "    <tr>\n",
       "      <th>2023-08-30</th>\n",
       "      <td>NaN</td>\n",
       "      <td>NaN</td>\n",
       "      <td>NaN</td>\n",
       "      <td>NaN</td>\n",
       "      <td>NaN</td>\n",
       "      <td>NaN</td>\n",
       "      <td>NaN</td>\n",
       "      <td>NaN</td>\n",
       "      <td>NaN</td>\n",
       "      <td>NaN</td>\n",
       "      <td>...</td>\n",
       "      <td>NaN</td>\n",
       "      <td>NaN</td>\n",
       "      <td>0.940091</td>\n",
       "      <td>0.935328</td>\n",
       "      <td>0.932824</td>\n",
       "      <td>0.927388</td>\n",
       "      <td>0.916311</td>\n",
       "      <td>0.912483</td>\n",
       "      <td>0.902832</td>\n",
       "      <td>NaN</td>\n",
       "    </tr>\n",
       "    <tr>\n",
       "      <th>2023-08-31</th>\n",
       "      <td>NaN</td>\n",
       "      <td>NaN</td>\n",
       "      <td>NaN</td>\n",
       "      <td>NaN</td>\n",
       "      <td>NaN</td>\n",
       "      <td>NaN</td>\n",
       "      <td>NaN</td>\n",
       "      <td>NaN</td>\n",
       "      <td>NaN</td>\n",
       "      <td>NaN</td>\n",
       "      <td>...</td>\n",
       "      <td>NaN</td>\n",
       "      <td>NaN</td>\n",
       "      <td>NaN</td>\n",
       "      <td>NaN</td>\n",
       "      <td>NaN</td>\n",
       "      <td>NaN</td>\n",
       "      <td>NaN</td>\n",
       "      <td>NaN</td>\n",
       "      <td>NaN</td>\n",
       "      <td>NaN</td>\n",
       "    </tr>\n",
       "  </tbody>\n",
       "</table>\n",
       "<p>247 rows × 2689 columns</p>\n",
       "</div>"
      ],
      "text/plain": [
       "symbol                                                        OEX 220909C1540000  \\\n",
       "maturity_group delta_group exercise_style cp_flag date                             \n",
       "0              1           A              C       2022-08-31            0.950016   \n",
       "                                                  2022-09-01                 NaN   \n",
       "                                                  2022-09-02                 NaN   \n",
       "                                                  2022-09-06                 NaN   \n",
       "                                                  2022-09-07                 NaN   \n",
       "...                                                                          ...   \n",
       "                                                  2023-08-25                 NaN   \n",
       "                                                  2023-08-28                 NaN   \n",
       "                                                  2023-08-29                 NaN   \n",
       "                                                  2023-08-30                 NaN   \n",
       "                                                  2023-08-31                 NaN   \n",
       "\n",
       "symbol                                                        OEX 220909C1550000  \\\n",
       "maturity_group delta_group exercise_style cp_flag date                             \n",
       "0              1           A              C       2022-08-31             0.95321   \n",
       "                                                  2022-09-01                 NaN   \n",
       "                                                  2022-09-02                 NaN   \n",
       "                                                  2022-09-06                 NaN   \n",
       "                                                  2022-09-07                 NaN   \n",
       "...                                                                          ...   \n",
       "                                                  2023-08-25                 NaN   \n",
       "                                                  2023-08-28                 NaN   \n",
       "                                                  2023-08-29                 NaN   \n",
       "                                                  2023-08-30                 NaN   \n",
       "                                                  2023-08-31                 NaN   \n",
       "\n",
       "symbol                                                        OEX 220909C1560000  \\\n",
       "maturity_group delta_group exercise_style cp_flag date                             \n",
       "0              1           A              C       2022-08-31            0.951759   \n",
       "                                                  2022-09-01            0.991099   \n",
       "                                                  2022-09-02                 NaN   \n",
       "                                                  2022-09-06                 NaN   \n",
       "                                                  2022-09-07                 NaN   \n",
       "...                                                                          ...   \n",
       "                                                  2023-08-25                 NaN   \n",
       "                                                  2023-08-28                 NaN   \n",
       "                                                  2023-08-29                 NaN   \n",
       "                                                  2023-08-30                 NaN   \n",
       "                                                  2023-08-31                 NaN   \n",
       "\n",
       "symbol                                                        OEX 220909C1570000  \\\n",
       "maturity_group delta_group exercise_style cp_flag date                             \n",
       "0              1           A              C       2022-08-31            0.944289   \n",
       "                                                  2022-09-01            0.983950   \n",
       "                                                  2022-09-02                 NaN   \n",
       "                                                  2022-09-06                 NaN   \n",
       "                                                  2022-09-07                 NaN   \n",
       "...                                                                          ...   \n",
       "                                                  2023-08-25                 NaN   \n",
       "                                                  2023-08-28                 NaN   \n",
       "                                                  2023-08-29                 NaN   \n",
       "                                                  2023-08-30                 NaN   \n",
       "                                                  2023-08-31                 NaN   \n",
       "\n",
       "symbol                                                        OEX 220909C1580000  \\\n",
       "maturity_group delta_group exercise_style cp_flag date                             \n",
       "0              1           A              C       2022-08-31            0.947501   \n",
       "                                                  2022-09-01                 NaN   \n",
       "                                                  2022-09-02                 NaN   \n",
       "                                                  2022-09-06                 NaN   \n",
       "                                                  2022-09-07                 NaN   \n",
       "...                                                                          ...   \n",
       "                                                  2023-08-25                 NaN   \n",
       "                                                  2023-08-28                 NaN   \n",
       "                                                  2023-08-29                 NaN   \n",
       "                                                  2023-08-30                 NaN   \n",
       "                                                  2023-08-31                 NaN   \n",
       "\n",
       "symbol                                                        OEX 220909C1590000  \\\n",
       "maturity_group delta_group exercise_style cp_flag date                             \n",
       "0              1           A              C       2022-08-31            0.945686   \n",
       "                                                  2022-09-01                 NaN   \n",
       "                                                  2022-09-02                 NaN   \n",
       "                                                  2022-09-06                 NaN   \n",
       "                                                  2022-09-07                 NaN   \n",
       "...                                                                          ...   \n",
       "                                                  2023-08-25                 NaN   \n",
       "                                                  2023-08-28                 NaN   \n",
       "                                                  2023-08-29                 NaN   \n",
       "                                                  2023-08-30                 NaN   \n",
       "                                                  2023-08-31                 NaN   \n",
       "\n",
       "symbol                                                        OEX 220909C1600000  \\\n",
       "maturity_group delta_group exercise_style cp_flag date                             \n",
       "0              1           A              C       2022-08-31            0.937317   \n",
       "                                                  2022-09-01                 NaN   \n",
       "                                                  2022-09-02                 NaN   \n",
       "                                                  2022-09-06                 NaN   \n",
       "                                                  2022-09-07                 NaN   \n",
       "...                                                                          ...   \n",
       "                                                  2023-08-25                 NaN   \n",
       "                                                  2023-08-28                 NaN   \n",
       "                                                  2023-08-29                 NaN   \n",
       "                                                  2023-08-30                 NaN   \n",
       "                                                  2023-08-31                 NaN   \n",
       "\n",
       "symbol                                                        OEX 220909C1610000  \\\n",
       "maturity_group delta_group exercise_style cp_flag date                             \n",
       "0              1           A              C       2022-08-31            0.934989   \n",
       "                                                  2022-09-01            0.983703   \n",
       "                                                  2022-09-02                 NaN   \n",
       "                                                  2022-09-06                 NaN   \n",
       "                                                  2022-09-07                 NaN   \n",
       "...                                                                          ...   \n",
       "                                                  2023-08-25                 NaN   \n",
       "                                                  2023-08-28                 NaN   \n",
       "                                                  2023-08-29                 NaN   \n",
       "                                                  2023-08-30                 NaN   \n",
       "                                                  2023-08-31                 NaN   \n",
       "\n",
       "symbol                                                        OEX 220909C1620000  \\\n",
       "maturity_group delta_group exercise_style cp_flag date                             \n",
       "0              1           A              C       2022-08-31            0.938147   \n",
       "                                                  2022-09-01                 NaN   \n",
       "                                                  2022-09-02                 NaN   \n",
       "                                                  2022-09-06                 NaN   \n",
       "                                                  2022-09-07                 NaN   \n",
       "...                                                                          ...   \n",
       "                                                  2023-08-25                 NaN   \n",
       "                                                  2023-08-28                 NaN   \n",
       "                                                  2023-08-29                 NaN   \n",
       "                                                  2023-08-30                 NaN   \n",
       "                                                  2023-08-31                 NaN   \n",
       "\n",
       "symbol                                                        OEX 220909C1630000  \\\n",
       "maturity_group delta_group exercise_style cp_flag date                             \n",
       "0              1           A              C       2022-08-31            0.933204   \n",
       "                                                  2022-09-01            0.972826   \n",
       "                                                  2022-09-02            0.993094   \n",
       "                                                  2022-09-06                 NaN   \n",
       "                                                  2022-09-07                 NaN   \n",
       "...                                                                          ...   \n",
       "                                                  2023-08-25                 NaN   \n",
       "                                                  2023-08-28                 NaN   \n",
       "                                                  2023-08-29                 NaN   \n",
       "                                                  2023-08-30                 NaN   \n",
       "                                                  2023-08-31                 NaN   \n",
       "\n",
       "symbol                                                        ...  \\\n",
       "maturity_group delta_group exercise_style cp_flag date        ...   \n",
       "0              1           A              C       2022-08-31  ...   \n",
       "                                                  2022-09-01  ...   \n",
       "                                                  2022-09-02  ...   \n",
       "                                                  2022-09-06  ...   \n",
       "                                                  2022-09-07  ...   \n",
       "...                                                           ...   \n",
       "                                                  2023-08-25  ...   \n",
       "                                                  2023-08-28  ...   \n",
       "                                                  2023-08-29  ...   \n",
       "                                                  2023-08-30  ...   \n",
       "                                                  2023-08-31  ...   \n",
       "\n",
       "symbol                                                        OEX 230908C2015000  \\\n",
       "maturity_group delta_group exercise_style cp_flag date                             \n",
       "0              1           A              C       2022-08-31                 NaN   \n",
       "                                                  2022-09-01                 NaN   \n",
       "                                                  2022-09-02                 NaN   \n",
       "                                                  2022-09-06                 NaN   \n",
       "                                                  2022-09-07                 NaN   \n",
       "...                                                                          ...   \n",
       "                                                  2023-08-25                 NaN   \n",
       "                                                  2023-08-28                 NaN   \n",
       "                                                  2023-08-29            0.946309   \n",
       "                                                  2023-08-30                 NaN   \n",
       "                                                  2023-08-31                 NaN   \n",
       "\n",
       "symbol                                                        OEX 230908C2020000  \\\n",
       "maturity_group delta_group exercise_style cp_flag date                             \n",
       "0              1           A              C       2022-08-31                 NaN   \n",
       "                                                  2022-09-01                 NaN   \n",
       "                                                  2022-09-02                 NaN   \n",
       "                                                  2022-09-06                 NaN   \n",
       "                                                  2022-09-07                 NaN   \n",
       "...                                                                          ...   \n",
       "                                                  2023-08-25                 NaN   \n",
       "                                                  2023-08-28                 NaN   \n",
       "                                                  2023-08-29            0.947164   \n",
       "                                                  2023-08-30                 NaN   \n",
       "                                                  2023-08-31                 NaN   \n",
       "\n",
       "symbol                                                        OEX 230908C2025000  \\\n",
       "maturity_group delta_group exercise_style cp_flag date                             \n",
       "0              1           A              C       2022-08-31                 NaN   \n",
       "                                                  2022-09-01                 NaN   \n",
       "                                                  2022-09-02                 NaN   \n",
       "                                                  2022-09-06                 NaN   \n",
       "                                                  2022-09-07                 NaN   \n",
       "...                                                                          ...   \n",
       "                                                  2023-08-25                 NaN   \n",
       "                                                  2023-08-28                 NaN   \n",
       "                                                  2023-08-29            0.938142   \n",
       "                                                  2023-08-30            0.940091   \n",
       "                                                  2023-08-31                 NaN   \n",
       "\n",
       "symbol                                                        OEX 230908C2030000  \\\n",
       "maturity_group delta_group exercise_style cp_flag date                             \n",
       "0              1           A              C       2022-08-31                 NaN   \n",
       "                                                  2022-09-01                 NaN   \n",
       "                                                  2022-09-02                 NaN   \n",
       "                                                  2022-09-06                 NaN   \n",
       "                                                  2022-09-07                 NaN   \n",
       "...                                                                          ...   \n",
       "                                                  2023-08-25                 NaN   \n",
       "                                                  2023-08-28                 NaN   \n",
       "                                                  2023-08-29            0.932906   \n",
       "                                                  2023-08-30            0.935328   \n",
       "                                                  2023-08-31                 NaN   \n",
       "\n",
       "symbol                                                        OEX 230908C2035000  \\\n",
       "maturity_group delta_group exercise_style cp_flag date                             \n",
       "0              1           A              C       2022-08-31                 NaN   \n",
       "                                                  2022-09-01                 NaN   \n",
       "                                                  2022-09-02                 NaN   \n",
       "                                                  2022-09-06                 NaN   \n",
       "                                                  2022-09-07                 NaN   \n",
       "...                                                                          ...   \n",
       "                                                  2023-08-25                 NaN   \n",
       "                                                  2023-08-28                 NaN   \n",
       "                                                  2023-08-29            0.924555   \n",
       "                                                  2023-08-30            0.932824   \n",
       "                                                  2023-08-31                 NaN   \n",
       "\n",
       "symbol                                                        OEX 230908C2040000  \\\n",
       "maturity_group delta_group exercise_style cp_flag date                             \n",
       "0              1           A              C       2022-08-31                 NaN   \n",
       "                                                  2022-09-01                 NaN   \n",
       "                                                  2022-09-02                 NaN   \n",
       "                                                  2022-09-06                 NaN   \n",
       "                                                  2022-09-07                 NaN   \n",
       "...                                                                          ...   \n",
       "                                                  2023-08-25                 NaN   \n",
       "                                                  2023-08-28                 NaN   \n",
       "                                                  2023-08-29            0.913135   \n",
       "                                                  2023-08-30            0.927388   \n",
       "                                                  2023-08-31                 NaN   \n",
       "\n",
       "symbol                                                        OEX 230908C2045000  \\\n",
       "maturity_group delta_group exercise_style cp_flag date                             \n",
       "0              1           A              C       2022-08-31                 NaN   \n",
       "                                                  2022-09-01                 NaN   \n",
       "                                                  2022-09-02                 NaN   \n",
       "                                                  2022-09-06                 NaN   \n",
       "                                                  2022-09-07                 NaN   \n",
       "...                                                                          ...   \n",
       "                                                  2023-08-25                 NaN   \n",
       "                                                  2023-08-28                 NaN   \n",
       "                                                  2023-08-29                 NaN   \n",
       "                                                  2023-08-30            0.916311   \n",
       "                                                  2023-08-31                 NaN   \n",
       "\n",
       "symbol                                                        OEX 230908C2050000  \\\n",
       "maturity_group delta_group exercise_style cp_flag date                             \n",
       "0              1           A              C       2022-08-31                 NaN   \n",
       "                                                  2022-09-01                 NaN   \n",
       "                                                  2022-09-02                 NaN   \n",
       "                                                  2022-09-06                 NaN   \n",
       "                                                  2022-09-07                 NaN   \n",
       "...                                                                          ...   \n",
       "                                                  2023-08-25                 NaN   \n",
       "                                                  2023-08-28                 NaN   \n",
       "                                                  2023-08-29                 NaN   \n",
       "                                                  2023-08-30            0.912483   \n",
       "                                                  2023-08-31                 NaN   \n",
       "\n",
       "symbol                                                        OEX 230908C2055000  \\\n",
       "maturity_group delta_group exercise_style cp_flag date                             \n",
       "0              1           A              C       2022-08-31                 NaN   \n",
       "                                                  2022-09-01                 NaN   \n",
       "                                                  2022-09-02                 NaN   \n",
       "                                                  2022-09-06                 NaN   \n",
       "                                                  2022-09-07                 NaN   \n",
       "...                                                                          ...   \n",
       "                                                  2023-08-25                 NaN   \n",
       "                                                  2023-08-28                 NaN   \n",
       "                                                  2023-08-29                 NaN   \n",
       "                                                  2023-08-30            0.902832   \n",
       "                                                  2023-08-31                 NaN   \n",
       "\n",
       "symbol                                                         ym  \n",
       "maturity_group delta_group exercise_style cp_flag date             \n",
       "0              1           A              C       2022-08-31  NaN  \n",
       "                                                  2022-09-01  NaN  \n",
       "                                                  2022-09-02  NaN  \n",
       "                                                  2022-09-06  NaN  \n",
       "                                                  2022-09-07  NaN  \n",
       "...                                                           ...  \n",
       "                                                  2023-08-25  NaN  \n",
       "                                                  2023-08-28  NaN  \n",
       "                                                  2023-08-29  NaN  \n",
       "                                                  2023-08-30  NaN  \n",
       "                                                  2023-08-31  NaN  \n",
       "\n",
       "[247 rows x 2689 columns]"
      ]
     },
     "execution_count": 163,
     "metadata": {},
     "output_type": "execute_result"
    }
   ],
   "source": [
    "pivot_df#.groupby('ym').get_group(\"2022-08\")"
   ]
  },
  {
   "cell_type": "code",
   "execution_count": 152,
   "metadata": {},
   "outputs": [
    {
     "data": {
      "text/html": [
       "<div>\n",
       "<style scoped>\n",
       "    .dataframe tbody tr th:only-of-type {\n",
       "        vertical-align: middle;\n",
       "    }\n",
       "\n",
       "    .dataframe tbody tr th {\n",
       "        vertical-align: top;\n",
       "    }\n",
       "\n",
       "    .dataframe thead th {\n",
       "        text-align: right;\n",
       "    }\n",
       "</style>\n",
       "<table border=\"1\" class=\"dataframe\">\n",
       "  <thead>\n",
       "    <tr style=\"text-align: right;\">\n",
       "      <th>symbol</th>\n",
       "      <th>maturity_group</th>\n",
       "      <th>delta_group</th>\n",
       "      <th>exercise_style</th>\n",
       "      <th>cp_flag</th>\n",
       "      <th>date</th>\n",
       "      <th>year</th>\n",
       "      <th>month</th>\n",
       "      <th>ym</th>\n",
       "    </tr>\n",
       "  </thead>\n",
       "  <tbody>\n",
       "    <tr>\n",
       "      <th>0</th>\n",
       "      <td>0</td>\n",
       "      <td>1</td>\n",
       "      <td>A</td>\n",
       "      <td>C</td>\n",
       "      <td>2022-08-31</td>\n",
       "      <td>2022</td>\n",
       "      <td>8</td>\n",
       "      <td>2022-8</td>\n",
       "    </tr>\n",
       "    <tr>\n",
       "      <th>1</th>\n",
       "      <td>0</td>\n",
       "      <td>1</td>\n",
       "      <td>A</td>\n",
       "      <td>C</td>\n",
       "      <td>2022-09-01</td>\n",
       "      <td>2022</td>\n",
       "      <td>9</td>\n",
       "      <td>2022-9</td>\n",
       "    </tr>\n",
       "    <tr>\n",
       "      <th>17</th>\n",
       "      <td>0</td>\n",
       "      <td>1</td>\n",
       "      <td>A</td>\n",
       "      <td>C</td>\n",
       "      <td>2022-10-03</td>\n",
       "      <td>2022</td>\n",
       "      <td>10</td>\n",
       "      <td>2022-10</td>\n",
       "    </tr>\n",
       "    <tr>\n",
       "      <th>38</th>\n",
       "      <td>0</td>\n",
       "      <td>1</td>\n",
       "      <td>A</td>\n",
       "      <td>C</td>\n",
       "      <td>2022-11-01</td>\n",
       "      <td>2022</td>\n",
       "      <td>11</td>\n",
       "      <td>2022-11</td>\n",
       "    </tr>\n",
       "    <tr>\n",
       "      <th>59</th>\n",
       "      <td>0</td>\n",
       "      <td>1</td>\n",
       "      <td>A</td>\n",
       "      <td>C</td>\n",
       "      <td>2022-12-01</td>\n",
       "      <td>2022</td>\n",
       "      <td>12</td>\n",
       "      <td>2022-12</td>\n",
       "    </tr>\n",
       "    <tr>\n",
       "      <th>80</th>\n",
       "      <td>0</td>\n",
       "      <td>1</td>\n",
       "      <td>A</td>\n",
       "      <td>C</td>\n",
       "      <td>2023-01-03</td>\n",
       "      <td>2023</td>\n",
       "      <td>1</td>\n",
       "      <td>2023-1</td>\n",
       "    </tr>\n",
       "    <tr>\n",
       "      <th>100</th>\n",
       "      <td>0</td>\n",
       "      <td>1</td>\n",
       "      <td>A</td>\n",
       "      <td>C</td>\n",
       "      <td>2023-02-01</td>\n",
       "      <td>2023</td>\n",
       "      <td>2</td>\n",
       "      <td>2023-2</td>\n",
       "    </tr>\n",
       "    <tr>\n",
       "      <th>119</th>\n",
       "      <td>0</td>\n",
       "      <td>1</td>\n",
       "      <td>A</td>\n",
       "      <td>C</td>\n",
       "      <td>2023-03-01</td>\n",
       "      <td>2023</td>\n",
       "      <td>3</td>\n",
       "      <td>2023-3</td>\n",
       "    </tr>\n",
       "    <tr>\n",
       "      <th>142</th>\n",
       "      <td>0</td>\n",
       "      <td>1</td>\n",
       "      <td>A</td>\n",
       "      <td>C</td>\n",
       "      <td>2023-04-03</td>\n",
       "      <td>2023</td>\n",
       "      <td>4</td>\n",
       "      <td>2023-4</td>\n",
       "    </tr>\n",
       "    <tr>\n",
       "      <th>161</th>\n",
       "      <td>0</td>\n",
       "      <td>1</td>\n",
       "      <td>A</td>\n",
       "      <td>C</td>\n",
       "      <td>2023-05-01</td>\n",
       "      <td>2023</td>\n",
       "      <td>5</td>\n",
       "      <td>2023-5</td>\n",
       "    </tr>\n",
       "    <tr>\n",
       "      <th>183</th>\n",
       "      <td>0</td>\n",
       "      <td>1</td>\n",
       "      <td>A</td>\n",
       "      <td>C</td>\n",
       "      <td>2023-06-01</td>\n",
       "      <td>2023</td>\n",
       "      <td>6</td>\n",
       "      <td>2023-6</td>\n",
       "    </tr>\n",
       "    <tr>\n",
       "      <th>204</th>\n",
       "      <td>0</td>\n",
       "      <td>1</td>\n",
       "      <td>A</td>\n",
       "      <td>C</td>\n",
       "      <td>2023-07-03</td>\n",
       "      <td>2023</td>\n",
       "      <td>7</td>\n",
       "      <td>2023-7</td>\n",
       "    </tr>\n",
       "    <tr>\n",
       "      <th>224</th>\n",
       "      <td>0</td>\n",
       "      <td>1</td>\n",
       "      <td>A</td>\n",
       "      <td>C</td>\n",
       "      <td>2023-08-01</td>\n",
       "      <td>2023</td>\n",
       "      <td>8</td>\n",
       "      <td>2023-8</td>\n",
       "    </tr>\n",
       "  </tbody>\n",
       "</table>\n",
       "</div>"
      ],
      "text/plain": [
       "symbol  maturity_group  delta_group exercise_style cp_flag       date  year  \\\n",
       "0                    0            1              A       C 2022-08-31  2022   \n",
       "1                    0            1              A       C 2022-09-01  2022   \n",
       "17                   0            1              A       C 2022-10-03  2022   \n",
       "38                   0            1              A       C 2022-11-01  2022   \n",
       "59                   0            1              A       C 2022-12-01  2022   \n",
       "80                   0            1              A       C 2023-01-03  2023   \n",
       "100                  0            1              A       C 2023-02-01  2023   \n",
       "119                  0            1              A       C 2023-03-01  2023   \n",
       "142                  0            1              A       C 2023-04-03  2023   \n",
       "161                  0            1              A       C 2023-05-01  2023   \n",
       "183                  0            1              A       C 2023-06-01  2023   \n",
       "204                  0            1              A       C 2023-07-03  2023   \n",
       "224                  0            1              A       C 2023-08-01  2023   \n",
       "\n",
       "symbol  month       ym  \n",
       "0           8   2022-8  \n",
       "1           9   2022-9  \n",
       "17         10  2022-10  \n",
       "38         11  2022-11  \n",
       "59         12  2022-12  \n",
       "80          1   2023-1  \n",
       "100         2   2023-2  \n",
       "119         3   2023-3  \n",
       "142         4   2023-4  \n",
       "161         5   2023-5  \n",
       "183         6   2023-6  \n",
       "204         7   2023-7  \n",
       "224         8   2023-8  "
      ]
     },
     "execution_count": 152,
     "metadata": {},
     "output_type": "execute_result"
    }
   ],
   "source": [
    "cal_df = pivot_df.reset_index()[[\"maturity_group\",\"delta_group\",\"exercise_style\",\"cp_flag\",\"date\"]]\n",
    "#.date.dt.year\n",
    "cal_df['year'] = cal_df.date.dt.year\n",
    "cal_df['month'] = cal_df.date.dt.month\n",
    "cal_df['ym'] = cal_df['year'].astype(str) + \"-\" + cal_df['month'].astype(str)\n",
    "cal_df.drop_duplicates('ym').sort_values(\"date\")#.apply(lambda x:1,axis=1)"
   ]
  },
  {
   "cell_type": "code",
   "execution_count": 102,
   "metadata": {},
   "outputs": [
    {
     "data": {
      "text/html": [
       "<div>\n",
       "<style scoped>\n",
       "    .dataframe tbody tr th:only-of-type {\n",
       "        vertical-align: middle;\n",
       "    }\n",
       "\n",
       "    .dataframe tbody tr th {\n",
       "        vertical-align: top;\n",
       "    }\n",
       "\n",
       "    .dataframe thead th {\n",
       "        text-align: right;\n",
       "    }\n",
       "</style>\n",
       "<table border=\"1\" class=\"dataframe\">\n",
       "  <thead>\n",
       "    <tr style=\"text-align: right;\">\n",
       "      <th>symbol</th>\n",
       "      <th>OEX 220909C1540000</th>\n",
       "      <th>OEX 220909C1550000</th>\n",
       "      <th>OEX 220909C1560000</th>\n",
       "      <th>OEX 220909C1570000</th>\n",
       "      <th>OEX 220909C1580000</th>\n",
       "      <th>OEX 220909C1590000</th>\n",
       "      <th>OEX 220909C1600000</th>\n",
       "      <th>OEX 220909C1610000</th>\n",
       "      <th>OEX 220909C1620000</th>\n",
       "      <th>OEX 220909C1630000</th>\n",
       "      <th>...</th>\n",
       "      <th>OEX 230908C2010000</th>\n",
       "      <th>OEX 230908C2015000</th>\n",
       "      <th>OEX 230908C2020000</th>\n",
       "      <th>OEX 230908C2025000</th>\n",
       "      <th>OEX 230908C2030000</th>\n",
       "      <th>OEX 230908C2035000</th>\n",
       "      <th>OEX 230908C2040000</th>\n",
       "      <th>OEX 230908C2045000</th>\n",
       "      <th>OEX 230908C2050000</th>\n",
       "      <th>OEX 230908C2055000</th>\n",
       "    </tr>\n",
       "    <tr>\n",
       "      <th>date</th>\n",
       "      <th></th>\n",
       "      <th></th>\n",
       "      <th></th>\n",
       "      <th></th>\n",
       "      <th></th>\n",
       "      <th></th>\n",
       "      <th></th>\n",
       "      <th></th>\n",
       "      <th></th>\n",
       "      <th></th>\n",
       "      <th></th>\n",
       "      <th></th>\n",
       "      <th></th>\n",
       "      <th></th>\n",
       "      <th></th>\n",
       "      <th></th>\n",
       "      <th></th>\n",
       "      <th></th>\n",
       "      <th></th>\n",
       "      <th></th>\n",
       "      <th></th>\n",
       "    </tr>\n",
       "  </thead>\n",
       "  <tbody>\n",
       "    <tr>\n",
       "      <th>2022-08-31</th>\n",
       "      <td>0.950016</td>\n",
       "      <td>0.95321</td>\n",
       "      <td>0.971429</td>\n",
       "      <td>0.96412</td>\n",
       "      <td>0.947501</td>\n",
       "      <td>0.945686</td>\n",
       "      <td>0.937317</td>\n",
       "      <td>0.959346</td>\n",
       "      <td>0.938147</td>\n",
       "      <td>0.953015</td>\n",
       "      <td>...</td>\n",
       "      <td>NaN</td>\n",
       "      <td>NaN</td>\n",
       "      <td>NaN</td>\n",
       "      <td>NaN</td>\n",
       "      <td>NaN</td>\n",
       "      <td>NaN</td>\n",
       "      <td>NaN</td>\n",
       "      <td>NaN</td>\n",
       "      <td>NaN</td>\n",
       "      <td>NaN</td>\n",
       "    </tr>\n",
       "    <tr>\n",
       "      <th>2022-09-02</th>\n",
       "      <td>NaN</td>\n",
       "      <td>NaN</td>\n",
       "      <td>NaN</td>\n",
       "      <td>NaN</td>\n",
       "      <td>NaN</td>\n",
       "      <td>NaN</td>\n",
       "      <td>NaN</td>\n",
       "      <td>NaN</td>\n",
       "      <td>NaN</td>\n",
       "      <td>0.993094</td>\n",
       "      <td>...</td>\n",
       "      <td>NaN</td>\n",
       "      <td>NaN</td>\n",
       "      <td>NaN</td>\n",
       "      <td>NaN</td>\n",
       "      <td>NaN</td>\n",
       "      <td>NaN</td>\n",
       "      <td>NaN</td>\n",
       "      <td>NaN</td>\n",
       "      <td>NaN</td>\n",
       "      <td>NaN</td>\n",
       "    </tr>\n",
       "    <tr>\n",
       "      <th>2022-09-04</th>\n",
       "      <td>NaN</td>\n",
       "      <td>NaN</td>\n",
       "      <td>NaN</td>\n",
       "      <td>NaN</td>\n",
       "      <td>NaN</td>\n",
       "      <td>NaN</td>\n",
       "      <td>NaN</td>\n",
       "      <td>NaN</td>\n",
       "      <td>NaN</td>\n",
       "      <td>NaN</td>\n",
       "      <td>...</td>\n",
       "      <td>NaN</td>\n",
       "      <td>NaN</td>\n",
       "      <td>NaN</td>\n",
       "      <td>NaN</td>\n",
       "      <td>NaN</td>\n",
       "      <td>NaN</td>\n",
       "      <td>NaN</td>\n",
       "      <td>NaN</td>\n",
       "      <td>NaN</td>\n",
       "      <td>NaN</td>\n",
       "    </tr>\n",
       "    <tr>\n",
       "      <th>2022-09-06</th>\n",
       "      <td>NaN</td>\n",
       "      <td>NaN</td>\n",
       "      <td>NaN</td>\n",
       "      <td>NaN</td>\n",
       "      <td>NaN</td>\n",
       "      <td>NaN</td>\n",
       "      <td>NaN</td>\n",
       "      <td>NaN</td>\n",
       "      <td>NaN</td>\n",
       "      <td>NaN</td>\n",
       "      <td>...</td>\n",
       "      <td>NaN</td>\n",
       "      <td>NaN</td>\n",
       "      <td>NaN</td>\n",
       "      <td>NaN</td>\n",
       "      <td>NaN</td>\n",
       "      <td>NaN</td>\n",
       "      <td>NaN</td>\n",
       "      <td>NaN</td>\n",
       "      <td>NaN</td>\n",
       "      <td>NaN</td>\n",
       "    </tr>\n",
       "    <tr>\n",
       "      <th>2022-09-08</th>\n",
       "      <td>NaN</td>\n",
       "      <td>NaN</td>\n",
       "      <td>NaN</td>\n",
       "      <td>NaN</td>\n",
       "      <td>NaN</td>\n",
       "      <td>NaN</td>\n",
       "      <td>NaN</td>\n",
       "      <td>NaN</td>\n",
       "      <td>NaN</td>\n",
       "      <td>NaN</td>\n",
       "      <td>...</td>\n",
       "      <td>NaN</td>\n",
       "      <td>NaN</td>\n",
       "      <td>NaN</td>\n",
       "      <td>NaN</td>\n",
       "      <td>NaN</td>\n",
       "      <td>NaN</td>\n",
       "      <td>NaN</td>\n",
       "      <td>NaN</td>\n",
       "      <td>NaN</td>\n",
       "      <td>NaN</td>\n",
       "    </tr>\n",
       "    <tr>\n",
       "      <th>...</th>\n",
       "      <td>...</td>\n",
       "      <td>...</td>\n",
       "      <td>...</td>\n",
       "      <td>...</td>\n",
       "      <td>...</td>\n",
       "      <td>...</td>\n",
       "      <td>...</td>\n",
       "      <td>...</td>\n",
       "      <td>...</td>\n",
       "      <td>...</td>\n",
       "      <td>...</td>\n",
       "      <td>...</td>\n",
       "      <td>...</td>\n",
       "      <td>...</td>\n",
       "      <td>...</td>\n",
       "      <td>...</td>\n",
       "      <td>...</td>\n",
       "      <td>...</td>\n",
       "      <td>...</td>\n",
       "      <td>...</td>\n",
       "      <td>...</td>\n",
       "    </tr>\n",
       "    <tr>\n",
       "      <th>2023-08-22</th>\n",
       "      <td>NaN</td>\n",
       "      <td>NaN</td>\n",
       "      <td>NaN</td>\n",
       "      <td>NaN</td>\n",
       "      <td>NaN</td>\n",
       "      <td>NaN</td>\n",
       "      <td>NaN</td>\n",
       "      <td>NaN</td>\n",
       "      <td>NaN</td>\n",
       "      <td>NaN</td>\n",
       "      <td>...</td>\n",
       "      <td>NaN</td>\n",
       "      <td>NaN</td>\n",
       "      <td>NaN</td>\n",
       "      <td>NaN</td>\n",
       "      <td>NaN</td>\n",
       "      <td>NaN</td>\n",
       "      <td>NaN</td>\n",
       "      <td>NaN</td>\n",
       "      <td>NaN</td>\n",
       "      <td>NaN</td>\n",
       "    </tr>\n",
       "    <tr>\n",
       "      <th>2023-08-24</th>\n",
       "      <td>NaN</td>\n",
       "      <td>NaN</td>\n",
       "      <td>NaN</td>\n",
       "      <td>NaN</td>\n",
       "      <td>NaN</td>\n",
       "      <td>NaN</td>\n",
       "      <td>NaN</td>\n",
       "      <td>NaN</td>\n",
       "      <td>NaN</td>\n",
       "      <td>NaN</td>\n",
       "      <td>...</td>\n",
       "      <td>NaN</td>\n",
       "      <td>NaN</td>\n",
       "      <td>NaN</td>\n",
       "      <td>NaN</td>\n",
       "      <td>NaN</td>\n",
       "      <td>NaN</td>\n",
       "      <td>NaN</td>\n",
       "      <td>NaN</td>\n",
       "      <td>NaN</td>\n",
       "      <td>NaN</td>\n",
       "    </tr>\n",
       "    <tr>\n",
       "      <th>2023-08-26</th>\n",
       "      <td>NaN</td>\n",
       "      <td>NaN</td>\n",
       "      <td>NaN</td>\n",
       "      <td>NaN</td>\n",
       "      <td>NaN</td>\n",
       "      <td>NaN</td>\n",
       "      <td>NaN</td>\n",
       "      <td>NaN</td>\n",
       "      <td>NaN</td>\n",
       "      <td>NaN</td>\n",
       "      <td>...</td>\n",
       "      <td>NaN</td>\n",
       "      <td>NaN</td>\n",
       "      <td>NaN</td>\n",
       "      <td>NaN</td>\n",
       "      <td>NaN</td>\n",
       "      <td>NaN</td>\n",
       "      <td>NaN</td>\n",
       "      <td>NaN</td>\n",
       "      <td>NaN</td>\n",
       "      <td>NaN</td>\n",
       "    </tr>\n",
       "    <tr>\n",
       "      <th>2023-08-28</th>\n",
       "      <td>NaN</td>\n",
       "      <td>NaN</td>\n",
       "      <td>NaN</td>\n",
       "      <td>NaN</td>\n",
       "      <td>NaN</td>\n",
       "      <td>NaN</td>\n",
       "      <td>NaN</td>\n",
       "      <td>NaN</td>\n",
       "      <td>NaN</td>\n",
       "      <td>NaN</td>\n",
       "      <td>...</td>\n",
       "      <td>0.953332</td>\n",
       "      <td>0.946309</td>\n",
       "      <td>0.947164</td>\n",
       "      <td>0.938142</td>\n",
       "      <td>0.932906</td>\n",
       "      <td>0.924555</td>\n",
       "      <td>0.913135</td>\n",
       "      <td>NaN</td>\n",
       "      <td>NaN</td>\n",
       "      <td>NaN</td>\n",
       "    </tr>\n",
       "    <tr>\n",
       "      <th>2023-08-30</th>\n",
       "      <td>NaN</td>\n",
       "      <td>NaN</td>\n",
       "      <td>NaN</td>\n",
       "      <td>NaN</td>\n",
       "      <td>NaN</td>\n",
       "      <td>NaN</td>\n",
       "      <td>NaN</td>\n",
       "      <td>NaN</td>\n",
       "      <td>NaN</td>\n",
       "      <td>NaN</td>\n",
       "      <td>...</td>\n",
       "      <td>NaN</td>\n",
       "      <td>NaN</td>\n",
       "      <td>NaN</td>\n",
       "      <td>0.940091</td>\n",
       "      <td>0.935328</td>\n",
       "      <td>0.932824</td>\n",
       "      <td>0.927388</td>\n",
       "      <td>0.916311</td>\n",
       "      <td>0.912483</td>\n",
       "      <td>0.902832</td>\n",
       "    </tr>\n",
       "  </tbody>\n",
       "</table>\n",
       "<p>183 rows × 2688 columns</p>\n",
       "</div>"
      ],
      "text/plain": [
       "symbol      OEX 220909C1540000  OEX 220909C1550000  OEX 220909C1560000  \\\n",
       "date                                                                     \n",
       "2022-08-31            0.950016             0.95321            0.971429   \n",
       "2022-09-02                 NaN                 NaN                 NaN   \n",
       "2022-09-04                 NaN                 NaN                 NaN   \n",
       "2022-09-06                 NaN                 NaN                 NaN   \n",
       "2022-09-08                 NaN                 NaN                 NaN   \n",
       "...                        ...                 ...                 ...   \n",
       "2023-08-22                 NaN                 NaN                 NaN   \n",
       "2023-08-24                 NaN                 NaN                 NaN   \n",
       "2023-08-26                 NaN                 NaN                 NaN   \n",
       "2023-08-28                 NaN                 NaN                 NaN   \n",
       "2023-08-30                 NaN                 NaN                 NaN   \n",
       "\n",
       "symbol      OEX 220909C1570000  OEX 220909C1580000  OEX 220909C1590000  \\\n",
       "date                                                                     \n",
       "2022-08-31             0.96412            0.947501            0.945686   \n",
       "2022-09-02                 NaN                 NaN                 NaN   \n",
       "2022-09-04                 NaN                 NaN                 NaN   \n",
       "2022-09-06                 NaN                 NaN                 NaN   \n",
       "2022-09-08                 NaN                 NaN                 NaN   \n",
       "...                        ...                 ...                 ...   \n",
       "2023-08-22                 NaN                 NaN                 NaN   \n",
       "2023-08-24                 NaN                 NaN                 NaN   \n",
       "2023-08-26                 NaN                 NaN                 NaN   \n",
       "2023-08-28                 NaN                 NaN                 NaN   \n",
       "2023-08-30                 NaN                 NaN                 NaN   \n",
       "\n",
       "symbol      OEX 220909C1600000  OEX 220909C1610000  OEX 220909C1620000  \\\n",
       "date                                                                     \n",
       "2022-08-31            0.937317            0.959346            0.938147   \n",
       "2022-09-02                 NaN                 NaN                 NaN   \n",
       "2022-09-04                 NaN                 NaN                 NaN   \n",
       "2022-09-06                 NaN                 NaN                 NaN   \n",
       "2022-09-08                 NaN                 NaN                 NaN   \n",
       "...                        ...                 ...                 ...   \n",
       "2023-08-22                 NaN                 NaN                 NaN   \n",
       "2023-08-24                 NaN                 NaN                 NaN   \n",
       "2023-08-26                 NaN                 NaN                 NaN   \n",
       "2023-08-28                 NaN                 NaN                 NaN   \n",
       "2023-08-30                 NaN                 NaN                 NaN   \n",
       "\n",
       "symbol      OEX 220909C1630000  ...  OEX 230908C2010000  OEX 230908C2015000  \\\n",
       "date                            ...                                           \n",
       "2022-08-31            0.953015  ...                 NaN                 NaN   \n",
       "2022-09-02            0.993094  ...                 NaN                 NaN   \n",
       "2022-09-04                 NaN  ...                 NaN                 NaN   \n",
       "2022-09-06                 NaN  ...                 NaN                 NaN   \n",
       "2022-09-08                 NaN  ...                 NaN                 NaN   \n",
       "...                        ...  ...                 ...                 ...   \n",
       "2023-08-22                 NaN  ...                 NaN                 NaN   \n",
       "2023-08-24                 NaN  ...                 NaN                 NaN   \n",
       "2023-08-26                 NaN  ...                 NaN                 NaN   \n",
       "2023-08-28                 NaN  ...            0.953332            0.946309   \n",
       "2023-08-30                 NaN  ...                 NaN                 NaN   \n",
       "\n",
       "symbol      OEX 230908C2020000  OEX 230908C2025000  OEX 230908C2030000  \\\n",
       "date                                                                     \n",
       "2022-08-31                 NaN                 NaN                 NaN   \n",
       "2022-09-02                 NaN                 NaN                 NaN   \n",
       "2022-09-04                 NaN                 NaN                 NaN   \n",
       "2022-09-06                 NaN                 NaN                 NaN   \n",
       "2022-09-08                 NaN                 NaN                 NaN   \n",
       "...                        ...                 ...                 ...   \n",
       "2023-08-22                 NaN                 NaN                 NaN   \n",
       "2023-08-24                 NaN                 NaN                 NaN   \n",
       "2023-08-26                 NaN                 NaN                 NaN   \n",
       "2023-08-28            0.947164            0.938142            0.932906   \n",
       "2023-08-30                 NaN            0.940091            0.935328   \n",
       "\n",
       "symbol      OEX 230908C2035000  OEX 230908C2040000  OEX 230908C2045000  \\\n",
       "date                                                                     \n",
       "2022-08-31                 NaN                 NaN                 NaN   \n",
       "2022-09-02                 NaN                 NaN                 NaN   \n",
       "2022-09-04                 NaN                 NaN                 NaN   \n",
       "2022-09-06                 NaN                 NaN                 NaN   \n",
       "2022-09-08                 NaN                 NaN                 NaN   \n",
       "...                        ...                 ...                 ...   \n",
       "2023-08-22                 NaN                 NaN                 NaN   \n",
       "2023-08-24                 NaN                 NaN                 NaN   \n",
       "2023-08-26                 NaN                 NaN                 NaN   \n",
       "2023-08-28            0.924555            0.913135                 NaN   \n",
       "2023-08-30            0.932824            0.927388            0.916311   \n",
       "\n",
       "symbol      OEX 230908C2050000  OEX 230908C2055000  \n",
       "date                                                \n",
       "2022-08-31                 NaN                 NaN  \n",
       "2022-09-02                 NaN                 NaN  \n",
       "2022-09-04                 NaN                 NaN  \n",
       "2022-09-06                 NaN                 NaN  \n",
       "2022-09-08                 NaN                 NaN  \n",
       "...                        ...                 ...  \n",
       "2023-08-22                 NaN                 NaN  \n",
       "2023-08-24                 NaN                 NaN  \n",
       "2023-08-26                 NaN                 NaN  \n",
       "2023-08-28                 NaN                 NaN  \n",
       "2023-08-30            0.912483            0.902832  \n",
       "\n",
       "[183 rows x 2688 columns]"
      ]
     },
     "execution_count": 102,
     "metadata": {},
     "output_type": "execute_result"
    }
   ],
   "source": [
    "pd.pivot(df,values=\"delta\",index=\"date\",columns=\"symbol\").resample(\"2d\").mean()"
   ]
  },
  {
   "cell_type": "code",
   "execution_count": null,
   "metadata": {},
   "outputs": [],
   "source": [
    "class MV_cal():\n",
    "    def __init__(self,data):\n",
    "        self.data = data\n",
    "    def abc_cal():\n",
    "        self.a = 1\n",
    "        self.b = 1\n",
    "        self.c = 1\n",
    "    def MV_cal(self):\n",
    "        abc_cal()\n",
    "        self.data"
   ]
  },
  {
   "cell_type": "code",
   "execution_count": 35,
   "metadata": {},
   "outputs": [
    {
     "name": "stdout",
     "output_type": "stream",
     "text": [
      "<class 'pandas.core.frame.DataFrame'>\n",
      "RangeIndex: 114698 entries, 0 to 114697\n",
      "Data columns (total 22 columns):\n",
      " #   Column           Non-Null Count   Dtype  \n",
      "---  ------           --------------   -----  \n",
      " 0   secid            114698 non-null  int64  \n",
      " 1   date             114698 non-null  object \n",
      " 2   symbol           114698 non-null  object \n",
      " 3   symbol_flag      114698 non-null  int64  \n",
      " 4   exdate           114698 non-null  object \n",
      " 5   last_date        18333 non-null   object \n",
      " 6   cp_flag          114698 non-null  object \n",
      " 7   strike_price     114698 non-null  int64  \n",
      " 8   best_bid         114698 non-null  float64\n",
      " 9   best_offer       114698 non-null  float64\n",
      " 10  volume           114698 non-null  int64  \n",
      " 11  open_interest    114698 non-null  int64  \n",
      " 12  impl_volatility  87199 non-null   float64\n",
      " 13  delta            87199 non-null   float64\n",
      " 14  gamma            87199 non-null   float64\n",
      " 15  vega             87199 non-null   float64\n",
      " 16  theta            87199 non-null   float64\n",
      " 17  optionid         114698 non-null  int64  \n",
      " 18  ticker           114698 non-null  object \n",
      " 19  index_flag       114698 non-null  int64  \n",
      " 20  issuer           114698 non-null  object \n",
      " 21  exercise_style   114698 non-null  object \n",
      "dtypes: float64(7), int64(7), object(8)\n",
      "memory usage: 19.3+ MB\n"
     ]
    }
   ],
   "source": [
    "option_data.info()"
   ]
  },
  {
   "cell_type": "code",
   "execution_count": 6,
   "metadata": {},
   "outputs": [
    {
     "data": {
      "text/plain": [
       "0        0.046575\n",
       "1        0.046575\n",
       "2        0.046575\n",
       "3        0.046575\n",
       "4        0.046575\n",
       "           ...   \n",
       "90362    0.180822\n",
       "90363    0.180822\n",
       "90364    0.180822\n",
       "90365    0.180822\n",
       "90366    0.180822\n",
       "Name: time_to_maturity, Length: 90367, dtype: float64"
      ]
     },
     "execution_count": 6,
     "metadata": {},
     "output_type": "execute_result"
    }
   ],
   "source": [
    "option_data['time_to_maturity']"
   ]
  },
  {
   "cell_type": "code",
   "execution_count": 26,
   "metadata": {},
   "outputs": [
    {
     "data": {
      "text/plain": [
       "Index(['secid', 'date', 'symbol', 'symbol_flag', 'exdate', 'last_date',\n",
       "       'cp_flag', 'strike_price', 'best_bid', 'best_offer', 'volume',\n",
       "       'open_interest', 'impl_volatility', 'delta', 'gamma', 'vega', 'theta',\n",
       "       'optionid', 'ticker', 'index_flag', 'issuer', 'exercise_style'],\n",
       "      dtype='object')"
      ]
     },
     "execution_count": 26,
     "metadata": {},
     "output_type": "execute_result"
    }
   ],
   "source": [
    "option_data.columns"
   ]
  },
  {
   "cell_type": "code",
   "execution_count": 29,
   "metadata": {},
   "outputs": [
    {
     "data": {
      "text/plain": [
       "0         2022-08-31\n",
       "1         2022-08-31\n",
       "2         2022-08-31\n",
       "3         2022-08-31\n",
       "4         2022-08-31\n",
       "             ...    \n",
       "114693    2023-08-31\n",
       "114694    2023-08-31\n",
       "114695    2023-08-31\n",
       "114696    2023-08-31\n",
       "114697    2023-08-31\n",
       "Name: date, Length: 114698, dtype: object"
      ]
     },
     "execution_count": 29,
     "metadata": {},
     "output_type": "execute_result"
    }
   ],
   "source": [
    "option_data['date']"
   ]
  },
  {
   "cell_type": "code",
   "execution_count": 17,
   "metadata": {},
   "outputs": [
    {
     "data": {
      "text/plain": [
       "32        2022-08-29\n",
       "34        2022-08-29\n",
       "38        2022-08-29\n",
       "45        2022-08-31\n",
       "46        2022-08-31\n",
       "             ...    \n",
       "114629    2023-08-23\n",
       "114631    2023-08-15\n",
       "114632    2023-08-23\n",
       "114641    2023-08-30\n",
       "114643    2023-08-24\n",
       "Name: last_date, Length: 18333, dtype: object"
      ]
     },
     "execution_count": 17,
     "metadata": {},
     "output_type": "execute_result"
    }
   ],
   "source": [
    "option_data[\"last_date\"].dropna()"
   ]
  },
  {
   "cell_type": "code",
   "execution_count": 6,
   "metadata": {},
   "outputs": [],
   "source": [
    "option_data.date = pd.to_datetime(option_data.date)\n",
    "option_data.exdate = pd.to_datetime(option_data.exdate)"
   ]
  },
  {
   "cell_type": "code",
   "execution_count": 26,
   "metadata": {},
   "outputs": [
    {
     "data": {
      "text/plain": [
       "0        2 days\n",
       "1        2 days\n",
       "2        2 days\n",
       "3        2 days\n",
       "4        2 days\n",
       "          ...  \n",
       "114693   8 days\n",
       "114694   8 days\n",
       "114695   8 days\n",
       "114696   8 days\n",
       "114697   8 days\n",
       "Length: 114698, dtype: timedelta64[ns]"
      ]
     },
     "execution_count": 26,
     "metadata": {},
     "output_type": "execute_result"
    }
   ],
   "source": [
    "(option_data.exdate - option_data.date)"
   ]
  },
  {
   "cell_type": "code",
   "execution_count": 10,
   "metadata": {},
   "outputs": [],
   "source": [
    "option_data['T'] = (option_data.exdate - option_data.date).dt.days"
   ]
  },
  {
   "cell_type": "code",
   "execution_count": 32,
   "metadata": {},
   "outputs": [],
   "source": [
    "import numpy as np\n",
    "option_data[\"T_group\"] = np.nan\n",
    "option_data.loc[option_data[\"T\"] < 7,\"T_group\"] = 0"
   ]
  },
  {
   "cell_type": "code",
   "execution_count": 33,
   "metadata": {},
   "outputs": [
    {
     "data": {
      "text/plain": [
       "0         0.0\n",
       "1         0.0\n",
       "2         0.0\n",
       "3         0.0\n",
       "4         0.0\n",
       "         ... \n",
       "114693    NaN\n",
       "114694    NaN\n",
       "114695    NaN\n",
       "114696    NaN\n",
       "114697    NaN\n",
       "Name: T_group, Length: 114698, dtype: float64"
      ]
     },
     "execution_count": 33,
     "metadata": {},
     "output_type": "execute_result"
    }
   ],
   "source": [
    "option_data[\"T_group\"]"
   ]
  },
  {
   "cell_type": "code",
   "execution_count": 9,
   "metadata": {},
   "outputs": [
    {
     "name": "stdout",
     "output_type": "stream",
     "text": [
      "Collecting wrds\n",
      "  Obtaining dependency information for wrds from https://files.pythonhosted.org/packages/36/2b/64986e5a8911fd1c51cbb2e8ae8367970baf52f420ec31787dc9118ed4bd/wrds-3.1.6-py3-none-any.whl.metadata\n",
      "  Downloading wrds-3.1.6-py3-none-any.whl.metadata (4.5 kB)\n",
      "Requirement already satisfied: numpy in d:\\study\\anaconda3\\lib\\site-packages (from wrds) (1.21.6)\n",
      "Requirement already satisfied: pandas in d:\\study\\anaconda3\\lib\\site-packages (from wrds) (1.3.5)\n",
      "Collecting psycopg2-binary (from wrds)\n",
      "  Obtaining dependency information for psycopg2-binary from https://files.pythonhosted.org/packages/65/4f/083f6b652b7fbecec1dc10bc9d1ffb66efd63611a25dddd0b4c1ef043ba6/psycopg2_binary-2.9.9-cp37-cp37m-win_amd64.whl.metadata\n",
      "  Downloading psycopg2_binary-2.9.9-cp37-cp37m-win_amd64.whl.metadata (4.5 kB)\n",
      "Requirement already satisfied: scipy in d:\\study\\anaconda3\\lib\\site-packages (from wrds) (1.1.0)\n",
      "Requirement already satisfied: sqlalchemy<2 in d:\\study\\anaconda3\\lib\\site-packages (from wrds) (1.2.15)\n",
      "Requirement already satisfied: python-dateutil>=2.7.3 in d:\\study\\anaconda3\\lib\\site-packages (from pandas->wrds) (2.9.0.post0)\n",
      "Requirement already satisfied: pytz>=2017.3 in d:\\study\\anaconda3\\lib\\site-packages (from pandas->wrds) (2024.2)\n",
      "Requirement already satisfied: six>=1.5 in d:\\study\\anaconda3\\lib\\site-packages (from python-dateutil>=2.7.3->pandas->wrds) (1.16.0)\n",
      "Downloading wrds-3.1.6-py3-none-any.whl (12 kB)\n",
      "Downloading psycopg2_binary-2.9.9-cp37-cp37m-win_amd64.whl (1.2 MB)\n",
      "   ---------------------------------------- 1.2/1.2 MB 81.6 kB/s eta 0:00:00\n",
      "Installing collected packages: psycopg2-binary, wrds\n",
      "Successfully installed psycopg2-binary-2.9.9 wrds-3.1.6\n"
     ]
    },
    {
     "name": "stderr",
     "output_type": "stream",
     "text": [
      "WARNING: Ignoring invalid distribution -andas (d:\\study\\anaconda3\\lib\\site-packages)\n",
      "WARNING: Ignoring invalid distribution -umexpr (d:\\study\\anaconda3\\lib\\site-packages)\n",
      "WARNING: Ignoring invalid distribution -andas (d:\\study\\anaconda3\\lib\\site-packages)\n",
      "WARNING: Ignoring invalid distribution -umexpr (d:\\study\\anaconda3\\lib\\site-packages)\n",
      "\n",
      "[notice] A new release of pip is available: 23.2.1 -> 24.0\n",
      "[notice] To update, run: python.exe -m pip install --upgrade pip\n"
     ]
    }
   ],
   "source": [
    "!pip install wrds"
   ]
  }
 ],
 "metadata": {
  "kernelspec": {
   "display_name": "Python 3",
   "language": "python",
   "name": "python3"
  },
  "language_info": {
   "codemirror_mode": {
    "name": "ipython",
    "version": 3
   },
   "file_extension": ".py",
   "mimetype": "text/x-python",
   "name": "python",
   "nbconvert_exporter": "python",
   "pygments_lexer": "ipython3",
   "version": "3.7.1"
  }
 },
 "nbformat": 4,
 "nbformat_minor": 2
}
