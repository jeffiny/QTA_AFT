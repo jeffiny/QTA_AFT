{
 "cells": [
  {
   "cell_type": "code",
   "id": "initial_id",
   "metadata": {
    "collapsed": true,
    "jupyter": {
     "is_executing": true
    },
    "ExecuteTime": {
     "start_time": "2024-10-27T16:54:00.166735Z"
    }
   },
   "source": [
    "import numpy as np # linear algebra\n",
    "import pandas as pd # data processing, CSV file I/O (e.g. pd.read_csv)\n",
    "import os\n",
    "\n",
    "from Demos.win32cred_demo import target\n",
    "\n",
    "for dirname, _, filenames in os.walk('/kaggle/input'):\n",
    "    for filename in filenames:\n",
    "        print(os.path.join(dirname, filename))\n",
    "import numpy as np\n",
    "import os\n",
    "from tqdm import tqdm\n",
    "import itertools\n",
    "from itertools import combinations\n",
    "import warnings\n",
    "from numba import njit, prange\n",
    "import time\n",
    "from functools import wraps\n",
    "warnings.filterwarnings(\"ignore\")\n",
    "def time_it(func):\n",
    "    @wraps(func)\n",
    "    def wrapper(*args, **kwargs):\n",
    "        start_time = time.time()  # 记录开始时间\n",
    "        result = func(*args, **kwargs)  # 调用被装饰的函数\n",
    "        end_time = time.time()  # 记录结束时间\n",
    "        execution_time = end_time - start_time  # 计算执行时间\n",
    "        print(f\"Function '{func.__name__}' executed in {execution_time:.4f} seconds\")\n",
    "        return result  # 返回函数结果\n",
    "    return wrapper"
   ],
   "outputs": [],
   "execution_count": null
  },
  {
   "metadata": {
    "ExecuteTime": {
     "end_time": "2024-10-27T16:58:32.157061Z",
     "start_time": "2024-10-27T16:58:29.805820Z"
    }
   },
   "cell_type": "code",
   "source": [
    "import featuretools as ft\n",
    "import pandas as pd\n",
    "ORIGINAL_TRAIN = pd.read_csv('train.csv',engine = 'pyarrow')"
   ],
   "id": "a423a42d59c0fe5a",
   "outputs": [],
   "execution_count": 2
  },
  {
   "metadata": {
    "ExecuteTime": {
     "end_time": "2024-10-27T16:58:34.645978Z",
     "start_time": "2024-10-27T16:58:34.633181Z"
    }
   },
   "cell_type": "code",
   "source": "ORIGINAL_TRAIN.columns",
   "id": "80199a4d3d7ee956",
   "outputs": [
    {
     "data": {
      "text/plain": [
       "Index(['stock_id', 'date_id', 'seconds_in_bucket', 'imbalance_size',\n",
       "       'imbalance_buy_sell_flag', 'reference_price', 'matched_size',\n",
       "       'far_price', 'near_price', 'bid_price', 'bid_size', 'ask_price',\n",
       "       'ask_size', 'wap', 'target', 'time_id', 'row_id'],\n",
       "      dtype='object')"
      ]
     },
     "execution_count": 3,
     "metadata": {},
     "output_type": "execute_result"
    }
   ],
   "execution_count": 3
  },
  {
   "metadata": {
    "ExecuteTime": {
     "end_time": "2024-10-27T16:58:38.126303Z",
     "start_time": "2024-10-27T16:58:37.930169Z"
    }
   },
   "cell_type": "code",
   "source": [
    "#提取目标字段\n",
    "target=ORIGINAL_TRAIN['target']\n",
    "ORIGINAL_TRAIN.drop(['target'],axis=1,inplace=True)"
   ],
   "id": "b6b61093818b307c",
   "outputs": [],
   "execution_count": 4
  },
  {
   "metadata": {
    "ExecuteTime": {
     "end_time": "2024-10-27T17:06:32.741707Z",
     "start_time": "2024-10-27T17:06:32.725967Z"
    }
   },
   "cell_type": "code",
   "source": [
    "tram=ft.list_primitives()\n",
    "tram\n",
    "transform_factor=tram.query(\"type=='transform'\")\n",
    "aggregation_factor=tram.query(\"type=='aggregation'\")\n",
    "agg_primitives_all=aggregation_factor.iloc[:,0].values\n",
    "trans_primitives_all=transform_factor.iloc[:,0].values\n",
    "print(agg_primitives_all)"
   ],
   "id": "e06cbf547528469e",
   "outputs": [
    {
     "name": "stdout",
     "output_type": "stream",
     "text": [
      "['kurtosis' 'time_since_last' 'max_consecutive_false' 'max_count'\n",
      " 'time_since_last_min' 'max_consecutive_true' 'count_outside_range'\n",
      " 'first_last_time_delta' 'count_less_than' 'n_most_common'\n",
      " 'count_inside_nth_std' 'entropy' 'has_no_duplicates'\n",
      " 'time_since_last_true' 'all' 'date_first_event' 'min' 'trend'\n",
      " 'count_greater_than' 'is_monotonically_increasing' 'mean'\n",
      " 'num_zero_crossings' 'time_since_first' 'median' 'variance'\n",
      " 'count_above_mean' 'max' 'time_since_last_false' 'avg_time_between'\n",
      " 'n_most_common_frequency' 'first' 'skew' 'mode' 'max_min_delta' 'std'\n",
      " 'n_unique_days_of_calendar_year' 'max_consecutive_zeros' 'last'\n",
      " 'num_unique' 'count_outside_nth_std' 'max_consecutive_positives'\n",
      " 'num_true' 'num_false_since_last_true' 'count_inside_range'\n",
      " 'is_monotonically_decreasing' 'n_unique_weeks'\n",
      " 'num_consecutive_less_mean' 'average_count_per_unique' 'n_unique_days'\n",
      " 'n_unique_days_of_month' 'num_consecutive_greater_mean' 'sum'\n",
      " 'median_count' 'num_true_since_last_false' 'percent_unique' 'min_count'\n",
      " 'num_peaks' 'count_below_mean' 'max_consecutive_negatives'\n",
      " 'time_since_last_max' 'count' 'is_unique' 'percent_true' 'any'\n",
      " 'n_unique_months']\n"
     ]
    }
   ],
   "execution_count": 10
  },
  {
   "metadata": {
    "ExecuteTime": {
     "end_time": "2024-10-27T17:17:38.232150Z",
     "start_time": "2024-10-27T17:17:38.206783Z"
    }
   },
   "cell_type": "code",
   "source": "df = df.fillna(0)",
   "id": "a2ab92778d89f17c",
   "outputs": [
    {
     "data": {
      "text/plain": [
       "array([False])"
      ]
     },
     "execution_count": 16,
     "metadata": {},
     "output_type": "execute_result"
    }
   ],
   "execution_count": 16
  },
  {
   "metadata": {
    "jupyter": {
     "is_executing": true
    },
    "ExecuteTime": {
     "start_time": "2024-10-27T17:23:14.636669Z"
    }
   },
   "cell_type": "code",
   "source": [
    "def featuretools_generate(df):\n",
    "    # 构建实体\n",
    "    es = ft.EntitySet(id = 'stocks')\n",
    "    # 添加dataframe数据 \n",
    "    es = es.add_dataframe(dataframe_name = 'stocks_data', dataframe = df, index = 'row_id')\n",
    "    tram=ft.list_primitives()\n",
    "    tram['type'].unique()\n",
    "    agg_primitives=[\n",
    "    'kurtosis', 'max_count', \n",
    "    'count_outside_range', 'n_most_common', 'count_inside_nth_std',\n",
    "    'entropy', 'has_no_duplicates', 'min', 'trend', 'mean', 'median', \n",
    "    'variance', 'count_above_mean', 'max', 'first', 'skew', 'mode', \n",
    "    'max_min_delta', 'std', 'last', 'num_unique', 'count_outside_nth_std',\n",
    "    'max_consecutive_positives', 'sum', 'median_count', \n",
    "    'percent_unique', 'min_count', 'num_peaks', 'count_below_mean', 'count',\n",
    "    ]\n",
    "    trans_primitives=[]\n",
    "    print(es)\n",
    "    feature_matrix, feature_names = ft.dfs(entityset=es, \n",
    "                                       target_dataframe_name = 'stocks_data', \n",
    "                                       max_depth = 1, \n",
    "                                       verbose = 1,\n",
    "                                       agg_primitives=agg_primitives,\n",
    "                                       trans_primitives=trans_primitives,\n",
    "                                       n_jobs = 1)\n",
    "    return feature_names,feature_matrix\n",
    "feature_names,feature_matrix = featuretools_generate(ORIGINAL_TRAIN)"
   ],
   "id": "746d6ffc2a053c4b",
   "outputs": [
    {
     "name": "stderr",
     "output_type": "stream",
     "text": [
      "C:\\Users\\yigaa\\.conda\\envs\\MLUsed\\Lib\\site-packages\\featuretools\\entityset\\entityset.py:754: UserWarning: A Woodwork-initialized DataFrame was provided, so the following parameters were ignored: index\n",
      "  warnings.warn(\n",
      "C:\\Users\\yigaa\\.conda\\envs\\MLUsed\\Lib\\site-packages\\featuretools\\synthesis\\dfs.py:321: UnusedPrimitiveWarning: Some specified primitives were not used during DFS:\n",
      "  agg_primitives: ['count', 'count_above_mean', 'count_below_mean', 'count_inside_nth_std', 'count_outside_nth_std', 'count_outside_range', 'entropy', 'first', 'has_no_duplicates', 'kurtosis', 'last', 'max', 'max_consecutive_positives', 'max_count', 'max_min_delta', 'mean', 'median', 'median_count', 'min', 'min_count', 'mode', 'n_most_common', 'num_peaks', 'num_unique', 'percent_unique', 'skew', 'std', 'sum', 'trend', 'variance']\n",
      "This may be caused by a using a value of max_depth that is too small, not setting interesting values, or it may indicate no compatible columns for the primitive were found in the data. If the DFS call contained multiple instances of a primitive in the list above, none of them were used.\n",
      "  warnings.warn(warning_msg, UnusedPrimitiveWarning)\n"
     ]
    },
    {
     "name": "stdout",
     "output_type": "stream",
     "text": [
      "Entityset: stocks\n",
      "  DataFrames:\n",
      "    stocks_data [Rows: 5237980, Columns: 16]\n",
      "  Relationships:\n",
      "    No relationships\n",
      "Built 15 features\n",
      "Elapsed: 00:01 | Progress:   0%|          "
     ]
    }
   ],
   "execution_count": null
  },
  {
   "metadata": {},
   "cell_type": "code",
   "outputs": [],
   "execution_count": null,
   "source": "",
   "id": "286c412b3ad3f2bc"
  },
  {
   "metadata": {},
   "cell_type": "code",
   "outputs": [],
   "execution_count": null,
   "source": "",
   "id": "55941330aad2117"
  },
  {
   "metadata": {},
   "cell_type": "markdown",
   "source": [
    "OPENFE\n",
    "parallel\n"
   ],
   "id": "5b2653dc20629e0f"
  }
 ],
 "metadata": {
  "kernelspec": {
   "display_name": "Python 3",
   "language": "python",
   "name": "python3"
  },
  "language_info": {
   "codemirror_mode": {
    "name": "ipython",
    "version": 2
   },
   "file_extension": ".py",
   "mimetype": "text/x-python",
   "name": "python",
   "nbconvert_exporter": "python",
   "pygments_lexer": "ipython2",
   "version": "2.7.6"
  }
 },
 "nbformat": 4,
 "nbformat_minor": 5
}
