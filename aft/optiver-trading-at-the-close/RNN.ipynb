{
 "cells": [
  {
   "metadata": {},
   "cell_type": "markdown",
   "source": [
    "1.\t什么是Mini-batch gradient descent，优势是什么\n",
    "2.\t在pytorch中的固定流程\n",
    "3.\t以MLP举例，描述数据从输入到输出的维度变化\n",
    "4.\t常用的激活函数和优缺点\n",
    "5.\t梯度爆炸和梯度消失是什么\n",
    "6.\t关于RNN\n",
    "a)\tlstm和gru的原理\n",
    "b)\tlstm和gru的参数估计\n",
    "c)\t它们是如何解决梯度消失的问题的\n"
   ],
   "id": "76e9588934189dab"
  },
  {
   "cell_type": "code",
   "execution_count": null,
   "id": "initial_id",
   "metadata": {
    "collapsed": true
   },
   "outputs": [],
   "source": ""
  }
 ],
 "metadata": {
  "kernelspec": {
   "display_name": "Python 3",
   "language": "python",
   "name": "python3"
  },
  "language_info": {
   "codemirror_mode": {
    "name": "ipython",
    "version": 2
   },
   "file_extension": ".py",
   "mimetype": "text/x-python",
   "name": "python",
   "nbconvert_exporter": "python",
   "pygments_lexer": "ipython2",
   "version": "2.7.6"
  }
 },
 "nbformat": 4,
 "nbformat_minor": 5
}
